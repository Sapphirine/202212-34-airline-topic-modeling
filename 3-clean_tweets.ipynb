{
 "cells": [
  {
   "cell_type": "code",
   "execution_count": 2,
   "id": "3827a1f5-aced-4d2b-9942-d52e136f43c4",
   "metadata": {},
   "outputs": [],
   "source": [
    "import emoji\n",
    "import os\n",
    "import pandas as pd\n",
    "import numpy as np\n",
    "import re\n",
    "import gensim\n",
    "from gensim.corpora import Dictionary\n",
    "from gensim.models import LdaMulticore, CoherenceModel\n",
    "#import pyldavis\n",
    "\n",
    "import nltk\n",
    "#nltk.download('omw-1.4')\n",
    "from nltk.stem import WordNetLemmatizer\n",
    "\n",
    "import matplotlib.pyplot as plt\n",
    "import seaborn as sns\n",
    "sns.set_theme(style=\"whitegrid\")\n",
    "\n",
    "import spacy\n",
    "\n",
    "import plotly.graph_objects as go\n",
    "\n",
    "from collections import Counter"
   ]
  },
  {
   "cell_type": "code",
   "execution_count": 1,
   "id": "91dcc9c7",
   "metadata": {},
   "outputs": [
    {
     "data": {
      "text/plain": [
       "'/Users/raiha/Documents/EECS-6893-BigData/airline-topic-modeling'"
      ]
     },
     "execution_count": 1,
     "metadata": {},
     "output_type": "execute_result"
    }
   ],
   "source": [
    "pwd"
   ]
  },
  {
   "cell_type": "code",
   "execution_count": 2,
   "id": "ba067cd9-ca8e-4d74-a01c-6ae98386aa92",
   "metadata": {},
   "outputs": [],
   "source": [
    "with open(\"bookmarks_twitter_airlines.txt\", \"r\") as myfile:\n",
    "    bookmarks = myfile.read().splitlines()\n",
    "twitter_airline_handles = [bkmk.split(\"(\")[1].split(\")\")[0] for bkmk in bookmarks]"
   ]
  },
  {
   "cell_type": "code",
   "execution_count": null,
   "id": "b683483d-38ca-433b-9cc7-56053ba2f4f7",
   "metadata": {},
   "outputs": [],
   "source": [
    "# Bucket airlines into continents/regions\n",
    "\n",
    "region_to_airline_map = {\n",
    "    'Africa': [],\n",
    "    \n",
    "    'United States': [\n",
    "        'SouthwestAir',\n",
    "        'united',\n",
    "        \n",
    "    ],\n",
    "    \n",
    "    'Latin America and Carribean': [\n",
    "        'AviancaNAM',\n",
    "        \n",
    "    ],\n",
    "    \n",
    "    'Central/Eastern Asia': [\n",
    "        'AsianaAirlines', \n",
    "    ],\n",
    "    \n",
    "    'Southern/South-eastern Asia': [\n",
    "        'IndonesiaGaruda', \n",
    "        'CebuPacificAir',\n",
    "        'airasia',\n",
    "        'flyPAL',\n",
    "        \n",
    "    ],\n",
    "    \n",
    "    'Western Asia': [\n",
    "        'etihad',\n",
    "        \n",
    "    ],\n",
    "    \n",
    "    'Europe': [\n",
    "        'KLM',\n",
    "        'British_Airways',\n",
    "        \n",
    "        \n",
    "    ],\n",
    "    \n",
    "    'Australia and New Zealand': []\n",
    "    \n",
    "}"
   ]
  },
  {
   "cell_type": "code",
   "execution_count": 2,
   "id": "07b79c3a-5b18-4d96-9d8c-39970f356660",
   "metadata": {},
   "outputs": [
    {
     "name": "stdout",
     "output_type": "stream",
     "text": [
      "easyJet.csv.gz\n",
      "(814, 15)\n",
      "NokAirlines_ENG.csv.gz\n",
      "(1602, 15)\n",
      "GoFirstairways.csv.gz\n",
      "(2411, 15)\n",
      "SAS.csv.gz\n",
      "(3160, 15)\n",
      "emirates.csv.gz\n",
      "(3997, 15)\n",
      "Lufthansa_USA.csv.gz\n",
      "(4791, 15)\n",
      "JazeeraAirways.csv.gz\n",
      "(5218, 15)\n",
      "VietnamAirlines.csv.gz\n",
      "(5534, 15)\n",
      "FlyANA_official.csv.gz\n",
      "(6377, 15)\n",
      "wizzair.csv.gz\n",
      "(7224, 15)\n",
      "EGYPTAIR.csv.gz\n",
      "(7942, 15)\n",
      "MAS.csv.gz\n",
      "(8738, 15)\n",
      "JetstarAirways.csv.gz\n",
      "(9518, 15)\n",
      "SaudiAirlinesEn.csv.gz\n",
      "(9661, 15)\n",
      "Aeroflot_World.csv.gz\n",
      "(10442, 15)\n",
      "etihad.csv.gz\n",
      "(11265, 15)\n",
      "Jetstar_Asia.csv.gz\n",
      "(11979, 15)\n",
      "flyPAL.csv.gz\n",
      "(12758, 15)\n",
      "GulfAir.csv.gz\n",
      "(12891, 15)\n",
      "CebuPacificAir.csv.gz\n",
      "(13613, 15)\n",
      "AeromexicoUSA.csv.gz\n",
      "(14434, 15)\n",
      "AerLingus.csv.gz\n",
      "(15222, 15)\n",
      "SpiritAirlines.csv.gz\n",
      "(16046, 15)\n",
      "flyethiopian.csv.gz\n",
      "(16846, 15)\n",
      "AirFranceUK.csv.gz\n",
      "(17638, 15)\n",
      "KoreanAir_KE.csv.gz\n",
      "(18430, 15)\n",
      "nokairindia.csv.gz\n",
      "(18582, 15)\n",
      "AirFranceUS.csv.gz\n",
      "(19347, 15)\n",
      "FlyAirNZ.csv.gz\n",
      "(20117, 15)\n",
      "AirCanada.csv.gz\n",
      "(20533, 15)\n",
      "SingaporeAir.csv.gz\n",
      "(21335, 15)\n",
      "tapairportugal.csv.gz\n",
      "(21704, 15)\n",
      "volotea.csv.gz\n",
      "(22249, 15)\n",
      "TurkishAirlines.csv.gz\n",
      "(23086, 15)\n",
      "Qantas.csv.gz\n",
      "(23924, 15)\n",
      "flyvolaris.csv.gz\n",
      "(24767, 15)\n",
      "airindiain.csv.gz\n",
      "(25558, 15)\n",
      "KuwaitAirways.csv.gz\n",
      "(25715, 15)\n",
      "AlaskaAir.csv.gz\n",
      "(26560, 15)\n",
      "FlyFrontier.csv.gz\n",
      "(27393, 15)\n",
      "Delta.csv.gz\n",
      "(28225, 15)\n",
      "IndiGo6E.csv.gz\n",
      "(29019, 15)\n",
      "airarabiagroup.csv.gz\n",
      "(29460, 15)\n",
      "SouthwestAir.csv.gz\n",
      "(30282, 15)\n",
      "transavia.csv.gz\n",
      "(30331, 15)\n",
      "AsianaAirlines.csv.gz\n",
      "(31109, 15)\n",
      "Air_Dolomiti.csv.gz\n",
      "(31779, 15)\n",
      "IndonesiaGaruda.csv.gz\n",
      "(31794, 15)\n",
      "AmericanAir.csv.gz\n",
      "(32579, 15)\n",
      "VirginAtlantic.csv.gz\n",
      "(33426, 15)\n",
      "Condor_America.csv.gz\n",
      "(34193, 15)\n",
      "airBaltic.csv.gz\n",
      "(34975, 15)\n",
      "Allegiant.csv.gz\n",
      "(35817, 15)\n",
      "flyspicejet.csv.gz\n",
      "(36635, 15)\n",
      "FlairAirlines.csv.gz\n",
      "(37252, 15)\n",
      "British_Airways.csv.gz\n",
      "(38040, 15)\n",
      "LATAMAirlinesUS.csv.gz\n",
      "(38825, 15)\n",
      "Finnair.csv.gz\n",
      "(39662, 15)\n",
      "MEAAIRLIBAN.csv.gz\n",
      "(40057, 15)\n",
      "RoyalJordanian.csv.gz\n",
      "(40410, 15)\n",
      "vueling.csv.gz\n",
      "(40662, 15)\n",
      "AirFranceIN.csv.gz\n",
      "(41379, 15)\n",
      "iflycaribbean.csv.gz\n",
      "(42192, 15)\n",
      "united.csv.gz\n",
      "(42984, 15)\n",
      "CEAirglobal.csv.gz\n",
      "(43823, 15)\n",
      ".ipynb_checkpoints\n",
      "omanair.csv.gz\n",
      "(44239, 15)\n",
      "KLM.csv.gz\n",
      "(44996, 15)\n",
      "RAM_Maroc.csv.gz\n",
      "(45270, 15)\n",
      "Iberia_en.csv.gz\n",
      "(46095, 15)\n",
      "HawaiianAir.csv.gz\n",
      "(46938, 15)\n",
      "_austrian.csv.gz\n",
      "(47681, 15)\n",
      "flymepegasus.csv.gz\n",
      "(48526, 15)\n",
      "ThaiAirways.csv.gz\n",
      "(49185, 15)\n",
      "ELALUSA.csv.gz\n",
      "(49977, 15)\n",
      "AirFranceNG.csv.gz\n",
      "(50760, 15)\n",
      "JetBlue.csv.gz\n",
      "(51539, 15)\n",
      "airfrance.csv.gz\n",
      "(52269, 15)\n",
      "FlySWISS.csv.gz\n",
      "(53109, 15)\n",
      "cathaypacific.csv.gz\n",
      "(53901, 15)\n",
      "Ryanair.csv.gz\n",
      "(54677, 15)\n",
      "AviancaNAM.csv.gz\n",
      "(55038, 15)\n",
      "WestJet.csv.gz\n",
      "(55857, 15)\n",
      "VietjetairCom.csv.gz\n",
      "(55862, 15)\n",
      "airasia.csv.gz\n",
      "(56566, 15)\n",
      "qatarairways.csv.gz\n",
      "(57410, 15)\n"
     ]
    }
   ],
   "source": [
    "# Combine all dataframes into one dataframe\n",
    "\n",
    "saved_csvs_dir = \"airline_tweets_csvs/\"\n",
    "df_columns = [\n",
    "    'tweet_id', \n",
    "    'user',\n",
    "    'created_at', 'text', 'is_reply',\n",
    "    'source', 'lang',\n",
    "    'retweet_count', 'reply_count', 'like_count', 'quote_count',\n",
    "    'detected_domain_entity_pairs',\n",
    "    'annots_found', 'hashtags', 'mentions'\n",
    "]\n",
    "full_df = pd.DataFrame(columns=df_columns)\n",
    "\n",
    "for csv_file_path in os.listdir(saved_csvs_dir):\n",
    "    print(csv_file_path)\n",
    "    try:\n",
    "        new_df = pd.read_csv(saved_csvs_dir + '/' + csv_file_path, low_memory=False)\n",
    "        full_df = pd.concat([full_df, new_df], axis=0)\n",
    "    except IsADirectoryError:\n",
    "        continue\n",
    "    print(full_df.shape)\n",
    "    # final shape: (59849, 15)"
   ]
  },
  {
   "cell_type": "code",
   "execution_count": 3,
   "id": "256d2d6f-c2a8-4068-b653-79ece2c1f5d8",
   "metadata": {},
   "outputs": [],
   "source": [
    "#full_df.to_csv('all_airline_tweets_english.csv.gz', compression='gzip', index=False)"
   ]
  },
  {
   "cell_type": "code",
   "execution_count": 35,
   "id": "b2ef8e6e-8645-4c93-8210-617fe68e5ca8",
   "metadata": {},
   "outputs": [],
   "source": [
    "full_df = pd.read_csv('all_airline_tweets_english.csv.gz', low_memory=False)\n",
    "full_df = full_df.dropna(subset=['user', 'text'])\n",
    "full_df = full_df[full_df['user'] != '0']"
   ]
  },
  {
   "cell_type": "code",
   "execution_count": 36,
   "id": "fb7b0dc0-2118-4b0c-aa24-43c7d0d82656",
   "metadata": {},
   "outputs": [
    {
     "data": {
      "text/plain": [
       "(57404, 15)"
      ]
     },
     "execution_count": 36,
     "metadata": {},
     "output_type": "execute_result"
    }
   ],
   "source": [
    "full_df.shape"
   ]
  },
  {
   "cell_type": "code",
   "execution_count": 37,
   "id": "3c841abf-096e-4dfd-abd6-96c262c28d9d",
   "metadata": {},
   "outputs": [],
   "source": [
    "df_user_value_counts = pd.DataFrame(full_df['user'].value_counts())"
   ]
  },
  {
   "cell_type": "code",
   "execution_count": 38,
   "id": "c0ed4c3a-f3a0-46fb-8bdc-7b765f1e6451",
   "metadata": {},
   "outputs": [
    {
     "data": {
      "text/plain": [
       "(29, 1)"
      ]
     },
     "execution_count": 38,
     "metadata": {},
     "output_type": "execute_result"
    }
   ],
   "source": [
    "df_user_value_counts[df_user_value_counts['user'] >= 800].shape"
   ]
  },
  {
   "cell_type": "code",
   "execution_count": 39,
   "id": "7b66a572-493b-4e88-a3e1-377b6d4ba4e2",
   "metadata": {},
   "outputs": [
    {
     "data": {
      "text/plain": [
       "0.3411764705882353"
      ]
     },
     "execution_count": 39,
     "metadata": {},
     "output_type": "execute_result"
    }
   ],
   "source": [
    "29 / 85"
   ]
  },
  {
   "cell_type": "code",
   "execution_count": 40,
   "id": "e274b83c-6209-466e-b411-c85b4320b7f4",
   "metadata": {},
   "outputs": [
    {
     "data": {
      "image/png": "[encoded data removed]",
      "text/plain": [
       "<Figure size 800x500 with 1 Axes>"
      ]
     },
     "metadata": {},
     "output_type": "display_data"
    }
   ],
   "source": [
    "fig = plt.figure(figsize=(8, 5))\n",
    "sns.histplot(data=df_user_value_counts, x=\"user\", bins=30)\n",
    "plt.title('Distribution of Tweets Downloaded per Airline')\n",
    "plt.xlabel('Tweet Count')\n",
    "plt.ylabel('Number of Accounts')\n",
    "plt.savefig('tweets_downloaded_per_airline.png')\n",
    "plt.show()\n",
    "\n",
    "# At least 700 tweets have been downloaded from 74% of the airline accounts. Generally, \n",
    "# any accounts for which less than exactly 800 tweets were downloaded are accounts that do not have more than 800 tweets. "
   ]
  },
  {
   "cell_type": "code",
   "execution_count": 41,
   "id": "c2337df1-3b84-4e0a-abbf-945f9929b3b5",
   "metadata": {},
   "outputs": [
    {
     "data": {
      "image/png": "[encoded data removed]",
      "text/plain": [
       "<Figure size 800x1500 with 1 Axes>"
      ]
     },
     "metadata": {},
     "output_type": "display_data"
    }
   ],
   "source": [
    "fig = plt.figure(figsize=(8, 15))\n",
    "sns.countplot(y='user', data=full_df, order=full_df['user'].value_counts().index)\n",
    "\n",
    "#modify individual font size of elements\n",
    "plt.xlabel('Tweet Count', fontsize=16);\n",
    "plt.ylabel('Airline', fontsize=16);\n",
    "plt.title('Tweet Counts for Airlines', fontsize=20)\n",
    "# plt.tick_params(axis='both', which='major', labelsize=14)\n",
    "plt.savefig('tweet_counts_per_airline.png')\n",
    "plt.show()\n"
   ]
  },
  {
   "cell_type": "code",
   "execution_count": 42,
   "id": "dd41aacf-dd1d-4f99-9c9e-1c7f3ce7f322",
   "metadata": {},
   "outputs": [
    {
     "data": {
      "text/html": [
       "<div>\n",
       "<style scoped>\n",
       "    .dataframe tbody tr th:only-of-type {\n",
       "        vertical-align: middle;\n",
       "    }\n",
       "\n",
       "    .dataframe tbody tr th {\n",
       "        vertical-align: top;\n",
       "    }\n",
       "\n",
       "    .dataframe thead th {\n",
       "        text-align: right;\n",
       "    }\n",
       "</style>\n",
       "<table border=\"1\" class=\"dataframe\">\n",
       "  <thead>\n",
       "    <tr style=\"text-align: right;\">\n",
       "      <th></th>\n",
       "      <th>tweet_id</th>\n",
       "      <th>user</th>\n",
       "      <th>created_at</th>\n",
       "      <th>text</th>\n",
       "      <th>is_reply</th>\n",
       "      <th>source</th>\n",
       "      <th>lang</th>\n",
       "      <th>retweet_count</th>\n",
       "      <th>reply_count</th>\n",
       "      <th>like_count</th>\n",
       "      <th>quote_count</th>\n",
       "      <th>detected_domain_entity_pairs</th>\n",
       "      <th>annots_found</th>\n",
       "      <th>hashtags</th>\n",
       "      <th>mentions</th>\n",
       "    </tr>\n",
       "  </thead>\n",
       "  <tbody>\n",
       "    <tr>\n",
       "      <th>0</th>\n",
       "      <td>1156918651838054400</td>\n",
       "      <td>easyJet</td>\n",
       "      <td>2019-08-01T13:24:35.000Z</td>\n",
       "      <td>RT @delightdoodahs: Cracking @easyJet flight f...</td>\n",
       "      <td>0.0</td>\n",
       "      <td>Sprinklr</td>\n",
       "      <td>en</td>\n",
       "      <td>3.0</td>\n",
       "      <td>0</td>\n",
       "      <td>0</td>\n",
       "      <td>0</td>\n",
       "      <td>{'Interests and Hobbies_Air travel', 'Brand_Ea...</td>\n",
       "      <td>{'Place_Berlin'}</td>\n",
       "      <td>{'lettheholidaysbegin'}</td>\n",
       "      <td>{'easyJet', 'EDI_Airport', 'delightdoodahs'}</td>\n",
       "    </tr>\n",
       "    <tr>\n",
       "      <th>1</th>\n",
       "      <td>1156918495462023168</td>\n",
       "      <td>easyJet</td>\n",
       "      <td>2019-08-01T13:23:58.000Z</td>\n",
       "      <td>RT @vfxflyer: Cloud surfing with @easyjet from...</td>\n",
       "      <td>0.0</td>\n",
       "      <td>Sprinklr</td>\n",
       "      <td>en</td>\n",
       "      <td>1.0</td>\n",
       "      <td>0</td>\n",
       "      <td>0</td>\n",
       "      <td>0</td>\n",
       "      <td>{'Interests and Hobbies_Air travel', 'Unified ...</td>\n",
       "      <td>{'Organization_BSL', 'Other_BUD'}</td>\n",
       "      <td>{'lovetofly'}</td>\n",
       "      <td>{'vfxflyer', 'easyJet'}</td>\n",
       "    </tr>\n",
       "    <tr>\n",
       "      <th>2</th>\n",
       "      <td>1154809777752629249</td>\n",
       "      <td>easyJet</td>\n",
       "      <td>2019-07-26T17:44:41.000Z</td>\n",
       "      <td>RT @LDNLutonAirport: Trains remain severely di...</td>\n",
       "      <td>0.0</td>\n",
       "      <td>Sprinklr</td>\n",
       "      <td>en</td>\n",
       "      <td>2.0</td>\n",
       "      <td>0</td>\n",
       "      <td>0</td>\n",
       "      <td>0</td>\n",
       "      <td>{'Interests and Hobbies_Air travel', 'Brand_Ea...</td>\n",
       "      <td>{'Other_Thameslink'}</td>\n",
       "      <td>set()</td>\n",
       "      <td>{'LDNLutonAirport'}</td>\n",
       "    </tr>\n",
       "    <tr>\n",
       "      <th>3</th>\n",
       "      <td>1154670861376524289</td>\n",
       "      <td>easyJet</td>\n",
       "      <td>2019-07-26T08:32:40.000Z</td>\n",
       "      <td>It may take us a little longer to reply to you...</td>\n",
       "      <td>0.0</td>\n",
       "      <td>Sprinklr</td>\n",
       "      <td>en</td>\n",
       "      <td>2.0</td>\n",
       "      <td>28</td>\n",
       "      <td>11</td>\n",
       "      <td>1</td>\n",
       "      <td>{'Interests and Hobbies_Air travel', 'Brand_Ea...</td>\n",
       "      <td>NaN</td>\n",
       "      <td>NaN</td>\n",
       "      <td>NaN</td>\n",
       "    </tr>\n",
       "    <tr>\n",
       "      <th>4</th>\n",
       "      <td>1154670731613081600</td>\n",
       "      <td>easyJet</td>\n",
       "      <td>2019-07-26T08:32:09.000Z</td>\n",
       "      <td>Due to adverse weather across the UK, easyJet,...</td>\n",
       "      <td>0.0</td>\n",
       "      <td>Sprinklr</td>\n",
       "      <td>en</td>\n",
       "      <td>6.0</td>\n",
       "      <td>34</td>\n",
       "      <td>31</td>\n",
       "      <td>4</td>\n",
       "      <td>{'Interests and Hobbies_Air travel', 'Interest...</td>\n",
       "      <td>{'Place_UK'}</td>\n",
       "      <td>set()</td>\n",
       "      <td>set()</td>\n",
       "    </tr>\n",
       "  </tbody>\n",
       "</table>\n",
       "</div>"
      ],
      "text/plain": [
       "              tweet_id     user                created_at  \\\n",
       "0  1156918651838054400  easyJet  2019-08-01T13:24:35.000Z   \n",
       "1  1156918495462023168  easyJet  2019-08-01T13:23:58.000Z   \n",
       "2  1154809777752629249  easyJet  2019-07-26T17:44:41.000Z   \n",
       "3  1154670861376524289  easyJet  2019-07-26T08:32:40.000Z   \n",
       "4  1154670731613081600  easyJet  2019-07-26T08:32:09.000Z   \n",
       "\n",
       "                                                text  is_reply    source lang  \\\n",
       "0  RT @delightdoodahs: Cracking @easyJet flight f...       0.0  Sprinklr   en   \n",
       "1  RT @vfxflyer: Cloud surfing with @easyjet from...       0.0  Sprinklr   en   \n",
       "2  RT @LDNLutonAirport: Trains remain severely di...       0.0  Sprinklr   en   \n",
       "3  It may take us a little longer to reply to you...       0.0  Sprinklr   en   \n",
       "4  Due to adverse weather across the UK, easyJet,...       0.0  Sprinklr   en   \n",
       "\n",
       "   retweet_count reply_count like_count quote_count  \\\n",
       "0            3.0           0          0           0   \n",
       "1            1.0           0          0           0   \n",
       "2            2.0           0          0           0   \n",
       "3            2.0          28         11           1   \n",
       "4            6.0          34         31           4   \n",
       "\n",
       "                        detected_domain_entity_pairs  \\\n",
       "0  {'Interests and Hobbies_Air travel', 'Brand_Ea...   \n",
       "1  {'Interests and Hobbies_Air travel', 'Unified ...   \n",
       "2  {'Interests and Hobbies_Air travel', 'Brand_Ea...   \n",
       "3  {'Interests and Hobbies_Air travel', 'Brand_Ea...   \n",
       "4  {'Interests and Hobbies_Air travel', 'Interest...   \n",
       "\n",
       "                        annots_found                 hashtags  \\\n",
       "0                   {'Place_Berlin'}  {'lettheholidaysbegin'}   \n",
       "1  {'Organization_BSL', 'Other_BUD'}            {'lovetofly'}   \n",
       "2               {'Other_Thameslink'}                    set()   \n",
       "3                                NaN                      NaN   \n",
       "4                       {'Place_UK'}                    set()   \n",
       "\n",
       "                                       mentions  \n",
       "0  {'easyJet', 'EDI_Airport', 'delightdoodahs'}  \n",
       "1                       {'vfxflyer', 'easyJet'}  \n",
       "2                           {'LDNLutonAirport'}  \n",
       "3                                           NaN  \n",
       "4                                         set()  "
      ]
     },
     "execution_count": 42,
     "metadata": {},
     "output_type": "execute_result"
    }
   ],
   "source": [
    "full_df.head()"
   ]
  },
  {
   "cell_type": "code",
   "execution_count": null,
   "id": "5bb51ef5-3afb-4ab4-a760-a4866fb03726",
   "metadata": {},
   "outputs": [],
   "source": [
    "# Things to visualize\n",
    "# 1) Histogram showing number of tweets per user\n",
    "# 1) Histogram showing counts of tokens per tweet"
   ]
  },
  {
   "cell_type": "code",
   "execution_count": 43,
   "id": "e4c65328-4e89-4c0f-a57d-1433a3636527",
   "metadata": {},
   "outputs": [],
   "source": [
    "# I used the following source to discover some common pre-processing steps, \n",
    "# and I created my own functions to clean tweets: \n",
    "# https://pub.towardsai.net/tweet-topic-modeling-part-2-cleaning-and-preprocessing-tweets-e3a08a8b1770\n",
    "\n",
    "\n",
    "def clean_tweet(row):\n",
    "    \"\"\"Performs removal of emojis, link-related text, \n",
    "    retweet-related extra text, and hashtags and mentions.\n",
    "    Further strips punctuation, extra spaces, and \n",
    "    numbers. \n",
    "    \"\"\"\n",
    "    tweet = row['text']\n",
    "\n",
    "    \n",
    "    try:\n",
    "        # Removing emojis (not in project scope)\n",
    "        tweet = emoji.replace_emoji(tweet, '')\n",
    "    \n",
    "\n",
    "        # Removing link related text\n",
    "        link_related = [r'http', r'bit.ly/', r'pic.twitter']\n",
    "        for link_to_clean in link_related:\n",
    "            tweet = re.sub(fr'{link_to_clean}\\S+', '', tweet)\n",
    "        tweet = tweet.strip(\"[link]\")\n",
    "        tweet = tweet.replace('&amp;', '&')\n",
    "\n",
    "        # Removing retweet, mention, or hashtag related text\n",
    "        rt_mtn_hsh_related = [r'RT\\s@', r'@', r'#', r'&amp;']\n",
    "        for rt_mtn_hsh_to_clean in rt_mtn_hsh_related:\n",
    "            tweet = re.sub(fr'({rt_mtn_hsh_to_clean}[A-Za-z]+[A-Za-z0-9-_]+)', '', tweet)\n",
    "\n",
    "        # Remove punctuation\n",
    "        punctuation = '!”$%&\\’()*+,-./:;<=>?[\\\\]^_`{|}~•@'\n",
    "        tweet = re.sub('[' + punctuation + ']+', ' ', tweet)\n",
    "\n",
    "        # Remove spaces and numbers\n",
    "        # tweet = re.sub('\\s+', ' ', tweet)\n",
    "        tweet = re.sub('([0-9]+)', '', tweet)\n",
    "        tweet = tweet.strip()\n",
    "        \n",
    "        return tweet\n",
    "        \n",
    "    except TypeError:\n",
    "        print(tweet)\n",
    "        print(row['user'])\n",
    "        print(row['tweet_id'])\n",
    "        return 'CANNOT TRANSFORM'\n",
    "        \n",
    "    \n",
    "\n",
    "\n",
    "def tokenize_and_lemmatize_tweet(row):\n",
    "    \"\"\"Returns list of tokens from tweet after lemmatizing. \"\"\"\n",
    "    tweet = row['clean_text']\n",
    "    lemmatizer = WordNetLemmatizer()\n",
    "    stopwords = gensim.parsing.preprocessing.STOPWORDS\n",
    "    \n",
    "    tweet_tokens_lst = []\n",
    "    tokens = gensim.utils.simple_preprocess(tweet)\n",
    "    for token in tokens:\n",
    "        if token not in stopwords and len(token) > 2:\n",
    "            tweet_tokens_lst.append(lemmatizer.lemmatize(token, pos='v'))\n",
    "    \n",
    "    return ' '.join(tweet_tokens_lst)  # tweet\n",
    "\n",
    "\n",
    "def create_lemma_token_lst(row):\n",
    "    tokenized_and_lemmatized_tweet = row['tokenize_lemmatize_text']\n",
    "    return tokenized_and_lemmatized_tweet.split()\n",
    "\n"
   ]
  },
  {
   "cell_type": "code",
   "execution_count": 44,
   "id": "489c2479-9ab1-4be0-adfb-a14c44b97a30",
   "metadata": {},
   "outputs": [],
   "source": [
    "full_df['clean_text'] = full_df.apply(lambda row: clean_tweet(row), axis=1)"
   ]
  },
  {
   "cell_type": "code",
   "execution_count": 45,
   "id": "a706b673-e3f2-486c-944e-b96993aae9e8",
   "metadata": {},
   "outputs": [],
   "source": [
    "full_df['tokenize_lemmatize_text'] = full_df.apply(lambda row: tokenize_and_lemmatize_tweet(row), axis=1)"
   ]
  },
  {
   "cell_type": "code",
   "execution_count": 46,
   "id": "cafc1b80-a777-496a-ad4f-729c36b359a4",
   "metadata": {},
   "outputs": [],
   "source": [
    "full_df['lemma_tokens'] = full_df.apply(lambda row: create_lemma_token_lst(row), axis=1)"
   ]
  },
  {
   "cell_type": "code",
   "execution_count": 47,
   "id": "b61a8977-02a8-4db3-ad95-a59facb56dab",
   "metadata": {},
   "outputs": [],
   "source": [
    "full_df['token_count'] = full_df.apply(lambda row: len(row['lemma_tokens']), axis=1)"
   ]
  },
  {
   "cell_type": "code",
   "execution_count": 48,
   "id": "3b2e3738-7557-4871-a9c9-540f7a4b3860",
   "metadata": {},
   "outputs": [
    {
     "data": {
      "text/html": [
       "<div>\n",
       "<style scoped>\n",
       "    .dataframe tbody tr th:only-of-type {\n",
       "        vertical-align: middle;\n",
       "    }\n",
       "\n",
       "    .dataframe tbody tr th {\n",
       "        vertical-align: top;\n",
       "    }\n",
       "\n",
       "    .dataframe thead th {\n",
       "        text-align: right;\n",
       "    }\n",
       "</style>\n",
       "<table border=\"1\" class=\"dataframe\">\n",
       "  <thead>\n",
       "    <tr style=\"text-align: right;\">\n",
       "      <th></th>\n",
       "      <th>tweet_id</th>\n",
       "      <th>user</th>\n",
       "      <th>created_at</th>\n",
       "      <th>text</th>\n",
       "      <th>is_reply</th>\n",
       "      <th>source</th>\n",
       "      <th>lang</th>\n",
       "      <th>retweet_count</th>\n",
       "      <th>reply_count</th>\n",
       "      <th>like_count</th>\n",
       "      <th>quote_count</th>\n",
       "      <th>detected_domain_entity_pairs</th>\n",
       "      <th>annots_found</th>\n",
       "      <th>hashtags</th>\n",
       "      <th>mentions</th>\n",
       "      <th>clean_text</th>\n",
       "      <th>tokenize_lemmatize_text</th>\n",
       "      <th>lemma_tokens</th>\n",
       "      <th>token_count</th>\n",
       "    </tr>\n",
       "  </thead>\n",
       "  <tbody>\n",
       "    <tr>\n",
       "      <th>0</th>\n",
       "      <td>1156918651838054400</td>\n",
       "      <td>easyJet</td>\n",
       "      <td>2019-08-01T13:24:35.000Z</td>\n",
       "      <td>RT @delightdoodahs: Cracking @easyJet flight f...</td>\n",
       "      <td>0.0</td>\n",
       "      <td>Sprinklr</td>\n",
       "      <td>en</td>\n",
       "      <td>3.0</td>\n",
       "      <td>0</td>\n",
       "      <td>0</td>\n",
       "      <td>0</td>\n",
       "      <td>{'Interests and Hobbies_Air travel', 'Brand_Ea...</td>\n",
       "      <td>{'Place_Berlin'}</td>\n",
       "      <td>{'lettheholidaysbegin'}</td>\n",
       "      <td>{'easyJet', 'EDI_Airport', 'delightdoodahs'}</td>\n",
       "      <td>Cracking  flight from  to Berlin this morning</td>\n",
       "      <td>crack flight berlin morning</td>\n",
       "      <td>[crack, flight, berlin, morning]</td>\n",
       "      <td>4</td>\n",
       "    </tr>\n",
       "    <tr>\n",
       "      <th>1</th>\n",
       "      <td>1156918495462023168</td>\n",
       "      <td>easyJet</td>\n",
       "      <td>2019-08-01T13:23:58.000Z</td>\n",
       "      <td>RT @vfxflyer: Cloud surfing with @easyjet from...</td>\n",
       "      <td>0.0</td>\n",
       "      <td>Sprinklr</td>\n",
       "      <td>en</td>\n",
       "      <td>1.0</td>\n",
       "      <td>0</td>\n",
       "      <td>0</td>\n",
       "      <td>0</td>\n",
       "      <td>{'Interests and Hobbies_Air travel', 'Unified ...</td>\n",
       "      <td>{'Organization_BSL', 'Other_BUD'}</td>\n",
       "      <td>{'lovetofly'}</td>\n",
       "      <td>{'vfxflyer', 'easyJet'}</td>\n",
       "      <td>Cloud surfing with  from BUD to BSL</td>\n",
       "      <td>cloud surf bud bsl</td>\n",
       "      <td>[cloud, surf, bud, bsl]</td>\n",
       "      <td>4</td>\n",
       "    </tr>\n",
       "    <tr>\n",
       "      <th>2</th>\n",
       "      <td>1154809777752629249</td>\n",
       "      <td>easyJet</td>\n",
       "      <td>2019-07-26T17:44:41.000Z</td>\n",
       "      <td>RT @LDNLutonAirport: Trains remain severely di...</td>\n",
       "      <td>0.0</td>\n",
       "      <td>Sprinklr</td>\n",
       "      <td>en</td>\n",
       "      <td>2.0</td>\n",
       "      <td>0</td>\n",
       "      <td>0</td>\n",
       "      <td>0</td>\n",
       "      <td>{'Interests and Hobbies_Air travel', 'Brand_Ea...</td>\n",
       "      <td>{'Other_Thameslink'}</td>\n",
       "      <td>set()</td>\n",
       "      <td>{'LDNLutonAirport'}</td>\n",
       "      <td>Trains remain severely disrupted on the Thames...</td>\n",
       "      <td>train remain severely disrupt thameslink line ...</td>\n",
       "      <td>[train, remain, severely, disrupt, thameslink,...</td>\n",
       "      <td>10</td>\n",
       "    </tr>\n",
       "    <tr>\n",
       "      <th>3</th>\n",
       "      <td>1154670861376524289</td>\n",
       "      <td>easyJet</td>\n",
       "      <td>2019-07-26T08:32:40.000Z</td>\n",
       "      <td>It may take us a little longer to reply to you...</td>\n",
       "      <td>0.0</td>\n",
       "      <td>Sprinklr</td>\n",
       "      <td>en</td>\n",
       "      <td>2.0</td>\n",
       "      <td>28</td>\n",
       "      <td>11</td>\n",
       "      <td>1</td>\n",
       "      <td>{'Interests and Hobbies_Air travel', 'Brand_Ea...</td>\n",
       "      <td>NaN</td>\n",
       "      <td>NaN</td>\n",
       "      <td>NaN</td>\n",
       "      <td>It may take us a little longer to reply to you...</td>\n",
       "      <td>little longer reply volume message currently r...</td>\n",
       "      <td>[little, longer, reply, volume, message, curre...</td>\n",
       "      <td>11</td>\n",
       "    </tr>\n",
       "    <tr>\n",
       "      <th>4</th>\n",
       "      <td>1154670731613081600</td>\n",
       "      <td>easyJet</td>\n",
       "      <td>2019-07-26T08:32:09.000Z</td>\n",
       "      <td>Due to adverse weather across the UK, easyJet,...</td>\n",
       "      <td>0.0</td>\n",
       "      <td>Sprinklr</td>\n",
       "      <td>en</td>\n",
       "      <td>6.0</td>\n",
       "      <td>34</td>\n",
       "      <td>31</td>\n",
       "      <td>4</td>\n",
       "      <td>{'Interests and Hobbies_Air travel', 'Interest...</td>\n",
       "      <td>{'Place_UK'}</td>\n",
       "      <td>set()</td>\n",
       "      <td>set()</td>\n",
       "      <td>Due to adverse weather across the UK  easyJet ...</td>\n",
       "      <td>adverse weather easyjet like airlines expect d...</td>\n",
       "      <td>[adverse, weather, easyjet, like, airlines, ex...</td>\n",
       "      <td>14</td>\n",
       "    </tr>\n",
       "  </tbody>\n",
       "</table>\n",
       "</div>"
      ],
      "text/plain": [
       "              tweet_id     user                created_at  \\\n",
       "0  1156918651838054400  easyJet  2019-08-01T13:24:35.000Z   \n",
       "1  1156918495462023168  easyJet  2019-08-01T13:23:58.000Z   \n",
       "2  1154809777752629249  easyJet  2019-07-26T17:44:41.000Z   \n",
       "3  1154670861376524289  easyJet  2019-07-26T08:32:40.000Z   \n",
       "4  1154670731613081600  easyJet  2019-07-26T08:32:09.000Z   \n",
       "\n",
       "                                                text  is_reply    source lang  \\\n",
       "0  RT @delightdoodahs: Cracking @easyJet flight f...       0.0  Sprinklr   en   \n",
       "1  RT @vfxflyer: Cloud surfing with @easyjet from...       0.0  Sprinklr   en   \n",
       "2  RT @LDNLutonAirport: Trains remain severely di...       0.0  Sprinklr   en   \n",
       "3  It may take us a little longer to reply to you...       0.0  Sprinklr   en   \n",
       "4  Due to adverse weather across the UK, easyJet,...       0.0  Sprinklr   en   \n",
       "\n",
       "   retweet_count reply_count like_count quote_count  \\\n",
       "0            3.0           0          0           0   \n",
       "1            1.0           0          0           0   \n",
       "2            2.0           0          0           0   \n",
       "3            2.0          28         11           1   \n",
       "4            6.0          34         31           4   \n",
       "\n",
       "                        detected_domain_entity_pairs  \\\n",
       "0  {'Interests and Hobbies_Air travel', 'Brand_Ea...   \n",
       "1  {'Interests and Hobbies_Air travel', 'Unified ...   \n",
       "2  {'Interests and Hobbies_Air travel', 'Brand_Ea...   \n",
       "3  {'Interests and Hobbies_Air travel', 'Brand_Ea...   \n",
       "4  {'Interests and Hobbies_Air travel', 'Interest...   \n",
       "\n",
       "                        annots_found                 hashtags  \\\n",
       "0                   {'Place_Berlin'}  {'lettheholidaysbegin'}   \n",
       "1  {'Organization_BSL', 'Other_BUD'}            {'lovetofly'}   \n",
       "2               {'Other_Thameslink'}                    set()   \n",
       "3                                NaN                      NaN   \n",
       "4                       {'Place_UK'}                    set()   \n",
       "\n",
       "                                       mentions  \\\n",
       "0  {'easyJet', 'EDI_Airport', 'delightdoodahs'}   \n",
       "1                       {'vfxflyer', 'easyJet'}   \n",
       "2                           {'LDNLutonAirport'}   \n",
       "3                                           NaN   \n",
       "4                                         set()   \n",
       "\n",
       "                                          clean_text  \\\n",
       "0      Cracking  flight from  to Berlin this morning   \n",
       "1                Cloud surfing with  from BUD to BSL   \n",
       "2  Trains remain severely disrupted on the Thames...   \n",
       "3  It may take us a little longer to reply to you...   \n",
       "4  Due to adverse weather across the UK  easyJet ...   \n",
       "\n",
       "                             tokenize_lemmatize_text  \\\n",
       "0                        crack flight berlin morning   \n",
       "1                                 cloud surf bud bsl   \n",
       "2  train remain severely disrupt thameslink line ...   \n",
       "3  little longer reply volume message currently r...   \n",
       "4  adverse weather easyjet like airlines expect d...   \n",
       "\n",
       "                                        lemma_tokens  token_count  \n",
       "0                   [crack, flight, berlin, morning]            4  \n",
       "1                            [cloud, surf, bud, bsl]            4  \n",
       "2  [train, remain, severely, disrupt, thameslink,...           10  \n",
       "3  [little, longer, reply, volume, message, curre...           11  \n",
       "4  [adverse, weather, easyjet, like, airlines, ex...           14  "
      ]
     },
     "execution_count": 48,
     "metadata": {},
     "output_type": "execute_result"
    }
   ],
   "source": [
    "full_df.head()"
   ]
  },
  {
   "cell_type": "code",
   "execution_count": 49,
   "id": "62ad4dcc-c50b-4647-8aba-c11c2f01852a",
   "metadata": {},
   "outputs": [
    {
     "data": {
      "text/plain": [
       "count    57404.000000\n",
       "mean        11.426712\n",
       "std          6.251859\n",
       "min          0.000000\n",
       "25%          6.000000\n",
       "50%         10.000000\n",
       "75%         16.000000\n",
       "max         35.000000\n",
       "Name: token_count, dtype: float64"
      ]
     },
     "execution_count": 49,
     "metadata": {},
     "output_type": "execute_result"
    }
   ],
   "source": [
    "full_df['token_count'].describe()"
   ]
  },
  {
   "cell_type": "code",
   "execution_count": 50,
   "id": "7e2b7c06-c11e-46fe-a062-0391224675d3",
   "metadata": {},
   "outputs": [
    {
     "data": {
      "image/png": "[encoded data removed]",
      "text/plain": [
       "<Figure size 800x500 with 1 Axes>"
      ]
     },
     "metadata": {},
     "output_type": "display_data"
    }
   ],
   "source": [
    "fig = plt.figure(figsize=(8, 5))\n",
    "sns.histplot(data=full_df, x=\"token_count\", bins=30)\n",
    "plt.title('Distribution of Tokens per Tweet')\n",
    "plt.xlabel('Number of Tokens')\n",
    "plt.ylabel('Tweet Count')\n",
    "plt.savefig('tokens_per_tweet.png')\n",
    "plt.show()\n",
    "\n",
    "# At least 700 tweets have been downloaded from 74% of the airline accounts. Generally, \n",
    "# any accounts for which less than exactly 800 tweets were downloaded are accounts that do not have more than 800 tweets. "
   ]
  },
  {
   "cell_type": "code",
   "execution_count": null,
   "id": "901f0ec2-982f-404e-b90a-6ec76740968f",
   "metadata": {},
   "outputs": [],
   "source": []
  },
  {
   "cell_type": "markdown",
   "id": "c904652e-98cb-49a3-a343-554cca221ae4",
   "metadata": {},
   "source": [
    "### Make Bigrams/Trigrams and Lemmatize"
   ]
  },
  {
   "cell_type": "code",
   "execution_count": 51,
   "id": "d980ae79-f60f-438e-8e49-5bf2c4c4ef3d",
   "metadata": {},
   "outputs": [],
   "source": [
    "# SOURCE: https://www.machinelearningplus.com/nlp/topic-modeling-gensim-python/#13viewthetopicsinldamodel\n",
    "# Build the bigram and trigram models\n",
    "data_words = full_df['lemma_tokens'].values.tolist()\n",
    "bigram = gensim.models.Phrases(data_words, min_count=5, threshold=100) # higher threshold fewer phrases.\n",
    "trigram = gensim.models.Phrases(bigram[data_words], threshold=100)  \n",
    "bigram_mod = gensim.models.phrases.Phraser(bigram)\n",
    "trigram_mod = gensim.models.phrases.Phraser(trigram)"
   ]
  },
  {
   "cell_type": "code",
   "execution_count": 52,
   "id": "4d59e2f5-563b-4981-94c7-71d27f3c453d",
   "metadata": {},
   "outputs": [],
   "source": [
    "# Form Bigrams\n",
    "data_words_bigrams = [bigram_mod[doc] for doc in data_words]"
   ]
  },
  {
   "cell_type": "code",
   "execution_count": 53,
   "id": "c8a18960-458d-4212-86e1-22a909092778",
   "metadata": {},
   "outputs": [],
   "source": [
    "# Form Trigrams\n",
    "data_words_trigrams = [trigram_mod[bigram_mod[doc]] \n",
    "                       for doc in data_words]\n"
   ]
  },
  {
   "cell_type": "code",
   "execution_count": 54,
   "id": "b6b9a993-73a9-4a9d-a056-9ed264eb1704",
   "metadata": {},
   "outputs": [
    {
     "data": {
      "text/plain": [
       "['crack', 'flight', 'berlin', 'morning']"
      ]
     },
     "execution_count": 54,
     "metadata": {},
     "output_type": "execute_result"
    }
   ],
   "source": [
    "data_words[0]"
   ]
  },
  {
   "cell_type": "code",
   "execution_count": 55,
   "id": "f38d1579-042a-4260-8488-d29afcd70c32",
   "metadata": {},
   "outputs": [],
   "source": [
    "def lemmatization(texts, allowed_postags=['NOUN', 'ADJ', 'VERB', 'ADV']):\n",
    "    \"\"\"https://spacy.io/api/annotation\"\"\"\n",
    "    texts_out = []\n",
    "    for sent in texts:\n",
    "        doc = nlp(\" \".join(sent)) \n",
    "        texts_out.append([token.lemma_ for token in doc if token.pos_ in allowed_postags])\n",
    "    return texts_out"
   ]
  },
  {
   "cell_type": "code",
   "execution_count": 56,
   "id": "f97f8819-14f0-4500-8e39-af83fc65843f",
   "metadata": {},
   "outputs": [
    {
     "name": "stdout",
     "output_type": "stream",
     "text": [
      "[['crack', 'flight', 'morning']]\n"
     ]
    }
   ],
   "source": [
    "# Initialize spacy 'en' model, keeping only tagger component (for efficiency)\n",
    "# python3 -m spacy download en\n",
    "# nlp = spacy.load(\"en_core_web_sm\")\n",
    "nlp = spacy.load('en_core_web_sm', disable=['parser', 'ner'])\n",
    "\n",
    "# Do lemmatization keeping only noun, adj, vb, adv\n",
    "data_lemmatized = lemmatization(data_words_bigrams, allowed_postags=['NOUN', 'ADJ', 'VERB', 'ADV'])\n",
    "\n",
    "print(data_lemmatized[:1])"
   ]
  },
  {
   "cell_type": "markdown",
   "id": "bd41301c-ab83-49e6-958a-19169ca50424",
   "metadata": {},
   "source": [
    "### Create the Dictionary and Corpus needed for Topic Modeling "
   ]
  },
  {
   "cell_type": "code",
   "execution_count": 57,
   "id": "11fa5d59-3294-4c8b-acd4-5e5be835f3f1",
   "metadata": {},
   "outputs": [
    {
     "name": "stdout",
     "output_type": "stream",
     "text": [
      "18148\n"
     ]
    }
   ],
   "source": [
    "# Create Dictionary\n",
    "dct = Dictionary(data_lemmatized)\n",
    "print(len(dct))"
   ]
  },
  {
   "cell_type": "code",
   "execution_count": 58,
   "id": "d5083913-f605-4ca1-85a1-3eb48a9e4bcc",
   "metadata": {},
   "outputs": [
    {
     "name": "stdout",
     "output_type": "stream",
     "text": [
      "9997\n"
     ]
    }
   ],
   "source": [
    "# Filtering Extremes\n",
    "dct.filter_extremes(no_below=2, no_above=.99)\n",
    "print(len(dct))"
   ]
  },
  {
   "cell_type": "code",
   "execution_count": 59,
   "id": "160dce23-9225-4542-8dc8-9acdbc8fc266",
   "metadata": {},
   "outputs": [
    {
     "name": "stdout",
     "output_type": "stream",
     "text": [
      "[[(0, 1), (1, 1), (2, 1)]]\n"
     ]
    }
   ],
   "source": [
    "# Term Document Frequency using Corpus (data_lemmatized)\n",
    "corpus = [dct.doc2bow(text) for text in data_lemmatized]\n",
    "\n",
    "# View\n",
    "print(corpus[:1])"
   ]
  },
  {
   "cell_type": "code",
   "execution_count": 60,
   "id": "01e0b0bd-cab4-4cc4-b5b1-9479e260f49d",
   "metadata": {},
   "outputs": [
    {
     "data": {
      "text/plain": [
       "[[('crack', 1), ('flight', 1), ('morning', 1)]]"
      ]
     },
     "execution_count": 60,
     "metadata": {},
     "output_type": "execute_result"
    }
   ],
   "source": [
    "# Human readable format of corpus (term-frequency)\n",
    "[[(dct[id], freq) for id, freq in cp] for cp in corpus[:1]]"
   ]
  },
  {
   "cell_type": "code",
   "execution_count": 61,
   "id": "29d8daee",
   "metadata": {},
   "outputs": [],
   "source": [
    "# MODEL USED FOR REST OF PROJECT:\n",
    "\n",
    "lda_model_17 = gensim.models.ldamodel.LdaModel(corpus=corpus,\n",
    "                               id2word=dct,\n",
    "                               num_topics=17, \n",
    "                               random_state=100,\n",
    "                               update_every=1,\n",
    "                               chunksize=100,\n",
    "                               #passes=10,\n",
    "                               alpha='auto',\n",
    "                               per_word_topics=True)"
   ]
  },
  {
   "cell_type": "code",
   "execution_count": 120,
   "id": "555cd5e5-484e-471e-9a8f-fbdeb83e4bcb",
   "metadata": {},
   "outputs": [],
   "source": [
    "def tune_number_of_topics(data_lemmatized, dct, corpus, start, stop, lda_mdl_type):\n",
    "    \"\"\"Method to run LDA modeling with different configurations with\n",
    "    number of topics and LDA model type (regular, Mallet).\n",
    "    \n",
    "    mdl_types = ['lda_regular_no_passes', 'lda_regular_with_passes',\n",
    "                'lda_mallet_no_passes', 'lda_mallet_with_passes']\n",
    "    \"\"\"\n",
    "    info_to_return = pd.DataFrame()\n",
    "    \n",
    "    print('LDA model type:', lda_mdl_type)\n",
    "    \n",
    "    for num_topics in range(start, stop+1):\n",
    "        topics_row = dict()\n",
    "        \n",
    "        print(\"Number of topics:\", num_topics)\n",
    "        topics_row['num_topics'] = num_topics\n",
    "    \n",
    "        if 'lda_regular' in lda_mdl_type:\n",
    "            if lda_mdl_type == 'lda_regular_no_passes':\n",
    "                lda_model = gensim.models.ldamodel.LdaModel(corpus=corpus,\n",
    "                                               id2word=dct,\n",
    "                                               num_topics=num_topics, \n",
    "                                               random_state=100,\n",
    "                                               update_every=1,\n",
    "                                               chunksize=100,\n",
    "                                               #passes=10,\n",
    "                                               alpha='auto',\n",
    "                                               per_word_topics=True)\n",
    "                \n",
    "\n",
    "            elif lda_mdl_type == 'lda_regular_with_passes':\n",
    "                lda_model = gensim.models.ldamodel.LdaModel(corpus=corpus,\n",
    "                                               id2word=dct,\n",
    "                                               num_topics=num_topics, \n",
    "                                               random_state=100,\n",
    "                                               update_every=1,\n",
    "                                               chunksize=100,\n",
    "                                               passes=10,\n",
    "                                               alpha='auto',\n",
    "                                               per_word_topics=True)\n",
    "            \n",
    "            topics_row['lda_model'] = lda_model\n",
    "            topics_row['topics'] = lda_model.print_topics()\n",
    "            for i in lda_model.print_topics():\n",
    "                print(i)\n",
    "                print()\n",
    "\n",
    "            # Compute Perplexity\n",
    "            perplexity = lda_model.log_perplexity(corpus)\n",
    "            topics_row['perplexity'] = perplexity\n",
    "            print('\\nPerplexity: ', perplexity)  # a measure of how good the model is. lower the better.\n",
    "\n",
    "            # Compute Coherence Score\n",
    "            coherence_model_lda = CoherenceModel(\n",
    "                model=lda_model, texts=data_lemmatized, dictionary=dct, coherence='u_mass')\n",
    "            coherence_score = coherence_model_lda.get_coherence()\n",
    "            topics_row['coherence_umass'] = coherence_score\n",
    "            print('\\nCoherence Score: ', coherence_score)\n",
    "            \n",
    "            print()\n",
    "            print()\n",
    "            print()\n",
    "            \n",
    "        topics_row_df = pd.DataFrame([topics_row])\n",
    "        info_to_return = pd.concat([info_to_return, topics_row_df], axis=0, ignore_index=True)\n",
    "\n",
    "    return info_to_return\n",
    "        \n",
    "        \n",
    "    "
   ]
  },
  {
   "cell_type": "code",
   "execution_count": null,
   "id": "1b2a1fe9-3fa2-4ef5-82b5-689b6937f026",
   "metadata": {},
   "outputs": [],
   "source": [
    "df_lda_regular_no_passes = tune_number_of_topics(\n",
    "    data_lemmatized, dct, corpus, 4, 30, 'lda_regular_no_passes')"
   ]
  },
  {
   "cell_type": "code",
   "execution_count": 122,
   "id": "ea5e5ef6-57ca-4938-8360-484a46edc5b1",
   "metadata": {},
   "outputs": [
    {
     "data": {
      "text/html": [
       "<div>\n",
       "<style scoped>\n",
       "    .dataframe tbody tr th:only-of-type {\n",
       "        vertical-align: middle;\n",
       "    }\n",
       "\n",
       "    .dataframe tbody tr th {\n",
       "        vertical-align: top;\n",
       "    }\n",
       "\n",
       "    .dataframe thead th {\n",
       "        text-align: right;\n",
       "    }\n",
       "</style>\n",
       "<table border=\"1\" class=\"dataframe\">\n",
       "  <thead>\n",
       "    <tr style=\"text-align: right;\">\n",
       "      <th></th>\n",
       "      <th>num_topics</th>\n",
       "      <th>lda_model</th>\n",
       "      <th>topics</th>\n",
       "      <th>perplexity</th>\n",
       "      <th>coherence_umass</th>\n",
       "    </tr>\n",
       "  </thead>\n",
       "  <tbody>\n",
       "    <tr>\n",
       "      <th>0</th>\n",
       "      <td>4</td>\n",
       "      <td>LdaModel&lt;num_terms=9997, num_topics=4, decay=0...</td>\n",
       "      <td>[(0, 0.036*\"world\" + 0.027*\"ready\" + 0.021*\"ex...</td>\n",
       "      <td>-7.740790</td>\n",
       "      <td>-4.611174</td>\n",
       "    </tr>\n",
       "    <tr>\n",
       "      <th>1</th>\n",
       "      <td>5</td>\n",
       "      <td>LdaModel&lt;num_terms=9997, num_topics=5, decay=0...</td>\n",
       "      <td>[(0, 0.048*\"world\" + 0.036*\"ready\" + 0.024*\"le...</td>\n",
       "      <td>-7.775166</td>\n",
       "      <td>-5.247837</td>\n",
       "    </tr>\n",
       "    <tr>\n",
       "      <th>2</th>\n",
       "      <td>6</td>\n",
       "      <td>LdaModel&lt;num_terms=9997, num_topics=6, decay=0...</td>\n",
       "      <td>[(0, 0.053*\"world\" + 0.040*\"ready\" + 0.027*\"le...</td>\n",
       "      <td>-7.849982</td>\n",
       "      <td>-5.003765</td>\n",
       "    </tr>\n",
       "    <tr>\n",
       "      <th>3</th>\n",
       "      <td>7</td>\n",
       "      <td>LdaModel&lt;num_terms=9997, num_topics=7, decay=0...</td>\n",
       "      <td>[(0, 0.049*\"world\" + 0.037*\"ready\" + 0.025*\"le...</td>\n",
       "      <td>-7.915961</td>\n",
       "      <td>-5.106118</td>\n",
       "    </tr>\n",
       "    <tr>\n",
       "      <th>4</th>\n",
       "      <td>8</td>\n",
       "      <td>LdaModel&lt;num_terms=9997, num_topics=8, decay=0...</td>\n",
       "      <td>[(0, 0.064*\"world\" + 0.033*\"learn\" + 0.028*\"th...</td>\n",
       "      <td>-7.992452</td>\n",
       "      <td>-5.615172</td>\n",
       "    </tr>\n",
       "    <tr>\n",
       "      <th>5</th>\n",
       "      <td>9</td>\n",
       "      <td>LdaModel&lt;num_terms=9997, num_topics=9, decay=0...</td>\n",
       "      <td>[(0, 0.059*\"world\" + 0.030*\"learn\" + 0.028*\"co...</td>\n",
       "      <td>-8.094452</td>\n",
       "      <td>-6.168461</td>\n",
       "    </tr>\n",
       "    <tr>\n",
       "      <th>6</th>\n",
       "      <td>10</td>\n",
       "      <td>LdaModel&lt;num_terms=9997, num_topics=10, decay=...</td>\n",
       "      <td>[(0, 0.064*\"world\" + 0.033*\"learn\" + 0.031*\"co...</td>\n",
       "      <td>-8.244183</td>\n",
       "      <td>-6.070938</td>\n",
       "    </tr>\n",
       "    <tr>\n",
       "      <th>7</th>\n",
       "      <td>11</td>\n",
       "      <td>LdaModel&lt;num_terms=9997, num_topics=11, decay=...</td>\n",
       "      <td>[(0, 0.092*\"world\" + 0.069*\"ready\" + 0.036*\"wa...</td>\n",
       "      <td>-8.482786</td>\n",
       "      <td>-6.171480</td>\n",
       "    </tr>\n",
       "    <tr>\n",
       "      <th>8</th>\n",
       "      <td>12</td>\n",
       "      <td>LdaModel&lt;num_terms=9997, num_topics=12, decay=...</td>\n",
       "      <td>[(0, 0.082*\"world\" + 0.061*\"ready\" + 0.042*\"le...</td>\n",
       "      <td>-8.910187</td>\n",
       "      <td>-6.444452</td>\n",
       "    </tr>\n",
       "    <tr>\n",
       "      <th>9</th>\n",
       "      <td>13</td>\n",
       "      <td>LdaModel&lt;num_terms=9997, num_topics=13, decay=...</td>\n",
       "      <td>[(0, 0.129*\"time\" + 0.123*\"world\" + 0.048*\"wai...</td>\n",
       "      <td>-9.602920</td>\n",
       "      <td>-6.718687</td>\n",
       "    </tr>\n",
       "    <tr>\n",
       "      <th>10</th>\n",
       "      <td>14</td>\n",
       "      <td>LdaModel&lt;num_terms=9997, num_topics=14, decay=...</td>\n",
       "      <td>[(0, 0.095*\"world\" + 0.049*\"learn\" + 0.037*\"fo...</td>\n",
       "      <td>-10.750597</td>\n",
       "      <td>-6.685406</td>\n",
       "    </tr>\n",
       "    <tr>\n",
       "      <th>11</th>\n",
       "      <td>15</td>\n",
       "      <td>LdaModel&lt;num_terms=9997, num_topics=15, decay=...</td>\n",
       "      <td>[(0, 0.145*\"world\" + 0.074*\"learn\" + 0.056*\"fo...</td>\n",
       "      <td>-12.335343</td>\n",
       "      <td>-6.866154</td>\n",
       "    </tr>\n",
       "    <tr>\n",
       "      <th>12</th>\n",
       "      <td>16</td>\n",
       "      <td>LdaModel&lt;num_terms=9997, num_topics=16, decay=...</td>\n",
       "      <td>[(0, 0.248*\"world\" + 0.128*\"know\" + 0.095*\"foo...</td>\n",
       "      <td>-14.476944</td>\n",
       "      <td>-7.665538</td>\n",
       "    </tr>\n",
       "    <tr>\n",
       "      <th>13</th>\n",
       "      <td>17</td>\n",
       "      <td>LdaModel&lt;num_terms=9997, num_topics=17, decay=...</td>\n",
       "      <td>[(0, 0.190*\"world\" + 0.097*\"learn\" + 0.092*\"co...</td>\n",
       "      <td>-16.576969</td>\n",
       "      <td>-8.788442</td>\n",
       "    </tr>\n",
       "    <tr>\n",
       "      <th>14</th>\n",
       "      <td>18</td>\n",
       "      <td>LdaModel&lt;num_terms=9997, num_topics=18, decay=...</td>\n",
       "      <td>[(0, 0.329*\"world\" + 0.126*\"food\" + 0.105*\"sup...</td>\n",
       "      <td>-17.990902</td>\n",
       "      <td>-8.509521</td>\n",
       "    </tr>\n",
       "    <tr>\n",
       "      <th>15</th>\n",
       "      <td>19</td>\n",
       "      <td>LdaModel&lt;num_terms=9997, num_topics=19, decay=...</td>\n",
       "      <td>[(0, 0.544*\"world\" + 0.174*\"support\" + 0.115*\"...</td>\n",
       "      <td>-18.950824</td>\n",
       "      <td>-8.325743</td>\n",
       "    </tr>\n",
       "    <tr>\n",
       "      <th>16</th>\n",
       "      <td>20</td>\n",
       "      <td>LdaModel&lt;num_terms=9997, num_topics=20, decay=...</td>\n",
       "      <td>[(0, 0.272*\"time\" + 0.258*\"world\" + 0.099*\"foo...</td>\n",
       "      <td>-19.644061</td>\n",
       "      <td>-8.886745</td>\n",
       "    </tr>\n",
       "    <tr>\n",
       "      <th>17</th>\n",
       "      <td>21</td>\n",
       "      <td>LdaModel&lt;num_terms=9997, num_topics=21, decay=...</td>\n",
       "      <td>[(12, 0.627*\"way\" + 0.051*\"nice\" + 0.046*\"mess...</td>\n",
       "      <td>-20.211587</td>\n",
       "      <td>-8.488740</td>\n",
       "    </tr>\n",
       "    <tr>\n",
       "      <th>18</th>\n",
       "      <td>22</td>\n",
       "      <td>LdaModel&lt;num_terms=9997, num_topics=22, decay=...</td>\n",
       "      <td>[(5, 0.302*\"quick\" + 0.000*\"day\" + 0.000*\"meal...</td>\n",
       "      <td>-20.746883</td>\n",
       "      <td>-8.349424</td>\n",
       "    </tr>\n",
       "    <tr>\n",
       "      <th>19</th>\n",
       "      <td>23</td>\n",
       "      <td>LdaModel&lt;num_terms=9997, num_topics=23, decay=...</td>\n",
       "      <td>[(15, 0.325*\"child\" + 0.094*\"draw\" + 0.000*\"pa...</td>\n",
       "      <td>-21.349293</td>\n",
       "      <td>-8.278553</td>\n",
       "    </tr>\n",
       "    <tr>\n",
       "      <th>20</th>\n",
       "      <td>24</td>\n",
       "      <td>LdaModel&lt;num_terms=9997, num_topics=24, decay=...</td>\n",
       "      <td>[(13, 0.170*\"film\" + 0.086*\"secret\" + 0.000*\"w...</td>\n",
       "      <td>-21.954273</td>\n",
       "      <td>-8.491842</td>\n",
       "    </tr>\n",
       "    <tr>\n",
       "      <th>21</th>\n",
       "      <td>25</td>\n",
       "      <td>LdaModel&lt;num_terms=9997, num_topics=25, decay=...</td>\n",
       "      <td>[(22, 0.000*\"imminent\" + 0.000*\"lhr\" + 0.000*\"...</td>\n",
       "      <td>-22.464548</td>\n",
       "      <td>-8.843104</td>\n",
       "    </tr>\n",
       "    <tr>\n",
       "      <th>22</th>\n",
       "      <td>26</td>\n",
       "      <td>LdaModel&lt;num_terms=9997, num_topics=26, decay=...</td>\n",
       "      <td>[(13, 0.000*\"imminent\" + 0.000*\"lhr\" + 0.000*\"...</td>\n",
       "      <td>-23.037186</td>\n",
       "      <td>-9.974869</td>\n",
       "    </tr>\n",
       "    <tr>\n",
       "      <th>23</th>\n",
       "      <td>27</td>\n",
       "      <td>LdaModel&lt;num_terms=9997, num_topics=27, decay=...</td>\n",
       "      <td>[(12, 0.000*\"imminent\" + 0.000*\"lhr\" + 0.000*\"...</td>\n",
       "      <td>-23.596888</td>\n",
       "      <td>-9.536824</td>\n",
       "    </tr>\n",
       "    <tr>\n",
       "      <th>24</th>\n",
       "      <td>28</td>\n",
       "      <td>LdaModel&lt;num_terms=9997, num_topics=28, decay=...</td>\n",
       "      <td>[(13, 0.000*\"imminent\" + 0.000*\"lhr\" + 0.000*\"...</td>\n",
       "      <td>-24.131731</td>\n",
       "      <td>-8.986988</td>\n",
       "    </tr>\n",
       "    <tr>\n",
       "      <th>25</th>\n",
       "      <td>29</td>\n",
       "      <td>LdaModel&lt;num_terms=9997, num_topics=29, decay=...</td>\n",
       "      <td>[(15, 0.000*\"imminent\" + 0.000*\"lhr\" + 0.000*\"...</td>\n",
       "      <td>-24.748021</td>\n",
       "      <td>-9.074036</td>\n",
       "    </tr>\n",
       "    <tr>\n",
       "      <th>26</th>\n",
       "      <td>30</td>\n",
       "      <td>LdaModel&lt;num_terms=9997, num_topics=30, decay=...</td>\n",
       "      <td>[(13, 0.000*\"imminent\" + 0.000*\"lhr\" + 0.000*\"...</td>\n",
       "      <td>-25.280220</td>\n",
       "      <td>-14.751853</td>\n",
       "    </tr>\n",
       "  </tbody>\n",
       "</table>\n",
       "</div>"
      ],
      "text/plain": [
       "    num_topics                                          lda_model  \\\n",
       "0            4  LdaModel<num_terms=9997, num_topics=4, decay=0...   \n",
       "1            5  LdaModel<num_terms=9997, num_topics=5, decay=0...   \n",
       "2            6  LdaModel<num_terms=9997, num_topics=6, decay=0...   \n",
       "3            7  LdaModel<num_terms=9997, num_topics=7, decay=0...   \n",
       "4            8  LdaModel<num_terms=9997, num_topics=8, decay=0...   \n",
       "5            9  LdaModel<num_terms=9997, num_topics=9, decay=0...   \n",
       "6           10  LdaModel<num_terms=9997, num_topics=10, decay=...   \n",
       "7           11  LdaModel<num_terms=9997, num_topics=11, decay=...   \n",
       "8           12  LdaModel<num_terms=9997, num_topics=12, decay=...   \n",
       "9           13  LdaModel<num_terms=9997, num_topics=13, decay=...   \n",
       "10          14  LdaModel<num_terms=9997, num_topics=14, decay=...   \n",
       "11          15  LdaModel<num_terms=9997, num_topics=15, decay=...   \n",
       "12          16  LdaModel<num_terms=9997, num_topics=16, decay=...   \n",
       "13          17  LdaModel<num_terms=9997, num_topics=17, decay=...   \n",
       "14          18  LdaModel<num_terms=9997, num_topics=18, decay=...   \n",
       "15          19  LdaModel<num_terms=9997, num_topics=19, decay=...   \n",
       "16          20  LdaModel<num_terms=9997, num_topics=20, decay=...   \n",
       "17          21  LdaModel<num_terms=9997, num_topics=21, decay=...   \n",
       "18          22  LdaModel<num_terms=9997, num_topics=22, decay=...   \n",
       "19          23  LdaModel<num_terms=9997, num_topics=23, decay=...   \n",
       "20          24  LdaModel<num_terms=9997, num_topics=24, decay=...   \n",
       "21          25  LdaModel<num_terms=9997, num_topics=25, decay=...   \n",
       "22          26  LdaModel<num_terms=9997, num_topics=26, decay=...   \n",
       "23          27  LdaModel<num_terms=9997, num_topics=27, decay=...   \n",
       "24          28  LdaModel<num_terms=9997, num_topics=28, decay=...   \n",
       "25          29  LdaModel<num_terms=9997, num_topics=29, decay=...   \n",
       "26          30  LdaModel<num_terms=9997, num_topics=30, decay=...   \n",
       "\n",
       "                                               topics  perplexity  \\\n",
       "0   [(0, 0.036*\"world\" + 0.027*\"ready\" + 0.021*\"ex...   -7.740790   \n",
       "1   [(0, 0.048*\"world\" + 0.036*\"ready\" + 0.024*\"le...   -7.775166   \n",
       "2   [(0, 0.053*\"world\" + 0.040*\"ready\" + 0.027*\"le...   -7.849982   \n",
       "3   [(0, 0.049*\"world\" + 0.037*\"ready\" + 0.025*\"le...   -7.915961   \n",
       "4   [(0, 0.064*\"world\" + 0.033*\"learn\" + 0.028*\"th...   -7.992452   \n",
       "5   [(0, 0.059*\"world\" + 0.030*\"learn\" + 0.028*\"co...   -8.094452   \n",
       "6   [(0, 0.064*\"world\" + 0.033*\"learn\" + 0.031*\"co...   -8.244183   \n",
       "7   [(0, 0.092*\"world\" + 0.069*\"ready\" + 0.036*\"wa...   -8.482786   \n",
       "8   [(0, 0.082*\"world\" + 0.061*\"ready\" + 0.042*\"le...   -8.910187   \n",
       "9   [(0, 0.129*\"time\" + 0.123*\"world\" + 0.048*\"wai...   -9.602920   \n",
       "10  [(0, 0.095*\"world\" + 0.049*\"learn\" + 0.037*\"fo...  -10.750597   \n",
       "11  [(0, 0.145*\"world\" + 0.074*\"learn\" + 0.056*\"fo...  -12.335343   \n",
       "12  [(0, 0.248*\"world\" + 0.128*\"know\" + 0.095*\"foo...  -14.476944   \n",
       "13  [(0, 0.190*\"world\" + 0.097*\"learn\" + 0.092*\"co...  -16.576969   \n",
       "14  [(0, 0.329*\"world\" + 0.126*\"food\" + 0.105*\"sup...  -17.990902   \n",
       "15  [(0, 0.544*\"world\" + 0.174*\"support\" + 0.115*\"...  -18.950824   \n",
       "16  [(0, 0.272*\"time\" + 0.258*\"world\" + 0.099*\"foo...  -19.644061   \n",
       "17  [(12, 0.627*\"way\" + 0.051*\"nice\" + 0.046*\"mess...  -20.211587   \n",
       "18  [(5, 0.302*\"quick\" + 0.000*\"day\" + 0.000*\"meal...  -20.746883   \n",
       "19  [(15, 0.325*\"child\" + 0.094*\"draw\" + 0.000*\"pa...  -21.349293   \n",
       "20  [(13, 0.170*\"film\" + 0.086*\"secret\" + 0.000*\"w...  -21.954273   \n",
       "21  [(22, 0.000*\"imminent\" + 0.000*\"lhr\" + 0.000*\"...  -22.464548   \n",
       "22  [(13, 0.000*\"imminent\" + 0.000*\"lhr\" + 0.000*\"...  -23.037186   \n",
       "23  [(12, 0.000*\"imminent\" + 0.000*\"lhr\" + 0.000*\"...  -23.596888   \n",
       "24  [(13, 0.000*\"imminent\" + 0.000*\"lhr\" + 0.000*\"...  -24.131731   \n",
       "25  [(15, 0.000*\"imminent\" + 0.000*\"lhr\" + 0.000*\"...  -24.748021   \n",
       "26  [(13, 0.000*\"imminent\" + 0.000*\"lhr\" + 0.000*\"...  -25.280220   \n",
       "\n",
       "    coherence_umass  \n",
       "0         -4.611174  \n",
       "1         -5.247837  \n",
       "2         -5.003765  \n",
       "3         -5.106118  \n",
       "4         -5.615172  \n",
       "5         -6.168461  \n",
       "6         -6.070938  \n",
       "7         -6.171480  \n",
       "8         -6.444452  \n",
       "9         -6.718687  \n",
       "10        -6.685406  \n",
       "11        -6.866154  \n",
       "12        -7.665538  \n",
       "13        -8.788442  \n",
       "14        -8.509521  \n",
       "15        -8.325743  \n",
       "16        -8.886745  \n",
       "17        -8.488740  \n",
       "18        -8.349424  \n",
       "19        -8.278553  \n",
       "20        -8.491842  \n",
       "21        -8.843104  \n",
       "22        -9.974869  \n",
       "23        -9.536824  \n",
       "24        -8.986988  \n",
       "25        -9.074036  \n",
       "26       -14.751853  "
      ]
     },
     "execution_count": 122,
     "metadata": {},
     "output_type": "execute_result"
    }
   ],
   "source": [
    "df_lda_regular_no_passes"
   ]
  },
  {
   "cell_type": "code",
   "execution_count": 248,
   "id": "a7616887-9bdc-44f8-b4d9-fb97af452f83",
   "metadata": {},
   "outputs": [
    {
     "data": {
      "image/png": "[encoded data removed]",
      "text/plain": [
       "<Figure size 1600x500 with 1 Axes>"
      ]
     },
     "metadata": {},
     "output_type": "display_data"
    }
   ],
   "source": [
    "fig = plt.figure(figsize=(16, 5))\n",
    "sns.lineplot(data=df_lda_regular_no_passes, x=\"num_topics\", y=\"perplexity\").set_xticks(range(4, 31))\n",
    "plt.title('Perplexity scores per LDA model')\n",
    "plt.xlabel('Number of topics')\n",
    "plt.ylabel('Perplexity')\n",
    "plt.show()"
   ]
  },
  {
   "cell_type": "code",
   "execution_count": 125,
   "id": "a9c35ddc-78b1-444b-beb0-b3c200ad7c27",
   "metadata": {},
   "outputs": [
    {
     "data": {
      "image/png": "[encoded data removed]",
      "text/plain": [
       "<Figure size 1600x500 with 1 Axes>"
      ]
     },
     "metadata": {},
     "output_type": "display_data"
    }
   ],
   "source": [
    "fig = plt.figure(figsize=(16, 5))\n",
    "sns.lineplot(data=df_lda_regular_no_passes, x=\"num_topics\", y=\"coherence_umass\").set_xticks(range(4, 31))\n",
    "plt.title('Coherence (u_mass) scores per LDA model')\n",
    "plt.xlabel('Number of topics')\n",
    "plt.ylabel('Coherence score (u_mass)')\n",
    "plt.show()"
   ]
  },
  {
   "cell_type": "markdown",
   "id": "01c6b979-8ac8-4319-bd12-e2b42ec20899",
   "metadata": {},
   "source": [
    "### Select a number of topics"
   ]
  },
  {
   "cell_type": "code",
   "execution_count": 151,
   "id": "c6046107-8cec-4002-b6de-45b69c1060e5",
   "metadata": {},
   "outputs": [],
   "source": [
    "# num_topics = 8\n",
    "\n",
    "# min_topic = 4\n",
    "# loc_index = num_topics - min_topic\n",
    "# row_num_topics = df_lda_regular_no_passes.loc[loc_index]\n",
    "# lda_model = row_num_topics['lda_model']\n",
    "\n",
    "num_topics = 17\n",
    "\n",
    "min_topic = 4\n",
    "loc_index = num_topics - min_topic\n",
    "row_num_topics = df_lda_regular_no_passes.loc[loc_index]\n",
    "lda_model = row_num_topics['lda_model']"
   ]
  },
  {
   "cell_type": "code",
   "execution_count": 141,
   "id": "f92c8dc6-2d51-4651-9190-1ec22bc1ed5a",
   "metadata": {},
   "outputs": [
    {
     "data": {
      "text/plain": [
       "<gensim.models.ldamodel.LdaModel at 0x7fceef7b86d0>"
      ]
     },
     "execution_count": 141,
     "metadata": {},
     "output_type": "execute_result"
    }
   ],
   "source": [
    "lda_model"
   ]
  },
  {
   "cell_type": "markdown",
   "id": "cc7ff89f-e808-4bb0-bac8-f07f36409a23",
   "metadata": {},
   "source": [
    "### Identify the Dominant topic of each tweet"
   ]
  },
  {
   "cell_type": "code",
   "execution_count": 70,
   "id": "aeb91df7-15d6-48f0-a8ad-27b8a3cf929d",
   "metadata": {},
   "outputs": [],
   "source": [
    "def format_topics_sentences(ldamodel, corpus, texts):\n",
    "    # Init output\n",
    "    sent_topics_df = pd.DataFrame(columns=['Dominant_Topic', 'Perc_Contribution', 'Topic_Keywords'])\n",
    "\n",
    "    # Get main topic in each document\n",
    "    for i, row_list in enumerate(ldamodel[corpus]):\n",
    "        row = row_list[0] if ldamodel.per_word_topics else row_list            \n",
    "        # print(row)\n",
    "        row = sorted(row, key=lambda x: (x[1]), reverse=True)\n",
    "        # Get the Dominant topic, Perc Contribution and Keywords for each document\n",
    "        for j, (topic_num, prop_topic) in enumerate(row):\n",
    "            if j == 0:  # => dominant topic\n",
    "                wp = ldamodel.show_topic(topic_num)\n",
    "                topic_keywords = \", \".join([word for word, prop in wp])\n",
    "                #sent_topics_df = sent_topics_df.append(pd.Series([int(topic_num), round(prop_topic,4), topic_keywords]), ignore_index=True)\n",
    "        \n",
    "                #topics_row_df = pd.DataFrame(pd.Series([int(topic_num), round(prop_topic,4), topic_keywords]))\n",
    "                sent_topics_df = pd.concat([sent_topics_df,\n",
    "                                            pd.DataFrame([{'Dominant_Topic': int(topic_num), \n",
    "                                             'Perc_Contribution': round(prop_topic,4),\n",
    "                                             'Topic_Keywords': topic_keywords\n",
    "                                            }])\n",
    "                                            # pd.Series([int(topic_num), round(prop_topic,4), topic_keywords])\n",
    "                                           ], axis=0, ignore_index=True)\n",
    "            \n",
    "            else:\n",
    "                break\n",
    "                \n",
    "        \n",
    "        if i > 0 and i % 5000 == 0:\n",
    "            #break\n",
    "            print(i)\n",
    "\n",
    "    # Add original text to the end of the output\n",
    "    contents = pd.Series(texts)\n",
    "    sent_topics_df = pd.concat([sent_topics_df, contents], axis=1)\n",
    "    return sent_topics_df"
   ]
  },
  {
   "cell_type": "markdown",
   "id": "ccbccf90-5fc3-4e2a-b341-3234d5869c59",
   "metadata": {
    "jp-MarkdownHeadingCollapsed": true,
    "tags": []
   },
   "source": [
    "#### num_topics = 8"
   ]
  },
  {
   "cell_type": "code",
   "execution_count": 159,
   "id": "b286bd97-851d-465b-9c69-131cf6034216",
   "metadata": {},
   "outputs": [],
   "source": [
    "num_topics = 8\n",
    "\n",
    "min_topic = 4\n",
    "loc_index = num_topics - min_topic\n",
    "row_num_topics = df_lda_regular_no_passes.loc[loc_index]\n",
    "lda_model_8 = row_num_topics['lda_model']"
   ]
  },
  {
   "cell_type": "code",
   "execution_count": 160,
   "id": "62f1b1a5-f583-4365-a392-70e2e0af6283",
   "metadata": {},
   "outputs": [
    {
     "name": "stdout",
     "output_type": "stream",
     "text": [
      "5000\n",
      "10000\n",
      "15000\n",
      "20000\n",
      "25000\n",
      "30000\n",
      "35000\n",
      "40000\n",
      "45000\n",
      "50000\n",
      "55000\n"
     ]
    }
   ],
   "source": [
    "df_8_topic_sents_keywords = format_topics_sentences(ldamodel=lda_model_8, corpus=corpus, texts=data_lemmatized)"
   ]
  },
  {
   "cell_type": "code",
   "execution_count": 161,
   "id": "04665a27-3418-482f-98df-05a0041c0b80",
   "metadata": {},
   "outputs": [
    {
     "data": {
      "text/html": [
       "<div>\n",
       "<style scoped>\n",
       "    .dataframe tbody tr th:only-of-type {\n",
       "        vertical-align: middle;\n",
       "    }\n",
       "\n",
       "    .dataframe tbody tr th {\n",
       "        vertical-align: top;\n",
       "    }\n",
       "\n",
       "    .dataframe thead th {\n",
       "        text-align: right;\n",
       "    }\n",
       "</style>\n",
       "<table border=\"1\" class=\"dataframe\">\n",
       "  <thead>\n",
       "    <tr style=\"text-align: right;\">\n",
       "      <th></th>\n",
       "      <th>Document_No</th>\n",
       "      <th>Dominant_Topic</th>\n",
       "      <th>Topic_Perc_Contrib</th>\n",
       "      <th>Keywords</th>\n",
       "      <th>Text</th>\n",
       "    </tr>\n",
       "  </thead>\n",
       "  <tbody>\n",
       "    <tr>\n",
       "      <th>0</th>\n",
       "      <td>0</td>\n",
       "      <td>6</td>\n",
       "      <td>0.2312</td>\n",
       "      <td>flight, fly, check, know, airline, happy, gues...</td>\n",
       "      <td>[crack, flight, morning]</td>\n",
       "    </tr>\n",
       "    <tr>\n",
       "      <th>1</th>\n",
       "      <td>1</td>\n",
       "      <td>6</td>\n",
       "      <td>0.1712</td>\n",
       "      <td>flight, fly, check, know, airline, happy, gues...</td>\n",
       "      <td>[]</td>\n",
       "    </tr>\n",
       "    <tr>\n",
       "      <th>2</th>\n",
       "      <td>2</td>\n",
       "      <td>6</td>\n",
       "      <td>0.1966</td>\n",
       "      <td>flight, fly, check, know, airline, happy, gues...</td>\n",
       "      <td>[train, remain, severely, disrupt, thameslink,...</td>\n",
       "    </tr>\n",
       "    <tr>\n",
       "      <th>3</th>\n",
       "      <td>3</td>\n",
       "      <td>4</td>\n",
       "      <td>0.3521</td>\n",
       "      <td>enjoy, experience, area, look, offer, work, gr...</td>\n",
       "      <td>[little, long, reply, volume, message, current...</td>\n",
       "    </tr>\n",
       "    <tr>\n",
       "      <th>4</th>\n",
       "      <td>4</td>\n",
       "      <td>6</td>\n",
       "      <td>0.3846</td>\n",
       "      <td>flight, fly, check, know, airline, happy, gues...</td>\n",
       "      <td>[adverse_weather, easyjet, airline, expect, di...</td>\n",
       "    </tr>\n",
       "    <tr>\n",
       "      <th>5</th>\n",
       "      <td>5</td>\n",
       "      <td>2</td>\n",
       "      <td>0.2636</td>\n",
       "      <td>book, travel, time, today, destination, airpor...</td>\n",
       "      <td>[run, moment, time, delay]</td>\n",
       "    </tr>\n",
       "    <tr>\n",
       "      <th>6</th>\n",
       "      <td>6</td>\n",
       "      <td>2</td>\n",
       "      <td>0.3668</td>\n",
       "      <td>book, travel, time, today, destination, airpor...</td>\n",
       "      <td>[delay, approach, strongly, recommend, custome...</td>\n",
       "    </tr>\n",
       "    <tr>\n",
       "      <th>7</th>\n",
       "      <td>7</td>\n",
       "      <td>2</td>\n",
       "      <td>0.2085</td>\n",
       "      <td>book, travel, time, today, destination, airpor...</td>\n",
       "      <td>[result, collision, delay, minute, approach, m...</td>\n",
       "    </tr>\n",
       "    <tr>\n",
       "      <th>8</th>\n",
       "      <td>8</td>\n",
       "      <td>6</td>\n",
       "      <td>0.2169</td>\n",
       "      <td>flight, fly, check, know, airline, happy, gues...</td>\n",
       "      <td>[lane, closure, accident, emergency, service, ...</td>\n",
       "    </tr>\n",
       "    <tr>\n",
       "      <th>9</th>\n",
       "      <td>9</td>\n",
       "      <td>6</td>\n",
       "      <td>0.1891</td>\n",
       "      <td>flight, fly, check, know, airline, happy, gues...</td>\n",
       "      <td>[thank, great, flight]</td>\n",
       "    </tr>\n",
       "  </tbody>\n",
       "</table>\n",
       "</div>"
      ],
      "text/plain": [
       "   Document_No Dominant_Topic  Topic_Perc_Contrib  \\\n",
       "0            0              6              0.2312   \n",
       "1            1              6              0.1712   \n",
       "2            2              6              0.1966   \n",
       "3            3              4              0.3521   \n",
       "4            4              6              0.3846   \n",
       "5            5              2              0.2636   \n",
       "6            6              2              0.3668   \n",
       "7            7              2              0.2085   \n",
       "8            8              6              0.2169   \n",
       "9            9              6              0.1891   \n",
       "\n",
       "                                            Keywords  \\\n",
       "0  flight, fly, check, know, airline, happy, gues...   \n",
       "1  flight, fly, check, know, airline, happy, gues...   \n",
       "2  flight, fly, check, know, airline, happy, gues...   \n",
       "3  enjoy, experience, area, look, offer, work, gr...   \n",
       "4  flight, fly, check, know, airline, happy, gues...   \n",
       "5  book, travel, time, today, destination, airpor...   \n",
       "6  book, travel, time, today, destination, airpor...   \n",
       "7  book, travel, time, today, destination, airpor...   \n",
       "8  flight, fly, check, know, airline, happy, gues...   \n",
       "9  flight, fly, check, know, airline, happy, gues...   \n",
       "\n",
       "                                                Text  \n",
       "0                           [crack, flight, morning]  \n",
       "1                                                 []  \n",
       "2  [train, remain, severely, disrupt, thameslink,...  \n",
       "3  [little, long, reply, volume, message, current...  \n",
       "4  [adverse_weather, easyjet, airline, expect, di...  \n",
       "5                         [run, moment, time, delay]  \n",
       "6  [delay, approach, strongly, recommend, custome...  \n",
       "7  [result, collision, delay, minute, approach, m...  \n",
       "8  [lane, closure, accident, emergency, service, ...  \n",
       "9                             [thank, great, flight]  "
      ]
     },
     "execution_count": 161,
     "metadata": {},
     "output_type": "execute_result"
    }
   ],
   "source": [
    "# Format\n",
    "df_8_dominant_topic = df_8_topic_sents_keywords.reset_index()\n",
    "df_8_dominant_topic.columns = ['Document_No', 'Dominant_Topic', 'Topic_Perc_Contrib', 'Keywords', 'Text']\n",
    "df_8_dominant_topic.head(10)"
   ]
  },
  {
   "cell_type": "code",
   "execution_count": 162,
   "id": "de896f4c-149c-4862-a505-5e95c38c35d4",
   "metadata": {},
   "outputs": [
    {
     "data": {
      "text/html": [
       "<div>\n",
       "<style scoped>\n",
       "    .dataframe tbody tr th:only-of-type {\n",
       "        vertical-align: middle;\n",
       "    }\n",
       "\n",
       "    .dataframe tbody tr th {\n",
       "        vertical-align: top;\n",
       "    }\n",
       "\n",
       "    .dataframe thead th {\n",
       "        text-align: right;\n",
       "    }\n",
       "</style>\n",
       "<table border=\"1\" class=\"dataframe\">\n",
       "  <thead>\n",
       "    <tr style=\"text-align: right;\">\n",
       "      <th></th>\n",
       "      <th>Document_No</th>\n",
       "      <th>Dominant_Topic</th>\n",
       "      <th>Topic_Perc_Contrib</th>\n",
       "      <th>Keywords</th>\n",
       "      <th>Text</th>\n",
       "    </tr>\n",
       "  </thead>\n",
       "  <tbody>\n",
       "    <tr>\n",
       "      <th>42</th>\n",
       "      <td>42</td>\n",
       "      <td>0</td>\n",
       "      <td>0.4450</td>\n",
       "      <td>world, learn, thank, food, go, team, support, ...</td>\n",
       "      <td>[big, change, small, change, cabin_crew, colle...</td>\n",
       "    </tr>\n",
       "    <tr>\n",
       "      <th>47073</th>\n",
       "      <td>47073</td>\n",
       "      <td>0</td>\n",
       "      <td>0.4059</td>\n",
       "      <td>world, learn, thank, food, go, team, support, ...</td>\n",
       "      <td>[deeply, shock, terrorist, attack, thought, vi...</td>\n",
       "    </tr>\n",
       "    <tr>\n",
       "      <th>89</th>\n",
       "      <td>89</td>\n",
       "      <td>4</td>\n",
       "      <td>0.3988</td>\n",
       "      <td>enjoy, experience, area, look, offer, work, gr...</td>\n",
       "      <td>[look, fun, activity, look, kid, age, share, i...</td>\n",
       "    </tr>\n",
       "    <tr>\n",
       "      <th>12904</th>\n",
       "      <td>12904</td>\n",
       "      <td>6</td>\n",
       "      <td>0.3966</td>\n",
       "      <td>flight, fly, check, know, airline, happy, gues...</td>\n",
       "      <td>[goahead, settle, ahead, line, board, flight, ...</td>\n",
       "    </tr>\n",
       "    <tr>\n",
       "      <th>49967</th>\n",
       "      <td>49967</td>\n",
       "      <td>6</td>\n",
       "      <td>0.3959</td>\n",
       "      <td>flight, fly, check, know, airline, happy, gues...</td>\n",
       "      <td>[fly, premium, class, additional, legroom, ext...</td>\n",
       "    </tr>\n",
       "  </tbody>\n",
       "</table>\n",
       "</div>"
      ],
      "text/plain": [
       "       Document_No Dominant_Topic  Topic_Perc_Contrib  \\\n",
       "42              42              0              0.4450   \n",
       "47073        47073              0              0.4059   \n",
       "89              89              4              0.3988   \n",
       "12904        12904              6              0.3966   \n",
       "49967        49967              6              0.3959   \n",
       "\n",
       "                                                Keywords  \\\n",
       "42     world, learn, thank, food, go, team, support, ...   \n",
       "47073  world, learn, thank, food, go, team, support, ...   \n",
       "89     enjoy, experience, area, look, offer, work, gr...   \n",
       "12904  flight, fly, check, know, airline, happy, gues...   \n",
       "49967  flight, fly, check, know, airline, happy, gues...   \n",
       "\n",
       "                                                    Text  \n",
       "42     [big, change, small, change, cabin_crew, colle...  \n",
       "47073  [deeply, shock, terrorist, attack, thought, vi...  \n",
       "89     [look, fun, activity, look, kid, age, share, i...  \n",
       "12904  [goahead, settle, ahead, line, board, flight, ...  \n",
       "49967  [fly, premium, class, additional, legroom, ext...  "
      ]
     },
     "execution_count": 162,
     "metadata": {},
     "output_type": "execute_result"
    }
   ],
   "source": [
    "df_8_dominant_topic.sort_values(by='Topic_Perc_Contrib', ascending=False).head()"
   ]
  },
  {
   "cell_type": "code",
   "execution_count": null,
   "id": "e209f78f-e44e-4665-ae42-9825dbc4f713",
   "metadata": {},
   "outputs": [],
   "source": []
  },
  {
   "cell_type": "markdown",
   "id": "12a3e14d-1524-4b88-b50f-031780953f8d",
   "metadata": {
    "tags": []
   },
   "source": [
    "#### num_topics = 17"
   ]
  },
  {
   "cell_type": "code",
   "execution_count": null,
   "id": "a7fd68d4-43a9-4955-916c-d603d44dd88a",
   "metadata": {},
   "outputs": [],
   "source": [
    "num_topics = 17\n",
    "\n",
    "min_topic = 4\n",
    "loc_index = num_topics - min_topic\n",
    "row_num_topics = df_lda_regular_no_passes.loc[loc_index]\n",
    "lda_model_17 = row_num_topics['lda_model']"
   ]
  },
  {
   "cell_type": "code",
   "execution_count": 68,
   "id": "df68fa53",
   "metadata": {},
   "outputs": [],
   "source": [
    "from gensim.test.utils import datapath\n",
    "\n",
    "# # Save model to disk.\n",
    "temp_file = datapath(\"/Users/raiha/Documents/EECS-6893-BigData/airline-topic-modeling/lda_model_17\")\n",
    "# lda_model_17.save(temp_file)\n",
    "\n",
    "# Load a potentially pretrained model from disk.\n",
    "lda_model_17 = gensim.models.LdaModel.load(temp_file)"
   ]
  },
  {
   "cell_type": "code",
   "execution_count": 71,
   "id": "75d792d8-1742-4116-9d7c-99f53f8e597e",
   "metadata": {},
   "outputs": [],
   "source": [
    "df_17_topic_sents_keywords = format_topics_sentences(ldamodel=lda_model_17, corpus=corpus, texts=data_lemmatized)"
   ]
  },
  {
   "cell_type": "code",
   "execution_count": 72,
   "id": "3354fc46",
   "metadata": {},
   "outputs": [
    {
     "data": {
      "text/html": [
       "<div>\n",
       "<style scoped>\n",
       "    .dataframe tbody tr th:only-of-type {\n",
       "        vertical-align: middle;\n",
       "    }\n",
       "\n",
       "    .dataframe tbody tr th {\n",
       "        vertical-align: top;\n",
       "    }\n",
       "\n",
       "    .dataframe thead th {\n",
       "        text-align: right;\n",
       "    }\n",
       "</style>\n",
       "<table border=\"1\" class=\"dataframe\">\n",
       "  <thead>\n",
       "    <tr style=\"text-align: right;\">\n",
       "      <th></th>\n",
       "      <th>Document_No</th>\n",
       "      <th>Dominant_Topic</th>\n",
       "      <th>Topic_Perc_Contrib</th>\n",
       "      <th>Keywords</th>\n",
       "      <th>Text</th>\n",
       "    </tr>\n",
       "  </thead>\n",
       "  <tbody>\n",
       "    <tr>\n",
       "      <th>0</th>\n",
       "      <td>0</td>\n",
       "      <td>9</td>\n",
       "      <td>0.2252</td>\n",
       "      <td>flight, year, start, celebrate, offer, passeng...</td>\n",
       "      <td>[crack, flight, morning]</td>\n",
       "    </tr>\n",
       "    <tr>\n",
       "      <th>1</th>\n",
       "      <td>1</td>\n",
       "      <td>9</td>\n",
       "      <td>0.1592</td>\n",
       "      <td>flight, year, start, celebrate, offer, passeng...</td>\n",
       "      <td>[]</td>\n",
       "    </tr>\n",
       "    <tr>\n",
       "      <th>2</th>\n",
       "      <td>2</td>\n",
       "      <td>1</td>\n",
       "      <td>0.2936</td>\n",
       "      <td>city, home, apply, incredible, date, remain, t...</td>\n",
       "      <td>[train, remain, severely, disrupt, thameslink,...</td>\n",
       "    </tr>\n",
       "    <tr>\n",
       "      <th>3</th>\n",
       "      <td>3</td>\n",
       "      <td>3</td>\n",
       "      <td>0.4257</td>\n",
       "      <td>look, work, great, view, activity, connect, gu...</td>\n",
       "      <td>[little, long, reply, volume, message, current...</td>\n",
       "    </tr>\n",
       "    <tr>\n",
       "      <th>4</th>\n",
       "      <td>4</td>\n",
       "      <td>16</td>\n",
       "      <td>0.3607</td>\n",
       "      <td>check, experience, airline, trip, discover, ba...</td>\n",
       "      <td>[adverse_weather, easyjet, airline, expect, di...</td>\n",
       "    </tr>\n",
       "    <tr>\n",
       "      <th>5</th>\n",
       "      <td>5</td>\n",
       "      <td>11</td>\n",
       "      <td>0.2784</td>\n",
       "      <td>time, know, night, beautiful, moment, stay, ho...</td>\n",
       "      <td>[run, moment, time, delay]</td>\n",
       "    </tr>\n",
       "    <tr>\n",
       "      <th>6</th>\n",
       "      <td>6</td>\n",
       "      <td>2</td>\n",
       "      <td>0.2543</td>\n",
       "      <td>today, excite, journey, fantastic, share, cust...</td>\n",
       "      <td>[delay, approach, strongly, recommend, custome...</td>\n",
       "    </tr>\n",
       "    <tr>\n",
       "      <th>7</th>\n",
       "      <td>7</td>\n",
       "      <td>13</td>\n",
       "      <td>0.4043</td>\n",
       "      <td>travel, minute, detail, ensure, online, result...</td>\n",
       "      <td>[result, collision, delay, minute, approach, m...</td>\n",
       "    </tr>\n",
       "    <tr>\n",
       "      <th>8</th>\n",
       "      <td>8</td>\n",
       "      <td>5</td>\n",
       "      <td>0.2032</td>\n",
       "      <td>service, board, ride, nonstop, recovery, guest...</td>\n",
       "      <td>[lane, closure, accident, emergency, service, ...</td>\n",
       "    </tr>\n",
       "    <tr>\n",
       "      <th>9</th>\n",
       "      <td>9</td>\n",
       "      <td>9</td>\n",
       "      <td>0.2053</td>\n",
       "      <td>flight, year, start, celebrate, offer, passeng...</td>\n",
       "      <td>[thank, great, flight]</td>\n",
       "    </tr>\n",
       "  </tbody>\n",
       "</table>\n",
       "</div>"
      ],
      "text/plain": [
       "   Document_No Dominant_Topic  Topic_Perc_Contrib  \\\n",
       "0            0              9              0.2252   \n",
       "1            1              9              0.1592   \n",
       "2            2              1              0.2936   \n",
       "3            3              3              0.4257   \n",
       "4            4             16              0.3607   \n",
       "5            5             11              0.2784   \n",
       "6            6              2              0.2543   \n",
       "7            7             13              0.4043   \n",
       "8            8              5              0.2032   \n",
       "9            9              9              0.2053   \n",
       "\n",
       "                                            Keywords  \\\n",
       "0  flight, year, start, celebrate, offer, passeng...   \n",
       "1  flight, year, start, celebrate, offer, passeng...   \n",
       "2  city, home, apply, incredible, date, remain, t...   \n",
       "3  look, work, great, view, activity, connect, gu...   \n",
       "4  check, experience, airline, trip, discover, ba...   \n",
       "5  time, know, night, beautiful, moment, stay, ho...   \n",
       "6  today, excite, journey, fantastic, share, cust...   \n",
       "7  travel, minute, detail, ensure, online, result...   \n",
       "8  service, board, ride, nonstop, recovery, guest...   \n",
       "9  flight, year, start, celebrate, offer, passeng...   \n",
       "\n",
       "                                                Text  \n",
       "0                           [crack, flight, morning]  \n",
       "1                                                 []  \n",
       "2  [train, remain, severely, disrupt, thameslink,...  \n",
       "3  [little, long, reply, volume, message, current...  \n",
       "4  [adverse_weather, easyjet, airline, expect, di...  \n",
       "5                         [run, moment, time, delay]  \n",
       "6  [delay, approach, strongly, recommend, custome...  \n",
       "7  [result, collision, delay, minute, approach, m...  \n",
       "8  [lane, closure, accident, emergency, service, ...  \n",
       "9                             [thank, great, flight]  "
      ]
     },
     "execution_count": 72,
     "metadata": {},
     "output_type": "execute_result"
    }
   ],
   "source": [
    "# Format\n",
    "df_17_dominant_topic = df_17_topic_sents_keywords.reset_index()\n",
    "df_17_dominant_topic.columns = ['Document_No', 'Dominant_Topic', 'Topic_Perc_Contrib', 'Keywords', 'Text']\n",
    "df_17_dominant_topic.head(10)"
   ]
  },
  {
   "cell_type": "code",
   "execution_count": 165,
   "id": "26a072a6-3582-4747-affa-300b0f4d6047",
   "metadata": {},
   "outputs": [
    {
     "data": {
      "text/html": [
       "<div>\n",
       "<style scoped>\n",
       "    .dataframe tbody tr th:only-of-type {\n",
       "        vertical-align: middle;\n",
       "    }\n",
       "\n",
       "    .dataframe tbody tr th {\n",
       "        vertical-align: top;\n",
       "    }\n",
       "\n",
       "    .dataframe thead th {\n",
       "        text-align: right;\n",
       "    }\n",
       "</style>\n",
       "<table border=\"1\" class=\"dataframe\">\n",
       "  <thead>\n",
       "    <tr style=\"text-align: right;\">\n",
       "      <th></th>\n",
       "      <th>Document_No</th>\n",
       "      <th>Dominant_Topic</th>\n",
       "      <th>Topic_Perc_Contrib</th>\n",
       "      <th>Keywords</th>\n",
       "      <th>Text</th>\n",
       "    </tr>\n",
       "  </thead>\n",
       "  <tbody>\n",
       "    <tr>\n",
       "      <th>0</th>\n",
       "      <td>0</td>\n",
       "      <td>9</td>\n",
       "      <td>0.2252</td>\n",
       "      <td>flight, year, start, celebrate, offer, passeng...</td>\n",
       "      <td>[crack, flight, morning]</td>\n",
       "    </tr>\n",
       "    <tr>\n",
       "      <th>1</th>\n",
       "      <td>1</td>\n",
       "      <td>9</td>\n",
       "      <td>0.1592</td>\n",
       "      <td>flight, year, start, celebrate, offer, passeng...</td>\n",
       "      <td>[]</td>\n",
       "    </tr>\n",
       "    <tr>\n",
       "      <th>2</th>\n",
       "      <td>2</td>\n",
       "      <td>1</td>\n",
       "      <td>0.2936</td>\n",
       "      <td>city, home, apply, incredible, date, remain, t...</td>\n",
       "      <td>[train, remain, severely, disrupt, thameslink,...</td>\n",
       "    </tr>\n",
       "    <tr>\n",
       "      <th>3</th>\n",
       "      <td>3</td>\n",
       "      <td>3</td>\n",
       "      <td>0.4257</td>\n",
       "      <td>look, work, great, view, activity, connect, gu...</td>\n",
       "      <td>[little, long, reply, volume, message, current...</td>\n",
       "    </tr>\n",
       "    <tr>\n",
       "      <th>4</th>\n",
       "      <td>4</td>\n",
       "      <td>16</td>\n",
       "      <td>0.3607</td>\n",
       "      <td>check, experience, airline, trip, discover, ba...</td>\n",
       "      <td>[adverse_weather, easyjet, airline, expect, di...</td>\n",
       "    </tr>\n",
       "    <tr>\n",
       "      <th>5</th>\n",
       "      <td>5</td>\n",
       "      <td>11</td>\n",
       "      <td>0.2784</td>\n",
       "      <td>time, know, night, beautiful, moment, stay, ho...</td>\n",
       "      <td>[run, moment, time, delay]</td>\n",
       "    </tr>\n",
       "    <tr>\n",
       "      <th>6</th>\n",
       "      <td>6</td>\n",
       "      <td>2</td>\n",
       "      <td>0.2543</td>\n",
       "      <td>today, excite, journey, fantastic, share, cust...</td>\n",
       "      <td>[delay, approach, strongly, recommend, custome...</td>\n",
       "    </tr>\n",
       "    <tr>\n",
       "      <th>7</th>\n",
       "      <td>7</td>\n",
       "      <td>13</td>\n",
       "      <td>0.4043</td>\n",
       "      <td>travel, minute, detail, ensure, online, result...</td>\n",
       "      <td>[result, collision, delay, minute, approach, m...</td>\n",
       "    </tr>\n",
       "    <tr>\n",
       "      <th>8</th>\n",
       "      <td>8</td>\n",
       "      <td>5</td>\n",
       "      <td>0.2032</td>\n",
       "      <td>service, board, ride, nonstop, recovery, guest...</td>\n",
       "      <td>[lane, closure, accident, emergency, service, ...</td>\n",
       "    </tr>\n",
       "    <tr>\n",
       "      <th>9</th>\n",
       "      <td>9</td>\n",
       "      <td>9</td>\n",
       "      <td>0.2053</td>\n",
       "      <td>flight, year, start, celebrate, offer, passeng...</td>\n",
       "      <td>[thank, great, flight]</td>\n",
       "    </tr>\n",
       "  </tbody>\n",
       "</table>\n",
       "</div>"
      ],
      "text/plain": [
       "   Document_No Dominant_Topic  Topic_Perc_Contrib  \\\n",
       "0            0              9              0.2252   \n",
       "1            1              9              0.1592   \n",
       "2            2              1              0.2936   \n",
       "3            3              3              0.4257   \n",
       "4            4             16              0.3607   \n",
       "5            5             11              0.2784   \n",
       "6            6              2              0.2543   \n",
       "7            7             13              0.4043   \n",
       "8            8              5              0.2032   \n",
       "9            9              9              0.2053   \n",
       "\n",
       "                                            Keywords  \\\n",
       "0  flight, year, start, celebrate, offer, passeng...   \n",
       "1  flight, year, start, celebrate, offer, passeng...   \n",
       "2  city, home, apply, incredible, date, remain, t...   \n",
       "3  look, work, great, view, activity, connect, gu...   \n",
       "4  check, experience, airline, trip, discover, ba...   \n",
       "5  time, know, night, beautiful, moment, stay, ho...   \n",
       "6  today, excite, journey, fantastic, share, cust...   \n",
       "7  travel, minute, detail, ensure, online, result...   \n",
       "8  service, board, ride, nonstop, recovery, guest...   \n",
       "9  flight, year, start, celebrate, offer, passeng...   \n",
       "\n",
       "                                                Text  \n",
       "0                           [crack, flight, morning]  \n",
       "1                                                 []  \n",
       "2  [train, remain, severely, disrupt, thameslink,...  \n",
       "3  [little, long, reply, volume, message, current...  \n",
       "4  [adverse_weather, easyjet, airline, expect, di...  \n",
       "5                         [run, moment, time, delay]  \n",
       "6  [delay, approach, strongly, recommend, custome...  \n",
       "7  [result, collision, delay, minute, approach, m...  \n",
       "8  [lane, closure, accident, emergency, service, ...  \n",
       "9                             [thank, great, flight]  "
      ]
     },
     "execution_count": 165,
     "metadata": {},
     "output_type": "execute_result"
    }
   ],
   "source": [
    "# Format\n",
    "df_17_dominant_topic = df_17_topic_sents_keywords.reset_index()\n",
    "df_17_dominant_topic.columns = ['Document_No', 'Dominant_Topic', 'Topic_Perc_Contrib', 'Keywords', 'Text']\n",
    "df_17_dominant_topic.head(10)"
   ]
  },
  {
   "cell_type": "code",
   "execution_count": 168,
   "id": "735d88fb-dfee-4abe-9801-2612242b753e",
   "metadata": {},
   "outputs": [
    {
     "data": {
      "text/html": [
       "<div>\n",
       "<style scoped>\n",
       "    .dataframe tbody tr th:only-of-type {\n",
       "        vertical-align: middle;\n",
       "    }\n",
       "\n",
       "    .dataframe tbody tr th {\n",
       "        vertical-align: top;\n",
       "    }\n",
       "\n",
       "    .dataframe thead th {\n",
       "        text-align: right;\n",
       "    }\n",
       "</style>\n",
       "<table border=\"1\" class=\"dataframe\">\n",
       "  <thead>\n",
       "    <tr style=\"text-align: right;\">\n",
       "      <th></th>\n",
       "      <th>Document_No</th>\n",
       "      <th>Dominant_Topic</th>\n",
       "      <th>Topic_Perc_Contrib</th>\n",
       "      <th>Keywords</th>\n",
       "      <th>Text</th>\n",
       "    </tr>\n",
       "  </thead>\n",
       "  <tbody>\n",
       "    <tr>\n",
       "      <th>48</th>\n",
       "      <td>48</td>\n",
       "      <td>11</td>\n",
       "      <td>0.5623</td>\n",
       "      <td>time, know, night, beautiful, moment, stay, ho...</td>\n",
       "      <td>[medieval, hilltop, marvão, beautiful, well, t...</td>\n",
       "    </tr>\n",
       "    <tr>\n",
       "      <th>35863</th>\n",
       "      <td>35863</td>\n",
       "      <td>9</td>\n",
       "      <td>0.5574</td>\n",
       "      <td>flight, year, start, celebrate, offer, passeng...</td>\n",
       "      <td>[bad_weath, air, traffic_congestion, mumbai_bo...</td>\n",
       "    </tr>\n",
       "    <tr>\n",
       "      <th>42</th>\n",
       "      <td>42</td>\n",
       "      <td>0</td>\n",
       "      <td>0.5572</td>\n",
       "      <td>world, learn, come, food, team, support, help,...</td>\n",
       "      <td>[big, change, small, change, cabin_crew, colle...</td>\n",
       "    </tr>\n",
       "    <tr>\n",
       "      <th>36274</th>\n",
       "      <td>36274</td>\n",
       "      <td>9</td>\n",
       "      <td>0.5554</td>\n",
       "      <td>flight, year, start, celebrate, offer, passeng...</td>\n",
       "      <td>[bad_weather, shirdi_sag, departures_arrival, ...</td>\n",
       "    </tr>\n",
       "    <tr>\n",
       "      <th>36257</th>\n",
       "      <td>36257</td>\n",
       "      <td>9</td>\n",
       "      <td>0.5554</td>\n",
       "      <td>flight, year, start, celebrate, offer, passeng...</td>\n",
       "      <td>[bad_weather, departures_arrival, consequentia...</td>\n",
       "    </tr>\n",
       "  </tbody>\n",
       "</table>\n",
       "</div>"
      ],
      "text/plain": [
       "       Document_No Dominant_Topic  Topic_Perc_Contrib  \\\n",
       "48              48             11              0.5623   \n",
       "35863        35863              9              0.5574   \n",
       "42              42              0              0.5572   \n",
       "36274        36274              9              0.5554   \n",
       "36257        36257              9              0.5554   \n",
       "\n",
       "                                                Keywords  \\\n",
       "48     time, know, night, beautiful, moment, stay, ho...   \n",
       "35863  flight, year, start, celebrate, offer, passeng...   \n",
       "42     world, learn, come, food, team, support, help,...   \n",
       "36274  flight, year, start, celebrate, offer, passeng...   \n",
       "36257  flight, year, start, celebrate, offer, passeng...   \n",
       "\n",
       "                                                    Text  \n",
       "48     [medieval, hilltop, marvão, beautiful, well, t...  \n",
       "35863  [bad_weath, air, traffic_congestion, mumbai_bo...  \n",
       "42     [big, change, small, change, cabin_crew, colle...  \n",
       "36274  [bad_weather, shirdi_sag, departures_arrival, ...  \n",
       "36257  [bad_weather, departures_arrival, consequentia...  "
      ]
     },
     "execution_count": 168,
     "metadata": {},
     "output_type": "execute_result"
    }
   ],
   "source": [
    "df_17_dominant_topic.sort_values(by='Topic_Perc_Contrib', ascending=False).head()"
   ]
  },
  {
   "cell_type": "markdown",
   "id": "08446f92-6330-49d0-b5ef-64aae41285e7",
   "metadata": {
    "jp-MarkdownHeadingCollapsed": true,
    "tags": []
   },
   "source": [
    "#### num_topics = 30"
   ]
  },
  {
   "cell_type": "code",
   "execution_count": 208,
   "id": "46048805-f20c-4615-9897-dc5f11580069",
   "metadata": {},
   "outputs": [],
   "source": [
    "num_topics = 30\n",
    "\n",
    "min_topic = 4\n",
    "loc_index = num_topics - min_topic\n",
    "row_num_topics = df_lda_regular_no_passes.loc[loc_index]\n",
    "lda_model_30 = row_num_topics['lda_model']"
   ]
  },
  {
   "cell_type": "code",
   "execution_count": 212,
   "id": "ba5706ee-8b54-4cb0-8b92-7eb0142bfe7b",
   "metadata": {},
   "outputs": [
    {
     "name": "stdout",
     "output_type": "stream",
     "text": [
      "5000\n",
      "10000\n",
      "15000\n",
      "20000\n",
      "25000\n",
      "30000\n",
      "35000\n",
      "40000\n",
      "45000\n",
      "50000\n",
      "55000\n"
     ]
    }
   ],
   "source": [
    "df_30_topic_sents_keywords = format_topics_sentences(ldamodel=lda_model_30, corpus=corpus, texts=data_lemmatized)"
   ]
  },
  {
   "cell_type": "code",
   "execution_count": 213,
   "id": "cf7b60bf-0e8f-4bc7-abcb-043ed473e5f1",
   "metadata": {},
   "outputs": [
    {
     "data": {
      "text/html": [
       "<div>\n",
       "<style scoped>\n",
       "    .dataframe tbody tr th:only-of-type {\n",
       "        vertical-align: middle;\n",
       "    }\n",
       "\n",
       "    .dataframe tbody tr th {\n",
       "        vertical-align: top;\n",
       "    }\n",
       "\n",
       "    .dataframe thead th {\n",
       "        text-align: right;\n",
       "    }\n",
       "</style>\n",
       "<table border=\"1\" class=\"dataframe\">\n",
       "  <thead>\n",
       "    <tr style=\"text-align: right;\">\n",
       "      <th></th>\n",
       "      <th>Document_No</th>\n",
       "      <th>Dominant_Topic</th>\n",
       "      <th>Topic_Perc_Contrib</th>\n",
       "      <th>Keywords</th>\n",
       "      <th>Text</th>\n",
       "    </tr>\n",
       "  </thead>\n",
       "  <tbody>\n",
       "    <tr>\n",
       "      <th>0</th>\n",
       "      <td>0</td>\n",
       "      <td>16</td>\n",
       "      <td>0.2055</td>\n",
       "      <td>flight, airline, continue, board, summer, upda...</td>\n",
       "      <td>[crack, flight, morning]</td>\n",
       "    </tr>\n",
       "    <tr>\n",
       "      <th>1</th>\n",
       "      <td>1</td>\n",
       "      <td>16</td>\n",
       "      <td>0.0976</td>\n",
       "      <td>flight, airline, continue, board, summer, upda...</td>\n",
       "      <td>[]</td>\n",
       "    </tr>\n",
       "    <tr>\n",
       "      <th>2</th>\n",
       "      <td>2</td>\n",
       "      <td>5</td>\n",
       "      <td>0.2731</td>\n",
       "      <td>bring, week, super, sky, set, remain, town, tr...</td>\n",
       "      <td>[train, remain, severely, disrupt, thameslink,...</td>\n",
       "    </tr>\n",
       "    <tr>\n",
       "      <th>3</th>\n",
       "      <td>3</td>\n",
       "      <td>1</td>\n",
       "      <td>0.5607</td>\n",
       "      <td>work, long, say, magic, receive, beauty, littl...</td>\n",
       "      <td>[little, long, reply, volume, message, current...</td>\n",
       "    </tr>\n",
       "    <tr>\n",
       "      <th>4</th>\n",
       "      <td>4</td>\n",
       "      <td>16</td>\n",
       "      <td>0.4442</td>\n",
       "      <td>flight, airline, continue, board, summer, upda...</td>\n",
       "      <td>[adverse_weather, easyjet, airline, expect, di...</td>\n",
       "    </tr>\n",
       "    <tr>\n",
       "      <th>5</th>\n",
       "      <td>5</td>\n",
       "      <td>26</td>\n",
       "      <td>0.2197</td>\n",
       "      <td>journey, fantastic, moment, head, future, run,...</td>\n",
       "      <td>[run, moment, time, delay]</td>\n",
       "    </tr>\n",
       "    <tr>\n",
       "      <th>6</th>\n",
       "      <td>6</td>\n",
       "      <td>27</td>\n",
       "      <td>0.2759</td>\n",
       "      <td>fun, activity, traveller, customer, tomorrow, ...</td>\n",
       "      <td>[delay, approach, strongly, recommend, custome...</td>\n",
       "    </tr>\n",
       "    <tr>\n",
       "      <th>7</th>\n",
       "      <td>7</td>\n",
       "      <td>12</td>\n",
       "      <td>0.4826</td>\n",
       "      <td>minute, participate, present, result, mile, ho...</td>\n",
       "      <td>[result, collision, delay, minute, approach, m...</td>\n",
       "    </tr>\n",
       "    <tr>\n",
       "      <th>8</th>\n",
       "      <td>8</td>\n",
       "      <td>29</td>\n",
       "      <td>0.2736</td>\n",
       "      <td>service, recovery, close, station, stop, immin...</td>\n",
       "      <td>[lane, closure, accident, emergency, service, ...</td>\n",
       "    </tr>\n",
       "    <tr>\n",
       "      <th>9</th>\n",
       "      <td>9</td>\n",
       "      <td>16</td>\n",
       "      <td>0.1812</td>\n",
       "      <td>flight, airline, continue, board, summer, upda...</td>\n",
       "      <td>[thank, great, flight]</td>\n",
       "    </tr>\n",
       "  </tbody>\n",
       "</table>\n",
       "</div>"
      ],
      "text/plain": [
       "   Document_No Dominant_Topic  Topic_Perc_Contrib  \\\n",
       "0            0             16              0.2055   \n",
       "1            1             16              0.0976   \n",
       "2            2              5              0.2731   \n",
       "3            3              1              0.5607   \n",
       "4            4             16              0.4442   \n",
       "5            5             26              0.2197   \n",
       "6            6             27              0.2759   \n",
       "7            7             12              0.4826   \n",
       "8            8             29              0.2736   \n",
       "9            9             16              0.1812   \n",
       "\n",
       "                                            Keywords  \\\n",
       "0  flight, airline, continue, board, summer, upda...   \n",
       "1  flight, airline, continue, board, summer, upda...   \n",
       "2  bring, week, super, sky, set, remain, town, tr...   \n",
       "3  work, long, say, magic, receive, beauty, littl...   \n",
       "4  flight, airline, continue, board, summer, upda...   \n",
       "5  journey, fantastic, moment, head, future, run,...   \n",
       "6  fun, activity, traveller, customer, tomorrow, ...   \n",
       "7  minute, participate, present, result, mile, ho...   \n",
       "8  service, recovery, close, station, stop, immin...   \n",
       "9  flight, airline, continue, board, summer, upda...   \n",
       "\n",
       "                                                Text  \n",
       "0                           [crack, flight, morning]  \n",
       "1                                                 []  \n",
       "2  [train, remain, severely, disrupt, thameslink,...  \n",
       "3  [little, long, reply, volume, message, current...  \n",
       "4  [adverse_weather, easyjet, airline, expect, di...  \n",
       "5                         [run, moment, time, delay]  \n",
       "6  [delay, approach, strongly, recommend, custome...  \n",
       "7  [result, collision, delay, minute, approach, m...  \n",
       "8  [lane, closure, accident, emergency, service, ...  \n",
       "9                             [thank, great, flight]  "
      ]
     },
     "execution_count": 213,
     "metadata": {},
     "output_type": "execute_result"
    }
   ],
   "source": [
    "# Format\n",
    "df_30_dominant_topic = df_30_topic_sents_keywords.reset_index()\n",
    "df_30_dominant_topic.columns = ['Document_No', 'Dominant_Topic', 'Topic_Perc_Contrib', 'Keywords', 'Text']\n",
    "df_30_dominant_topic.head(10)"
   ]
  },
  {
   "cell_type": "code",
   "execution_count": 214,
   "id": "7f0053e6-59cd-4d38-ad90-8efc9dc13898",
   "metadata": {},
   "outputs": [
    {
     "data": {
      "text/html": [
       "<div>\n",
       "<style scoped>\n",
       "    .dataframe tbody tr th:only-of-type {\n",
       "        vertical-align: middle;\n",
       "    }\n",
       "\n",
       "    .dataframe tbody tr th {\n",
       "        vertical-align: top;\n",
       "    }\n",
       "\n",
       "    .dataframe thead th {\n",
       "        text-align: right;\n",
       "    }\n",
       "</style>\n",
       "<table border=\"1\" class=\"dataframe\">\n",
       "  <thead>\n",
       "    <tr style=\"text-align: right;\">\n",
       "      <th></th>\n",
       "      <th>Document_No</th>\n",
       "      <th>Dominant_Topic</th>\n",
       "      <th>Topic_Perc_Contrib</th>\n",
       "      <th>Keywords</th>\n",
       "      <th>Text</th>\n",
       "    </tr>\n",
       "  </thead>\n",
       "  <tbody>\n",
       "    <tr>\n",
       "      <th>94</th>\n",
       "      <td>94</td>\n",
       "      <td>18</td>\n",
       "      <td>0.6341</td>\n",
       "      <td>check, look, win, passenger, get, carry, info,...</td>\n",
       "      <td>[look, kid, age, share, idea, plane, future, f...</td>\n",
       "    </tr>\n",
       "    <tr>\n",
       "      <th>89</th>\n",
       "      <td>89</td>\n",
       "      <td>18</td>\n",
       "      <td>0.5939</td>\n",
       "      <td>check, look, win, passenger, get, carry, info,...</td>\n",
       "      <td>[look, fun, activity, look, kid, age, share, i...</td>\n",
       "    </tr>\n",
       "    <tr>\n",
       "      <th>69</th>\n",
       "      <td>69</td>\n",
       "      <td>22</td>\n",
       "      <td>0.5825</td>\n",
       "      <td>fly, read, month, life, history, schedule, cat...</td>\n",
       "      <td>[wonder, fly, plane, black, history, month, ca...</td>\n",
       "    </tr>\n",
       "    <tr>\n",
       "      <th>3</th>\n",
       "      <td>3</td>\n",
       "      <td>1</td>\n",
       "      <td>0.5607</td>\n",
       "      <td>work, long, say, magic, receive, beauty, littl...</td>\n",
       "      <td>[little, long, reply, volume, message, current...</td>\n",
       "    </tr>\n",
       "    <tr>\n",
       "      <th>86</th>\n",
       "      <td>86</td>\n",
       "      <td>5</td>\n",
       "      <td>0.5230</td>\n",
       "      <td>bring, week, super, sky, set, remain, town, tr...</td>\n",
       "      <td>[ready, week, week, bring, good, cinematic, es...</td>\n",
       "    </tr>\n",
       "  </tbody>\n",
       "</table>\n",
       "</div>"
      ],
      "text/plain": [
       "    Document_No Dominant_Topic  Topic_Perc_Contrib  \\\n",
       "94           94             18              0.6341   \n",
       "89           89             18              0.5939   \n",
       "69           69             22              0.5825   \n",
       "3             3              1              0.5607   \n",
       "86           86              5              0.5230   \n",
       "\n",
       "                                             Keywords  \\\n",
       "94  check, look, win, passenger, get, carry, info,...   \n",
       "89  check, look, win, passenger, get, carry, info,...   \n",
       "69  fly, read, month, life, history, schedule, cat...   \n",
       "3   work, long, say, magic, receive, beauty, littl...   \n",
       "86  bring, week, super, sky, set, remain, town, tr...   \n",
       "\n",
       "                                                 Text  \n",
       "94  [look, kid, age, share, idea, plane, future, f...  \n",
       "89  [look, fun, activity, look, kid, age, share, i...  \n",
       "69  [wonder, fly, plane, black, history, month, ca...  \n",
       "3   [little, long, reply, volume, message, current...  \n",
       "86  [ready, week, week, bring, good, cinematic, es...  "
      ]
     },
     "execution_count": 214,
     "metadata": {},
     "output_type": "execute_result"
    }
   ],
   "source": [
    "df_30_dominant_topic.sort_values(by='Topic_Perc_Contrib', ascending=False).head()"
   ]
  },
  {
   "cell_type": "code",
   "execution_count": null,
   "id": "b8530a5a-2f74-460f-bda9-3e73870e79e9",
   "metadata": {},
   "outputs": [],
   "source": []
  },
  {
   "cell_type": "markdown",
   "id": "87f71d8b-992e-4c0d-9df3-d207f0b7524c",
   "metadata": {},
   "source": [
    "#### Distribution of Dominant topics for different numbers of topics"
   ]
  },
  {
   "cell_type": "code",
   "execution_count": 218,
   "id": "865abda9-fdac-45b0-beff-b40b7ac49b82",
   "metadata": {},
   "outputs": [
    {
     "data": {
      "image/png": "[encoded data removed]",
      "text/plain": [
       "<Figure size 800x500 with 1 Axes>"
      ]
     },
     "metadata": {},
     "output_type": "display_data"
    }
   ],
   "source": [
    "df_8_dominant_topic['num_topics'] = '8'\n",
    "df_17_dominant_topic['num_topics'] = '17'\n",
    "df_30_dominant_topic['num_topics'] = '30'\n",
    "df_8_17_30_dominant_topic = pd.concat([df_8_dominant_topic, df_17_dominant_topic, df_30_dominant_topic], axis=0, ignore_index=True)\n",
    "\n",
    "# plt.figure(figsize=(8, 5))\n",
    "# sns.histplot(data=df_8_17_30_dominant_topic, x=\"Topic_Perc_Contrib\", hue=\"num_topics\")\n",
    "# plt.title('Distribution of Dominant topic Percentage contribution')\n",
    "# plt.xlabel('Dominant topic Percentage contribution')\n",
    "# plt.ylabel('Tweet count')\n",
    "# plt.show()\n",
    "\n",
    "plt.figure(figsize=(8, 5))\n",
    "sns.boxplot(data=df_8_17_30_dominant_topic, x=\"Topic_Perc_Contrib\", y=\"num_topics\")\n",
    "plt.title('Distribution of Dominant topic Percentage contribution')\n",
    "plt.xlabel('Dominant topic Percentage contribution')\n",
    "plt.ylabel('Number of topics')\n",
    "plt.show()"
   ]
  },
  {
   "cell_type": "markdown",
   "id": "fad0b1d7-704e-472c-bd84-117a23bf5ab8",
   "metadata": {},
   "source": [
    "### Find the tweet that best represents a topic"
   ]
  },
  {
   "cell_type": "markdown",
   "id": "0c98d380-ea56-40fb-b313-4d6d86ddf9ad",
   "metadata": {
    "jp-MarkdownHeadingCollapsed": true,
    "tags": []
   },
   "source": [
    "#### num_topics = 30"
   ]
  },
  {
   "cell_type": "code",
   "execution_count": 219,
   "id": "2c877397-f4b0-4d24-9ff5-e1094e2b31ac",
   "metadata": {},
   "outputs": [],
   "source": [
    "df_30_tweets_best_rep_topic = pd.DataFrame()\n",
    "\n",
    "for topic_num in range(30):\n",
    "    df_30_tweets_best_rep_topic = pd.concat(\n",
    "        [df_30_tweets_best_rep_topic, \n",
    "         df_30_dominant_topic[df_30_dominant_topic['Dominant_Topic'] == topic_num].sort_values(by='Topic_Perc_Contrib', ascending=False).head(10)\n",
    "    ], axis=0, ignore_index=True)"
   ]
  },
  {
   "cell_type": "code",
   "execution_count": 220,
   "id": "6d38c724-b048-413c-aec7-b1fcd0a24272",
   "metadata": {},
   "outputs": [],
   "source": [
    "def get_dominant_topic_tweets(topic_num):\n",
    "    sub_df = df_30_tweets_best_rep_topic[df_30_tweets_best_rep_topic['Dominant_Topic'] == topic_num]\n",
    "    print('Keywords:')\n",
    "    print(sub_df['Keywords'].values[0])\n",
    "    print()\n",
    "    print('Tweet clean text:')\n",
    "    print(sub_df[['Document_No', 'Text']].values)\n",
    "    print()\n",
    "    print('Tweets:')\n",
    "    for idx in sub_df['Document_No'].values:\n",
    "        print(full_df.loc[idx]['text'])\n",
    "        print()"
   ]
  },
  {
   "cell_type": "code",
   "execution_count": 222,
   "id": "29551bc7-428e-4d99-abd7-879e0300aa21",
   "metadata": {},
   "outputs": [
    {
     "name": "stdout",
     "output_type": "stream",
     "text": [
      "Keywords:\n",
      "work, long, say, magic, receive, beauty, little, finally, currently, patience\n",
      "\n",
      "Tweet clean text:\n",
      "[[3\n",
      "  list(['little', 'long', 'reply', 'volume', 'message', 'currently', 'receive', 'work', 'quickly', 'thank', 'patience'])]\n",
      " [6094\n",
      "  list(['receive', 'index', 'award', 'encourage', 'company', 'create', 'lgbtq', 'friendly', 'workplace', 'diversity_inclusion', 'long', 'priority', 'ana', 'honor', 'receive', 'recognition'])]\n",
      " [56264\n",
      "  list(['work', 'home', 'work', 'beach', 'check', 'remote', 'work', 'space', 'work', 'life', 'breezy'])]\n",
      " [45261\n",
      "  list(['inform', 'web', 'check', 'disable', 'disregard', 'error', 'message', 'generate', 'currently', 'work', 'remove', 'page'])]\n",
      " [80 list(['finally', 'cinematic', 'magic', 'european', 'city'])]\n",
      " [28580\n",
      "  list(['long', 'work', 'plan', 'need', 'long', 'weekend', 'getaway', 'book', 'perfect', 'long', 'trip', 'today', 'eholiday'])]\n",
      " [11795\n",
      "  list(['merry_christma', 'happy', 'enjoy', 'festive', 'long', 'long', 'long', 'weekend'])]\n",
      " [19422\n",
      "  list(['thank', 'patience', 'far', 'work', 'hard', 'huge', 'volume', 'need', 'assistance', 'wait', 'long', 'hope'])]\n",
      " [6167 list(['receive', 'message', 'kunieda'])]\n",
      " [55152\n",
      "  list(['eligible', 'refund', 'contact', 'directly', 'email', 'instruction', 'expect', 'administrative', 'backlog', 'ask', 'patience', 'work', 'request', 'quickly_possible'])]]\n",
      "\n",
      "Tweets:\n",
      "It may take us a little longer to reply to you on here due to the volume of messages we are currently receiving. We are working through them as quickly as we can and thank you for your patience. (2/2)\n",
      "\n",
      "ANA Group received Gold in the 2022 PRIDE Index, an award that encourages companies to create LGBTQ+ friendly workplaces.🏆\n",
      "Diversity and inclusion have long been a priority for ANA, and we are honored to receive this recognition!\n",
      "https://t.co/WDwuej6tAE\n",
      "\n",
      "If you're curious to know how it feels like to #flyunlimited, let's hear it from one of our SUPER+ subscribers from #Thailand - Natthanon Tanmalaporn aka @skynewairways! 🇹🇭✈️😉\n",
      "\n",
      "#airasiaSuperApp https://t.co/YkYC84Mn8w\n",
      "\n",
      "Starting from July 11, board for a new destination #Antalya and let its turquoise waters fascinate you! 🇹🇷✈️\n",
      "Through direct flights from Casablanca, fly to discover its festive neighborhoods and historical charm! \n",
      "Visit our website, application or your travel agency!\n",
      "\n",
      "Finally, Rome has the most cinematic magic of any European city. Here's why: https://t.co/eC3c4n1b59 🇮🇹#TravellerTakeover https://t.co/RRx0ZAdxkx\n",
      "\n",
      "‘So long’ to work, and plan that much-needed long weekend getaway with 6E Holidays between 11th August and 15th August. Book your perfect long trip today!  https://t.co/TcQoNgCcUd\n",
      "\n",
      "#LetsIndiGo #6EHolidays #Aviation https://t.co/9fF5XkrHpB\n",
      "\n",
      "Ho ho ho! Merry Christmas and happy holidays from all of us at Jetstar! Enjoy the festive long long long weekend! https://t.co/YI2Ar49EJo\n",
      "\n",
      "Thank you for your patience with us so far ❤️ We’re working hard to get through the huge volume of those needing assistance, but the wait times across all our channels are still much longer than we would hope. https://t.co/ywyUfbfU25\n",
      "\n",
      "We received a message from Kunieda upon his return to Japan🙌\n",
      "#ShingoKunieda #USOpen #tennis #GOAT https://t.co/nbzFejvul2\n",
      "\n",
      "Caption this family photo. #WestJet787\n",
      "\n",
      "Photo via onemoreweektogo on Instagram ✈️ https://t.co/tyPke1sLpB\n",
      "\n"
     ]
    }
   ],
   "source": [
    "# get_dominant_topic_tweets(0)\n",
    "# Campaigns related to charitable work, raising awareness\n",
    "\n",
    "get_dominant_topic_tweets(1)"
   ]
  },
  {
   "cell_type": "code",
   "execution_count": null,
   "id": "df34aaba-bff2-4ca3-9a47-6c856c86471b",
   "metadata": {},
   "outputs": [],
   "source": []
  },
  {
   "cell_type": "code",
   "execution_count": null,
   "id": "4acdc1d6-d540-429b-b5e2-d4742e9a5db7",
   "metadata": {},
   "outputs": [],
   "source": []
  },
  {
   "cell_type": "code",
   "execution_count": null,
   "id": "440b27fd-1053-400e-8714-09da37179c18",
   "metadata": {},
   "outputs": [],
   "source": []
  },
  {
   "cell_type": "code",
   "execution_count": null,
   "id": "132b94e7-06ab-44e7-b191-e2f551030643",
   "metadata": {},
   "outputs": [],
   "source": []
  },
  {
   "cell_type": "code",
   "execution_count": null,
   "id": "de18d7dc-d43d-435a-8f84-0dc3ab9566b4",
   "metadata": {},
   "outputs": [],
   "source": []
  },
  {
   "cell_type": "markdown",
   "id": "794144b1-3c27-4aac-8e02-59cc19edad4e",
   "metadata": {},
   "source": [
    "#### num_topics = 17"
   ]
  },
  {
   "cell_type": "code",
   "execution_count": 281,
   "id": "d2dabbd7-a356-4c6f-9636-90e57225351f",
   "metadata": {},
   "outputs": [],
   "source": [
    "df_17_tweets_best_rep_topic = pd.DataFrame()\n",
    "\n",
    "for topic_num in range(17):\n",
    "    df_17_tweets_best_rep_topic = pd.concat(\n",
    "        [df_17_tweets_best_rep_topic, \n",
    "         df_17_dominant_topic[df_17_dominant_topic['Dominant_Topic'] == topic_num].sort_values(by='Topic_Perc_Contrib', ascending=False).head(20)\n",
    "    ], axis=0, ignore_index=True)"
   ]
  },
  {
   "cell_type": "code",
   "execution_count": 295,
   "id": "45aec2d9-8ce7-41d4-b9b3-c901a8e54f21",
   "metadata": {},
   "outputs": [],
   "source": [
    "# full_df.loc[16861].text"
   ]
  },
  {
   "cell_type": "code",
   "execution_count": 294,
   "id": "c529439b-9944-4668-96b5-d94bbe73e83c",
   "metadata": {},
   "outputs": [],
   "source": [
    "# df_17_dominant_topic[df_17_dominant_topic['Dominant_Topic'] == 13].sort_values(by='Topic_Perc_Contrib', ascending=False).reset_index().iloc[150:200, :]"
   ]
  },
  {
   "cell_type": "code",
   "execution_count": 282,
   "id": "62d7f1a4-72e6-42b7-bbe4-f88e0b45ccc7",
   "metadata": {},
   "outputs": [],
   "source": [
    "def get_dominant_topic_tweets(topic_num):\n",
    "    sub_df = df_17_tweets_best_rep_topic[df_17_tweets_best_rep_topic['Dominant_Topic'] == topic_num]\n",
    "    print('Keywords:')\n",
    "    print(sub_df['Keywords'].values[0])\n",
    "    print()\n",
    "    print('Tweet clean text:')\n",
    "    print(sub_df[['Document_No', 'Text']].values)\n",
    "    print()\n",
    "    print('Tweets:')\n",
    "    for idx in sub_df['Document_No'].values:\n",
    "        print(full_df.loc[idx]['text'])\n",
    "        print()"
   ]
  },
  {
   "cell_type": "code",
   "execution_count": 293,
   "id": "6fab4e8e-cf4b-4d9a-82f9-0138c4fa6a15",
   "metadata": {},
   "outputs": [],
   "source": [
    "# get_dominant_topic_tweets(0)\n",
    "# Charitable work, raising awareness\n",
    "####\n",
    "\n",
    "# get_dominant_topic_tweets(1)\n",
    "\n",
    "# get_dominant_topic_tweets(2)\n",
    "# Future-forward campaigns (i.e. aviation, sustainability)\n",
    "####\n",
    "\n",
    "# get_dominant_topic_tweets(3)\n",
    "# Best views\n",
    "####\n",
    "\n",
    "# get_dominant_topic_tweets(4)\n",
    "# Participate in a contest (use a hashtag and tag three friends)\n",
    "####\n",
    "\n",
    "# get_dominant_topic_tweets(5)\n",
    "# non-stop service\n",
    "####\n",
    "\n",
    "# get_dominant_topic_tweets(6)\n",
    "# Promotional campaign via travel suggestions\n",
    "####\n",
    "\n",
    "# get_dominant_topic_tweets(7)\n",
    "\n",
    "# get_dominant_topic_tweets(8)\n",
    "# Best fares or low fares or discounted fares\n",
    "####\n",
    "\n",
    "# get_dominant_topic_tweets(9)\n",
    "# Bad weather updates, but other things too\n",
    "\n",
    "# get_dominant_topic_tweets(10)\n",
    "# Airline growth (new routes, aircraft, offerings)\n",
    "####\n",
    "\n",
    "# get_dominant_topic_tweets(11)\n",
    "# Scenic/peaceful travel destinations\n",
    "####\n",
    "\n",
    "# get_dominant_topic_tweets(12)\n",
    "# Flight seating (group seating, upgrades)\n",
    "####\n",
    "\n",
    "# get_dominant_topic_tweets(13)\n",
    "# Travel alerts and advisories\n",
    "####\n",
    "\n",
    "# get_dominant_topic_tweets(14)\n",
    "# For more info related to flight or opportunities, please visit our website\n",
    "####\n",
    "\n",
    "# get_dominant_topic_tweets(15)\n",
    "\n",
    "# get_dominant_topic_tweets(16)\n",
    "# Checking in, anything related to having a comfortable traveler experience\n",
    "####"
   ]
  },
  {
   "cell_type": "code",
   "execution_count": 256,
   "id": "b8d86ba0-fa42-4790-a18e-2c6923cb773c",
   "metadata": {},
   "outputs": [
    {
     "data": {
      "image/png": "[encoded data removed]",
      "text/plain": [
       "<Figure size 800x500 with 1 Axes>"
      ]
     },
     "metadata": {},
     "output_type": "display_data"
    }
   ],
   "source": [
    "# Determine the share of tweets per topic\n",
    "\n",
    "plt.figure(figsize=(8, 5))\n",
    "ax = sns.countplot(x='Dominant_Topic', data=df_17_dominant_topic)\n",
    "ax.bar_label(ax.containers[0])\n",
    "plt.title('Distribution of Tweets per Dominant topic')\n",
    "plt.xlabel('Dominant topic')\n",
    "plt.ylabel('Tweet count')\n",
    "plt.show()\n",
    "\n",
    "# topics we are picking to show (total: 13):\n",
    "# 0, 2-6, 8, 10-13, 14, 16\n",
    "\n",
    "# topics where tweets do not seem to share a common theme (total: 4):\n",
    "# 1, 7, 9, 15"
   ]
  },
  {
   "cell_type": "code",
   "execution_count": 306,
   "id": "4acd6644-a8b7-40a5-af5f-3b8ea1de0ffe",
   "metadata": {},
   "outputs": [],
   "source": [
    "full_df_reset_idx = full_df.reset_index().drop('index', axis=1)"
   ]
  },
  {
   "cell_type": "code",
   "execution_count": 308,
   "id": "d7d4f528-6b23-4960-b6c7-ce170d44fed7",
   "metadata": {},
   "outputs": [],
   "source": [
    "merged_output_df = pd.merge(full_df_reset_idx, df_17_dominant_topic, left_index=True, right_index=True)"
   ]
  },
  {
   "cell_type": "code",
   "execution_count": 309,
   "id": "ab29e5e6-ad5d-4269-88b0-0b342b624238",
   "metadata": {},
   "outputs": [
    {
     "data": {
      "text/plain": [
       "(57404, 26)"
      ]
     },
     "execution_count": 309,
     "metadata": {},
     "output_type": "execute_result"
    }
   ],
   "source": [
    "merged_output_df.shape"
   ]
  },
  {
   "cell_type": "markdown",
   "id": "d56ecf9c",
   "metadata": {},
   "source": [
    "## Heatmap showing Topic contributions to Airline tweets"
   ]
  },
  {
   "cell_type": "code",
   "execution_count": 3,
   "id": "cffae619-8158-4db0-a360-8b255cc8d25e",
   "metadata": {},
   "outputs": [
    {
     "ename": "FileNotFoundError",
     "evalue": "[Errno 2] No such file or directory: 'tweets_17_topics_all_info.csv'",
     "output_type": "error",
     "traceback": [
      "\u001b[0;31m---------------------------------------------------------------------------\u001b[0m",
      "\u001b[0;31mFileNotFoundError\u001b[0m                         Traceback (most recent call last)",
      "Cell \u001b[0;32mIn [3], line 2\u001b[0m\n\u001b[1;32m      1\u001b[0m \u001b[38;5;66;03m#merged_output_df.to_csv('tweets_17_topics_all_info.csv', index=False)\u001b[39;00m\n\u001b[0;32m----> 2\u001b[0m merged_output_df \u001b[38;5;241m=\u001b[39m \u001b[43mpd\u001b[49m\u001b[38;5;241;43m.\u001b[39;49m\u001b[43mread_csv\u001b[49m\u001b[43m(\u001b[49m\u001b[38;5;124;43m'\u001b[39;49m\u001b[38;5;124;43mtweets_17_topics_all_info.csv\u001b[39;49m\u001b[38;5;124;43m'\u001b[39;49m\u001b[43m)\u001b[49m\n",
      "File \u001b[0;32m/opt/anaconda3/envs/big-data-proj/lib/python3.8/site-packages/pandas/util/_decorators.py:211\u001b[0m, in \u001b[0;36mdeprecate_kwarg.<locals>._deprecate_kwarg.<locals>.wrapper\u001b[0;34m(*args, **kwargs)\u001b[0m\n\u001b[1;32m    209\u001b[0m     \u001b[38;5;28;01melse\u001b[39;00m:\n\u001b[1;32m    210\u001b[0m         kwargs[new_arg_name] \u001b[38;5;241m=\u001b[39m new_arg_value\n\u001b[0;32m--> 211\u001b[0m \u001b[38;5;28;01mreturn\u001b[39;00m \u001b[43mfunc\u001b[49m\u001b[43m(\u001b[49m\u001b[38;5;241;43m*\u001b[39;49m\u001b[43margs\u001b[49m\u001b[43m,\u001b[49m\u001b[43m \u001b[49m\u001b[38;5;241;43m*\u001b[39;49m\u001b[38;5;241;43m*\u001b[39;49m\u001b[43mkwargs\u001b[49m\u001b[43m)\u001b[49m\n",
      "File \u001b[0;32m/opt/anaconda3/envs/big-data-proj/lib/python3.8/site-packages/pandas/util/_decorators.py:331\u001b[0m, in \u001b[0;36mdeprecate_nonkeyword_arguments.<locals>.decorate.<locals>.wrapper\u001b[0;34m(*args, **kwargs)\u001b[0m\n\u001b[1;32m    325\u001b[0m \u001b[38;5;28;01mif\u001b[39;00m \u001b[38;5;28mlen\u001b[39m(args) \u001b[38;5;241m>\u001b[39m num_allow_args:\n\u001b[1;32m    326\u001b[0m     warnings\u001b[38;5;241m.\u001b[39mwarn(\n\u001b[1;32m    327\u001b[0m         msg\u001b[38;5;241m.\u001b[39mformat(arguments\u001b[38;5;241m=\u001b[39m_format_argument_list(allow_args)),\n\u001b[1;32m    328\u001b[0m         \u001b[38;5;167;01mFutureWarning\u001b[39;00m,\n\u001b[1;32m    329\u001b[0m         stacklevel\u001b[38;5;241m=\u001b[39mfind_stack_level(),\n\u001b[1;32m    330\u001b[0m     )\n\u001b[0;32m--> 331\u001b[0m \u001b[38;5;28;01mreturn\u001b[39;00m \u001b[43mfunc\u001b[49m\u001b[43m(\u001b[49m\u001b[38;5;241;43m*\u001b[39;49m\u001b[43margs\u001b[49m\u001b[43m,\u001b[49m\u001b[43m \u001b[49m\u001b[38;5;241;43m*\u001b[39;49m\u001b[38;5;241;43m*\u001b[39;49m\u001b[43mkwargs\u001b[49m\u001b[43m)\u001b[49m\n",
      "File \u001b[0;32m/opt/anaconda3/envs/big-data-proj/lib/python3.8/site-packages/pandas/io/parsers/readers.py:950\u001b[0m, in \u001b[0;36mread_csv\u001b[0;34m(filepath_or_buffer, sep, delimiter, header, names, index_col, usecols, squeeze, prefix, mangle_dupe_cols, dtype, engine, converters, true_values, false_values, skipinitialspace, skiprows, skipfooter, nrows, na_values, keep_default_na, na_filter, verbose, skip_blank_lines, parse_dates, infer_datetime_format, keep_date_col, date_parser, dayfirst, cache_dates, iterator, chunksize, compression, thousands, decimal, lineterminator, quotechar, quoting, doublequote, escapechar, comment, encoding, encoding_errors, dialect, error_bad_lines, warn_bad_lines, on_bad_lines, delim_whitespace, low_memory, memory_map, float_precision, storage_options)\u001b[0m\n\u001b[1;32m    935\u001b[0m kwds_defaults \u001b[38;5;241m=\u001b[39m _refine_defaults_read(\n\u001b[1;32m    936\u001b[0m     dialect,\n\u001b[1;32m    937\u001b[0m     delimiter,\n\u001b[0;32m   (...)\u001b[0m\n\u001b[1;32m    946\u001b[0m     defaults\u001b[38;5;241m=\u001b[39m{\u001b[38;5;124m\"\u001b[39m\u001b[38;5;124mdelimiter\u001b[39m\u001b[38;5;124m\"\u001b[39m: \u001b[38;5;124m\"\u001b[39m\u001b[38;5;124m,\u001b[39m\u001b[38;5;124m\"\u001b[39m},\n\u001b[1;32m    947\u001b[0m )\n\u001b[1;32m    948\u001b[0m kwds\u001b[38;5;241m.\u001b[39mupdate(kwds_defaults)\n\u001b[0;32m--> 950\u001b[0m \u001b[38;5;28;01mreturn\u001b[39;00m \u001b[43m_read\u001b[49m\u001b[43m(\u001b[49m\u001b[43mfilepath_or_buffer\u001b[49m\u001b[43m,\u001b[49m\u001b[43m \u001b[49m\u001b[43mkwds\u001b[49m\u001b[43m)\u001b[49m\n",
      "File \u001b[0;32m/opt/anaconda3/envs/big-data-proj/lib/python3.8/site-packages/pandas/io/parsers/readers.py:605\u001b[0m, in \u001b[0;36m_read\u001b[0;34m(filepath_or_buffer, kwds)\u001b[0m\n\u001b[1;32m    602\u001b[0m _validate_names(kwds\u001b[38;5;241m.\u001b[39mget(\u001b[38;5;124m\"\u001b[39m\u001b[38;5;124mnames\u001b[39m\u001b[38;5;124m\"\u001b[39m, \u001b[38;5;28;01mNone\u001b[39;00m))\n\u001b[1;32m    604\u001b[0m \u001b[38;5;66;03m# Create the parser.\u001b[39;00m\n\u001b[0;32m--> 605\u001b[0m parser \u001b[38;5;241m=\u001b[39m \u001b[43mTextFileReader\u001b[49m\u001b[43m(\u001b[49m\u001b[43mfilepath_or_buffer\u001b[49m\u001b[43m,\u001b[49m\u001b[43m \u001b[49m\u001b[38;5;241;43m*\u001b[39;49m\u001b[38;5;241;43m*\u001b[39;49m\u001b[43mkwds\u001b[49m\u001b[43m)\u001b[49m\n\u001b[1;32m    607\u001b[0m \u001b[38;5;28;01mif\u001b[39;00m chunksize \u001b[38;5;129;01mor\u001b[39;00m iterator:\n\u001b[1;32m    608\u001b[0m     \u001b[38;5;28;01mreturn\u001b[39;00m parser\n",
      "File \u001b[0;32m/opt/anaconda3/envs/big-data-proj/lib/python3.8/site-packages/pandas/io/parsers/readers.py:1442\u001b[0m, in \u001b[0;36mTextFileReader.__init__\u001b[0;34m(self, f, engine, **kwds)\u001b[0m\n\u001b[1;32m   1439\u001b[0m     \u001b[38;5;28mself\u001b[39m\u001b[38;5;241m.\u001b[39moptions[\u001b[38;5;124m\"\u001b[39m\u001b[38;5;124mhas_index_names\u001b[39m\u001b[38;5;124m\"\u001b[39m] \u001b[38;5;241m=\u001b[39m kwds[\u001b[38;5;124m\"\u001b[39m\u001b[38;5;124mhas_index_names\u001b[39m\u001b[38;5;124m\"\u001b[39m]\n\u001b[1;32m   1441\u001b[0m \u001b[38;5;28mself\u001b[39m\u001b[38;5;241m.\u001b[39mhandles: IOHandles \u001b[38;5;241m|\u001b[39m \u001b[38;5;28;01mNone\u001b[39;00m \u001b[38;5;241m=\u001b[39m \u001b[38;5;28;01mNone\u001b[39;00m\n\u001b[0;32m-> 1442\u001b[0m \u001b[38;5;28mself\u001b[39m\u001b[38;5;241m.\u001b[39m_engine \u001b[38;5;241m=\u001b[39m \u001b[38;5;28;43mself\u001b[39;49m\u001b[38;5;241;43m.\u001b[39;49m\u001b[43m_make_engine\u001b[49m\u001b[43m(\u001b[49m\u001b[43mf\u001b[49m\u001b[43m,\u001b[49m\u001b[43m \u001b[49m\u001b[38;5;28;43mself\u001b[39;49m\u001b[38;5;241;43m.\u001b[39;49m\u001b[43mengine\u001b[49m\u001b[43m)\u001b[49m\n",
      "File \u001b[0;32m/opt/anaconda3/envs/big-data-proj/lib/python3.8/site-packages/pandas/io/parsers/readers.py:1735\u001b[0m, in \u001b[0;36mTextFileReader._make_engine\u001b[0;34m(self, f, engine)\u001b[0m\n\u001b[1;32m   1733\u001b[0m     \u001b[38;5;28;01mif\u001b[39;00m \u001b[38;5;124m\"\u001b[39m\u001b[38;5;124mb\u001b[39m\u001b[38;5;124m\"\u001b[39m \u001b[38;5;129;01mnot\u001b[39;00m \u001b[38;5;129;01min\u001b[39;00m mode:\n\u001b[1;32m   1734\u001b[0m         mode \u001b[38;5;241m+\u001b[39m\u001b[38;5;241m=\u001b[39m \u001b[38;5;124m\"\u001b[39m\u001b[38;5;124mb\u001b[39m\u001b[38;5;124m\"\u001b[39m\n\u001b[0;32m-> 1735\u001b[0m \u001b[38;5;28mself\u001b[39m\u001b[38;5;241m.\u001b[39mhandles \u001b[38;5;241m=\u001b[39m \u001b[43mget_handle\u001b[49m\u001b[43m(\u001b[49m\n\u001b[1;32m   1736\u001b[0m \u001b[43m    \u001b[49m\u001b[43mf\u001b[49m\u001b[43m,\u001b[49m\n\u001b[1;32m   1737\u001b[0m \u001b[43m    \u001b[49m\u001b[43mmode\u001b[49m\u001b[43m,\u001b[49m\n\u001b[1;32m   1738\u001b[0m \u001b[43m    \u001b[49m\u001b[43mencoding\u001b[49m\u001b[38;5;241;43m=\u001b[39;49m\u001b[38;5;28;43mself\u001b[39;49m\u001b[38;5;241;43m.\u001b[39;49m\u001b[43moptions\u001b[49m\u001b[38;5;241;43m.\u001b[39;49m\u001b[43mget\u001b[49m\u001b[43m(\u001b[49m\u001b[38;5;124;43m\"\u001b[39;49m\u001b[38;5;124;43mencoding\u001b[39;49m\u001b[38;5;124;43m\"\u001b[39;49m\u001b[43m,\u001b[49m\u001b[43m \u001b[49m\u001b[38;5;28;43;01mNone\u001b[39;49;00m\u001b[43m)\u001b[49m\u001b[43m,\u001b[49m\n\u001b[1;32m   1739\u001b[0m \u001b[43m    \u001b[49m\u001b[43mcompression\u001b[49m\u001b[38;5;241;43m=\u001b[39;49m\u001b[38;5;28;43mself\u001b[39;49m\u001b[38;5;241;43m.\u001b[39;49m\u001b[43moptions\u001b[49m\u001b[38;5;241;43m.\u001b[39;49m\u001b[43mget\u001b[49m\u001b[43m(\u001b[49m\u001b[38;5;124;43m\"\u001b[39;49m\u001b[38;5;124;43mcompression\u001b[39;49m\u001b[38;5;124;43m\"\u001b[39;49m\u001b[43m,\u001b[49m\u001b[43m \u001b[49m\u001b[38;5;28;43;01mNone\u001b[39;49;00m\u001b[43m)\u001b[49m\u001b[43m,\u001b[49m\n\u001b[1;32m   1740\u001b[0m \u001b[43m    \u001b[49m\u001b[43mmemory_map\u001b[49m\u001b[38;5;241;43m=\u001b[39;49m\u001b[38;5;28;43mself\u001b[39;49m\u001b[38;5;241;43m.\u001b[39;49m\u001b[43moptions\u001b[49m\u001b[38;5;241;43m.\u001b[39;49m\u001b[43mget\u001b[49m\u001b[43m(\u001b[49m\u001b[38;5;124;43m\"\u001b[39;49m\u001b[38;5;124;43mmemory_map\u001b[39;49m\u001b[38;5;124;43m\"\u001b[39;49m\u001b[43m,\u001b[49m\u001b[43m \u001b[49m\u001b[38;5;28;43;01mFalse\u001b[39;49;00m\u001b[43m)\u001b[49m\u001b[43m,\u001b[49m\n\u001b[1;32m   1741\u001b[0m \u001b[43m    \u001b[49m\u001b[43mis_text\u001b[49m\u001b[38;5;241;43m=\u001b[39;49m\u001b[43mis_text\u001b[49m\u001b[43m,\u001b[49m\n\u001b[1;32m   1742\u001b[0m \u001b[43m    \u001b[49m\u001b[43merrors\u001b[49m\u001b[38;5;241;43m=\u001b[39;49m\u001b[38;5;28;43mself\u001b[39;49m\u001b[38;5;241;43m.\u001b[39;49m\u001b[43moptions\u001b[49m\u001b[38;5;241;43m.\u001b[39;49m\u001b[43mget\u001b[49m\u001b[43m(\u001b[49m\u001b[38;5;124;43m\"\u001b[39;49m\u001b[38;5;124;43mencoding_errors\u001b[39;49m\u001b[38;5;124;43m\"\u001b[39;49m\u001b[43m,\u001b[49m\u001b[43m \u001b[49m\u001b[38;5;124;43m\"\u001b[39;49m\u001b[38;5;124;43mstrict\u001b[39;49m\u001b[38;5;124;43m\"\u001b[39;49m\u001b[43m)\u001b[49m\u001b[43m,\u001b[49m\n\u001b[1;32m   1743\u001b[0m \u001b[43m    \u001b[49m\u001b[43mstorage_options\u001b[49m\u001b[38;5;241;43m=\u001b[39;49m\u001b[38;5;28;43mself\u001b[39;49m\u001b[38;5;241;43m.\u001b[39;49m\u001b[43moptions\u001b[49m\u001b[38;5;241;43m.\u001b[39;49m\u001b[43mget\u001b[49m\u001b[43m(\u001b[49m\u001b[38;5;124;43m\"\u001b[39;49m\u001b[38;5;124;43mstorage_options\u001b[39;49m\u001b[38;5;124;43m\"\u001b[39;49m\u001b[43m,\u001b[49m\u001b[43m \u001b[49m\u001b[38;5;28;43;01mNone\u001b[39;49;00m\u001b[43m)\u001b[49m\u001b[43m,\u001b[49m\n\u001b[1;32m   1744\u001b[0m \u001b[43m\u001b[49m\u001b[43m)\u001b[49m\n\u001b[1;32m   1745\u001b[0m \u001b[38;5;28;01massert\u001b[39;00m \u001b[38;5;28mself\u001b[39m\u001b[38;5;241m.\u001b[39mhandles \u001b[38;5;129;01mis\u001b[39;00m \u001b[38;5;129;01mnot\u001b[39;00m \u001b[38;5;28;01mNone\u001b[39;00m\n\u001b[1;32m   1746\u001b[0m f \u001b[38;5;241m=\u001b[39m \u001b[38;5;28mself\u001b[39m\u001b[38;5;241m.\u001b[39mhandles\u001b[38;5;241m.\u001b[39mhandle\n",
      "File \u001b[0;32m/opt/anaconda3/envs/big-data-proj/lib/python3.8/site-packages/pandas/io/common.py:856\u001b[0m, in \u001b[0;36mget_handle\u001b[0;34m(path_or_buf, mode, encoding, compression, memory_map, is_text, errors, storage_options)\u001b[0m\n\u001b[1;32m    851\u001b[0m \u001b[38;5;28;01melif\u001b[39;00m \u001b[38;5;28misinstance\u001b[39m(handle, \u001b[38;5;28mstr\u001b[39m):\n\u001b[1;32m    852\u001b[0m     \u001b[38;5;66;03m# Check whether the filename is to be opened in binary mode.\u001b[39;00m\n\u001b[1;32m    853\u001b[0m     \u001b[38;5;66;03m# Binary mode does not support 'encoding' and 'newline'.\u001b[39;00m\n\u001b[1;32m    854\u001b[0m     \u001b[38;5;28;01mif\u001b[39;00m ioargs\u001b[38;5;241m.\u001b[39mencoding \u001b[38;5;129;01mand\u001b[39;00m \u001b[38;5;124m\"\u001b[39m\u001b[38;5;124mb\u001b[39m\u001b[38;5;124m\"\u001b[39m \u001b[38;5;129;01mnot\u001b[39;00m \u001b[38;5;129;01min\u001b[39;00m ioargs\u001b[38;5;241m.\u001b[39mmode:\n\u001b[1;32m    855\u001b[0m         \u001b[38;5;66;03m# Encoding\u001b[39;00m\n\u001b[0;32m--> 856\u001b[0m         handle \u001b[38;5;241m=\u001b[39m \u001b[38;5;28;43mopen\u001b[39;49m\u001b[43m(\u001b[49m\n\u001b[1;32m    857\u001b[0m \u001b[43m            \u001b[49m\u001b[43mhandle\u001b[49m\u001b[43m,\u001b[49m\n\u001b[1;32m    858\u001b[0m \u001b[43m            \u001b[49m\u001b[43mioargs\u001b[49m\u001b[38;5;241;43m.\u001b[39;49m\u001b[43mmode\u001b[49m\u001b[43m,\u001b[49m\n\u001b[1;32m    859\u001b[0m \u001b[43m            \u001b[49m\u001b[43mencoding\u001b[49m\u001b[38;5;241;43m=\u001b[39;49m\u001b[43mioargs\u001b[49m\u001b[38;5;241;43m.\u001b[39;49m\u001b[43mencoding\u001b[49m\u001b[43m,\u001b[49m\n\u001b[1;32m    860\u001b[0m \u001b[43m            \u001b[49m\u001b[43merrors\u001b[49m\u001b[38;5;241;43m=\u001b[39;49m\u001b[43merrors\u001b[49m\u001b[43m,\u001b[49m\n\u001b[1;32m    861\u001b[0m \u001b[43m            \u001b[49m\u001b[43mnewline\u001b[49m\u001b[38;5;241;43m=\u001b[39;49m\u001b[38;5;124;43m\"\u001b[39;49m\u001b[38;5;124;43m\"\u001b[39;49m\u001b[43m,\u001b[49m\n\u001b[1;32m    862\u001b[0m \u001b[43m        \u001b[49m\u001b[43m)\u001b[49m\n\u001b[1;32m    863\u001b[0m     \u001b[38;5;28;01melse\u001b[39;00m:\n\u001b[1;32m    864\u001b[0m         \u001b[38;5;66;03m# Binary mode\u001b[39;00m\n\u001b[1;32m    865\u001b[0m         handle \u001b[38;5;241m=\u001b[39m \u001b[38;5;28mopen\u001b[39m(handle, ioargs\u001b[38;5;241m.\u001b[39mmode)\n",
      "\u001b[0;31mFileNotFoundError\u001b[0m: [Errno 2] No such file or directory: 'tweets_17_topics_all_info.csv'"
     ]
    }
   ],
   "source": [
    "#merged_output_df.to_csv('tweets_17_topics_all_info.csv', index=False)\n",
    "merged_output_df = pd.read_csv('tweets_17_topics_all_info.csv')"
   ]
  },
  {
   "cell_type": "code",
   "execution_count": 75,
   "id": "0435d131-b2a8-4ccb-bbe5-6f469fac438d",
   "metadata": {},
   "outputs": [
    {
     "data": {
      "text/html": [
       "<div>\n",
       "<style scoped>\n",
       "    .dataframe tbody tr th:only-of-type {\n",
       "        vertical-align: middle;\n",
       "    }\n",
       "\n",
       "    .dataframe tbody tr th {\n",
       "        vertical-align: top;\n",
       "    }\n",
       "\n",
       "    .dataframe thead th {\n",
       "        text-align: right;\n",
       "    }\n",
       "</style>\n",
       "<table border=\"1\" class=\"dataframe\">\n",
       "  <thead>\n",
       "    <tr style=\"text-align: right;\">\n",
       "      <th></th>\n",
       "      <th>tweet_id</th>\n",
       "      <th>user</th>\n",
       "      <th>created_at</th>\n",
       "      <th>text</th>\n",
       "      <th>is_reply</th>\n",
       "      <th>source</th>\n",
       "      <th>lang</th>\n",
       "      <th>retweet_count</th>\n",
       "      <th>reply_count</th>\n",
       "      <th>like_count</th>\n",
       "      <th>...</th>\n",
       "      <th>tokenize_lemmatize_text</th>\n",
       "      <th>lemma_tokens</th>\n",
       "      <th>token_count</th>\n",
       "      <th>contains_amp</th>\n",
       "      <th>Document_No</th>\n",
       "      <th>Dominant_Topic</th>\n",
       "      <th>Topic_Perc_Contrib</th>\n",
       "      <th>Keywords</th>\n",
       "      <th>Text</th>\n",
       "      <th>num_topics</th>\n",
       "    </tr>\n",
       "  </thead>\n",
       "  <tbody>\n",
       "    <tr>\n",
       "      <th>0</th>\n",
       "      <td>1156918651838054400</td>\n",
       "      <td>easyJet</td>\n",
       "      <td>2019-08-01T13:24:35.000Z</td>\n",
       "      <td>RT @delightdoodahs: Cracking @easyJet flight f...</td>\n",
       "      <td>0.0</td>\n",
       "      <td>Sprinklr</td>\n",
       "      <td>en</td>\n",
       "      <td>3.0</td>\n",
       "      <td>0.0</td>\n",
       "      <td>0.0</td>\n",
       "      <td>...</td>\n",
       "      <td>crack flight berlin morning</td>\n",
       "      <td>['crack', 'flight', 'berlin', 'morning']</td>\n",
       "      <td>4</td>\n",
       "      <td>0</td>\n",
       "      <td>0</td>\n",
       "      <td>9</td>\n",
       "      <td>0.2252</td>\n",
       "      <td>flight, year, start, celebrate, offer, passeng...</td>\n",
       "      <td>['crack', 'flight', 'morning']</td>\n",
       "      <td>17</td>\n",
       "    </tr>\n",
       "    <tr>\n",
       "      <th>1</th>\n",
       "      <td>1156918495462023168</td>\n",
       "      <td>easyJet</td>\n",
       "      <td>2019-08-01T13:23:58.000Z</td>\n",
       "      <td>RT @vfxflyer: Cloud surfing with @easyjet from...</td>\n",
       "      <td>0.0</td>\n",
       "      <td>Sprinklr</td>\n",
       "      <td>en</td>\n",
       "      <td>1.0</td>\n",
       "      <td>0.0</td>\n",
       "      <td>0.0</td>\n",
       "      <td>...</td>\n",
       "      <td>cloud surf bud bsl</td>\n",
       "      <td>['cloud', 'surf', 'bud', 'bsl']</td>\n",
       "      <td>4</td>\n",
       "      <td>0</td>\n",
       "      <td>1</td>\n",
       "      <td>9</td>\n",
       "      <td>0.1592</td>\n",
       "      <td>flight, year, start, celebrate, offer, passeng...</td>\n",
       "      <td>[]</td>\n",
       "      <td>17</td>\n",
       "    </tr>\n",
       "    <tr>\n",
       "      <th>2</th>\n",
       "      <td>1154809777752629249</td>\n",
       "      <td>easyJet</td>\n",
       "      <td>2019-07-26T17:44:41.000Z</td>\n",
       "      <td>RT @LDNLutonAirport: Trains remain severely di...</td>\n",
       "      <td>0.0</td>\n",
       "      <td>Sprinklr</td>\n",
       "      <td>en</td>\n",
       "      <td>2.0</td>\n",
       "      <td>0.0</td>\n",
       "      <td>0.0</td>\n",
       "      <td>...</td>\n",
       "      <td>train remain severely disrupt thameslink line ...</td>\n",
       "      <td>['train', 'remain', 'severely', 'disrupt', 'th...</td>\n",
       "      <td>10</td>\n",
       "      <td>0</td>\n",
       "      <td>2</td>\n",
       "      <td>1</td>\n",
       "      <td>0.2936</td>\n",
       "      <td>city, home, apply, incredible, date, remain, t...</td>\n",
       "      <td>['train', 'remain', 'severely', 'disrupt', 'th...</td>\n",
       "      <td>17</td>\n",
       "    </tr>\n",
       "    <tr>\n",
       "      <th>3</th>\n",
       "      <td>1154670861376524289</td>\n",
       "      <td>easyJet</td>\n",
       "      <td>2019-07-26T08:32:40.000Z</td>\n",
       "      <td>It may take us a little longer to reply to you...</td>\n",
       "      <td>0.0</td>\n",
       "      <td>Sprinklr</td>\n",
       "      <td>en</td>\n",
       "      <td>2.0</td>\n",
       "      <td>28.0</td>\n",
       "      <td>11.0</td>\n",
       "      <td>...</td>\n",
       "      <td>little longer reply volume message currently r...</td>\n",
       "      <td>['little', 'longer', 'reply', 'volume', 'messa...</td>\n",
       "      <td>11</td>\n",
       "      <td>0</td>\n",
       "      <td>3</td>\n",
       "      <td>3</td>\n",
       "      <td>0.4257</td>\n",
       "      <td>look, work, great, view, activity, connect, gu...</td>\n",
       "      <td>['little', 'long', 'reply', 'volume', 'message...</td>\n",
       "      <td>17</td>\n",
       "    </tr>\n",
       "    <tr>\n",
       "      <th>4</th>\n",
       "      <td>1154670731613081600</td>\n",
       "      <td>easyJet</td>\n",
       "      <td>2019-07-26T08:32:09.000Z</td>\n",
       "      <td>Due to adverse weather across the UK, easyJet,...</td>\n",
       "      <td>0.0</td>\n",
       "      <td>Sprinklr</td>\n",
       "      <td>en</td>\n",
       "      <td>6.0</td>\n",
       "      <td>34.0</td>\n",
       "      <td>31.0</td>\n",
       "      <td>...</td>\n",
       "      <td>adverse weather easyjet like airlines expect d...</td>\n",
       "      <td>['adverse', 'weather', 'easyjet', 'like', 'air...</td>\n",
       "      <td>14</td>\n",
       "      <td>0</td>\n",
       "      <td>4</td>\n",
       "      <td>16</td>\n",
       "      <td>0.3607</td>\n",
       "      <td>check, experience, airline, trip, discover, ba...</td>\n",
       "      <td>['adverse_weather', 'easyjet', 'airline', 'exp...</td>\n",
       "      <td>17</td>\n",
       "    </tr>\n",
       "  </tbody>\n",
       "</table>\n",
       "<p>5 rows × 26 columns</p>\n",
       "</div>"
      ],
      "text/plain": [
       "              tweet_id     user                created_at  \\\n",
       "0  1156918651838054400  easyJet  2019-08-01T13:24:35.000Z   \n",
       "1  1156918495462023168  easyJet  2019-08-01T13:23:58.000Z   \n",
       "2  1154809777752629249  easyJet  2019-07-26T17:44:41.000Z   \n",
       "3  1154670861376524289  easyJet  2019-07-26T08:32:40.000Z   \n",
       "4  1154670731613081600  easyJet  2019-07-26T08:32:09.000Z   \n",
       "\n",
       "                                                text  is_reply    source lang  \\\n",
       "0  RT @delightdoodahs: Cracking @easyJet flight f...       0.0  Sprinklr   en   \n",
       "1  RT @vfxflyer: Cloud surfing with @easyjet from...       0.0  Sprinklr   en   \n",
       "2  RT @LDNLutonAirport: Trains remain severely di...       0.0  Sprinklr   en   \n",
       "3  It may take us a little longer to reply to you...       0.0  Sprinklr   en   \n",
       "4  Due to adverse weather across the UK, easyJet,...       0.0  Sprinklr   en   \n",
       "\n",
       "   retweet_count  reply_count  like_count  ...  \\\n",
       "0            3.0          0.0         0.0  ...   \n",
       "1            1.0          0.0         0.0  ...   \n",
       "2            2.0          0.0         0.0  ...   \n",
       "3            2.0         28.0        11.0  ...   \n",
       "4            6.0         34.0        31.0  ...   \n",
       "\n",
       "                             tokenize_lemmatize_text  \\\n",
       "0                        crack flight berlin morning   \n",
       "1                                 cloud surf bud bsl   \n",
       "2  train remain severely disrupt thameslink line ...   \n",
       "3  little longer reply volume message currently r...   \n",
       "4  adverse weather easyjet like airlines expect d...   \n",
       "\n",
       "                                        lemma_tokens token_count contains_amp  \\\n",
       "0           ['crack', 'flight', 'berlin', 'morning']           4            0   \n",
       "1                    ['cloud', 'surf', 'bud', 'bsl']           4            0   \n",
       "2  ['train', 'remain', 'severely', 'disrupt', 'th...          10            0   \n",
       "3  ['little', 'longer', 'reply', 'volume', 'messa...          11            0   \n",
       "4  ['adverse', 'weather', 'easyjet', 'like', 'air...          14            0   \n",
       "\n",
       "  Document_No Dominant_Topic Topic_Perc_Contrib  \\\n",
       "0           0              9             0.2252   \n",
       "1           1              9             0.1592   \n",
       "2           2              1             0.2936   \n",
       "3           3              3             0.4257   \n",
       "4           4             16             0.3607   \n",
       "\n",
       "                                            Keywords  \\\n",
       "0  flight, year, start, celebrate, offer, passeng...   \n",
       "1  flight, year, start, celebrate, offer, passeng...   \n",
       "2  city, home, apply, incredible, date, remain, t...   \n",
       "3  look, work, great, view, activity, connect, gu...   \n",
       "4  check, experience, airline, trip, discover, ba...   \n",
       "\n",
       "                                                Text  num_topics  \n",
       "0                     ['crack', 'flight', 'morning']          17  \n",
       "1                                                 []          17  \n",
       "2  ['train', 'remain', 'severely', 'disrupt', 'th...          17  \n",
       "3  ['little', 'long', 'reply', 'volume', 'message...          17  \n",
       "4  ['adverse_weather', 'easyjet', 'airline', 'exp...          17  \n",
       "\n",
       "[5 rows x 26 columns]"
      ]
     },
     "execution_count": 75,
     "metadata": {},
     "output_type": "execute_result"
    }
   ],
   "source": [
    "merged_output_df.head()"
   ]
  },
  {
   "cell_type": "code",
   "execution_count": 7,
   "id": "cf5c1c2f-514a-4ee1-b2fd-2480757af55a",
   "metadata": {},
   "outputs": [
    {
     "data": {
      "text/plain": [
       "(57404, 26)"
      ]
     },
     "execution_count": 7,
     "metadata": {},
     "output_type": "execute_result"
    }
   ],
   "source": [
    "merged_output_df.shape"
   ]
  },
  {
   "cell_type": "code",
   "execution_count": 8,
   "id": "a756c50e-b9c6-4c71-b03e-cdcec9bfcd6f",
   "metadata": {},
   "outputs": [
    {
     "data": {
      "text/plain": [
       "(33806, 26)"
      ]
     },
     "execution_count": 8,
     "metadata": {},
     "output_type": "execute_result"
    }
   ],
   "source": [
    "# Remove topics we want to exclude from analysis\n",
    "# 1, 7, 9, 15\n",
    "\n",
    "merged_output_df2 = merged_output_df[~merged_output_df.Dominant_Topic.isin([1, 7, 9, 15])]\n",
    "merged_output_df2.shape"
   ]
  },
  {
   "cell_type": "code",
   "execution_count": 9,
   "id": "e48b73c3-8b50-4448-85cd-6629e10bdd1b",
   "metadata": {},
   "outputs": [],
   "source": [
    "user_tweet_counts = merged_output_df2.groupby(['user'])['Document_No'].count().reset_index().rename(columns={'Document_No': 'tweet_count'})\n",
    "user_topic_tweet_counts = merged_output_df2.groupby([\n",
    "    'user', 'Dominant_Topic'])['Document_No'].count().reset_index().rename(columns={'Document_No': 'topic_tweet_count'})"
   ]
  },
  {
   "cell_type": "code",
   "execution_count": 10,
   "id": "1c19bb7f-64db-498a-91e1-52b7506c261d",
   "metadata": {},
   "outputs": [],
   "source": [
    "user_tweet_counts_ALL = pd.merge(user_tweet_counts, user_topic_tweet_counts, how='left', on='user')"
   ]
  },
  {
   "cell_type": "code",
   "execution_count": 11,
   "id": "614a3cba-fc0b-4af7-a317-e3aed8521629",
   "metadata": {},
   "outputs": [],
   "source": [
    "user_tweet_counts_ALL['topic_pct'] = user_tweet_counts_ALL['topic_tweet_count'] / user_tweet_counts_ALL['tweet_count']"
   ]
  },
  {
   "cell_type": "code",
   "execution_count": 12,
   "id": "1ff14384-ddb4-47a9-8587-2e79d3e09f34",
   "metadata": {},
   "outputs": [
    {
     "data": {
      "text/plain": [
       "85.0"
      ]
     },
     "execution_count": 12,
     "metadata": {},
     "output_type": "execute_result"
    }
   ],
   "source": [
    "user_tweet_counts_ALL['topic_pct'].sum()"
   ]
  },
  {
   "cell_type": "code",
   "execution_count": 345,
   "id": "6172dddd-5d46-4ea3-82b5-349dff1fac28",
   "metadata": {},
   "outputs": [],
   "source": [
    "# user_tweet_counts['user'].tolist()"
   ]
  },
  {
   "cell_type": "code",
   "execution_count": 13,
   "id": "963ace1c-f172-4380-97d5-b4e70b354765",
   "metadata": {},
   "outputs": [
    {
     "data": {
      "text/html": [
       "<div>\n",
       "<style scoped>\n",
       "    .dataframe tbody tr th:only-of-type {\n",
       "        vertical-align: middle;\n",
       "    }\n",
       "\n",
       "    .dataframe tbody tr th {\n",
       "        vertical-align: top;\n",
       "    }\n",
       "\n",
       "    .dataframe thead th {\n",
       "        text-align: right;\n",
       "    }\n",
       "</style>\n",
       "<table border=\"1\" class=\"dataframe\">\n",
       "  <thead>\n",
       "    <tr style=\"text-align: right;\">\n",
       "      <th></th>\n",
       "      <th>user</th>\n",
       "      <th>tweet_count</th>\n",
       "      <th>Dominant_Topic</th>\n",
       "      <th>topic_tweet_count</th>\n",
       "      <th>topic_pct</th>\n",
       "    </tr>\n",
       "  </thead>\n",
       "  <tbody>\n",
       "    <tr>\n",
       "      <th>0</th>\n",
       "      <td>AerLingus</td>\n",
       "      <td>450</td>\n",
       "      <td>0</td>\n",
       "      <td>47</td>\n",
       "      <td>0.104444</td>\n",
       "    </tr>\n",
       "    <tr>\n",
       "      <th>1</th>\n",
       "      <td>AerLingus</td>\n",
       "      <td>450</td>\n",
       "      <td>2</td>\n",
       "      <td>26</td>\n",
       "      <td>0.057778</td>\n",
       "    </tr>\n",
       "    <tr>\n",
       "      <th>2</th>\n",
       "      <td>AerLingus</td>\n",
       "      <td>450</td>\n",
       "      <td>3</td>\n",
       "      <td>18</td>\n",
       "      <td>0.040000</td>\n",
       "    </tr>\n",
       "    <tr>\n",
       "      <th>3</th>\n",
       "      <td>AerLingus</td>\n",
       "      <td>450</td>\n",
       "      <td>4</td>\n",
       "      <td>21</td>\n",
       "      <td>0.046667</td>\n",
       "    </tr>\n",
       "    <tr>\n",
       "      <th>4</th>\n",
       "      <td>AerLingus</td>\n",
       "      <td>450</td>\n",
       "      <td>5</td>\n",
       "      <td>1</td>\n",
       "      <td>0.002222</td>\n",
       "    </tr>\n",
       "  </tbody>\n",
       "</table>\n",
       "</div>"
      ],
      "text/plain": [
       "        user  tweet_count  Dominant_Topic  topic_tweet_count  topic_pct\n",
       "0  AerLingus          450               0                 47   0.104444\n",
       "1  AerLingus          450               2                 26   0.057778\n",
       "2  AerLingus          450               3                 18   0.040000\n",
       "3  AerLingus          450               4                 21   0.046667\n",
       "4  AerLingus          450               5                  1   0.002222"
      ]
     },
     "execution_count": 13,
     "metadata": {},
     "output_type": "execute_result"
    }
   ],
   "source": [
    "user_tweet_counts_ALL.head(5)"
   ]
  },
  {
   "cell_type": "code",
   "execution_count": 16,
   "id": "311c5927-6749-4d79-8af3-5a951bb4e944",
   "metadata": {},
   "outputs": [],
   "source": [
    "all_airlines = user_tweet_counts['user'].tolist()\n",
    "# all_columns = ['topic_num'] + all_airlines\n",
    "all_columns = all_airlines\n",
    "all_topic_nums = user_tweet_counts_ALL['Dominant_Topic'].unique()\n",
    "df_heatmap_topic_lvl_airline_scores = pd.DataFrame(columns=all_columns)\n",
    "\n",
    "for topic_num in all_topic_nums:\n",
    "    topic_num_pcts = user_tweet_counts_ALL[user_tweet_counts_ALL['Dominant_Topic']==topic_num]['topic_pct'].tolist()\n",
    "\n",
    "    new_row_dict = {airline: topic_pct for airline, topic_pct in zip(all_airlines, topic_num_pcts)}\n",
    "\n",
    "    new_row_df = pd.DataFrame(new_row_dict, index=[topic_num])\n",
    "\n",
    "    df_heatmap_topic_lvl_airline_scores = pd.concat([df_heatmap_topic_lvl_airline_scores, new_row_df], axis=0, ignore_index=False)\n",
    "    \n",
    "df_heatmap_topic_lvl_airline_scores.fillna(0, inplace=True)"
   ]
  },
  {
   "cell_type": "code",
   "execution_count": 17,
   "id": "91512214-b984-4309-b07b-4e086e8f9bf2",
   "metadata": {},
   "outputs": [
    {
     "data": {
      "text/html": [
       "<div>\n",
       "<style scoped>\n",
       "    .dataframe tbody tr th:only-of-type {\n",
       "        vertical-align: middle;\n",
       "    }\n",
       "\n",
       "    .dataframe tbody tr th {\n",
       "        vertical-align: top;\n",
       "    }\n",
       "\n",
       "    .dataframe thead th {\n",
       "        text-align: right;\n",
       "    }\n",
       "</style>\n",
       "<table border=\"1\" class=\"dataframe\">\n",
       "  <thead>\n",
       "    <tr style=\"text-align: right;\">\n",
       "      <th></th>\n",
       "      <th>AerLingus</th>\n",
       "      <th>Aeroflot_World</th>\n",
       "      <th>AeromexicoUSA</th>\n",
       "      <th>AirCanada</th>\n",
       "      <th>AirFranceIN</th>\n",
       "      <th>AirFranceNG</th>\n",
       "      <th>AirFranceUK</th>\n",
       "      <th>AirFranceUS</th>\n",
       "      <th>Air_Dolomiti</th>\n",
       "      <th>AlaskaAir</th>\n",
       "      <th>...</th>\n",
       "      <th>iflycaribbean</th>\n",
       "      <th>nokairindia</th>\n",
       "      <th>omanair</th>\n",
       "      <th>qatarairways</th>\n",
       "      <th>tapairportugal</th>\n",
       "      <th>transavia</th>\n",
       "      <th>united</th>\n",
       "      <th>volotea</th>\n",
       "      <th>vueling</th>\n",
       "      <th>wizzair</th>\n",
       "    </tr>\n",
       "  </thead>\n",
       "  <tbody>\n",
       "    <tr>\n",
       "      <th>0</th>\n",
       "      <td>0.104444</td>\n",
       "      <td>0.111111</td>\n",
       "      <td>0.194831</td>\n",
       "      <td>0.142857</td>\n",
       "      <td>0.054230</td>\n",
       "      <td>0.072874</td>\n",
       "      <td>0.078846</td>\n",
       "      <td>0.130178</td>\n",
       "      <td>0.108491</td>\n",
       "      <td>0.147170</td>\n",
       "      <td>...</td>\n",
       "      <td>0.015385</td>\n",
       "      <td>0.068000</td>\n",
       "      <td>0.161017</td>\n",
       "      <td>0.127551</td>\n",
       "      <td>0.111111</td>\n",
       "      <td>0.169197</td>\n",
       "      <td>0.141914</td>\n",
       "      <td>0.063158</td>\n",
       "      <td>0.056452</td>\n",
       "      <td>0</td>\n",
       "    </tr>\n",
       "    <tr>\n",
       "      <th>2</th>\n",
       "      <td>0.057778</td>\n",
       "      <td>0.006006</td>\n",
       "      <td>0.019881</td>\n",
       "      <td>0.003322</td>\n",
       "      <td>0.013015</td>\n",
       "      <td>0.010121</td>\n",
       "      <td>0.032692</td>\n",
       "      <td>0.017751</td>\n",
       "      <td>0.028302</td>\n",
       "      <td>0.022642</td>\n",
       "      <td>...</td>\n",
       "      <td>0.028000</td>\n",
       "      <td>0.035593</td>\n",
       "      <td>0.025510</td>\n",
       "      <td>0.036876</td>\n",
       "      <td>0.013201</td>\n",
       "      <td>0.031579</td>\n",
       "      <td>0.008065</td>\n",
       "      <td>0.000000</td>\n",
       "      <td>0.000000</td>\n",
       "      <td>0</td>\n",
       "    </tr>\n",
       "    <tr>\n",
       "      <th>3</th>\n",
       "      <td>0.040000</td>\n",
       "      <td>0.015015</td>\n",
       "      <td>0.007952</td>\n",
       "      <td>0.016611</td>\n",
       "      <td>0.060738</td>\n",
       "      <td>0.022267</td>\n",
       "      <td>0.026923</td>\n",
       "      <td>0.039448</td>\n",
       "      <td>0.037736</td>\n",
       "      <td>0.030189</td>\n",
       "      <td>...</td>\n",
       "      <td>0.148148</td>\n",
       "      <td>0.041215</td>\n",
       "      <td>0.026403</td>\n",
       "      <td>0.031579</td>\n",
       "      <td>0.020968</td>\n",
       "      <td>0.000000</td>\n",
       "      <td>0.000000</td>\n",
       "      <td>0.000000</td>\n",
       "      <td>0.000000</td>\n",
       "      <td>0</td>\n",
       "    </tr>\n",
       "    <tr>\n",
       "      <th>4</th>\n",
       "      <td>0.046667</td>\n",
       "      <td>0.039039</td>\n",
       "      <td>0.027833</td>\n",
       "      <td>0.036545</td>\n",
       "      <td>0.169197</td>\n",
       "      <td>0.070850</td>\n",
       "      <td>0.103846</td>\n",
       "      <td>0.071006</td>\n",
       "      <td>0.037736</td>\n",
       "      <td>0.050943</td>\n",
       "      <td>...</td>\n",
       "      <td>0.076923</td>\n",
       "      <td>0.032000</td>\n",
       "      <td>0.040678</td>\n",
       "      <td>0.035714</td>\n",
       "      <td>0.037037</td>\n",
       "      <td>0.049892</td>\n",
       "      <td>0.029703</td>\n",
       "      <td>0.031579</td>\n",
       "      <td>0.019355</td>\n",
       "      <td>0</td>\n",
       "    </tr>\n",
       "    <tr>\n",
       "      <th>5</th>\n",
       "      <td>0.002222</td>\n",
       "      <td>0.003839</td>\n",
       "      <td>0.002079</td>\n",
       "      <td>0.004090</td>\n",
       "      <td>0.007282</td>\n",
       "      <td>0.001898</td>\n",
       "      <td>0.002387</td>\n",
       "      <td>0.004073</td>\n",
       "      <td>0.002770</td>\n",
       "      <td>0.001912</td>\n",
       "      <td>...</td>\n",
       "      <td>0.000000</td>\n",
       "      <td>0.000000</td>\n",
       "      <td>0.000000</td>\n",
       "      <td>0.000000</td>\n",
       "      <td>0.000000</td>\n",
       "      <td>0.000000</td>\n",
       "      <td>0.000000</td>\n",
       "      <td>0.000000</td>\n",
       "      <td>0.000000</td>\n",
       "      <td>0</td>\n",
       "    </tr>\n",
       "    <tr>\n",
       "      <th>6</th>\n",
       "      <td>0.171111</td>\n",
       "      <td>0.171171</td>\n",
       "      <td>0.192843</td>\n",
       "      <td>0.073090</td>\n",
       "      <td>0.203905</td>\n",
       "      <td>0.216599</td>\n",
       "      <td>0.203846</td>\n",
       "      <td>0.157791</td>\n",
       "      <td>0.195755</td>\n",
       "      <td>0.150943</td>\n",
       "      <td>...</td>\n",
       "      <td>0.153846</td>\n",
       "      <td>0.108000</td>\n",
       "      <td>0.237288</td>\n",
       "      <td>0.112245</td>\n",
       "      <td>0.148148</td>\n",
       "      <td>0.214751</td>\n",
       "      <td>0.211221</td>\n",
       "      <td>0.021053</td>\n",
       "      <td>0.074194</td>\n",
       "      <td>0</td>\n",
       "    </tr>\n",
       "    <tr>\n",
       "      <th>8</th>\n",
       "      <td>0.146667</td>\n",
       "      <td>0.219219</td>\n",
       "      <td>0.155070</td>\n",
       "      <td>0.063123</td>\n",
       "      <td>0.221258</td>\n",
       "      <td>0.263158</td>\n",
       "      <td>0.161538</td>\n",
       "      <td>0.228797</td>\n",
       "      <td>0.200472</td>\n",
       "      <td>0.309434</td>\n",
       "      <td>...</td>\n",
       "      <td>0.400000</td>\n",
       "      <td>0.380000</td>\n",
       "      <td>0.225424</td>\n",
       "      <td>0.357143</td>\n",
       "      <td>0.111111</td>\n",
       "      <td>0.143167</td>\n",
       "      <td>0.171617</td>\n",
       "      <td>0.052632</td>\n",
       "      <td>0.574194</td>\n",
       "      <td>0</td>\n",
       "    </tr>\n",
       "    <tr>\n",
       "      <th>10</th>\n",
       "      <td>0.142222</td>\n",
       "      <td>0.108108</td>\n",
       "      <td>0.238569</td>\n",
       "      <td>0.053156</td>\n",
       "      <td>0.106291</td>\n",
       "      <td>0.123482</td>\n",
       "      <td>0.159615</td>\n",
       "      <td>0.126233</td>\n",
       "      <td>0.115566</td>\n",
       "      <td>0.105660</td>\n",
       "      <td>...</td>\n",
       "      <td>0.052000</td>\n",
       "      <td>0.081356</td>\n",
       "      <td>0.076531</td>\n",
       "      <td>0.074074</td>\n",
       "      <td>0.127983</td>\n",
       "      <td>0.214521</td>\n",
       "      <td>0.557895</td>\n",
       "      <td>0.124194</td>\n",
       "      <td>0.000000</td>\n",
       "      <td>0</td>\n",
       "    </tr>\n",
       "    <tr>\n",
       "      <th>11</th>\n",
       "      <td>0.057778</td>\n",
       "      <td>0.048048</td>\n",
       "      <td>0.033797</td>\n",
       "      <td>0.029900</td>\n",
       "      <td>0.032538</td>\n",
       "      <td>0.036437</td>\n",
       "      <td>0.055769</td>\n",
       "      <td>0.047337</td>\n",
       "      <td>0.061321</td>\n",
       "      <td>0.030189</td>\n",
       "      <td>...</td>\n",
       "      <td>0.048000</td>\n",
       "      <td>0.035593</td>\n",
       "      <td>0.035714</td>\n",
       "      <td>0.037037</td>\n",
       "      <td>0.043384</td>\n",
       "      <td>0.049505</td>\n",
       "      <td>0.030645</td>\n",
       "      <td>0.000000</td>\n",
       "      <td>0.000000</td>\n",
       "      <td>0</td>\n",
       "    </tr>\n",
       "    <tr>\n",
       "      <th>12</th>\n",
       "      <td>0.004444</td>\n",
       "      <td>0.001988</td>\n",
       "      <td>0.003322</td>\n",
       "      <td>0.002024</td>\n",
       "      <td>0.003945</td>\n",
       "      <td>0.018868</td>\n",
       "      <td>0.001887</td>\n",
       "      <td>0.007678</td>\n",
       "      <td>0.008316</td>\n",
       "      <td>0.006110</td>\n",
       "      <td>...</td>\n",
       "      <td>0.000000</td>\n",
       "      <td>0.000000</td>\n",
       "      <td>0.000000</td>\n",
       "      <td>0.000000</td>\n",
       "      <td>0.000000</td>\n",
       "      <td>0.000000</td>\n",
       "      <td>0.000000</td>\n",
       "      <td>0.000000</td>\n",
       "      <td>0.000000</td>\n",
       "      <td>0</td>\n",
       "    </tr>\n",
       "    <tr>\n",
       "      <th>13</th>\n",
       "      <td>0.055556</td>\n",
       "      <td>0.021021</td>\n",
       "      <td>0.015905</td>\n",
       "      <td>0.518272</td>\n",
       "      <td>0.023861</td>\n",
       "      <td>0.024291</td>\n",
       "      <td>0.028846</td>\n",
       "      <td>0.027613</td>\n",
       "      <td>0.028302</td>\n",
       "      <td>0.041509</td>\n",
       "      <td>...</td>\n",
       "      <td>0.024000</td>\n",
       "      <td>0.010169</td>\n",
       "      <td>0.015306</td>\n",
       "      <td>0.148148</td>\n",
       "      <td>0.043384</td>\n",
       "      <td>0.013201</td>\n",
       "      <td>0.094737</td>\n",
       "      <td>0.019355</td>\n",
       "      <td>0.000000</td>\n",
       "      <td>0</td>\n",
       "    </tr>\n",
       "    <tr>\n",
       "      <th>14</th>\n",
       "      <td>0.077778</td>\n",
       "      <td>0.180180</td>\n",
       "      <td>0.035785</td>\n",
       "      <td>0.023256</td>\n",
       "      <td>0.082430</td>\n",
       "      <td>0.093117</td>\n",
       "      <td>0.096154</td>\n",
       "      <td>0.071006</td>\n",
       "      <td>0.122642</td>\n",
       "      <td>0.058491</td>\n",
       "      <td>...</td>\n",
       "      <td>0.184615</td>\n",
       "      <td>0.112000</td>\n",
       "      <td>0.091525</td>\n",
       "      <td>0.096939</td>\n",
       "      <td>0.148148</td>\n",
       "      <td>0.073753</td>\n",
       "      <td>0.039604</td>\n",
       "      <td>0.073684</td>\n",
       "      <td>0.032258</td>\n",
       "      <td>0</td>\n",
       "    </tr>\n",
       "    <tr>\n",
       "      <th>16</th>\n",
       "      <td>0.093333</td>\n",
       "      <td>0.081081</td>\n",
       "      <td>0.075547</td>\n",
       "      <td>0.036545</td>\n",
       "      <td>0.032538</td>\n",
       "      <td>0.064777</td>\n",
       "      <td>0.051923</td>\n",
       "      <td>0.078895</td>\n",
       "      <td>0.044811</td>\n",
       "      <td>0.050943</td>\n",
       "      <td>...</td>\n",
       "      <td>0.046154</td>\n",
       "      <td>0.108000</td>\n",
       "      <td>0.047458</td>\n",
       "      <td>0.091837</td>\n",
       "      <td>0.037037</td>\n",
       "      <td>0.041215</td>\n",
       "      <td>0.079208</td>\n",
       "      <td>0.042105</td>\n",
       "      <td>0.037097</td>\n",
       "      <td>0</td>\n",
       "    </tr>\n",
       "  </tbody>\n",
       "</table>\n",
       "<p>13 rows × 85 columns</p>\n",
       "</div>"
      ],
      "text/plain": [
       "    AerLingus  Aeroflot_World  AeromexicoUSA  AirCanada  AirFranceIN  \\\n",
       "0    0.104444        0.111111       0.194831   0.142857     0.054230   \n",
       "2    0.057778        0.006006       0.019881   0.003322     0.013015   \n",
       "3    0.040000        0.015015       0.007952   0.016611     0.060738   \n",
       "4    0.046667        0.039039       0.027833   0.036545     0.169197   \n",
       "5    0.002222        0.003839       0.002079   0.004090     0.007282   \n",
       "6    0.171111        0.171171       0.192843   0.073090     0.203905   \n",
       "8    0.146667        0.219219       0.155070   0.063123     0.221258   \n",
       "10   0.142222        0.108108       0.238569   0.053156     0.106291   \n",
       "11   0.057778        0.048048       0.033797   0.029900     0.032538   \n",
       "12   0.004444        0.001988       0.003322   0.002024     0.003945   \n",
       "13   0.055556        0.021021       0.015905   0.518272     0.023861   \n",
       "14   0.077778        0.180180       0.035785   0.023256     0.082430   \n",
       "16   0.093333        0.081081       0.075547   0.036545     0.032538   \n",
       "\n",
       "    AirFranceNG  AirFranceUK  AirFranceUS  Air_Dolomiti  AlaskaAir  ...  \\\n",
       "0      0.072874     0.078846     0.130178      0.108491   0.147170  ...   \n",
       "2      0.010121     0.032692     0.017751      0.028302   0.022642  ...   \n",
       "3      0.022267     0.026923     0.039448      0.037736   0.030189  ...   \n",
       "4      0.070850     0.103846     0.071006      0.037736   0.050943  ...   \n",
       "5      0.001898     0.002387     0.004073      0.002770   0.001912  ...   \n",
       "6      0.216599     0.203846     0.157791      0.195755   0.150943  ...   \n",
       "8      0.263158     0.161538     0.228797      0.200472   0.309434  ...   \n",
       "10     0.123482     0.159615     0.126233      0.115566   0.105660  ...   \n",
       "11     0.036437     0.055769     0.047337      0.061321   0.030189  ...   \n",
       "12     0.018868     0.001887     0.007678      0.008316   0.006110  ...   \n",
       "13     0.024291     0.028846     0.027613      0.028302   0.041509  ...   \n",
       "14     0.093117     0.096154     0.071006      0.122642   0.058491  ...   \n",
       "16     0.064777     0.051923     0.078895      0.044811   0.050943  ...   \n",
       "\n",
       "    iflycaribbean  nokairindia   omanair  qatarairways  tapairportugal  \\\n",
       "0        0.015385     0.068000  0.161017      0.127551        0.111111   \n",
       "2        0.028000     0.035593  0.025510      0.036876        0.013201   \n",
       "3        0.148148     0.041215  0.026403      0.031579        0.020968   \n",
       "4        0.076923     0.032000  0.040678      0.035714        0.037037   \n",
       "5        0.000000     0.000000  0.000000      0.000000        0.000000   \n",
       "6        0.153846     0.108000  0.237288      0.112245        0.148148   \n",
       "8        0.400000     0.380000  0.225424      0.357143        0.111111   \n",
       "10       0.052000     0.081356  0.076531      0.074074        0.127983   \n",
       "11       0.048000     0.035593  0.035714      0.037037        0.043384   \n",
       "12       0.000000     0.000000  0.000000      0.000000        0.000000   \n",
       "13       0.024000     0.010169  0.015306      0.148148        0.043384   \n",
       "14       0.184615     0.112000  0.091525      0.096939        0.148148   \n",
       "16       0.046154     0.108000  0.047458      0.091837        0.037037   \n",
       "\n",
       "    transavia    united   volotea   vueling  wizzair  \n",
       "0    0.169197  0.141914  0.063158  0.056452        0  \n",
       "2    0.031579  0.008065  0.000000  0.000000        0  \n",
       "3    0.000000  0.000000  0.000000  0.000000        0  \n",
       "4    0.049892  0.029703  0.031579  0.019355        0  \n",
       "5    0.000000  0.000000  0.000000  0.000000        0  \n",
       "6    0.214751  0.211221  0.021053  0.074194        0  \n",
       "8    0.143167  0.171617  0.052632  0.574194        0  \n",
       "10   0.214521  0.557895  0.124194  0.000000        0  \n",
       "11   0.049505  0.030645  0.000000  0.000000        0  \n",
       "12   0.000000  0.000000  0.000000  0.000000        0  \n",
       "13   0.013201  0.094737  0.019355  0.000000        0  \n",
       "14   0.073753  0.039604  0.073684  0.032258        0  \n",
       "16   0.041215  0.079208  0.042105  0.037097        0  \n",
       "\n",
       "[13 rows x 85 columns]"
      ]
     },
     "execution_count": 17,
     "metadata": {},
     "output_type": "execute_result"
    }
   ],
   "source": [
    "df_heatmap_topic_lvl_airline_scores"
   ]
  },
  {
   "cell_type": "code",
   "execution_count": 25,
   "id": "d826cc7f",
   "metadata": {},
   "outputs": [],
   "source": [
    "topic_nums_to_names = {\n",
    "    \"0\": \"Charitable work, raising awareness\",\n",
    "    \"2\": \"Future-forward campaigns (i.e. aviation, sustainability)\",\n",
    "    \"3\": \"Travel spots with the best views\",\n",
    "    \"4\": \"Campaign with a contest\",\n",
    "    \"5\": \"Non-stop flight service\",\n",
    "    \"6\": \"Promotional campaign via travel suggestions\",\n",
    "    \"8\": \"Best/lowest/discounted fares\",\n",
    "    \"10\": \"Airline growth (i.e. new routes, aircraft, offerings)\",\n",
    "    \"11\": \"Scenic/peaceful travel destinations\",\n",
    "    \"12\": \"Flight seating (i.e. group seating, upgrades)\",\n",
    "    \"13\": \"Travel alerts and advisories\",\n",
    "    \"14\": \"Visit our website for more info\",\n",
    "    \"16\": \"Tips for comfortable travel experience\"\n",
    "}"
   ]
  },
  {
   "cell_type": "code",
   "execution_count": 29,
   "id": "ebcf7856",
   "metadata": {},
   "outputs": [
    {
     "data": {
      "text/html": [
       "<div>\n",
       "<style scoped>\n",
       "    .dataframe tbody tr th:only-of-type {\n",
       "        vertical-align: middle;\n",
       "    }\n",
       "\n",
       "    .dataframe tbody tr th {\n",
       "        vertical-align: top;\n",
       "    }\n",
       "\n",
       "    .dataframe thead th {\n",
       "        text-align: right;\n",
       "    }\n",
       "</style>\n",
       "<table border=\"1\" class=\"dataframe\">\n",
       "  <thead>\n",
       "    <tr style=\"text-align: right;\">\n",
       "      <th></th>\n",
       "      <th>0</th>\n",
       "      <th>2</th>\n",
       "      <th>3</th>\n",
       "      <th>4</th>\n",
       "      <th>5</th>\n",
       "      <th>6</th>\n",
       "      <th>8</th>\n",
       "      <th>10</th>\n",
       "      <th>11</th>\n",
       "      <th>12</th>\n",
       "      <th>13</th>\n",
       "      <th>14</th>\n",
       "      <th>16</th>\n",
       "    </tr>\n",
       "  </thead>\n",
       "  <tbody>\n",
       "    <tr>\n",
       "      <th>wizzair</th>\n",
       "      <td>0.000000</td>\n",
       "      <td>0.000000</td>\n",
       "      <td>0.000000</td>\n",
       "      <td>0.000000</td>\n",
       "      <td>0.000000</td>\n",
       "      <td>0.000000</td>\n",
       "      <td>0.000000</td>\n",
       "      <td>0.000000</td>\n",
       "      <td>0.000000</td>\n",
       "      <td>0.000000</td>\n",
       "      <td>0.000000</td>\n",
       "      <td>0.000000</td>\n",
       "      <td>0.000000</td>\n",
       "    </tr>\n",
       "    <tr>\n",
       "      <th>vueling</th>\n",
       "      <td>0.056452</td>\n",
       "      <td>0.000000</td>\n",
       "      <td>0.000000</td>\n",
       "      <td>0.019355</td>\n",
       "      <td>0.000000</td>\n",
       "      <td>0.074194</td>\n",
       "      <td>0.574194</td>\n",
       "      <td>0.000000</td>\n",
       "      <td>0.000000</td>\n",
       "      <td>0.000000</td>\n",
       "      <td>0.000000</td>\n",
       "      <td>0.032258</td>\n",
       "      <td>0.037097</td>\n",
       "    </tr>\n",
       "    <tr>\n",
       "      <th>volotea</th>\n",
       "      <td>0.063158</td>\n",
       "      <td>0.000000</td>\n",
       "      <td>0.000000</td>\n",
       "      <td>0.031579</td>\n",
       "      <td>0.000000</td>\n",
       "      <td>0.021053</td>\n",
       "      <td>0.052632</td>\n",
       "      <td>0.124194</td>\n",
       "      <td>0.000000</td>\n",
       "      <td>0.000000</td>\n",
       "      <td>0.019355</td>\n",
       "      <td>0.073684</td>\n",
       "      <td>0.042105</td>\n",
       "    </tr>\n",
       "    <tr>\n",
       "      <th>united</th>\n",
       "      <td>0.141914</td>\n",
       "      <td>0.008065</td>\n",
       "      <td>0.000000</td>\n",
       "      <td>0.029703</td>\n",
       "      <td>0.000000</td>\n",
       "      <td>0.211221</td>\n",
       "      <td>0.171617</td>\n",
       "      <td>0.557895</td>\n",
       "      <td>0.030645</td>\n",
       "      <td>0.000000</td>\n",
       "      <td>0.094737</td>\n",
       "      <td>0.039604</td>\n",
       "      <td>0.079208</td>\n",
       "    </tr>\n",
       "    <tr>\n",
       "      <th>transavia</th>\n",
       "      <td>0.169197</td>\n",
       "      <td>0.031579</td>\n",
       "      <td>0.000000</td>\n",
       "      <td>0.049892</td>\n",
       "      <td>0.000000</td>\n",
       "      <td>0.214751</td>\n",
       "      <td>0.143167</td>\n",
       "      <td>0.214521</td>\n",
       "      <td>0.049505</td>\n",
       "      <td>0.000000</td>\n",
       "      <td>0.013201</td>\n",
       "      <td>0.073753</td>\n",
       "      <td>0.041215</td>\n",
       "    </tr>\n",
       "    <tr>\n",
       "      <th>...</th>\n",
       "      <td>...</td>\n",
       "      <td>...</td>\n",
       "      <td>...</td>\n",
       "      <td>...</td>\n",
       "      <td>...</td>\n",
       "      <td>...</td>\n",
       "      <td>...</td>\n",
       "      <td>...</td>\n",
       "      <td>...</td>\n",
       "      <td>...</td>\n",
       "      <td>...</td>\n",
       "      <td>...</td>\n",
       "      <td>...</td>\n",
       "    </tr>\n",
       "    <tr>\n",
       "      <th>AirFranceIN</th>\n",
       "      <td>0.054230</td>\n",
       "      <td>0.013015</td>\n",
       "      <td>0.060738</td>\n",
       "      <td>0.169197</td>\n",
       "      <td>0.007282</td>\n",
       "      <td>0.203905</td>\n",
       "      <td>0.221258</td>\n",
       "      <td>0.106291</td>\n",
       "      <td>0.032538</td>\n",
       "      <td>0.003945</td>\n",
       "      <td>0.023861</td>\n",
       "      <td>0.082430</td>\n",
       "      <td>0.032538</td>\n",
       "    </tr>\n",
       "    <tr>\n",
       "      <th>AirCanada</th>\n",
       "      <td>0.142857</td>\n",
       "      <td>0.003322</td>\n",
       "      <td>0.016611</td>\n",
       "      <td>0.036545</td>\n",
       "      <td>0.004090</td>\n",
       "      <td>0.073090</td>\n",
       "      <td>0.063123</td>\n",
       "      <td>0.053156</td>\n",
       "      <td>0.029900</td>\n",
       "      <td>0.002024</td>\n",
       "      <td>0.518272</td>\n",
       "      <td>0.023256</td>\n",
       "      <td>0.036545</td>\n",
       "    </tr>\n",
       "    <tr>\n",
       "      <th>AeromexicoUSA</th>\n",
       "      <td>0.194831</td>\n",
       "      <td>0.019881</td>\n",
       "      <td>0.007952</td>\n",
       "      <td>0.027833</td>\n",
       "      <td>0.002079</td>\n",
       "      <td>0.192843</td>\n",
       "      <td>0.155070</td>\n",
       "      <td>0.238569</td>\n",
       "      <td>0.033797</td>\n",
       "      <td>0.003322</td>\n",
       "      <td>0.015905</td>\n",
       "      <td>0.035785</td>\n",
       "      <td>0.075547</td>\n",
       "    </tr>\n",
       "    <tr>\n",
       "      <th>Aeroflot_World</th>\n",
       "      <td>0.111111</td>\n",
       "      <td>0.006006</td>\n",
       "      <td>0.015015</td>\n",
       "      <td>0.039039</td>\n",
       "      <td>0.003839</td>\n",
       "      <td>0.171171</td>\n",
       "      <td>0.219219</td>\n",
       "      <td>0.108108</td>\n",
       "      <td>0.048048</td>\n",
       "      <td>0.001988</td>\n",
       "      <td>0.021021</td>\n",
       "      <td>0.180180</td>\n",
       "      <td>0.081081</td>\n",
       "    </tr>\n",
       "    <tr>\n",
       "      <th>AerLingus</th>\n",
       "      <td>0.104444</td>\n",
       "      <td>0.057778</td>\n",
       "      <td>0.040000</td>\n",
       "      <td>0.046667</td>\n",
       "      <td>0.002222</td>\n",
       "      <td>0.171111</td>\n",
       "      <td>0.146667</td>\n",
       "      <td>0.142222</td>\n",
       "      <td>0.057778</td>\n",
       "      <td>0.004444</td>\n",
       "      <td>0.055556</td>\n",
       "      <td>0.077778</td>\n",
       "      <td>0.093333</td>\n",
       "    </tr>\n",
       "  </tbody>\n",
       "</table>\n",
       "<p>85 rows × 13 columns</p>\n",
       "</div>"
      ],
      "text/plain": [
       "                      0         2         3         4         5         6   \\\n",
       "wizzair         0.000000  0.000000  0.000000  0.000000  0.000000  0.000000   \n",
       "vueling         0.056452  0.000000  0.000000  0.019355  0.000000  0.074194   \n",
       "volotea         0.063158  0.000000  0.000000  0.031579  0.000000  0.021053   \n",
       "united          0.141914  0.008065  0.000000  0.029703  0.000000  0.211221   \n",
       "transavia       0.169197  0.031579  0.000000  0.049892  0.000000  0.214751   \n",
       "...                  ...       ...       ...       ...       ...       ...   \n",
       "AirFranceIN     0.054230  0.013015  0.060738  0.169197  0.007282  0.203905   \n",
       "AirCanada       0.142857  0.003322  0.016611  0.036545  0.004090  0.073090   \n",
       "AeromexicoUSA   0.194831  0.019881  0.007952  0.027833  0.002079  0.192843   \n",
       "Aeroflot_World  0.111111  0.006006  0.015015  0.039039  0.003839  0.171171   \n",
       "AerLingus       0.104444  0.057778  0.040000  0.046667  0.002222  0.171111   \n",
       "\n",
       "                      8         10        11        12        13        14  \\\n",
       "wizzair         0.000000  0.000000  0.000000  0.000000  0.000000  0.000000   \n",
       "vueling         0.574194  0.000000  0.000000  0.000000  0.000000  0.032258   \n",
       "volotea         0.052632  0.124194  0.000000  0.000000  0.019355  0.073684   \n",
       "united          0.171617  0.557895  0.030645  0.000000  0.094737  0.039604   \n",
       "transavia       0.143167  0.214521  0.049505  0.000000  0.013201  0.073753   \n",
       "...                  ...       ...       ...       ...       ...       ...   \n",
       "AirFranceIN     0.221258  0.106291  0.032538  0.003945  0.023861  0.082430   \n",
       "AirCanada       0.063123  0.053156  0.029900  0.002024  0.518272  0.023256   \n",
       "AeromexicoUSA   0.155070  0.238569  0.033797  0.003322  0.015905  0.035785   \n",
       "Aeroflot_World  0.219219  0.108108  0.048048  0.001988  0.021021  0.180180   \n",
       "AerLingus       0.146667  0.142222  0.057778  0.004444  0.055556  0.077778   \n",
       "\n",
       "                      16  \n",
       "wizzair         0.000000  \n",
       "vueling         0.037097  \n",
       "volotea         0.042105  \n",
       "united          0.079208  \n",
       "transavia       0.041215  \n",
       "...                  ...  \n",
       "AirFranceIN     0.032538  \n",
       "AirCanada       0.036545  \n",
       "AeromexicoUSA   0.075547  \n",
       "Aeroflot_World  0.081081  \n",
       "AerLingus       0.093333  \n",
       "\n",
       "[85 rows x 13 columns]"
      ]
     },
     "execution_count": 29,
     "metadata": {},
     "output_type": "execute_result"
    }
   ],
   "source": [
    "df_heatmap_topic_lvl_airline_scores.T.loc[::-1, :]"
   ]
  },
  {
   "cell_type": "code",
   "execution_count": 76,
   "id": "95556e50-c43c-4dfa-b942-9c84bcb7eb3d",
   "metadata": {},
   "outputs": [
    {
     "data": {
      "application/vnd.plotly.v1+json": {
       "config": {
        "plotlyServerURL": "https://plot.ly"
       },
       "data": [
        {
         "colorscale": [
          [
           0,
           "#440154"
          ],
          [
           0.1111111111111111,
           "#482878"
          ],
          [
           0.2222222222222222,
           "#3e4989"
          ],
          [
           0.3333333333333333,
           "#31688e"
          ],
          [
           0.4444444444444444,
           "#26828e"
          ],
          [
           0.5555555555555556,
           "#1f9e89"
          ],
          [
           0.6666666666666666,
           "#35b779"
          ],
          [
           0.7777777777777778,
           "#6ece58"
          ],
          [
           0.8888888888888888,
           "#b5de2b"
          ],
          [
           1,
           "#fde725"
          ]
         ],
         "type": "heatmap",
         "x": [
          "Charitable work, raising awareness",
          "Future-forward campaigns (i.e. aviation, sustainability)",
          "Travel spots with the best views",
          "Campaign with a contest",
          "Non-stop flight service",
          "Promotional campaign via travel suggestions",
          "Best/lowest/discounted fares",
          "Airline growth (i.e. new routes, aircraft, offerings)",
          "Scenic/peaceful travel destinations",
          "Flight seating (i.e. group seating, upgrades)",
          "Travel alerts and advisories",
          "Visit our website for more info",
          "Tips for comfortable travel experience"
         ],
         "y": [
          "wizzair",
          "vueling",
          "volotea",
          "united",
          "transavia",
          "tapairportugal",
          "qatarairways",
          "omanair",
          "nokairindia",
          "iflycaribbean",
          "flyvolaris",
          "flyspicejet",
          "flymepegasus",
          "flyethiopian",
          "flyPAL",
          "etihad",
          "emirates",
          "easyJet",
          "cathaypacific",
          "airindiain",
          "airfrance",
          "airasia",
          "airarabiagroup",
          "airBaltic",
          "_austrian",
          "WestJet",
          "VirginAtlantic",
          "VietnamAirlines",
          "VietjetairCom",
          "TurkishAirlines",
          "ThaiAirways",
          "SpiritAirlines",
          "SouthwestAir",
          "SingaporeAir",
          "SaudiAirlinesEn",
          "SAS",
          "Ryanair",
          "RoyalJordanian",
          "RAM_Maroc",
          "Qantas",
          "NokAirlines_ENG",
          "MEAAIRLIBAN",
          "MAS",
          "Lufthansa_USA",
          "LATAMAirlinesUS",
          "KuwaitAirways",
          "KoreanAir_KE",
          "KLM",
          "Jetstar_Asia",
          "JetstarAirways",
          "JetBlue",
          "JazeeraAirways",
          "IndonesiaGaruda",
          "IndiGo6E",
          "Iberia_en",
          "HawaiianAir",
          "GulfAir",
          "GoFirstairways",
          "FlySWISS",
          "FlyFrontier",
          "FlyAirNZ",
          "FlyANA_official",
          "FlairAirlines",
          "Finnair",
          "ELALUSA",
          "EGYPTAIR",
          "Delta",
          "Condor_America",
          "CebuPacificAir",
          "CEAirglobal",
          "British_Airways",
          "AviancaNAM",
          "AsianaAirlines",
          "AmericanAir",
          "Allegiant",
          "AlaskaAir",
          "Air_Dolomiti",
          "AirFranceUS",
          "AirFranceUK",
          "AirFranceNG",
          "AirFranceIN",
          "AirCanada",
          "AeromexicoUSA",
          "Aeroflot_World",
          "AerLingus"
         ],
         "z": [
          [
           0,
           0,
           0,
           0,
           0,
           0,
           0,
           0,
           0,
           0,
           0,
           0,
           0
          ],
          [
           0.056451612903225805,
           0,
           0,
           0.01935483870967742,
           0,
           0.07419354838709677,
           0.5741935483870968,
           0,
           0,
           0,
           0,
           0.03225806451612903,
           0.037096774193548385
          ],
          [
           0.06315789473684211,
           0,
           0,
           0.031578947368421054,
           0,
           0.021052631578947368,
           0.05263157894736842,
           0.12419354838709677,
           0,
           0,
           0.01935483870967742,
           0.07368421052631578,
           0.042105263157894736
          ],
          [
           0.1419141914191419,
           0.008064516129032258,
           0,
           0.0297029702970297,
           0,
           0.21122112211221122,
           0.1716171617161716,
           0.5578947368421052,
           0.03064516129032258,
           0,
           0.09473684210526316,
           0.039603960396039604,
           0.07920792079207921
          ],
          [
           0.16919739696312364,
           0.031578947368421054,
           0,
           0.049891540130151846,
           0,
           0.21475054229934923,
           0.14316702819956617,
           0.2145214521452145,
           0.04950495049504951,
           0,
           0.013201320132013201,
           0.0737527114967462,
           0.04121475054229935
          ],
          [
           0.1111111111111111,
           0.013201320132013201,
           0.020967741935483872,
           0.037037037037037035,
           0,
           0.14814814814814814,
           0.1111111111111111,
           0.1279826464208243,
           0.04338394793926247,
           0,
           0.04338394793926247,
           0.14814814814814814,
           0.037037037037037035
          ],
          [
           0.12755102040816327,
           0.0368763557483731,
           0.031578947368421054,
           0.03571428571428571,
           0,
           0.11224489795918367,
           0.35714285714285715,
           0.07407407407407407,
           0.037037037037037035,
           0,
           0.14814814814814814,
           0.09693877551020408,
           0.09183673469387756
          ],
          [
           0.16101694915254236,
           0.025510204081632654,
           0.026402640264026403,
           0.04067796610169491,
           0,
           0.23728813559322035,
           0.22542372881355932,
           0.07653061224489796,
           0.03571428571428571,
           0,
           0.015306122448979591,
           0.09152542372881356,
           0.04745762711864407
          ],
          [
           0.068,
           0.03559322033898305,
           0.04121475054229935,
           0.032,
           0,
           0.108,
           0.38,
           0.08135593220338982,
           0.03559322033898305,
           0,
           0.010169491525423728,
           0.112,
           0.108
          ],
          [
           0.015384615384615385,
           0.028,
           0.14814814814814814,
           0.07692307692307693,
           0,
           0.15384615384615385,
           0.4,
           0.052,
           0.048,
           0,
           0.024,
           0.18461538461538463,
           0.046153846153846156
          ],
          [
           0.07366071428571429,
           0.026785714285714284,
           0.025510204081632654,
           0.05357142857142857,
           0,
           0.22544642857142858,
           0.2924107142857143,
           0.015384615384615385,
           0.1076923076923077,
           0,
           0.060267857142857144,
           0.09151785714285714,
           0.05133928571428571
          ],
          [
           0.1966019417475728,
           0.021844660194174758,
           0.0288135593220339,
           0.0412621359223301,
           0,
           0.11165048543689321,
           0.24514563106796117,
           0.06473214285714286,
           0.024553571428571428,
           0,
           0.02669902912621359,
           0.0412621359223301,
           0.05825242718446602
          ],
          [
           0.11912225705329153,
           0.05329153605015674,
           0.028,
           0.06269592476489028,
           0,
           0.19435736677115986,
           0.34796238244514105,
           0.16990291262135923,
           0.04611650485436893,
           0,
           0.006269592476489028,
           0.08150470219435736,
           0.01567398119122257
          ],
          [
           0.10836501901140684,
           0.022813688212927757,
           0.024553571428571428,
           0.019011406844106463,
           0,
           0.17300380228136883,
           0.2509505703422053,
           0.05329153605015674,
           0.03134796238244514,
           0,
           0.017110266159695818,
           0.11026615969581749,
           0.08745247148288973
          ],
          [
           0.11068702290076336,
           0.05343511450381679,
           0.03398058252427184,
           0.07061068702290077,
           0,
           0.18702290076335878,
           0.16030534351145037,
           0.11596958174904944,
           0.0741444866920152,
           0,
           0.07251908396946564,
           0.09923664122137404,
           0.10305343511450382
          ],
          [
           0.13216957605985039,
           0.029925187032418952,
           0.02821316614420063,
           0.05236907730673317,
           0,
           0.15211970074812967,
           0.19451371571072318,
           0.07633587786259542,
           0.019083969465648856,
           0,
           0.10224438902743142,
           0.059850374064837904,
           0.08478802992518704
          ],
          [
           0.1601642710472279,
           0.04106776180698152,
           0.019011406844106463,
           0.028747433264887063,
           0,
           0.19301848049281314,
           0.19301848049281314,
           0.11221945137157108,
           0.04987531172069826,
           0,
           0.049281314168377825,
           0.0944558521560575,
           0.07597535934291581
          ],
          [
           0.18309859154929578,
           0.05432595573440644,
           0.03244274809160305,
           0.04426559356136821,
           0,
           0.1750503018108652,
           0.16297786720321933,
           0.09034907597535935,
           0.045174537987679675,
           0,
           0.03219315895372234,
           0.052313883299798795,
           0.09859154929577464
          ],
          [
           0.14338235294117646,
           0.03860294117647059,
           0.022443890274314215,
           0.09926470588235294,
           0,
           0.1213235294117647,
           0.19669117647058823,
           0.11066398390342053,
           0.03822937625754527,
           0,
           0.022058823529411766,
           0.0974264705882353,
           0.06066176470588235
          ],
          [
           0.19123505976095617,
           0.025896414342629483,
           0.022587268993839837,
           0.04780876494023904,
           0,
           0.14940239043824702,
           0.14940239043824702,
           0.10477941176470588,
           0.05698529411764706,
           0,
           0.025896414342629483,
           0.1693227091633466,
           0.05776892430278884
          ],
          [
           0.11956521739130435,
           0.009057971014492754,
           0.03621730382293763,
           0.018115942028985508,
           0,
           0.5181159420289855,
           0.18478260869565216,
           0.08366533864541832,
           0.06374501992031872,
           0.0016129032258064516,
           0.010869565217391304,
           0.05615942028985507,
           0.030797101449275364
          ],
          [
           0.15639810426540285,
           0.03317535545023697,
           0.04963235294117647,
           0.04976303317535545,
           0,
           0.15639810426540285,
           0.14691943127962084,
           0.021739130434782608,
           0.018115942028985508,
           0.009900990099009901,
           0.02843601895734597,
           0.08293838862559241,
           0.13507109004739337
          ],
          [
           0.0899581589958159,
           0.02301255230125523,
           0.017928286852589643,
           0.043933054393305436,
           0,
           0.1297071129707113,
           0.37447698744769875,
           0.12085308056872038,
           0.04265402843601896,
           0.006507592190889371,
           0.043933054393305436,
           0.07740585774058577,
           0.04184100418410042
          ],
          [
           0.0776255707762557,
           0.0365296803652968,
           0.010869565217391304,
           0.0319634703196347,
           0,
           0.2602739726027397,
           0.228310502283105,
           0.07112970711297072,
           0.06485355648535565,
           0.005084745762711864,
           0.0365296803652968,
           0.0730593607305936,
           0.0730593607305936
          ],
          [
           0.09895833333333333,
           0.033854166666666664,
           0.04265402843601896,
           0.049479166666666664,
           0,
           0.1015625,
           0.34375,
           0.0684931506849315,
           0.0730593607305936,
           0.008,
           0.026041666666666668,
           0.0390625,
           0.049479166666666664
          ],
          [
           0.17191977077363896,
           0.054441260744985676,
           0.03347280334728033,
           0.04297994269340974,
           0,
           0.2148997134670487,
           0.15759312320916904,
           0.17708333333333334,
           0.049479166666666664,
           0.011160714285714286,
           0.02865329512893983,
           0.09455587392550144,
           0.034383954154727794
          ],
          [
           0.22699386503067484,
           0.022494887525562373,
           0.0319634703196347,
           0.06134969325153374,
           0,
           0.13701431492842536,
           0.20449897750511248,
           0.06876790830945559,
           0.05157593123209169,
           0.007281553398058253,
           0.04294478527607362,
           0.10224948875255624,
           0.053169734151329244
          ],
          [
           0.1713747645951036,
           0.04331450094161959,
           0.018229166666666668,
           0.06591337099811675,
           0,
           0.21657250470809794,
           0.22598870056497175,
           0.081799591002045,
           0.03885480572597137,
           0.006269592476489028,
           0.005649717514124294,
           0.062146892655367235,
           0.05649717514124294
          ],
          [
           0.12781954887218044,
           0.03007518796992481,
           0.0659025787965616,
           0.03759398496240601,
           0,
           0.14285714285714285,
           0.3157894736842105,
           0.1016949152542373,
           0.02824858757062147,
           0.0019083969465648854,
           0.022556390977443608,
           0.11278195488721804,
           0.05263157894736842
          ],
          [
           0.17540322580645162,
           0.04838709677419355,
           0.018404907975460124,
           0.5,
           0,
           0.11290322580645161,
           0.16330645161290322,
           0.09022556390977443,
           0.03759398496240601,
           0.007481296758104738,
           0.5,
           0.0967741935483871,
           0.13911290322580644
          ],
          [
           0.1,
           0.017948717948717947,
           0.02071563088512241,
           0.036290322580645164,
           0,
           0.19743589743589743,
           0.34615384615384615,
           0.09879032258064516,
           0.04435483870967742,
           0.006160164271047228,
           0.05040322580645161,
           0.09743589743589744,
           0.038461538461538464
          ],
          [
           0.15495495495495495,
           0.021621621621621623,
           0.022556390977443608,
           0.05897435897435897,
           0,
           0.08828828828828829,
           0.36396396396396397,
           0.04871794871794872,
           0.04871794871794872,
           0.004024144869215292,
           0.023076923076923078,
           0.036036036036036036,
           0.021621621621621623
          ],
          [
           0.18181818181818182,
           0.042283298097251586,
           0.03225806451612903,
           0.0936936936936937,
           0,
           0.1543340380549683,
           0.22410147991543342,
           0.13693693693693693,
           0.012612612612612612,
           0.007352941176470588,
           0.03963963963963964,
           0.06765327695560254,
           0.052854122621564484
          ],
          [
           0.05672268907563025,
           0.01050420168067227,
           0.020512820512820513,
           0.0613107822410148,
           0,
           0.06512605042016807,
           0.09873949579831932,
           0.080338266384778,
           0.05708245243128964,
           0.01195219123505976,
           0.02748414376321353,
           0.04831932773109244,
           0.28781512605042014
          ],
          [
           0.13432835820895522,
           0.014925373134328358,
           0.016216216216216217,
           0.01680672268907563,
           0,
           0.08955223880597014,
           0.2835820895522388,
           0.04201680672268908,
           0.012605042016806723,
           0.0018115942028985507,
           0.34663865546218486,
           0.11940298507462686,
           0.14925373134328357
          ],
          [
           0.16255144032921812,
           0.024691358024691357,
           0.042283298097251586,
           0.1044776119402985,
           0,
           0.12551440329218108,
           0.1748971193415638,
           0.04477611940298507,
           0.029850746268656716,
           0.002369668246445498,
           0.029850746268656716,
           0.09465020576131687,
           0.04938271604938271
          ],
          [
           0.07102272727272728,
           0.04261363636363636,
           0.01050420168067227,
           0.030864197530864196,
           0,
           0.1875,
           0.18181818181818182,
           0.21810699588477367,
           0.05555555555555555,
           0.0041841004184100415,
           0.024691358024691357,
           0.06534090909090909,
           0.05965909090909091
          ],
          [
           0.09961685823754789,
           0.011494252873563218,
           0.03497942386831276,
           0.08806818181818182,
           0,
           0.07279693486590039,
           0.5555555555555556,
           0.11079545454545454,
           0.10795454545454546,
           0.0091324200913242,
           0.028409090909090908,
           0.06896551724137931,
           0.02681992337164751
          ],
          [
           0.20967741935483872,
           0.04032258064516129,
           0.05397727272727273,
           0.034482758620689655,
           0,
           0.07258064516129033,
           0.23387096774193547,
           0.038314176245210725,
           0.03065134099616858,
           0.0078125,
           0.034482758620689655,
           0.22580645161290322,
           0.10483870967741936
          ],
          [
           0.12,
           0.032,
           0.01532567049808429,
           0.008064516129032258,
           0,
           0.128,
           0.3253333333333333,
           0.04032258064516129,
           0.03225806451612903,
           0.011461318051575931,
           0.016129032258064516,
           0.04533333333333334,
           0.09333333333333334
          ],
          [
           0.06682577565632458,
           0.016706443914081145,
           0.016129032258064516,
           0.034666666666666665,
           0,
           0.10978520286396182,
           0.5011933174224343,
           0.10666666666666667,
           0.04533333333333334,
           0.0081799591002045,
           0.016,
           0.03818615751789976,
           0.059665871121718374
          ],
          [
           0.08333333333333333,
           0.021929824561403508,
           0.04533333333333334,
           0.014319809069212411,
           0,
           0.19298245614035087,
           0.20175438596491227,
           0.06682577565632458,
           0.06443914081145585,
           0.0020161290322580645,
           0.021479713603818614,
           0.06578947368421052,
           0.07456140350877193
          ],
          [
           0.08726003490401396,
           0.04013961605584642,
           0.02386634844868735,
           0.10526315789473684,
           0,
           0.12914485165794065,
           0.20767888307155322,
           0.15350877192982457,
           0.07017543859649122,
           0.010810810810810811,
           0.0043859649122807015,
           0.08726003490401396,
           0.09947643979057591
          ],
          [
           0.11842105263157894,
           0.03289473684210526,
           0.02631578947368421,
           0.1012216404886562,
           0,
           0.17763157894736842,
           0.17982456140350878,
           0.09424083769633508,
           0.07155322862129145,
           0.008456659619450317,
           0.02617801047120419,
           0.10526315789473684,
           0.06359649122807018
          ],
          [
           0.11764705882352941,
           0.030425963488843813,
           0.0506108202443281,
           0.05921052631578947,
           0,
           0.23123732251521298,
           0.23529411764705882,
           0.08333333333333333,
           0.06359649122807018,
           0.004201680672268907,
           0.043859649122807015,
           0.09939148073022312,
           0.0486815415821501
          ],
          [
           0.08139534883720931,
           0.05813953488372093,
           0.06578947368421052,
           0.04665314401622718,
           0,
           0.046511627906976744,
           0.18604651162790697,
           0.09330628803245436,
           0.05273833671399594,
           0.00205761316872428,
           0.02231237322515213,
           0.4069767441860465,
           0.06976744186046512
          ],
          [
           0.112,
           0.016,
           0.018255578093306288,
           0.042666666666666665,
           0,
           0.152,
           0.14133333333333334,
           0.09302325581395349,
           0.03488372093023256,
           0.002840909090909091,
           0.011627906976744186,
           0.18666666666666668,
           0.07466666666666667
          ],
          [
           0.1108695652173913,
           0.04565217391304348,
           0.011627906976744186,
           0.08260869565217391,
           0,
           0.1826086956521739,
           0.16956521739130434,
           0.08533333333333333,
           0.11733333333333333,
           0.007662835249042145,
           0.032,
           0.05434782608695652,
           0.058695652173913045
          ],
          [
           0.031982942430703626,
           0.0511727078891258,
           0.029333333333333333,
           0.11513859275053305,
           0,
           0.18763326226012794,
           0.2622601279317697,
           0.11956521739130435,
           0.07391304347826087,
           0.008,
           0.02826086956521739,
           0.06183368869936034,
           0.08528784648187633
          ],
          [
           0.12954545454545455,
           0.031818181818181815,
           0.06956521739130435,
           0.06136363636363636,
           0,
           0.1409090909090909,
           0.2,
           0.09808102345415778,
           0.03837953091684435,
           0.00477326968973747,
           0.02771855010660981,
           0.06363636363636363,
           0.09772727272727273
          ],
          [
           0.171875,
           0.0234375,
           0.03411513859275053,
           0.08984375,
           0,
           0.13671875,
           0.2890625,
           0.11136363636363636,
           0.04318181818181818,
           0.005235602094240838,
           0.09090909090909091,
           0.04296875,
           0.025390625
          ],
          [
           0.09859154929577464,
           0.0035211267605633804,
           0.025,
           0.07042253521126761,
           0.0016129032258064516,
           0.09154929577464789,
           0.45422535211267606,
           0.119140625,
           0.037109375,
           0.006578947368421052,
           0.037109375,
           0.08450704225352113,
           0.06338028169014084
          ],
          [
           0.06666666666666667,
           0.06666666666666667,
           0.021484375,
           0.06666666666666667,
           0.008676789587852495,
           0.06666666666666667,
           0.4666666666666667,
           0.06690140845070422,
           0.02464788732394366,
           0.004056795131845842,
           0.01056338028169014,
           0.2,
           0.06666666666666667
          ],
          [
           0.13024282560706402,
           0.06181015452538632,
           0.02464788732394366,
           0.039735099337748346,
           0.004,
           0.2097130242825607,
           0.24724061810154527,
           0.06622516556291391,
           0.05518763796909492,
           0.010666666666666666,
           0.02869757174392936,
           0.09492273730684327,
           0.02869757174392936
          ],
          [
           0.14694656488549618,
           0.05152671755725191,
           0.03090507726269316,
           0.04389312977099236,
           0.0019011406844106464,
           0.13740458015267176,
           0.15458015267175573,
           0.11450381679389313,
           0.05534351145038168,
           0.004347826086956522,
           0.013358778625954198,
           0.16412213740458015,
           0.07442748091603053
          ],
          [
           0.14309484193011648,
           0.026622296173044926,
           0.04198473282442748,
           0.14309484193011648,
           0.013358778625954198,
           0.13810316139767054,
           0.16638935108153077,
           0.064891846921797,
           0.03826955074875208,
           0.006396588486140725,
           0.033277870216306155,
           0.14143094841930118,
           0.03494176372712146
          ],
          [
           0.08695652173913043,
           0.028985507246376812,
           0.06655574043261231,
           0.014492753623188406,
           0.008048289738430584,
           0.11594202898550725,
           0.4057971014492754,
           0.028985507246376812,
           0.014492753623188406,
           0.004545454545454545,
           0.043478260869565216,
           0.11594202898550725,
           0.11594202898550725
          ],
          [
           0.13901345291479822,
           0.02242152466367713,
           0.013452914798206279,
           0.05829596412556054,
           0.001838235294117647,
           0.10538116591928251,
           0.3004484304932735,
           0.05829596412556054,
           0.05605381165919283,
           0.001953125,
           0.08071748878923767,
           0.06502242152466367,
           0.07847533632286996
          ],
          [
           0.14985590778097982,
           0.04899135446685879,
           0.06628242074927954,
           0.09221902017291066,
           0.00597609561752988,
           0.17579250720461095,
           0.1729106628242075,
           0.09798270893371758,
           0.03170028818443804,
           0.0035211267605633804,
           0.025936599423631124,
           0.09798270893371758,
           0.03170028818443804
          ],
          [
           0.11900191938579655,
           0.02495201535508637,
           0.02111324376199616,
           0.07677543186180422,
           0.002369668246445498,
           0.14779270633397312,
           0.2456813819577735,
           0.18234165067178504,
           0.026871401151631478,
           0.006622516556291391,
           0.023032629558541268,
           0.046065259117082535,
           0.04798464491362764
          ],
          [
           0.15982721382289417,
           0.04535637149028078,
           0.09287257019438445,
           0.04535637149028078,
           0.0020920502092050207,
           0.16198704103671707,
           0.14254859611231102,
           0.11447084233261338,
           0.06695464362850972,
           0.0019083969465648854,
           0.03023758099352052,
           0.06911447084233262,
           0.06263498920086392
          ],
          [
           0.1950286806883365,
           0.032504780114722756,
           0.06692160611854685,
           0.07265774378585087,
           0.005208333333333333,
           0.16443594646271512,
           0.15296367112810708,
           0.08795411089866156,
           0.06309751434034416,
           0.0016638935108153079,
           0.04206500956022945,
           0.0745697896749522,
           0.0248565965583174
          ],
          [
           0.11080332409972299,
           0.04986149584487535,
           0.038781163434903045,
           0.04155124653739612,
           0.0028653295128939827,
           0.15512465373961218,
           0.3462603878116344,
           0.11357340720221606,
           0.0221606648199446,
           0.028985507246376812,
           0.01662049861495845,
           0.05263157894736842,
           0.04986149584487535
          ],
          [
           0.1079429735234216,
           0.016293279022403257,
           0.026476578411405296,
           0.028513238289205704,
           0.002044989775051125,
           0.11608961303462322,
           0.2708757637474542,
           0.1120162932790224,
           0.04073319755600815,
           0.02242152466367713,
           0.06720977596741344,
           0.0814663951120163,
           0.12219959266802444
          ],
          [
           0.07637231503579953,
           0.016706443914081145,
           0.0405727923627685,
           0.05489260143198091,
           0.0018832391713747645,
           0.15990453460620524,
           0.22911694510739858,
           0.11217183770883055,
           0.1431980906921241,
           0.008645533141210375,
           0.00954653937947494,
           0.11694510739856802,
           0.03579952267303103
          ],
          [
           0.07783018867924528,
           0.014150943396226415,
           0.014150943396226415,
           0.02358490566037736,
           0.007518796992481203,
           0.13443396226415094,
           0.5212264150943396,
           0.02830188679245283,
           0.04009433962264151,
           0.003838771593090211,
           0.01179245283018868,
           0.11320754716981132,
           0.02122641509433962
          ],
          [
           0.20683111954459202,
           0.022770398481973434,
           0.013282732447817837,
           0.06072106261859583,
           0.002564102564102564,
           0.15370018975332067,
           0.15370018975332067,
           0.08918406072106262,
           0.03984819734345351,
           0.008639308855291577,
           0.09108159392789374,
           0.058823529411764705,
           0.09297912713472485
          ],
          [
           0.0970873786407767,
           0.02912621359223301,
           0.05825242718446602,
           0.09223300970873786,
           0.0036036036036036037,
           0.17475728155339806,
           0.1820388349514563,
           0.11165048543689321,
           0.055825242718446605,
           0.021032504780114723,
           0.0024271844660194173,
           0.08980582524271845,
           0.09223300970873786
          ],
          [
           0.07507507507507508,
           0.003003003003003003,
           0.009009009009009009,
           0.009009009009009009,
           0.00205761316872428,
           0.08708708708708708,
           0.4864864864864865,
           0.03003003003003003,
           0.08408408408408409,
           0.006109979633401222,
           0.0990990990990991,
           0.05405405405405406,
           0.05405405405405406
          ],
          [
           0.22085889570552147,
           0.04294478527607362,
           0.03885480572597137,
           0.049079754601226995,
           0.0038314176245210726,
           0.2147239263803681,
           0.10429447852760736,
           0.1411042944785276,
           0.04703476482617587,
           0.002386634844868735,
           0.006134969325153374,
           0.08997955010224949,
           0.032719836400818
          ],
          [
           0.16317016317016317,
           0.07459207459207459,
           0.023310023310023312,
           0.046620046620046623,
           0.011933174224343675,
           0.22144522144522144,
           0.14685314685314685,
           0.1351981351981352,
           0.037296037296037296,
           0.015180265654648957,
           0.04428904428904429,
           0.06293706293706294,
           0.04428904428904429
          ],
          [
           0.07865168539325842,
           0.0149812734082397,
           0.003745318352059925,
           0.011235955056179775,
           0.00390625,
           0.09363295880149813,
           0.5917602996254682,
           0.10486891385767791,
           0.0149812734082397,
           0.007281553398058253,
           0.018726591760299626,
           0.018726591760299626,
           0.04119850187265917
          ],
          [
           0.07739307535641547,
           0.028513238289205704,
           0.018329938900203666,
           0.109979633401222,
           0.0035211267605633804,
           0.18329938900203666,
           0.17311608961303462,
           0.1446028513238289,
           0.05091649694501019,
           0.009009009009009009,
           0.018329938900203666,
           0.109979633401222,
           0.07942973523421588
          ],
          [
           0.2785862785862786,
           0.056133056133056136,
           0.04365904365904366,
           0.062370062370062374,
           0.0016638935108153079,
           0.16632016632016633,
           0.11226611226611227,
           0.09355509355509356,
           0.031185031185031187,
           0.0081799591002045,
           0.062370062370062374,
           0.05197505197505198,
           0.031185031185031187
          ],
          [
           0.15930902111324377,
           0.03838771593090211,
           0.05758157389635317,
           0.09404990403071017,
           0.0345489443378119,
           0.1785028790786948,
           0.14587332053742802,
           0.1343570057581574,
           0.06333973128598848,
           0.00749063670411985,
           0.02111324376199616,
           0.053742802303262956,
           0.04222648752399232
          ],
          [
           0.1471698113207547,
           0.022641509433962263,
           0.03018867924528302,
           0.0509433962264151,
           0.0019120458891013384,
           0.1509433962264151,
           0.30943396226415093,
           0.10566037735849057,
           0.03018867924528302,
           0.006109979633401222,
           0.04150943396226415,
           0.05849056603773585,
           0.0509433962264151
          ],
          [
           0.10849056603773585,
           0.02830188679245283,
           0.03773584905660377,
           0.03773584905660377,
           0.002770083102493075,
           0.1957547169811321,
           0.20047169811320756,
           0.11556603773584906,
           0.06132075471698113,
           0.008316008316008316,
           0.02830188679245283,
           0.12264150943396226,
           0.04481132075471698
          ],
          [
           0.1301775147928994,
           0.01775147928994083,
           0.03944773175542406,
           0.07100591715976332,
           0.004073319755600814,
           0.15779092702169625,
           0.22879684418145957,
           0.126232741617357,
           0.047337278106508875,
           0.007677543186180422,
           0.027613412228796843,
           0.07100591715976332,
           0.07889546351084813
          ],
          [
           0.07884615384615384,
           0.032692307692307694,
           0.026923076923076925,
           0.10384615384615385,
           0.002386634844868735,
           0.20384615384615384,
           0.16153846153846155,
           0.1596153846153846,
           0.05576923076923077,
           0.0018867924528301887,
           0.028846153846153848,
           0.09615384615384616,
           0.051923076923076926
          ],
          [
           0.0728744939271255,
           0.010121457489878543,
           0.022267206477732792,
           0.0708502024291498,
           0.0018975332068311196,
           0.2165991902834008,
           0.2631578947368421,
           0.12348178137651822,
           0.03643724696356275,
           0.018867924528301886,
           0.024291497975708502,
           0.0931174089068826,
           0.06477732793522267
          ],
          [
           0.05422993492407809,
           0.013015184381778741,
           0.06073752711496746,
           0.16919739696312364,
           0.007281553398058253,
           0.2039045553145336,
           0.22125813449023862,
           0.10629067245119306,
           0.03253796095444685,
           0.0039447731755424065,
           0.02386117136659436,
           0.0824295010845987,
           0.03253796095444685
          ],
          [
           0.14285714285714285,
           0.0033222591362126247,
           0.016611295681063124,
           0.036544850498338874,
           0.00408997955010225,
           0.07308970099667775,
           0.06312292358803986,
           0.053156146179401995,
           0.029900332225913623,
           0.0020242914979757085,
           0.5182724252491694,
           0.023255813953488372,
           0.036544850498338874
          ],
          [
           0.19483101391650098,
           0.019880715705765408,
           0.007952286282306162,
           0.027833001988071572,
           0.002079002079002079,
           0.19284294234592445,
           0.1550695825049702,
           0.23856858846918488,
           0.033797216699801194,
           0.0033222591362126247,
           0.015904572564612324,
           0.03578528827037773,
           0.07554671968190854
          ],
          [
           0.1111111111111111,
           0.006006006006006006,
           0.015015015015015015,
           0.03903903903903904,
           0.003838771593090211,
           0.17117117117117117,
           0.21921921921921922,
           0.10810810810810811,
           0.04804804804804805,
           0.0019880715705765406,
           0.021021021021021023,
           0.18018018018018017,
           0.08108108108108109
          ],
          [
           0.10444444444444445,
           0.057777777777777775,
           0.04,
           0.04666666666666667,
           0.0022222222222222222,
           0.1711111111111111,
           0.14666666666666667,
           0.14222222222222222,
           0.057777777777777775,
           0.0044444444444444444,
           0.05555555555555555,
           0.07777777777777778,
           0.09333333333333334
          ]
         ]
        }
       ],
       "layout": {
        "height": 1800,
        "template": {
         "data": {
          "bar": [
           {
            "error_x": {
             "color": "#2a3f5f"
            },
            "error_y": {
             "color": "#2a3f5f"
            },
            "marker": {
             "line": {
              "color": "#E5ECF6",
              "width": 0.5
             },
             "pattern": {
              "fillmode": "overlay",
              "size": 10,
              "solidity": 0.2
             }
            },
            "type": "bar"
           }
          ],
          "barpolar": [
           {
            "marker": {
             "line": {
              "color": "#E5ECF6",
              "width": 0.5
             },
             "pattern": {
              "fillmode": "overlay",
              "size": 10,
              "solidity": 0.2
             }
            },
            "type": "barpolar"
           }
          ],
          "carpet": [
           {
            "aaxis": {
             "endlinecolor": "#2a3f5f",
             "gridcolor": "white",
             "linecolor": "white",
             "minorgridcolor": "white",
             "startlinecolor": "#2a3f5f"
            },
            "baxis": {
             "endlinecolor": "#2a3f5f",
             "gridcolor": "white",
             "linecolor": "white",
             "minorgridcolor": "white",
             "startlinecolor": "#2a3f5f"
            },
            "type": "carpet"
           }
          ],
          "choropleth": [
           {
            "colorbar": {
             "outlinewidth": 0,
             "ticks": ""
            },
            "type": "choropleth"
           }
          ],
          "contour": [
           {
            "colorbar": {
             "outlinewidth": 0,
             "ticks": ""
            },
            "colorscale": [
             [
              0,
              "#0d0887"
             ],
             [
              0.1111111111111111,
              "#46039f"
             ],
             [
              0.2222222222222222,
              "#7201a8"
             ],
             [
              0.3333333333333333,
              "#9c179e"
             ],
             [
              0.4444444444444444,
              "#bd3786"
             ],
             [
              0.5555555555555556,
              "#d8576b"
             ],
             [
              0.6666666666666666,
              "#ed7953"
             ],
             [
              0.7777777777777778,
              "#fb9f3a"
             ],
             [
              0.8888888888888888,
              "#fdca26"
             ],
             [
              1,
              "#f0f921"
             ]
            ],
            "type": "contour"
           }
          ],
          "contourcarpet": [
           {
            "colorbar": {
             "outlinewidth": 0,
             "ticks": ""
            },
            "type": "contourcarpet"
           }
          ],
          "heatmap": [
           {
            "colorbar": {
             "outlinewidth": 0,
             "ticks": ""
            },
            "colorscale": [
             [
              0,
              "#0d0887"
             ],
             [
              0.1111111111111111,
              "#46039f"
             ],
             [
              0.2222222222222222,
              "#7201a8"
             ],
             [
              0.3333333333333333,
              "#9c179e"
             ],
             [
              0.4444444444444444,
              "#bd3786"
             ],
             [
              0.5555555555555556,
              "#d8576b"
             ],
             [
              0.6666666666666666,
              "#ed7953"
             ],
             [
              0.7777777777777778,
              "#fb9f3a"
             ],
             [
              0.8888888888888888,
              "#fdca26"
             ],
             [
              1,
              "#f0f921"
             ]
            ],
            "type": "heatmap"
           }
          ],
          "heatmapgl": [
           {
            "colorbar": {
             "outlinewidth": 0,
             "ticks": ""
            },
            "colorscale": [
             [
              0,
              "#0d0887"
             ],
             [
              0.1111111111111111,
              "#46039f"
             ],
             [
              0.2222222222222222,
              "#7201a8"
             ],
             [
              0.3333333333333333,
              "#9c179e"
             ],
             [
              0.4444444444444444,
              "#bd3786"
             ],
             [
              0.5555555555555556,
              "#d8576b"
             ],
             [
              0.6666666666666666,
              "#ed7953"
             ],
             [
              0.7777777777777778,
              "#fb9f3a"
             ],
             [
              0.8888888888888888,
              "#fdca26"
             ],
             [
              1,
              "#f0f921"
             ]
            ],
            "type": "heatmapgl"
           }
          ],
          "histogram": [
           {
            "marker": {
             "pattern": {
              "fillmode": "overlay",
              "size": 10,
              "solidity": 0.2
             }
            },
            "type": "histogram"
           }
          ],
          "histogram2d": [
           {
            "colorbar": {
             "outlinewidth": 0,
             "ticks": ""
            },
            "colorscale": [
             [
              0,
              "#0d0887"
             ],
             [
              0.1111111111111111,
              "#46039f"
             ],
             [
              0.2222222222222222,
              "#7201a8"
             ],
             [
              0.3333333333333333,
              "#9c179e"
             ],
             [
              0.4444444444444444,
              "#bd3786"
             ],
             [
              0.5555555555555556,
              "#d8576b"
             ],
             [
              0.6666666666666666,
              "#ed7953"
             ],
             [
              0.7777777777777778,
              "#fb9f3a"
             ],
             [
              0.8888888888888888,
              "#fdca26"
             ],
             [
              1,
              "#f0f921"
             ]
            ],
            "type": "histogram2d"
           }
          ],
          "histogram2dcontour": [
           {
            "colorbar": {
             "outlinewidth": 0,
             "ticks": ""
            },
            "colorscale": [
             [
              0,
              "#0d0887"
             ],
             [
              0.1111111111111111,
              "#46039f"
             ],
             [
              0.2222222222222222,
              "#7201a8"
             ],
             [
              0.3333333333333333,
              "#9c179e"
             ],
             [
              0.4444444444444444,
              "#bd3786"
             ],
             [
              0.5555555555555556,
              "#d8576b"
             ],
             [
              0.6666666666666666,
              "#ed7953"
             ],
             [
              0.7777777777777778,
              "#fb9f3a"
             ],
             [
              0.8888888888888888,
              "#fdca26"
             ],
             [
              1,
              "#f0f921"
             ]
            ],
            "type": "histogram2dcontour"
           }
          ],
          "mesh3d": [
           {
            "colorbar": {
             "outlinewidth": 0,
             "ticks": ""
            },
            "type": "mesh3d"
           }
          ],
          "parcoords": [
           {
            "line": {
             "colorbar": {
              "outlinewidth": 0,
              "ticks": ""
             }
            },
            "type": "parcoords"
           }
          ],
          "pie": [
           {
            "automargin": true,
            "type": "pie"
           }
          ],
          "scatter": [
           {
            "fillpattern": {
             "fillmode": "overlay",
             "size": 10,
             "solidity": 0.2
            },
            "type": "scatter"
           }
          ],
          "scatter3d": [
           {
            "line": {
             "colorbar": {
              "outlinewidth": 0,
              "ticks": ""
             }
            },
            "marker": {
             "colorbar": {
              "outlinewidth": 0,
              "ticks": ""
             }
            },
            "type": "scatter3d"
           }
          ],
          "scattercarpet": [
           {
            "marker": {
             "colorbar": {
              "outlinewidth": 0,
              "ticks": ""
             }
            },
            "type": "scattercarpet"
           }
          ],
          "scattergeo": [
           {
            "marker": {
             "colorbar": {
              "outlinewidth": 0,
              "ticks": ""
             }
            },
            "type": "scattergeo"
           }
          ],
          "scattergl": [
           {
            "marker": {
             "colorbar": {
              "outlinewidth": 0,
              "ticks": ""
             }
            },
            "type": "scattergl"
           }
          ],
          "scattermapbox": [
           {
            "marker": {
             "colorbar": {
              "outlinewidth": 0,
              "ticks": ""
             }
            },
            "type": "scattermapbox"
           }
          ],
          "scatterpolar": [
           {
            "marker": {
             "colorbar": {
              "outlinewidth": 0,
              "ticks": ""
             }
            },
            "type": "scatterpolar"
           }
          ],
          "scatterpolargl": [
           {
            "marker": {
             "colorbar": {
              "outlinewidth": 0,
              "ticks": ""
             }
            },
            "type": "scatterpolargl"
           }
          ],
          "scatterternary": [
           {
            "marker": {
             "colorbar": {
              "outlinewidth": 0,
              "ticks": ""
             }
            },
            "type": "scatterternary"
           }
          ],
          "surface": [
           {
            "colorbar": {
             "outlinewidth": 0,
             "ticks": ""
            },
            "colorscale": [
             [
              0,
              "#0d0887"
             ],
             [
              0.1111111111111111,
              "#46039f"
             ],
             [
              0.2222222222222222,
              "#7201a8"
             ],
             [
              0.3333333333333333,
              "#9c179e"
             ],
             [
              0.4444444444444444,
              "#bd3786"
             ],
             [
              0.5555555555555556,
              "#d8576b"
             ],
             [
              0.6666666666666666,
              "#ed7953"
             ],
             [
              0.7777777777777778,
              "#fb9f3a"
             ],
             [
              0.8888888888888888,
              "#fdca26"
             ],
             [
              1,
              "#f0f921"
             ]
            ],
            "type": "surface"
           }
          ],
          "table": [
           {
            "cells": {
             "fill": {
              "color": "#EBF0F8"
             },
             "line": {
              "color": "white"
             }
            },
            "header": {
             "fill": {
              "color": "#C8D4E3"
             },
             "line": {
              "color": "white"
             }
            },
            "type": "table"
           }
          ]
         },
         "layout": {
          "annotationdefaults": {
           "arrowcolor": "#2a3f5f",
           "arrowhead": 0,
           "arrowwidth": 1
          },
          "autotypenumbers": "strict",
          "coloraxis": {
           "colorbar": {
            "outlinewidth": 0,
            "ticks": ""
           }
          },
          "colorscale": {
           "diverging": [
            [
             0,
             "#8e0152"
            ],
            [
             0.1,
             "#c51b7d"
            ],
            [
             0.2,
             "#de77ae"
            ],
            [
             0.3,
             "#f1b6da"
            ],
            [
             0.4,
             "#fde0ef"
            ],
            [
             0.5,
             "#f7f7f7"
            ],
            [
             0.6,
             "#e6f5d0"
            ],
            [
             0.7,
             "#b8e186"
            ],
            [
             0.8,
             "#7fbc41"
            ],
            [
             0.9,
             "#4d9221"
            ],
            [
             1,
             "#276419"
            ]
           ],
           "sequential": [
            [
             0,
             "#0d0887"
            ],
            [
             0.1111111111111111,
             "#46039f"
            ],
            [
             0.2222222222222222,
             "#7201a8"
            ],
            [
             0.3333333333333333,
             "#9c179e"
            ],
            [
             0.4444444444444444,
             "#bd3786"
            ],
            [
             0.5555555555555556,
             "#d8576b"
            ],
            [
             0.6666666666666666,
             "#ed7953"
            ],
            [
             0.7777777777777778,
             "#fb9f3a"
            ],
            [
             0.8888888888888888,
             "#fdca26"
            ],
            [
             1,
             "#f0f921"
            ]
           ],
           "sequentialminus": [
            [
             0,
             "#0d0887"
            ],
            [
             0.1111111111111111,
             "#46039f"
            ],
            [
             0.2222222222222222,
             "#7201a8"
            ],
            [
             0.3333333333333333,
             "#9c179e"
            ],
            [
             0.4444444444444444,
             "#bd3786"
            ],
            [
             0.5555555555555556,
             "#d8576b"
            ],
            [
             0.6666666666666666,
             "#ed7953"
            ],
            [
             0.7777777777777778,
             "#fb9f3a"
            ],
            [
             0.8888888888888888,
             "#fdca26"
            ],
            [
             1,
             "#f0f921"
            ]
           ]
          },
          "colorway": [
           "#636efa",
           "#EF553B",
           "#00cc96",
           "#ab63fa",
           "#FFA15A",
           "#19d3f3",
           "#FF6692",
           "#B6E880",
           "#FF97FF",
           "#FECB52"
          ],
          "font": {
           "color": "#2a3f5f"
          },
          "geo": {
           "bgcolor": "white",
           "lakecolor": "white",
           "landcolor": "#E5ECF6",
           "showlakes": true,
           "showland": true,
           "subunitcolor": "white"
          },
          "hoverlabel": {
           "align": "left"
          },
          "hovermode": "closest",
          "mapbox": {
           "style": "light"
          },
          "paper_bgcolor": "white",
          "plot_bgcolor": "#E5ECF6",
          "polar": {
           "angularaxis": {
            "gridcolor": "white",
            "linecolor": "white",
            "ticks": ""
           },
           "bgcolor": "#E5ECF6",
           "radialaxis": {
            "gridcolor": "white",
            "linecolor": "white",
            "ticks": ""
           }
          },
          "scene": {
           "xaxis": {
            "backgroundcolor": "#E5ECF6",
            "gridcolor": "white",
            "gridwidth": 2,
            "linecolor": "white",
            "showbackground": true,
            "ticks": "",
            "zerolinecolor": "white"
           },
           "yaxis": {
            "backgroundcolor": "#E5ECF6",
            "gridcolor": "white",
            "gridwidth": 2,
            "linecolor": "white",
            "showbackground": true,
            "ticks": "",
            "zerolinecolor": "white"
           },
           "zaxis": {
            "backgroundcolor": "#E5ECF6",
            "gridcolor": "white",
            "gridwidth": 2,
            "linecolor": "white",
            "showbackground": true,
            "ticks": "",
            "zerolinecolor": "white"
           }
          },
          "shapedefaults": {
           "line": {
            "color": "#2a3f5f"
           }
          },
          "ternary": {
           "aaxis": {
            "gridcolor": "white",
            "linecolor": "white",
            "ticks": ""
           },
           "baxis": {
            "gridcolor": "white",
            "linecolor": "white",
            "ticks": ""
           },
           "bgcolor": "#E5ECF6",
           "caxis": {
            "gridcolor": "white",
            "linecolor": "white",
            "ticks": ""
           }
          },
          "title": {
           "x": 0.05
          },
          "xaxis": {
           "automargin": true,
           "gridcolor": "white",
           "linecolor": "white",
           "ticks": "",
           "title": {
            "standoff": 15
           },
           "zerolinecolor": "white",
           "zerolinewidth": 2
          },
          "yaxis": {
           "automargin": true,
           "gridcolor": "white",
           "linecolor": "white",
           "ticks": "",
           "title": {
            "standoff": 15
           },
           "zerolinecolor": "white",
           "zerolinewidth": 2
          }
         }
        },
        "title": {
         "text": "Topic contributions to Airline tweets"
        },
        "width": 800,
        "xaxis": {
         "nticks": 13
        }
       }
      },
      "text/html": [
       "<div>                            <div id=\"28b0d967-2aeb-48a2-95b8-83ae9d3a218a\" class=\"plotly-graph-div\" style=\"height:1800px; width:800px;\"></div>            <script type=\"text/javascript\">                require([\"plotly\"], function(Plotly) {                    window.PLOTLYENV=window.PLOTLYENV || {};                                    if (document.getElementById(\"28b0d967-2aeb-48a2-95b8-83ae9d3a218a\")) {                    Plotly.newPlot(                        \"28b0d967-2aeb-48a2-95b8-83ae9d3a218a\",                        [{\"colorscale\":[[0.0,\"#440154\"],[0.1111111111111111,\"#482878\"],[0.2222222222222222,\"#3e4989\"],[0.3333333333333333,\"#31688e\"],[0.4444444444444444,\"#26828e\"],[0.5555555555555556,\"#1f9e89\"],[0.6666666666666666,\"#35b779\"],[0.7777777777777778,\"#6ece58\"],[0.8888888888888888,\"#b5de2b\"],[1.0,\"#fde725\"]],\"x\":[\"Charitable work, raising awareness\",\"Future-forward campaigns (i.e. aviation, sustainability)\",\"Travel spots with the best views\",\"Campaign with a contest\",\"Non-stop flight service\",\"Promotional campaign via travel suggestions\",\"Best/lowest/discounted fares\",\"Airline growth (i.e. new routes, aircraft, offerings)\",\"Scenic/peaceful travel destinations\",\"Flight seating (i.e. group seating, upgrades)\",\"Travel alerts and advisories\",\"Visit our website for more info\",\"Tips for comfortable travel experience\"],\"y\":[\"wizzair\",\"vueling\",\"volotea\",\"united\",\"transavia\",\"tapairportugal\",\"qatarairways\",\"omanair\",\"nokairindia\",\"iflycaribbean\",\"flyvolaris\",\"flyspicejet\",\"flymepegasus\",\"flyethiopian\",\"flyPAL\",\"etihad\",\"emirates\",\"easyJet\",\"cathaypacific\",\"airindiain\",\"airfrance\",\"airasia\",\"airarabiagroup\",\"airBaltic\",\"_austrian\",\"WestJet\",\"VirginAtlantic\",\"VietnamAirlines\",\"VietjetairCom\",\"TurkishAirlines\",\"ThaiAirways\",\"SpiritAirlines\",\"SouthwestAir\",\"SingaporeAir\",\"SaudiAirlinesEn\",\"SAS\",\"Ryanair\",\"RoyalJordanian\",\"RAM_Maroc\",\"Qantas\",\"NokAirlines_ENG\",\"MEAAIRLIBAN\",\"MAS\",\"Lufthansa_USA\",\"LATAMAirlinesUS\",\"KuwaitAirways\",\"KoreanAir_KE\",\"KLM\",\"Jetstar_Asia\",\"JetstarAirways\",\"JetBlue\",\"JazeeraAirways\",\"IndonesiaGaruda\",\"IndiGo6E\",\"Iberia_en\",\"HawaiianAir\",\"GulfAir\",\"GoFirstairways\",\"FlySWISS\",\"FlyFrontier\",\"FlyAirNZ\",\"FlyANA_official\",\"FlairAirlines\",\"Finnair\",\"ELALUSA\",\"EGYPTAIR\",\"Delta\",\"Condor_America\",\"CebuPacificAir\",\"CEAirglobal\",\"British_Airways\",\"AviancaNAM\",\"AsianaAirlines\",\"AmericanAir\",\"Allegiant\",\"AlaskaAir\",\"Air_Dolomiti\",\"AirFranceUS\",\"AirFranceUK\",\"AirFranceNG\",\"AirFranceIN\",\"AirCanada\",\"AeromexicoUSA\",\"Aeroflot_World\",\"AerLingus\"],\"z\":[[0.0,0.0,0.0,0.0,0.0,0.0,0.0,0.0,0.0,0.0,0.0,0.0,0.0],[0.056451612903225805,0.0,0.0,0.01935483870967742,0.0,0.07419354838709677,0.5741935483870968,0.0,0.0,0.0,0.0,0.03225806451612903,0.037096774193548385],[0.06315789473684211,0.0,0.0,0.031578947368421054,0.0,0.021052631578947368,0.05263157894736842,0.12419354838709677,0.0,0.0,0.01935483870967742,0.07368421052631578,0.042105263157894736],[0.1419141914191419,0.008064516129032258,0.0,0.0297029702970297,0.0,0.21122112211221122,0.1716171617161716,0.5578947368421052,0.03064516129032258,0.0,0.09473684210526316,0.039603960396039604,0.07920792079207921],[0.16919739696312364,0.031578947368421054,0.0,0.049891540130151846,0.0,0.21475054229934923,0.14316702819956617,0.2145214521452145,0.04950495049504951,0.0,0.013201320132013201,0.0737527114967462,0.04121475054229935],[0.1111111111111111,0.013201320132013201,0.020967741935483872,0.037037037037037035,0.0,0.14814814814814814,0.1111111111111111,0.1279826464208243,0.04338394793926247,0.0,0.04338394793926247,0.14814814814814814,0.037037037037037035],[0.12755102040816327,0.0368763557483731,0.031578947368421054,0.03571428571428571,0.0,0.11224489795918367,0.35714285714285715,0.07407407407407407,0.037037037037037035,0.0,0.14814814814814814,0.09693877551020408,0.09183673469387756],[0.16101694915254236,0.025510204081632654,0.026402640264026403,0.04067796610169491,0.0,0.23728813559322035,0.22542372881355932,0.07653061224489796,0.03571428571428571,0.0,0.015306122448979591,0.09152542372881356,0.04745762711864407],[0.068,0.03559322033898305,0.04121475054229935,0.032,0.0,0.108,0.38,0.08135593220338982,0.03559322033898305,0.0,0.010169491525423728,0.112,0.108],[0.015384615384615385,0.028,0.14814814814814814,0.07692307692307693,0.0,0.15384615384615385,0.4,0.052,0.048,0.0,0.024,0.18461538461538463,0.046153846153846156],[0.07366071428571429,0.026785714285714284,0.025510204081632654,0.05357142857142857,0.0,0.22544642857142858,0.2924107142857143,0.015384615384615385,0.1076923076923077,0.0,0.060267857142857144,0.09151785714285714,0.05133928571428571],[0.1966019417475728,0.021844660194174758,0.0288135593220339,0.0412621359223301,0.0,0.11165048543689321,0.24514563106796117,0.06473214285714286,0.024553571428571428,0.0,0.02669902912621359,0.0412621359223301,0.05825242718446602],[0.11912225705329153,0.05329153605015674,0.028,0.06269592476489028,0.0,0.19435736677115986,0.34796238244514105,0.16990291262135923,0.04611650485436893,0.0,0.006269592476489028,0.08150470219435736,0.01567398119122257],[0.10836501901140684,0.022813688212927757,0.024553571428571428,0.019011406844106463,0.0,0.17300380228136883,0.2509505703422053,0.05329153605015674,0.03134796238244514,0.0,0.017110266159695818,0.11026615969581749,0.08745247148288973],[0.11068702290076336,0.05343511450381679,0.03398058252427184,0.07061068702290077,0.0,0.18702290076335878,0.16030534351145037,0.11596958174904944,0.0741444866920152,0.0,0.07251908396946564,0.09923664122137404,0.10305343511450382],[0.13216957605985039,0.029925187032418952,0.02821316614420063,0.05236907730673317,0.0,0.15211970074812967,0.19451371571072318,0.07633587786259542,0.019083969465648856,0.0,0.10224438902743142,0.059850374064837904,0.08478802992518704],[0.1601642710472279,0.04106776180698152,0.019011406844106463,0.028747433264887063,0.0,0.19301848049281314,0.19301848049281314,0.11221945137157108,0.04987531172069826,0.0,0.049281314168377825,0.0944558521560575,0.07597535934291581],[0.18309859154929578,0.05432595573440644,0.03244274809160305,0.04426559356136821,0.0,0.1750503018108652,0.16297786720321933,0.09034907597535935,0.045174537987679675,0.0,0.03219315895372234,0.052313883299798795,0.09859154929577464],[0.14338235294117646,0.03860294117647059,0.022443890274314215,0.09926470588235294,0.0,0.1213235294117647,0.19669117647058823,0.11066398390342053,0.03822937625754527,0.0,0.022058823529411766,0.0974264705882353,0.06066176470588235],[0.19123505976095617,0.025896414342629483,0.022587268993839837,0.04780876494023904,0.0,0.14940239043824702,0.14940239043824702,0.10477941176470588,0.05698529411764706,0.0,0.025896414342629483,0.1693227091633466,0.05776892430278884],[0.11956521739130435,0.009057971014492754,0.03621730382293763,0.018115942028985508,0.0,0.5181159420289855,0.18478260869565216,0.08366533864541832,0.06374501992031872,0.0016129032258064516,0.010869565217391304,0.05615942028985507,0.030797101449275364],[0.15639810426540285,0.03317535545023697,0.04963235294117647,0.04976303317535545,0.0,0.15639810426540285,0.14691943127962084,0.021739130434782608,0.018115942028985508,0.009900990099009901,0.02843601895734597,0.08293838862559241,0.13507109004739337],[0.0899581589958159,0.02301255230125523,0.017928286852589643,0.043933054393305436,0.0,0.1297071129707113,0.37447698744769875,0.12085308056872038,0.04265402843601896,0.006507592190889371,0.043933054393305436,0.07740585774058577,0.04184100418410042],[0.0776255707762557,0.0365296803652968,0.010869565217391304,0.0319634703196347,0.0,0.2602739726027397,0.228310502283105,0.07112970711297072,0.06485355648535565,0.005084745762711864,0.0365296803652968,0.0730593607305936,0.0730593607305936],[0.09895833333333333,0.033854166666666664,0.04265402843601896,0.049479166666666664,0.0,0.1015625,0.34375,0.0684931506849315,0.0730593607305936,0.008,0.026041666666666668,0.0390625,0.049479166666666664],[0.17191977077363896,0.054441260744985676,0.03347280334728033,0.04297994269340974,0.0,0.2148997134670487,0.15759312320916904,0.17708333333333334,0.049479166666666664,0.011160714285714286,0.02865329512893983,0.09455587392550144,0.034383954154727794],[0.22699386503067484,0.022494887525562373,0.0319634703196347,0.06134969325153374,0.0,0.13701431492842536,0.20449897750511248,0.06876790830945559,0.05157593123209169,0.007281553398058253,0.04294478527607362,0.10224948875255624,0.053169734151329244],[0.1713747645951036,0.04331450094161959,0.018229166666666668,0.06591337099811675,0.0,0.21657250470809794,0.22598870056497175,0.081799591002045,0.03885480572597137,0.006269592476489028,0.005649717514124294,0.062146892655367235,0.05649717514124294],[0.12781954887218044,0.03007518796992481,0.0659025787965616,0.03759398496240601,0.0,0.14285714285714285,0.3157894736842105,0.1016949152542373,0.02824858757062147,0.0019083969465648854,0.022556390977443608,0.11278195488721804,0.05263157894736842],[0.17540322580645162,0.04838709677419355,0.018404907975460124,0.5,0.0,0.11290322580645161,0.16330645161290322,0.09022556390977443,0.03759398496240601,0.007481296758104738,0.5,0.0967741935483871,0.13911290322580644],[0.1,0.017948717948717947,0.02071563088512241,0.036290322580645164,0.0,0.19743589743589743,0.34615384615384615,0.09879032258064516,0.04435483870967742,0.006160164271047228,0.05040322580645161,0.09743589743589744,0.038461538461538464],[0.15495495495495495,0.021621621621621623,0.022556390977443608,0.05897435897435897,0.0,0.08828828828828829,0.36396396396396397,0.04871794871794872,0.04871794871794872,0.004024144869215292,0.023076923076923078,0.036036036036036036,0.021621621621621623],[0.18181818181818182,0.042283298097251586,0.03225806451612903,0.0936936936936937,0.0,0.1543340380549683,0.22410147991543342,0.13693693693693693,0.012612612612612612,0.007352941176470588,0.03963963963963964,0.06765327695560254,0.052854122621564484],[0.05672268907563025,0.01050420168067227,0.020512820512820513,0.0613107822410148,0.0,0.06512605042016807,0.09873949579831932,0.080338266384778,0.05708245243128964,0.01195219123505976,0.02748414376321353,0.04831932773109244,0.28781512605042014],[0.13432835820895522,0.014925373134328358,0.016216216216216217,0.01680672268907563,0.0,0.08955223880597014,0.2835820895522388,0.04201680672268908,0.012605042016806723,0.0018115942028985507,0.34663865546218486,0.11940298507462686,0.14925373134328357],[0.16255144032921812,0.024691358024691357,0.042283298097251586,0.1044776119402985,0.0,0.12551440329218108,0.1748971193415638,0.04477611940298507,0.029850746268656716,0.002369668246445498,0.029850746268656716,0.09465020576131687,0.04938271604938271],[0.07102272727272728,0.04261363636363636,0.01050420168067227,0.030864197530864196,0.0,0.1875,0.18181818181818182,0.21810699588477367,0.05555555555555555,0.0041841004184100415,0.024691358024691357,0.06534090909090909,0.05965909090909091],[0.09961685823754789,0.011494252873563218,0.03497942386831276,0.08806818181818182,0.0,0.07279693486590039,0.5555555555555556,0.11079545454545454,0.10795454545454546,0.0091324200913242,0.028409090909090908,0.06896551724137931,0.02681992337164751],[0.20967741935483872,0.04032258064516129,0.05397727272727273,0.034482758620689655,0.0,0.07258064516129033,0.23387096774193547,0.038314176245210725,0.03065134099616858,0.0078125,0.034482758620689655,0.22580645161290322,0.10483870967741936],[0.12,0.032,0.01532567049808429,0.008064516129032258,0.0,0.128,0.3253333333333333,0.04032258064516129,0.03225806451612903,0.011461318051575931,0.016129032258064516,0.04533333333333334,0.09333333333333334],[0.06682577565632458,0.016706443914081145,0.016129032258064516,0.034666666666666665,0.0,0.10978520286396182,0.5011933174224343,0.10666666666666667,0.04533333333333334,0.0081799591002045,0.016,0.03818615751789976,0.059665871121718374],[0.08333333333333333,0.021929824561403508,0.04533333333333334,0.014319809069212411,0.0,0.19298245614035087,0.20175438596491227,0.06682577565632458,0.06443914081145585,0.0020161290322580645,0.021479713603818614,0.06578947368421052,0.07456140350877193],[0.08726003490401396,0.04013961605584642,0.02386634844868735,0.10526315789473684,0.0,0.12914485165794065,0.20767888307155322,0.15350877192982457,0.07017543859649122,0.010810810810810811,0.0043859649122807015,0.08726003490401396,0.09947643979057591],[0.11842105263157894,0.03289473684210526,0.02631578947368421,0.1012216404886562,0.0,0.17763157894736842,0.17982456140350878,0.09424083769633508,0.07155322862129145,0.008456659619450317,0.02617801047120419,0.10526315789473684,0.06359649122807018],[0.11764705882352941,0.030425963488843813,0.0506108202443281,0.05921052631578947,0.0,0.23123732251521298,0.23529411764705882,0.08333333333333333,0.06359649122807018,0.004201680672268907,0.043859649122807015,0.09939148073022312,0.0486815415821501],[0.08139534883720931,0.05813953488372093,0.06578947368421052,0.04665314401622718,0.0,0.046511627906976744,0.18604651162790697,0.09330628803245436,0.05273833671399594,0.00205761316872428,0.02231237322515213,0.4069767441860465,0.06976744186046512],[0.112,0.016,0.018255578093306288,0.042666666666666665,0.0,0.152,0.14133333333333334,0.09302325581395349,0.03488372093023256,0.002840909090909091,0.011627906976744186,0.18666666666666668,0.07466666666666667],[0.1108695652173913,0.04565217391304348,0.011627906976744186,0.08260869565217391,0.0,0.1826086956521739,0.16956521739130434,0.08533333333333333,0.11733333333333333,0.007662835249042145,0.032,0.05434782608695652,0.058695652173913045],[0.031982942430703626,0.0511727078891258,0.029333333333333333,0.11513859275053305,0.0,0.18763326226012794,0.2622601279317697,0.11956521739130435,0.07391304347826087,0.008,0.02826086956521739,0.06183368869936034,0.08528784648187633],[0.12954545454545455,0.031818181818181815,0.06956521739130435,0.06136363636363636,0.0,0.1409090909090909,0.2,0.09808102345415778,0.03837953091684435,0.00477326968973747,0.02771855010660981,0.06363636363636363,0.09772727272727273],[0.171875,0.0234375,0.03411513859275053,0.08984375,0.0,0.13671875,0.2890625,0.11136363636363636,0.04318181818181818,0.005235602094240838,0.09090909090909091,0.04296875,0.025390625],[0.09859154929577464,0.0035211267605633804,0.025,0.07042253521126761,0.0016129032258064516,0.09154929577464789,0.45422535211267606,0.119140625,0.037109375,0.006578947368421052,0.037109375,0.08450704225352113,0.06338028169014084],[0.06666666666666667,0.06666666666666667,0.021484375,0.06666666666666667,0.008676789587852495,0.06666666666666667,0.4666666666666667,0.06690140845070422,0.02464788732394366,0.004056795131845842,0.01056338028169014,0.2,0.06666666666666667],[0.13024282560706402,0.06181015452538632,0.02464788732394366,0.039735099337748346,0.004,0.2097130242825607,0.24724061810154527,0.06622516556291391,0.05518763796909492,0.010666666666666666,0.02869757174392936,0.09492273730684327,0.02869757174392936],[0.14694656488549618,0.05152671755725191,0.03090507726269316,0.04389312977099236,0.0019011406844106464,0.13740458015267176,0.15458015267175573,0.11450381679389313,0.05534351145038168,0.004347826086956522,0.013358778625954198,0.16412213740458015,0.07442748091603053],[0.14309484193011648,0.026622296173044926,0.04198473282442748,0.14309484193011648,0.013358778625954198,0.13810316139767054,0.16638935108153077,0.064891846921797,0.03826955074875208,0.006396588486140725,0.033277870216306155,0.14143094841930118,0.03494176372712146],[0.08695652173913043,0.028985507246376812,0.06655574043261231,0.014492753623188406,0.008048289738430584,0.11594202898550725,0.4057971014492754,0.028985507246376812,0.014492753623188406,0.004545454545454545,0.043478260869565216,0.11594202898550725,0.11594202898550725],[0.13901345291479822,0.02242152466367713,0.013452914798206279,0.05829596412556054,0.001838235294117647,0.10538116591928251,0.3004484304932735,0.05829596412556054,0.05605381165919283,0.001953125,0.08071748878923767,0.06502242152466367,0.07847533632286996],[0.14985590778097982,0.04899135446685879,0.06628242074927954,0.09221902017291066,0.00597609561752988,0.17579250720461095,0.1729106628242075,0.09798270893371758,0.03170028818443804,0.0035211267605633804,0.025936599423631124,0.09798270893371758,0.03170028818443804],[0.11900191938579655,0.02495201535508637,0.02111324376199616,0.07677543186180422,0.002369668246445498,0.14779270633397312,0.2456813819577735,0.18234165067178504,0.026871401151631478,0.006622516556291391,0.023032629558541268,0.046065259117082535,0.04798464491362764],[0.15982721382289417,0.04535637149028078,0.09287257019438445,0.04535637149028078,0.0020920502092050207,0.16198704103671707,0.14254859611231102,0.11447084233261338,0.06695464362850972,0.0019083969465648854,0.03023758099352052,0.06911447084233262,0.06263498920086392],[0.1950286806883365,0.032504780114722756,0.06692160611854685,0.07265774378585087,0.005208333333333333,0.16443594646271512,0.15296367112810708,0.08795411089866156,0.06309751434034416,0.0016638935108153079,0.04206500956022945,0.0745697896749522,0.0248565965583174],[0.11080332409972299,0.04986149584487535,0.038781163434903045,0.04155124653739612,0.0028653295128939827,0.15512465373961218,0.3462603878116344,0.11357340720221606,0.0221606648199446,0.028985507246376812,0.01662049861495845,0.05263157894736842,0.04986149584487535],[0.1079429735234216,0.016293279022403257,0.026476578411405296,0.028513238289205704,0.002044989775051125,0.11608961303462322,0.2708757637474542,0.1120162932790224,0.04073319755600815,0.02242152466367713,0.06720977596741344,0.0814663951120163,0.12219959266802444],[0.07637231503579953,0.016706443914081145,0.0405727923627685,0.05489260143198091,0.0018832391713747645,0.15990453460620524,0.22911694510739858,0.11217183770883055,0.1431980906921241,0.008645533141210375,0.00954653937947494,0.11694510739856802,0.03579952267303103],[0.07783018867924528,0.014150943396226415,0.014150943396226415,0.02358490566037736,0.007518796992481203,0.13443396226415094,0.5212264150943396,0.02830188679245283,0.04009433962264151,0.003838771593090211,0.01179245283018868,0.11320754716981132,0.02122641509433962],[0.20683111954459202,0.022770398481973434,0.013282732447817837,0.06072106261859583,0.002564102564102564,0.15370018975332067,0.15370018975332067,0.08918406072106262,0.03984819734345351,0.008639308855291577,0.09108159392789374,0.058823529411764705,0.09297912713472485],[0.0970873786407767,0.02912621359223301,0.05825242718446602,0.09223300970873786,0.0036036036036036037,0.17475728155339806,0.1820388349514563,0.11165048543689321,0.055825242718446605,0.021032504780114723,0.0024271844660194173,0.08980582524271845,0.09223300970873786],[0.07507507507507508,0.003003003003003003,0.009009009009009009,0.009009009009009009,0.00205761316872428,0.08708708708708708,0.4864864864864865,0.03003003003003003,0.08408408408408409,0.006109979633401222,0.0990990990990991,0.05405405405405406,0.05405405405405406],[0.22085889570552147,0.04294478527607362,0.03885480572597137,0.049079754601226995,0.0038314176245210726,0.2147239263803681,0.10429447852760736,0.1411042944785276,0.04703476482617587,0.002386634844868735,0.006134969325153374,0.08997955010224949,0.032719836400818],[0.16317016317016317,0.07459207459207459,0.023310023310023312,0.046620046620046623,0.011933174224343675,0.22144522144522144,0.14685314685314685,0.1351981351981352,0.037296037296037296,0.015180265654648957,0.04428904428904429,0.06293706293706294,0.04428904428904429],[0.07865168539325842,0.0149812734082397,0.003745318352059925,0.011235955056179775,0.00390625,0.09363295880149813,0.5917602996254682,0.10486891385767791,0.0149812734082397,0.007281553398058253,0.018726591760299626,0.018726591760299626,0.04119850187265917],[0.07739307535641547,0.028513238289205704,0.018329938900203666,0.109979633401222,0.0035211267605633804,0.18329938900203666,0.17311608961303462,0.1446028513238289,0.05091649694501019,0.009009009009009009,0.018329938900203666,0.109979633401222,0.07942973523421588],[0.2785862785862786,0.056133056133056136,0.04365904365904366,0.062370062370062374,0.0016638935108153079,0.16632016632016633,0.11226611226611227,0.09355509355509356,0.031185031185031187,0.0081799591002045,0.062370062370062374,0.05197505197505198,0.031185031185031187],[0.15930902111324377,0.03838771593090211,0.05758157389635317,0.09404990403071017,0.0345489443378119,0.1785028790786948,0.14587332053742802,0.1343570057581574,0.06333973128598848,0.00749063670411985,0.02111324376199616,0.053742802303262956,0.04222648752399232],[0.1471698113207547,0.022641509433962263,0.03018867924528302,0.0509433962264151,0.0019120458891013384,0.1509433962264151,0.30943396226415093,0.10566037735849057,0.03018867924528302,0.006109979633401222,0.04150943396226415,0.05849056603773585,0.0509433962264151],[0.10849056603773585,0.02830188679245283,0.03773584905660377,0.03773584905660377,0.002770083102493075,0.1957547169811321,0.20047169811320756,0.11556603773584906,0.06132075471698113,0.008316008316008316,0.02830188679245283,0.12264150943396226,0.04481132075471698],[0.1301775147928994,0.01775147928994083,0.03944773175542406,0.07100591715976332,0.004073319755600814,0.15779092702169625,0.22879684418145957,0.126232741617357,0.047337278106508875,0.007677543186180422,0.027613412228796843,0.07100591715976332,0.07889546351084813],[0.07884615384615384,0.032692307692307694,0.026923076923076925,0.10384615384615385,0.002386634844868735,0.20384615384615384,0.16153846153846155,0.1596153846153846,0.05576923076923077,0.0018867924528301887,0.028846153846153848,0.09615384615384616,0.051923076923076926],[0.0728744939271255,0.010121457489878543,0.022267206477732792,0.0708502024291498,0.0018975332068311196,0.2165991902834008,0.2631578947368421,0.12348178137651822,0.03643724696356275,0.018867924528301886,0.024291497975708502,0.0931174089068826,0.06477732793522267],[0.05422993492407809,0.013015184381778741,0.06073752711496746,0.16919739696312364,0.007281553398058253,0.2039045553145336,0.22125813449023862,0.10629067245119306,0.03253796095444685,0.0039447731755424065,0.02386117136659436,0.0824295010845987,0.03253796095444685],[0.14285714285714285,0.0033222591362126247,0.016611295681063124,0.036544850498338874,0.00408997955010225,0.07308970099667775,0.06312292358803986,0.053156146179401995,0.029900332225913623,0.0020242914979757085,0.5182724252491694,0.023255813953488372,0.036544850498338874],[0.19483101391650098,0.019880715705765408,0.007952286282306162,0.027833001988071572,0.002079002079002079,0.19284294234592445,0.1550695825049702,0.23856858846918488,0.033797216699801194,0.0033222591362126247,0.015904572564612324,0.03578528827037773,0.07554671968190854],[0.1111111111111111,0.006006006006006006,0.015015015015015015,0.03903903903903904,0.003838771593090211,0.17117117117117117,0.21921921921921922,0.10810810810810811,0.04804804804804805,0.0019880715705765406,0.021021021021021023,0.18018018018018017,0.08108108108108109],[0.10444444444444445,0.057777777777777775,0.04,0.04666666666666667,0.0022222222222222222,0.1711111111111111,0.14666666666666667,0.14222222222222222,0.057777777777777775,0.0044444444444444444,0.05555555555555555,0.07777777777777778,0.09333333333333334]],\"type\":\"heatmap\"}],                        {\"template\":{\"data\":{\"histogram2dcontour\":[{\"type\":\"histogram2dcontour\",\"colorbar\":{\"outlinewidth\":0,\"ticks\":\"\"},\"colorscale\":[[0.0,\"#0d0887\"],[0.1111111111111111,\"#46039f\"],[0.2222222222222222,\"#7201a8\"],[0.3333333333333333,\"#9c179e\"],[0.4444444444444444,\"#bd3786\"],[0.5555555555555556,\"#d8576b\"],[0.6666666666666666,\"#ed7953\"],[0.7777777777777778,\"#fb9f3a\"],[0.8888888888888888,\"#fdca26\"],[1.0,\"#f0f921\"]]}],\"choropleth\":[{\"type\":\"choropleth\",\"colorbar\":{\"outlinewidth\":0,\"ticks\":\"\"}}],\"histogram2d\":[{\"type\":\"histogram2d\",\"colorbar\":{\"outlinewidth\":0,\"ticks\":\"\"},\"colorscale\":[[0.0,\"#0d0887\"],[0.1111111111111111,\"#46039f\"],[0.2222222222222222,\"#7201a8\"],[0.3333333333333333,\"#9c179e\"],[0.4444444444444444,\"#bd3786\"],[0.5555555555555556,\"#d8576b\"],[0.6666666666666666,\"#ed7953\"],[0.7777777777777778,\"#fb9f3a\"],[0.8888888888888888,\"#fdca26\"],[1.0,\"#f0f921\"]]}],\"heatmap\":[{\"type\":\"heatmap\",\"colorbar\":{\"outlinewidth\":0,\"ticks\":\"\"},\"colorscale\":[[0.0,\"#0d0887\"],[0.1111111111111111,\"#46039f\"],[0.2222222222222222,\"#7201a8\"],[0.3333333333333333,\"#9c179e\"],[0.4444444444444444,\"#bd3786\"],[0.5555555555555556,\"#d8576b\"],[0.6666666666666666,\"#ed7953\"],[0.7777777777777778,\"#fb9f3a\"],[0.8888888888888888,\"#fdca26\"],[1.0,\"#f0f921\"]]}],\"heatmapgl\":[{\"type\":\"heatmapgl\",\"colorbar\":{\"outlinewidth\":0,\"ticks\":\"\"},\"colorscale\":[[0.0,\"#0d0887\"],[0.1111111111111111,\"#46039f\"],[0.2222222222222222,\"#7201a8\"],[0.3333333333333333,\"#9c179e\"],[0.4444444444444444,\"#bd3786\"],[0.5555555555555556,\"#d8576b\"],[0.6666666666666666,\"#ed7953\"],[0.7777777777777778,\"#fb9f3a\"],[0.8888888888888888,\"#fdca26\"],[1.0,\"#f0f921\"]]}],\"contourcarpet\":[{\"type\":\"contourcarpet\",\"colorbar\":{\"outlinewidth\":0,\"ticks\":\"\"}}],\"contour\":[{\"type\":\"contour\",\"colorbar\":{\"outlinewidth\":0,\"ticks\":\"\"},\"colorscale\":[[0.0,\"#0d0887\"],[0.1111111111111111,\"#46039f\"],[0.2222222222222222,\"#7201a8\"],[0.3333333333333333,\"#9c179e\"],[0.4444444444444444,\"#bd3786\"],[0.5555555555555556,\"#d8576b\"],[0.6666666666666666,\"#ed7953\"],[0.7777777777777778,\"#fb9f3a\"],[0.8888888888888888,\"#fdca26\"],[1.0,\"#f0f921\"]]}],\"surface\":[{\"type\":\"surface\",\"colorbar\":{\"outlinewidth\":0,\"ticks\":\"\"},\"colorscale\":[[0.0,\"#0d0887\"],[0.1111111111111111,\"#46039f\"],[0.2222222222222222,\"#7201a8\"],[0.3333333333333333,\"#9c179e\"],[0.4444444444444444,\"#bd3786\"],[0.5555555555555556,\"#d8576b\"],[0.6666666666666666,\"#ed7953\"],[0.7777777777777778,\"#fb9f3a\"],[0.8888888888888888,\"#fdca26\"],[1.0,\"#f0f921\"]]}],\"mesh3d\":[{\"type\":\"mesh3d\",\"colorbar\":{\"outlinewidth\":0,\"ticks\":\"\"}}],\"scatter\":[{\"fillpattern\":{\"fillmode\":\"overlay\",\"size\":10,\"solidity\":0.2},\"type\":\"scatter\"}],\"parcoords\":[{\"type\":\"parcoords\",\"line\":{\"colorbar\":{\"outlinewidth\":0,\"ticks\":\"\"}}}],\"scatterpolargl\":[{\"type\":\"scatterpolargl\",\"marker\":{\"colorbar\":{\"outlinewidth\":0,\"ticks\":\"\"}}}],\"bar\":[{\"error_x\":{\"color\":\"#2a3f5f\"},\"error_y\":{\"color\":\"#2a3f5f\"},\"marker\":{\"line\":{\"color\":\"#E5ECF6\",\"width\":0.5},\"pattern\":{\"fillmode\":\"overlay\",\"size\":10,\"solidity\":0.2}},\"type\":\"bar\"}],\"scattergeo\":[{\"type\":\"scattergeo\",\"marker\":{\"colorbar\":{\"outlinewidth\":0,\"ticks\":\"\"}}}],\"scatterpolar\":[{\"type\":\"scatterpolar\",\"marker\":{\"colorbar\":{\"outlinewidth\":0,\"ticks\":\"\"}}}],\"histogram\":[{\"marker\":{\"pattern\":{\"fillmode\":\"overlay\",\"size\":10,\"solidity\":0.2}},\"type\":\"histogram\"}],\"scattergl\":[{\"type\":\"scattergl\",\"marker\":{\"colorbar\":{\"outlinewidth\":0,\"ticks\":\"\"}}}],\"scatter3d\":[{\"type\":\"scatter3d\",\"line\":{\"colorbar\":{\"outlinewidth\":0,\"ticks\":\"\"}},\"marker\":{\"colorbar\":{\"outlinewidth\":0,\"ticks\":\"\"}}}],\"scattermapbox\":[{\"type\":\"scattermapbox\",\"marker\":{\"colorbar\":{\"outlinewidth\":0,\"ticks\":\"\"}}}],\"scatterternary\":[{\"type\":\"scatterternary\",\"marker\":{\"colorbar\":{\"outlinewidth\":0,\"ticks\":\"\"}}}],\"scattercarpet\":[{\"type\":\"scattercarpet\",\"marker\":{\"colorbar\":{\"outlinewidth\":0,\"ticks\":\"\"}}}],\"carpet\":[{\"aaxis\":{\"endlinecolor\":\"#2a3f5f\",\"gridcolor\":\"white\",\"linecolor\":\"white\",\"minorgridcolor\":\"white\",\"startlinecolor\":\"#2a3f5f\"},\"baxis\":{\"endlinecolor\":\"#2a3f5f\",\"gridcolor\":\"white\",\"linecolor\":\"white\",\"minorgridcolor\":\"white\",\"startlinecolor\":\"#2a3f5f\"},\"type\":\"carpet\"}],\"table\":[{\"cells\":{\"fill\":{\"color\":\"#EBF0F8\"},\"line\":{\"color\":\"white\"}},\"header\":{\"fill\":{\"color\":\"#C8D4E3\"},\"line\":{\"color\":\"white\"}},\"type\":\"table\"}],\"barpolar\":[{\"marker\":{\"line\":{\"color\":\"#E5ECF6\",\"width\":0.5},\"pattern\":{\"fillmode\":\"overlay\",\"size\":10,\"solidity\":0.2}},\"type\":\"barpolar\"}],\"pie\":[{\"automargin\":true,\"type\":\"pie\"}]},\"layout\":{\"autotypenumbers\":\"strict\",\"colorway\":[\"#636efa\",\"#EF553B\",\"#00cc96\",\"#ab63fa\",\"#FFA15A\",\"#19d3f3\",\"#FF6692\",\"#B6E880\",\"#FF97FF\",\"#FECB52\"],\"font\":{\"color\":\"#2a3f5f\"},\"hovermode\":\"closest\",\"hoverlabel\":{\"align\":\"left\"},\"paper_bgcolor\":\"white\",\"plot_bgcolor\":\"#E5ECF6\",\"polar\":{\"bgcolor\":\"#E5ECF6\",\"angularaxis\":{\"gridcolor\":\"white\",\"linecolor\":\"white\",\"ticks\":\"\"},\"radialaxis\":{\"gridcolor\":\"white\",\"linecolor\":\"white\",\"ticks\":\"\"}},\"ternary\":{\"bgcolor\":\"#E5ECF6\",\"aaxis\":{\"gridcolor\":\"white\",\"linecolor\":\"white\",\"ticks\":\"\"},\"baxis\":{\"gridcolor\":\"white\",\"linecolor\":\"white\",\"ticks\":\"\"},\"caxis\":{\"gridcolor\":\"white\",\"linecolor\":\"white\",\"ticks\":\"\"}},\"coloraxis\":{\"colorbar\":{\"outlinewidth\":0,\"ticks\":\"\"}},\"colorscale\":{\"sequential\":[[0.0,\"#0d0887\"],[0.1111111111111111,\"#46039f\"],[0.2222222222222222,\"#7201a8\"],[0.3333333333333333,\"#9c179e\"],[0.4444444444444444,\"#bd3786\"],[0.5555555555555556,\"#d8576b\"],[0.6666666666666666,\"#ed7953\"],[0.7777777777777778,\"#fb9f3a\"],[0.8888888888888888,\"#fdca26\"],[1.0,\"#f0f921\"]],\"sequentialminus\":[[0.0,\"#0d0887\"],[0.1111111111111111,\"#46039f\"],[0.2222222222222222,\"#7201a8\"],[0.3333333333333333,\"#9c179e\"],[0.4444444444444444,\"#bd3786\"],[0.5555555555555556,\"#d8576b\"],[0.6666666666666666,\"#ed7953\"],[0.7777777777777778,\"#fb9f3a\"],[0.8888888888888888,\"#fdca26\"],[1.0,\"#f0f921\"]],\"diverging\":[[0,\"#8e0152\"],[0.1,\"#c51b7d\"],[0.2,\"#de77ae\"],[0.3,\"#f1b6da\"],[0.4,\"#fde0ef\"],[0.5,\"#f7f7f7\"],[0.6,\"#e6f5d0\"],[0.7,\"#b8e186\"],[0.8,\"#7fbc41\"],[0.9,\"#4d9221\"],[1,\"#276419\"]]},\"xaxis\":{\"gridcolor\":\"white\",\"linecolor\":\"white\",\"ticks\":\"\",\"title\":{\"standoff\":15},\"zerolinecolor\":\"white\",\"automargin\":true,\"zerolinewidth\":2},\"yaxis\":{\"gridcolor\":\"white\",\"linecolor\":\"white\",\"ticks\":\"\",\"title\":{\"standoff\":15},\"zerolinecolor\":\"white\",\"automargin\":true,\"zerolinewidth\":2},\"scene\":{\"xaxis\":{\"backgroundcolor\":\"#E5ECF6\",\"gridcolor\":\"white\",\"linecolor\":\"white\",\"showbackground\":true,\"ticks\":\"\",\"zerolinecolor\":\"white\",\"gridwidth\":2},\"yaxis\":{\"backgroundcolor\":\"#E5ECF6\",\"gridcolor\":\"white\",\"linecolor\":\"white\",\"showbackground\":true,\"ticks\":\"\",\"zerolinecolor\":\"white\",\"gridwidth\":2},\"zaxis\":{\"backgroundcolor\":\"#E5ECF6\",\"gridcolor\":\"white\",\"linecolor\":\"white\",\"showbackground\":true,\"ticks\":\"\",\"zerolinecolor\":\"white\",\"gridwidth\":2}},\"shapedefaults\":{\"line\":{\"color\":\"#2a3f5f\"}},\"annotationdefaults\":{\"arrowcolor\":\"#2a3f5f\",\"arrowhead\":0,\"arrowwidth\":1},\"geo\":{\"bgcolor\":\"white\",\"landcolor\":\"#E5ECF6\",\"subunitcolor\":\"white\",\"showland\":true,\"showlakes\":true,\"lakecolor\":\"white\"},\"title\":{\"x\":0.05},\"mapbox\":{\"style\":\"light\"}}},\"xaxis\":{\"nticks\":13},\"title\":{\"text\":\"Topic contributions to Airline tweets\"},\"height\":1800,\"width\":800},                        {\"responsive\": true}                    ).then(function(){\n",
       "                            \n",
       "var gd = document.getElementById('28b0d967-2aeb-48a2-95b8-83ae9d3a218a');\n",
       "var x = new MutationObserver(function (mutations, observer) {{\n",
       "        var display = window.getComputedStyle(gd).display;\n",
       "        if (!display || display === 'none') {{\n",
       "            console.log([gd, 'removed!']);\n",
       "            Plotly.purge(gd);\n",
       "            observer.disconnect();\n",
       "        }}\n",
       "}});\n",
       "\n",
       "// Listen for the removal of the full notebook cells\n",
       "var notebookContainer = gd.closest('#notebook-container');\n",
       "if (notebookContainer) {{\n",
       "    x.observe(notebookContainer, {childList: true});\n",
       "}}\n",
       "\n",
       "// Listen for the clearing of the current output cell\n",
       "var outputEl = gd.closest('.output');\n",
       "if (outputEl) {{\n",
       "    x.observe(outputEl, {childList: true});\n",
       "}}\n",
       "\n",
       "                        })                };                });            </script>        </div>"
      ]
     },
     "metadata": {},
     "output_type": "display_data"
    }
   ],
   "source": [
    "fig = go.Figure(data=go.Heatmap(\n",
    "        z=df_heatmap_topic_lvl_airline_scores.T.loc[::-1, :].values.tolist(),\n",
    "        y=sorted(all_airlines, reverse=True),\n",
    "        x=[topic_nums_to_names[str(i)] for i in all_topic_nums],\n",
    "        colorscale='Viridis'))\n",
    "\n",
    "fig.update_layout(\n",
    "    title='Topic contributions to Airline tweets',\n",
    "    xaxis_nticks=13\n",
    ")\n",
    "\n",
    "fig.update_layout(height=1800, width=800)\n",
    "\n",
    "fig.show()"
   ]
  },
  {
   "cell_type": "code",
   "execution_count": null,
   "id": "b7afd54c",
   "metadata": {},
   "outputs": [],
   "source": []
  },
  {
   "cell_type": "code",
   "execution_count": null,
   "id": "2e321931",
   "metadata": {},
   "outputs": [],
   "source": []
  },
  {
   "cell_type": "code",
   "execution_count": null,
   "id": "4e0fd851",
   "metadata": {},
   "outputs": [],
   "source": []
  },
  {
   "cell_type": "markdown",
   "id": "36dce51a",
   "metadata": {},
   "source": [
    "## Bubble chart showing tweets "
   ]
  },
  {
   "cell_type": "code",
   "execution_count": 80,
   "id": "7a79c24a",
   "metadata": {},
   "outputs": [
    {
     "data": {
      "text/html": [
       "<div>\n",
       "<style scoped>\n",
       "    .dataframe tbody tr th:only-of-type {\n",
       "        vertical-align: middle;\n",
       "    }\n",
       "\n",
       "    .dataframe tbody tr th {\n",
       "        vertical-align: top;\n",
       "    }\n",
       "\n",
       "    .dataframe thead th {\n",
       "        text-align: right;\n",
       "    }\n",
       "</style>\n",
       "<table border=\"1\" class=\"dataframe\">\n",
       "  <thead>\n",
       "    <tr style=\"text-align: right;\">\n",
       "      <th></th>\n",
       "      <th>tweet_id</th>\n",
       "      <th>user</th>\n",
       "      <th>retweet_count</th>\n",
       "      <th>reply_count</th>\n",
       "      <th>like_count</th>\n",
       "      <th>quote_count</th>\n",
       "    </tr>\n",
       "  </thead>\n",
       "  <tbody>\n",
       "    <tr>\n",
       "      <th>42186</th>\n",
       "      <td>1540061396192436225</td>\n",
       "      <td>united</td>\n",
       "      <td>90.0</td>\n",
       "      <td>45.0</td>\n",
       "      <td>938.0</td>\n",
       "      <td>6.0</td>\n",
       "    </tr>\n",
       "    <tr>\n",
       "      <th>42188</th>\n",
       "      <td>1539031014919520258</td>\n",
       "      <td>united</td>\n",
       "      <td>24.0</td>\n",
       "      <td>17.0</td>\n",
       "      <td>117.0</td>\n",
       "      <td>4.0</td>\n",
       "    </tr>\n",
       "    <tr>\n",
       "      <th>42189</th>\n",
       "      <td>1539006194798534660</td>\n",
       "      <td>united</td>\n",
       "      <td>10.0</td>\n",
       "      <td>10.0</td>\n",
       "      <td>139.0</td>\n",
       "      <td>2.0</td>\n",
       "    </tr>\n",
       "    <tr>\n",
       "      <th>42190</th>\n",
       "      <td>1538678619438039043</td>\n",
       "      <td>united</td>\n",
       "      <td>12.0</td>\n",
       "      <td>4.0</td>\n",
       "      <td>83.0</td>\n",
       "      <td>4.0</td>\n",
       "    </tr>\n",
       "    <tr>\n",
       "      <th>42194</th>\n",
       "      <td>1537847081578246147</td>\n",
       "      <td>united</td>\n",
       "      <td>1.0</td>\n",
       "      <td>10.0</td>\n",
       "      <td>44.0</td>\n",
       "      <td>0.0</td>\n",
       "    </tr>\n",
       "    <tr>\n",
       "      <th>...</th>\n",
       "      <td>...</td>\n",
       "      <td>...</td>\n",
       "      <td>...</td>\n",
       "      <td>...</td>\n",
       "      <td>...</td>\n",
       "      <td>...</td>\n",
       "    </tr>\n",
       "    <tr>\n",
       "      <th>42970</th>\n",
       "      <td>1547360247211331588</td>\n",
       "      <td>united</td>\n",
       "      <td>129.0</td>\n",
       "      <td>85.0</td>\n",
       "      <td>1309.0</td>\n",
       "      <td>13.0</td>\n",
       "    </tr>\n",
       "    <tr>\n",
       "      <th>42971</th>\n",
       "      <td>1546926880791707648</td>\n",
       "      <td>united</td>\n",
       "      <td>46.0</td>\n",
       "      <td>43.0</td>\n",
       "      <td>288.0</td>\n",
       "      <td>2.0</td>\n",
       "    </tr>\n",
       "    <tr>\n",
       "      <th>42972</th>\n",
       "      <td>1546618850497761281</td>\n",
       "      <td>united</td>\n",
       "      <td>26.0</td>\n",
       "      <td>14.0</td>\n",
       "      <td>482.0</td>\n",
       "      <td>0.0</td>\n",
       "    </tr>\n",
       "    <tr>\n",
       "      <th>42973</th>\n",
       "      <td>1545085094200745988</td>\n",
       "      <td>united</td>\n",
       "      <td>21.0</td>\n",
       "      <td>35.0</td>\n",
       "      <td>173.0</td>\n",
       "      <td>3.0</td>\n",
       "    </tr>\n",
       "    <tr>\n",
       "      <th>42975</th>\n",
       "      <td>1542239756108681216</td>\n",
       "      <td>united</td>\n",
       "      <td>65.0</td>\n",
       "      <td>24.0</td>\n",
       "      <td>604.0</td>\n",
       "      <td>8.0</td>\n",
       "    </tr>\n",
       "  </tbody>\n",
       "</table>\n",
       "<p>461 rows × 6 columns</p>\n",
       "</div>"
      ],
      "text/plain": [
       "                  tweet_id    user  retweet_count  reply_count  like_count  \\\n",
       "42186  1540061396192436225  united           90.0         45.0       938.0   \n",
       "42188  1539031014919520258  united           24.0         17.0       117.0   \n",
       "42189  1539006194798534660  united           10.0         10.0       139.0   \n",
       "42190  1538678619438039043  united           12.0          4.0        83.0   \n",
       "42194  1537847081578246147  united            1.0         10.0        44.0   \n",
       "...                    ...     ...            ...          ...         ...   \n",
       "42970  1547360247211331588  united          129.0         85.0      1309.0   \n",
       "42971  1546926880791707648  united           46.0         43.0       288.0   \n",
       "42972  1546618850497761281  united           26.0         14.0       482.0   \n",
       "42973  1545085094200745988  united           21.0         35.0       173.0   \n",
       "42975  1542239756108681216  united           65.0         24.0       604.0   \n",
       "\n",
       "       quote_count  \n",
       "42186          6.0  \n",
       "42188          4.0  \n",
       "42189          2.0  \n",
       "42190          4.0  \n",
       "42194          0.0  \n",
       "...            ...  \n",
       "42970         13.0  \n",
       "42971          2.0  \n",
       "42972          0.0  \n",
       "42973          3.0  \n",
       "42975          8.0  \n",
       "\n",
       "[461 rows x 6 columns]"
      ]
     },
     "execution_count": 80,
     "metadata": {},
     "output_type": "execute_result"
    }
   ],
   "source": [
    "## For each tweet, calculate aggregate measure of user engagement\n",
    "engagement_cols = ['retweet_count', 'reply_count', 'like_count', 'quote_count']\n",
    "merged_output_df2[merged_output_df2['user']=='united'][['tweet_id', 'user']+engagement_cols]"
   ]
  },
  {
   "cell_type": "markdown",
   "id": "d72121e0",
   "metadata": {},
   "source": [
    "### Preliminary step: Normalize each user (airline)'s tweet engagement by the average engagement per engagement type"
   ]
  },
  {
   "cell_type": "code",
   "execution_count": 86,
   "id": "8bcf3825",
   "metadata": {},
   "outputs": [
    {
     "data": {
      "text/html": [
       "<div>\n",
       "<style scoped>\n",
       "    .dataframe tbody tr th:only-of-type {\n",
       "        vertical-align: middle;\n",
       "    }\n",
       "\n",
       "    .dataframe tbody tr th {\n",
       "        vertical-align: top;\n",
       "    }\n",
       "\n",
       "    .dataframe thead th {\n",
       "        text-align: right;\n",
       "    }\n",
       "</style>\n",
       "<table border=\"1\" class=\"dataframe\">\n",
       "  <thead>\n",
       "    <tr style=\"text-align: right;\">\n",
       "      <th></th>\n",
       "      <th>user</th>\n",
       "      <th>avg_user_retweets</th>\n",
       "      <th>avg_user_replies</th>\n",
       "      <th>avg_user_likes</th>\n",
       "      <th>avg_user_quotes</th>\n",
       "    </tr>\n",
       "  </thead>\n",
       "  <tbody>\n",
       "    <tr>\n",
       "      <th>0</th>\n",
       "      <td>AerLingus</td>\n",
       "      <td>43.873333</td>\n",
       "      <td>36.133333</td>\n",
       "      <td>294.580000</td>\n",
       "      <td>8.902222</td>\n",
       "    </tr>\n",
       "    <tr>\n",
       "      <th>1</th>\n",
       "      <td>Aeroflot_World</td>\n",
       "      <td>8.606607</td>\n",
       "      <td>1.225225</td>\n",
       "      <td>17.072072</td>\n",
       "      <td>0.249249</td>\n",
       "    </tr>\n",
       "    <tr>\n",
       "      <th>2</th>\n",
       "      <td>AeromexicoUSA</td>\n",
       "      <td>0.654076</td>\n",
       "      <td>0.793241</td>\n",
       "      <td>2.882704</td>\n",
       "      <td>0.049702</td>\n",
       "    </tr>\n",
       "    <tr>\n",
       "      <th>3</th>\n",
       "      <td>AirCanada</td>\n",
       "      <td>8.106312</td>\n",
       "      <td>8.996678</td>\n",
       "      <td>36.156146</td>\n",
       "      <td>0.794020</td>\n",
       "    </tr>\n",
       "    <tr>\n",
       "      <th>4</th>\n",
       "      <td>AirFranceIN</td>\n",
       "      <td>6.550976</td>\n",
       "      <td>8.097614</td>\n",
       "      <td>8.240781</td>\n",
       "      <td>0.290672</td>\n",
       "    </tr>\n",
       "    <tr>\n",
       "      <th>...</th>\n",
       "      <td>...</td>\n",
       "      <td>...</td>\n",
       "      <td>...</td>\n",
       "      <td>...</td>\n",
       "      <td>...</td>\n",
       "    </tr>\n",
       "    <tr>\n",
       "      <th>80</th>\n",
       "      <td>transavia</td>\n",
       "      <td>3.333333</td>\n",
       "      <td>10.222222</td>\n",
       "      <td>6.074074</td>\n",
       "      <td>0.777778</td>\n",
       "    </tr>\n",
       "    <tr>\n",
       "      <th>81</th>\n",
       "      <td>united</td>\n",
       "      <td>67.681128</td>\n",
       "      <td>57.227766</td>\n",
       "      <td>504.668113</td>\n",
       "      <td>17.954447</td>\n",
       "    </tr>\n",
       "    <tr>\n",
       "      <th>82</th>\n",
       "      <td>volotea</td>\n",
       "      <td>1.613861</td>\n",
       "      <td>3.600660</td>\n",
       "      <td>5.023102</td>\n",
       "      <td>0.234323</td>\n",
       "    </tr>\n",
       "    <tr>\n",
       "      <th>83</th>\n",
       "      <td>vueling</td>\n",
       "      <td>14.347368</td>\n",
       "      <td>13.063158</td>\n",
       "      <td>2.557895</td>\n",
       "      <td>0.221053</td>\n",
       "    </tr>\n",
       "    <tr>\n",
       "      <th>84</th>\n",
       "      <td>wizzair</td>\n",
       "      <td>2.309677</td>\n",
       "      <td>13.808065</td>\n",
       "      <td>14.491935</td>\n",
       "      <td>0.764516</td>\n",
       "    </tr>\n",
       "  </tbody>\n",
       "</table>\n",
       "<p>85 rows × 5 columns</p>\n",
       "</div>"
      ],
      "text/plain": [
       "              user  avg_user_retweets  avg_user_replies  avg_user_likes  \\\n",
       "0        AerLingus          43.873333         36.133333      294.580000   \n",
       "1   Aeroflot_World           8.606607          1.225225       17.072072   \n",
       "2    AeromexicoUSA           0.654076          0.793241        2.882704   \n",
       "3        AirCanada           8.106312          8.996678       36.156146   \n",
       "4      AirFranceIN           6.550976          8.097614        8.240781   \n",
       "..             ...                ...               ...             ...   \n",
       "80       transavia           3.333333         10.222222        6.074074   \n",
       "81          united          67.681128         57.227766      504.668113   \n",
       "82         volotea           1.613861          3.600660        5.023102   \n",
       "83         vueling          14.347368         13.063158        2.557895   \n",
       "84         wizzair           2.309677         13.808065       14.491935   \n",
       "\n",
       "    avg_user_quotes  \n",
       "0          8.902222  \n",
       "1          0.249249  \n",
       "2          0.049702  \n",
       "3          0.794020  \n",
       "4          0.290672  \n",
       "..              ...  \n",
       "80         0.777778  \n",
       "81        17.954447  \n",
       "82         0.234323  \n",
       "83         0.221053  \n",
       "84         0.764516  \n",
       "\n",
       "[85 rows x 5 columns]"
      ]
     },
     "execution_count": 86,
     "metadata": {},
     "output_type": "execute_result"
    }
   ],
   "source": [
    "mean_engagement_types_by_airline = merged_output_df2.groupby('user')[engagement_cols].mean().reset_index().rename(\n",
    "    columns={'retweet_count': 'avg_user_retweets',\n",
    "             'reply_count': 'avg_user_replies',\n",
    "             'like_count': 'avg_user_likes',\n",
    "             'quote_count': 'avg_user_quotes'}\n",
    ")\n",
    "\n",
    "mean_engagement_types_by_airline"
   ]
  },
  {
   "cell_type": "code",
   "execution_count": 87,
   "id": "ee6a996a",
   "metadata": {},
   "outputs": [
    {
     "data": {
      "text/html": [
       "<div>\n",
       "<style scoped>\n",
       "    .dataframe tbody tr th:only-of-type {\n",
       "        vertical-align: middle;\n",
       "    }\n",
       "\n",
       "    .dataframe tbody tr th {\n",
       "        vertical-align: top;\n",
       "    }\n",
       "\n",
       "    .dataframe thead th {\n",
       "        text-align: right;\n",
       "    }\n",
       "</style>\n",
       "<table border=\"1\" class=\"dataframe\">\n",
       "  <thead>\n",
       "    <tr style=\"text-align: right;\">\n",
       "      <th></th>\n",
       "      <th>tweet_id</th>\n",
       "      <th>user</th>\n",
       "      <th>created_at</th>\n",
       "      <th>text</th>\n",
       "      <th>is_reply</th>\n",
       "      <th>source</th>\n",
       "      <th>lang</th>\n",
       "      <th>retweet_count</th>\n",
       "      <th>reply_count</th>\n",
       "      <th>like_count</th>\n",
       "      <th>...</th>\n",
       "      <th>Document_No</th>\n",
       "      <th>Dominant_Topic</th>\n",
       "      <th>Topic_Perc_Contrib</th>\n",
       "      <th>Keywords</th>\n",
       "      <th>Text</th>\n",
       "      <th>num_topics</th>\n",
       "      <th>avg_user_retweets</th>\n",
       "      <th>avg_user_replies</th>\n",
       "      <th>avg_user_likes</th>\n",
       "      <th>avg_user_quotes</th>\n",
       "    </tr>\n",
       "  </thead>\n",
       "  <tbody>\n",
       "    <tr>\n",
       "      <th>0</th>\n",
       "      <td>1154670861376524289</td>\n",
       "      <td>easyJet</td>\n",
       "      <td>2019-07-26T08:32:40.000Z</td>\n",
       "      <td>It may take us a little longer to reply to you...</td>\n",
       "      <td>0.0</td>\n",
       "      <td>Sprinklr</td>\n",
       "      <td>en</td>\n",
       "      <td>2.0</td>\n",
       "      <td>28.0</td>\n",
       "      <td>11.0</td>\n",
       "      <td>...</td>\n",
       "      <td>3</td>\n",
       "      <td>3</td>\n",
       "      <td>0.4257</td>\n",
       "      <td>look, work, great, view, activity, connect, gu...</td>\n",
       "      <td>['little', 'long', 'reply', 'volume', 'message...</td>\n",
       "      <td>17</td>\n",
       "      <td>10.908088</td>\n",
       "      <td>29.408088</td>\n",
       "      <td>93.856618</td>\n",
       "      <td>3.411765</td>\n",
       "    </tr>\n",
       "    <tr>\n",
       "      <th>1</th>\n",
       "      <td>1154670731613081600</td>\n",
       "      <td>easyJet</td>\n",
       "      <td>2019-07-26T08:32:09.000Z</td>\n",
       "      <td>Due to adverse weather across the UK, easyJet,...</td>\n",
       "      <td>0.0</td>\n",
       "      <td>Sprinklr</td>\n",
       "      <td>en</td>\n",
       "      <td>6.0</td>\n",
       "      <td>34.0</td>\n",
       "      <td>31.0</td>\n",
       "      <td>...</td>\n",
       "      <td>4</td>\n",
       "      <td>16</td>\n",
       "      <td>0.3607</td>\n",
       "      <td>check, experience, airline, trip, discover, ba...</td>\n",
       "      <td>['adverse_weather', 'easyjet', 'airline', 'exp...</td>\n",
       "      <td>17</td>\n",
       "      <td>10.908088</td>\n",
       "      <td>29.408088</td>\n",
       "      <td>93.856618</td>\n",
       "      <td>3.411765</td>\n",
       "    </tr>\n",
       "    <tr>\n",
       "      <th>2</th>\n",
       "      <td>1154424096123494400</td>\n",
       "      <td>easyJet</td>\n",
       "      <td>2019-07-25T16:12:07.000Z</td>\n",
       "      <td>RT @TLRailUK: ⚠️ #TLUpdates - Services between...</td>\n",
       "      <td>0.0</td>\n",
       "      <td>Sprinklr</td>\n",
       "      <td>en</td>\n",
       "      <td>6.0</td>\n",
       "      <td>0.0</td>\n",
       "      <td>0.0</td>\n",
       "      <td>...</td>\n",
       "      <td>5</td>\n",
       "      <td>11</td>\n",
       "      <td>0.2784</td>\n",
       "      <td>time, know, night, beautiful, moment, stay, ho...</td>\n",
       "      <td>['run', 'moment', 'time', 'delay']</td>\n",
       "      <td>17</td>\n",
       "      <td>10.908088</td>\n",
       "      <td>29.408088</td>\n",
       "      <td>93.856618</td>\n",
       "      <td>3.411765</td>\n",
       "    </tr>\n",
       "    <tr>\n",
       "      <th>3</th>\n",
       "      <td>1154330542013386753</td>\n",
       "      <td>easyJet</td>\n",
       "      <td>2019-07-25T10:00:22.000Z</td>\n",
       "      <td>⚠️ 🚗 🚧 Due to an accident on the M23, which is...</td>\n",
       "      <td>0.0</td>\n",
       "      <td>Sprinklr</td>\n",
       "      <td>en</td>\n",
       "      <td>4.0</td>\n",
       "      <td>7.0</td>\n",
       "      <td>10.0</td>\n",
       "      <td>...</td>\n",
       "      <td>6</td>\n",
       "      <td>2</td>\n",
       "      <td>0.2543</td>\n",
       "      <td>today, excite, journey, fantastic, share, cust...</td>\n",
       "      <td>['delay', 'approach', 'strongly', 'recommend',...</td>\n",
       "      <td>17</td>\n",
       "      <td>10.908088</td>\n",
       "      <td>29.408088</td>\n",
       "      <td>93.856618</td>\n",
       "      <td>3.411765</td>\n",
       "    </tr>\n",
       "    <tr>\n",
       "      <th>4</th>\n",
       "      <td>1154327194153508864</td>\n",
       "      <td>easyJet</td>\n",
       "      <td>2019-07-25T09:47:04.000Z</td>\n",
       "      <td>RT @HighwaysSEAST: As a result of this collisi...</td>\n",
       "      <td>0.0</td>\n",
       "      <td>Sprinklr</td>\n",
       "      <td>en</td>\n",
       "      <td>5.0</td>\n",
       "      <td>0.0</td>\n",
       "      <td>0.0</td>\n",
       "      <td>...</td>\n",
       "      <td>7</td>\n",
       "      <td>13</td>\n",
       "      <td>0.4043</td>\n",
       "      <td>travel, minute, detail, ensure, online, result...</td>\n",
       "      <td>['result', 'collision', 'delay', 'minute', 'ap...</td>\n",
       "      <td>17</td>\n",
       "      <td>10.908088</td>\n",
       "      <td>29.408088</td>\n",
       "      <td>93.856618</td>\n",
       "      <td>3.411765</td>\n",
       "    </tr>\n",
       "  </tbody>\n",
       "</table>\n",
       "<p>5 rows × 30 columns</p>\n",
       "</div>"
      ],
      "text/plain": [
       "              tweet_id     user                created_at  \\\n",
       "0  1154670861376524289  easyJet  2019-07-26T08:32:40.000Z   \n",
       "1  1154670731613081600  easyJet  2019-07-26T08:32:09.000Z   \n",
       "2  1154424096123494400  easyJet  2019-07-25T16:12:07.000Z   \n",
       "3  1154330542013386753  easyJet  2019-07-25T10:00:22.000Z   \n",
       "4  1154327194153508864  easyJet  2019-07-25T09:47:04.000Z   \n",
       "\n",
       "                                                text  is_reply    source lang  \\\n",
       "0  It may take us a little longer to reply to you...       0.0  Sprinklr   en   \n",
       "1  Due to adverse weather across the UK, easyJet,...       0.0  Sprinklr   en   \n",
       "2  RT @TLRailUK: ⚠️ #TLUpdates - Services between...       0.0  Sprinklr   en   \n",
       "3  ⚠️ 🚗 🚧 Due to an accident on the M23, which is...       0.0  Sprinklr   en   \n",
       "4  RT @HighwaysSEAST: As a result of this collisi...       0.0  Sprinklr   en   \n",
       "\n",
       "   retweet_count  reply_count  like_count  ...  Document_No Dominant_Topic  \\\n",
       "0            2.0         28.0        11.0  ...            3              3   \n",
       "1            6.0         34.0        31.0  ...            4             16   \n",
       "2            6.0          0.0         0.0  ...            5             11   \n",
       "3            4.0          7.0        10.0  ...            6              2   \n",
       "4            5.0          0.0         0.0  ...            7             13   \n",
       "\n",
       "  Topic_Perc_Contrib                                           Keywords  \\\n",
       "0             0.4257  look, work, great, view, activity, connect, gu...   \n",
       "1             0.3607  check, experience, airline, trip, discover, ba...   \n",
       "2             0.2784  time, know, night, beautiful, moment, stay, ho...   \n",
       "3             0.2543  today, excite, journey, fantastic, share, cust...   \n",
       "4             0.4043  travel, minute, detail, ensure, online, result...   \n",
       "\n",
       "                                                Text num_topics  \\\n",
       "0  ['little', 'long', 'reply', 'volume', 'message...         17   \n",
       "1  ['adverse_weather', 'easyjet', 'airline', 'exp...         17   \n",
       "2                 ['run', 'moment', 'time', 'delay']         17   \n",
       "3  ['delay', 'approach', 'strongly', 'recommend',...         17   \n",
       "4  ['result', 'collision', 'delay', 'minute', 'ap...         17   \n",
       "\n",
       "  avg_user_retweets avg_user_replies  avg_user_likes  avg_user_quotes  \n",
       "0         10.908088        29.408088       93.856618         3.411765  \n",
       "1         10.908088        29.408088       93.856618         3.411765  \n",
       "2         10.908088        29.408088       93.856618         3.411765  \n",
       "3         10.908088        29.408088       93.856618         3.411765  \n",
       "4         10.908088        29.408088       93.856618         3.411765  \n",
       "\n",
       "[5 rows x 30 columns]"
      ]
     },
     "execution_count": 87,
     "metadata": {},
     "output_type": "execute_result"
    }
   ],
   "source": [
    "merged_output_df3 = pd.merge(merged_output_df2, mean_engagement_types_by_airline, how='left', on='user')\n",
    "merged_output_df3.head()"
   ]
  },
  {
   "cell_type": "code",
   "execution_count": 88,
   "id": "7df918d9",
   "metadata": {},
   "outputs": [],
   "source": [
    "merged_output_df3['norm_eng_retweets'] = merged_output_df3['retweet_count'] / merged_output_df3['avg_user_retweets']\n",
    "merged_output_df3['norm_eng_replies'] = merged_output_df3['reply_count'] / merged_output_df3['avg_user_replies']\n",
    "merged_output_df3['norm_eng_likes'] = merged_output_df3['like_count'] / merged_output_df3['avg_user_likes']\n",
    "merged_output_df3['norm_eng_quotes'] = merged_output_df3['quote_count'] / merged_output_df3['avg_user_quotes']"
   ]
  },
  {
   "cell_type": "code",
   "execution_count": 90,
   "id": "6a944c0f",
   "metadata": {},
   "outputs": [],
   "source": [
    "merged_output_df3['sum_norm_engmnt'] = merged_output_df3['norm_eng_retweets'] + merged_output_df3['norm_eng_replies'] + merged_output_df3['norm_eng_likes'] + merged_output_df3['norm_eng_quotes']"
   ]
  },
  {
   "cell_type": "code",
   "execution_count": 108,
   "id": "8a27d922",
   "metadata": {},
   "outputs": [
    {
     "data": {
      "text/html": [
       "<div>\n",
       "<style scoped>\n",
       "    .dataframe tbody tr th:only-of-type {\n",
       "        vertical-align: middle;\n",
       "    }\n",
       "\n",
       "    .dataframe tbody tr th {\n",
       "        vertical-align: top;\n",
       "    }\n",
       "\n",
       "    .dataframe thead th {\n",
       "        text-align: right;\n",
       "    }\n",
       "</style>\n",
       "<table border=\"1\" class=\"dataframe\">\n",
       "  <thead>\n",
       "    <tr style=\"text-align: right;\">\n",
       "      <th></th>\n",
       "      <th>retweet_count</th>\n",
       "      <th>reply_count</th>\n",
       "      <th>like_count</th>\n",
       "      <th>quote_count</th>\n",
       "      <th>detected_domain_entity_pairs</th>\n",
       "      <th>annots_found</th>\n",
       "      <th>hashtags</th>\n",
       "      <th>mentions</th>\n",
       "      <th>clean_text</th>\n",
       "      <th>tokenize_lemmatize_text</th>\n",
       "      <th>...</th>\n",
       "      <th>num_topics</th>\n",
       "      <th>avg_user_retweets</th>\n",
       "      <th>avg_user_replies</th>\n",
       "      <th>avg_user_likes</th>\n",
       "      <th>avg_user_quotes</th>\n",
       "      <th>norm_eng_retweets</th>\n",
       "      <th>norm_eng_replies</th>\n",
       "      <th>norm_eng_likes</th>\n",
       "      <th>norm_eng_quotes</th>\n",
       "      <th>sum_norm_engmnt</th>\n",
       "    </tr>\n",
       "  </thead>\n",
       "  <tbody>\n",
       "    <tr>\n",
       "      <th>7727</th>\n",
       "      <td>3032.0</td>\n",
       "      <td>1051.0</td>\n",
       "      <td>9468.0</td>\n",
       "      <td>1830.0</td>\n",
       "      <td>{'Events [Entity Service]_2022 Philippine pres...</td>\n",
       "      <td>{'Other_PACIFIC', 'Person_Leni Robredo'}</td>\n",
       "      <td>set()</td>\n",
       "      <td>set()</td>\n",
       "      <td>STATEMENT ON SOCIAL MEDIA POST BY A CEBU PACIF...</td>\n",
       "      <td>statement social media post cebu pacific pilot...</td>\n",
       "      <td>...</td>\n",
       "      <td>17</td>\n",
       "      <td>14.948949</td>\n",
       "      <td>19.969970</td>\n",
       "      <td>61.192192</td>\n",
       "      <td>8.480480</td>\n",
       "      <td>202.823624</td>\n",
       "      <td>52.629023</td>\n",
       "      <td>154.725622</td>\n",
       "      <td>215.789660</td>\n",
       "      <td>625.967929</td>\n",
       "    </tr>\n",
       "    <tr>\n",
       "      <th>12641</th>\n",
       "      <td>25202.0</td>\n",
       "      <td>1384.0</td>\n",
       "      <td>74957.0</td>\n",
       "      <td>1250.0</td>\n",
       "      <td>{'Interests and Hobbies_Air travel', 'Music Ge...</td>\n",
       "      <td>set()</td>\n",
       "      <td>set()</td>\n",
       "      <td>{'BTS_twt'}</td>\n",
       "      <td>Thanks for the luv    It was our pleasure to f...</td>\n",
       "      <td>thank luv pleasure fly wing</td>\n",
       "      <td>...</td>\n",
       "      <td>17</td>\n",
       "      <td>74.808824</td>\n",
       "      <td>13.888655</td>\n",
       "      <td>226.352941</td>\n",
       "      <td>5.842437</td>\n",
       "      <td>336.885394</td>\n",
       "      <td>99.649675</td>\n",
       "      <td>331.150988</td>\n",
       "      <td>213.951816</td>\n",
       "      <td>981.637872</td>\n",
       "    </tr>\n",
       "    <tr>\n",
       "      <th>14068</th>\n",
       "      <td>26014.0</td>\n",
       "      <td>1701.0</td>\n",
       "      <td>72464.0</td>\n",
       "      <td>6917.0</td>\n",
       "      <td>{'Brand Vertical_Transportation', 'Entities [E...</td>\n",
       "      <td>set()</td>\n",
       "      <td>set()</td>\n",
       "      <td>set()</td>\n",
       "      <td>Our competitors don't normally ask us for advi...</td>\n",
       "      <td>competitors normally ask advice airline leader...</td>\n",
       "      <td>...</td>\n",
       "      <td>17</td>\n",
       "      <td>106.336000</td>\n",
       "      <td>26.533333</td>\n",
       "      <td>379.685333</td>\n",
       "      <td>28.365333</td>\n",
       "      <td>244.639633</td>\n",
       "      <td>64.108040</td>\n",
       "      <td>190.852776</td>\n",
       "      <td>243.854000</td>\n",
       "      <td>743.454450</td>\n",
       "    </tr>\n",
       "    <tr>\n",
       "      <th>30086</th>\n",
       "      <td>8498.0</td>\n",
       "      <td>5701.0</td>\n",
       "      <td>10770.0</td>\n",
       "      <td>3890.0</td>\n",
       "      <td>{'Interests and Hobbies_Air travel', 'Entities...</td>\n",
       "      <td>{'Place_NYC', 'Place_London', 'Other_Airbus A3...</td>\n",
       "      <td>set()</td>\n",
       "      <td>set()</td>\n",
       "      <td>Tonight s the night  We re taking off on our f...</td>\n",
       "      <td>tonight night take flight nyc london mini tour...</td>\n",
       "      <td>...</td>\n",
       "      <td>17</td>\n",
       "      <td>41.630859</td>\n",
       "      <td>41.267578</td>\n",
       "      <td>160.386719</td>\n",
       "      <td>16.052734</td>\n",
       "      <td>204.127422</td>\n",
       "      <td>138.147191</td>\n",
       "      <td>67.150198</td>\n",
       "      <td>242.326317</td>\n",
       "      <td>651.751129</td>\n",
       "    </tr>\n",
       "  </tbody>\n",
       "</table>\n",
       "<p>4 rows × 28 columns</p>\n",
       "</div>"
      ],
      "text/plain": [
       "       retweet_count  reply_count  like_count  quote_count  \\\n",
       "7727          3032.0       1051.0      9468.0       1830.0   \n",
       "12641        25202.0       1384.0     74957.0       1250.0   \n",
       "14068        26014.0       1701.0     72464.0       6917.0   \n",
       "30086         8498.0       5701.0     10770.0       3890.0   \n",
       "\n",
       "                            detected_domain_entity_pairs  \\\n",
       "7727   {'Events [Entity Service]_2022 Philippine pres...   \n",
       "12641  {'Interests and Hobbies_Air travel', 'Music Ge...   \n",
       "14068  {'Brand Vertical_Transportation', 'Entities [E...   \n",
       "30086  {'Interests and Hobbies_Air travel', 'Entities...   \n",
       "\n",
       "                                            annots_found hashtags  \\\n",
       "7727            {'Other_PACIFIC', 'Person_Leni Robredo'}    set()   \n",
       "12641                                              set()    set()   \n",
       "14068                                              set()    set()   \n",
       "30086  {'Place_NYC', 'Place_London', 'Other_Airbus A3...    set()   \n",
       "\n",
       "          mentions                                         clean_text  \\\n",
       "7727         set()  STATEMENT ON SOCIAL MEDIA POST BY A CEBU PACIF...   \n",
       "12641  {'BTS_twt'}  Thanks for the luv    It was our pleasure to f...   \n",
       "14068        set()  Our competitors don't normally ask us for advi...   \n",
       "30086        set()  Tonight s the night  We re taking off on our f...   \n",
       "\n",
       "                                 tokenize_lemmatize_text  ... num_topics  \\\n",
       "7727   statement social media post cebu pacific pilot...  ...         17   \n",
       "12641                        thank luv pleasure fly wing  ...         17   \n",
       "14068  competitors normally ask advice airline leader...  ...         17   \n",
       "30086  tonight night take flight nyc london mini tour...  ...         17   \n",
       "\n",
       "       avg_user_retweets  avg_user_replies  avg_user_likes  avg_user_quotes  \\\n",
       "7727           14.948949         19.969970       61.192192         8.480480   \n",
       "12641          74.808824         13.888655      226.352941         5.842437   \n",
       "14068         106.336000         26.533333      379.685333        28.365333   \n",
       "30086          41.630859         41.267578      160.386719        16.052734   \n",
       "\n",
       "       norm_eng_retweets norm_eng_replies norm_eng_likes  norm_eng_quotes  \\\n",
       "7727          202.823624        52.629023     154.725622       215.789660   \n",
       "12641         336.885394        99.649675     331.150988       213.951816   \n",
       "14068         244.639633        64.108040     190.852776       243.854000   \n",
       "30086         204.127422       138.147191      67.150198       242.326317   \n",
       "\n",
       "       sum_norm_engmnt  \n",
       "7727        625.967929  \n",
       "12641       981.637872  \n",
       "14068       743.454450  \n",
       "30086       651.751129  \n",
       "\n",
       "[4 rows x 28 columns]"
      ]
     },
     "execution_count": 108,
     "metadata": {},
     "output_type": "execute_result"
    }
   ],
   "source": [
    "merged_output_df3[merged_output_df3['sum_norm_engmnt'] > 500].iloc[:, 7:]"
   ]
  },
  {
   "cell_type": "code",
   "execution_count": 103,
   "id": "a7378da1",
   "metadata": {},
   "outputs": [
    {
     "data": {
      "image/png": "[encoded data removed]",
      "text/plain": [
       "<Figure size 800x500 with 1 Axes>"
      ]
     },
     "metadata": {},
     "output_type": "display_data"
    }
   ],
   "source": [
    "# plt.hist(merged_output_df3['sum_norm_engmnt'])\n",
    "\n",
    "plt.figure(figsize=(8, 5))\n",
    "sns.boxplot(data=merged_output_df3[merged_output_df3['sum_norm_engmnt'] > 10], x=\"sum_norm_engmnt\")\n",
    "plt.title('Distribution of Normalized Tweet Engagement')\n",
    "plt.xlabel('')\n",
    "plt.ylabel('')\n",
    "plt.show()"
   ]
  },
  {
   "cell_type": "code",
   "execution_count": 91,
   "id": "68d51b00",
   "metadata": {},
   "outputs": [
    {
     "data": {
      "text/html": [
       "<div>\n",
       "<style scoped>\n",
       "    .dataframe tbody tr th:only-of-type {\n",
       "        vertical-align: middle;\n",
       "    }\n",
       "\n",
       "    .dataframe tbody tr th {\n",
       "        vertical-align: top;\n",
       "    }\n",
       "\n",
       "    .dataframe thead th {\n",
       "        text-align: right;\n",
       "    }\n",
       "</style>\n",
       "<table border=\"1\" class=\"dataframe\">\n",
       "  <thead>\n",
       "    <tr style=\"text-align: right;\">\n",
       "      <th></th>\n",
       "      <th>tweet_id</th>\n",
       "      <th>user</th>\n",
       "      <th>created_at</th>\n",
       "      <th>text</th>\n",
       "      <th>is_reply</th>\n",
       "      <th>source</th>\n",
       "      <th>lang</th>\n",
       "      <th>retweet_count</th>\n",
       "      <th>reply_count</th>\n",
       "      <th>like_count</th>\n",
       "      <th>...</th>\n",
       "      <th>num_topics</th>\n",
       "      <th>avg_user_retweets</th>\n",
       "      <th>avg_user_replies</th>\n",
       "      <th>avg_user_likes</th>\n",
       "      <th>avg_user_quotes</th>\n",
       "      <th>norm_eng_retweets</th>\n",
       "      <th>norm_eng_replies</th>\n",
       "      <th>norm_eng_likes</th>\n",
       "      <th>norm_eng_quotes</th>\n",
       "      <th>sum_norm_engmnt</th>\n",
       "    </tr>\n",
       "  </thead>\n",
       "  <tbody>\n",
       "    <tr>\n",
       "      <th>0</th>\n",
       "      <td>1154670861376524289</td>\n",
       "      <td>easyJet</td>\n",
       "      <td>2019-07-26T08:32:40.000Z</td>\n",
       "      <td>It may take us a little longer to reply to you...</td>\n",
       "      <td>0.0</td>\n",
       "      <td>Sprinklr</td>\n",
       "      <td>en</td>\n",
       "      <td>2.0</td>\n",
       "      <td>28.0</td>\n",
       "      <td>11.0</td>\n",
       "      <td>...</td>\n",
       "      <td>17</td>\n",
       "      <td>10.908088</td>\n",
       "      <td>29.408088</td>\n",
       "      <td>93.856618</td>\n",
       "      <td>3.411765</td>\n",
       "      <td>0.183350</td>\n",
       "      <td>0.952119</td>\n",
       "      <td>0.117200</td>\n",
       "      <td>0.293103</td>\n",
       "      <td>1.545773</td>\n",
       "    </tr>\n",
       "    <tr>\n",
       "      <th>1</th>\n",
       "      <td>1154670731613081600</td>\n",
       "      <td>easyJet</td>\n",
       "      <td>2019-07-26T08:32:09.000Z</td>\n",
       "      <td>Due to adverse weather across the UK, easyJet,...</td>\n",
       "      <td>0.0</td>\n",
       "      <td>Sprinklr</td>\n",
       "      <td>en</td>\n",
       "      <td>6.0</td>\n",
       "      <td>34.0</td>\n",
       "      <td>31.0</td>\n",
       "      <td>...</td>\n",
       "      <td>17</td>\n",
       "      <td>10.908088</td>\n",
       "      <td>29.408088</td>\n",
       "      <td>93.856618</td>\n",
       "      <td>3.411765</td>\n",
       "      <td>0.550051</td>\n",
       "      <td>1.156145</td>\n",
       "      <td>0.330291</td>\n",
       "      <td>1.172414</td>\n",
       "      <td>3.208900</td>\n",
       "    </tr>\n",
       "    <tr>\n",
       "      <th>2</th>\n",
       "      <td>1154424096123494400</td>\n",
       "      <td>easyJet</td>\n",
       "      <td>2019-07-25T16:12:07.000Z</td>\n",
       "      <td>RT @TLRailUK: ⚠️ #TLUpdates - Services between...</td>\n",
       "      <td>0.0</td>\n",
       "      <td>Sprinklr</td>\n",
       "      <td>en</td>\n",
       "      <td>6.0</td>\n",
       "      <td>0.0</td>\n",
       "      <td>0.0</td>\n",
       "      <td>...</td>\n",
       "      <td>17</td>\n",
       "      <td>10.908088</td>\n",
       "      <td>29.408088</td>\n",
       "      <td>93.856618</td>\n",
       "      <td>3.411765</td>\n",
       "      <td>0.550051</td>\n",
       "      <td>0.000000</td>\n",
       "      <td>0.000000</td>\n",
       "      <td>0.000000</td>\n",
       "      <td>0.550051</td>\n",
       "    </tr>\n",
       "    <tr>\n",
       "      <th>3</th>\n",
       "      <td>1154330542013386753</td>\n",
       "      <td>easyJet</td>\n",
       "      <td>2019-07-25T10:00:22.000Z</td>\n",
       "      <td>⚠️ 🚗 🚧 Due to an accident on the M23, which is...</td>\n",
       "      <td>0.0</td>\n",
       "      <td>Sprinklr</td>\n",
       "      <td>en</td>\n",
       "      <td>4.0</td>\n",
       "      <td>7.0</td>\n",
       "      <td>10.0</td>\n",
       "      <td>...</td>\n",
       "      <td>17</td>\n",
       "      <td>10.908088</td>\n",
       "      <td>29.408088</td>\n",
       "      <td>93.856618</td>\n",
       "      <td>3.411765</td>\n",
       "      <td>0.366700</td>\n",
       "      <td>0.238030</td>\n",
       "      <td>0.106545</td>\n",
       "      <td>0.000000</td>\n",
       "      <td>0.711276</td>\n",
       "    </tr>\n",
       "    <tr>\n",
       "      <th>4</th>\n",
       "      <td>1154327194153508864</td>\n",
       "      <td>easyJet</td>\n",
       "      <td>2019-07-25T09:47:04.000Z</td>\n",
       "      <td>RT @HighwaysSEAST: As a result of this collisi...</td>\n",
       "      <td>0.0</td>\n",
       "      <td>Sprinklr</td>\n",
       "      <td>en</td>\n",
       "      <td>5.0</td>\n",
       "      <td>0.0</td>\n",
       "      <td>0.0</td>\n",
       "      <td>...</td>\n",
       "      <td>17</td>\n",
       "      <td>10.908088</td>\n",
       "      <td>29.408088</td>\n",
       "      <td>93.856618</td>\n",
       "      <td>3.411765</td>\n",
       "      <td>0.458375</td>\n",
       "      <td>0.000000</td>\n",
       "      <td>0.000000</td>\n",
       "      <td>0.000000</td>\n",
       "      <td>0.458375</td>\n",
       "    </tr>\n",
       "  </tbody>\n",
       "</table>\n",
       "<p>5 rows × 35 columns</p>\n",
       "</div>"
      ],
      "text/plain": [
       "              tweet_id     user                created_at  \\\n",
       "0  1154670861376524289  easyJet  2019-07-26T08:32:40.000Z   \n",
       "1  1154670731613081600  easyJet  2019-07-26T08:32:09.000Z   \n",
       "2  1154424096123494400  easyJet  2019-07-25T16:12:07.000Z   \n",
       "3  1154330542013386753  easyJet  2019-07-25T10:00:22.000Z   \n",
       "4  1154327194153508864  easyJet  2019-07-25T09:47:04.000Z   \n",
       "\n",
       "                                                text  is_reply    source lang  \\\n",
       "0  It may take us a little longer to reply to you...       0.0  Sprinklr   en   \n",
       "1  Due to adverse weather across the UK, easyJet,...       0.0  Sprinklr   en   \n",
       "2  RT @TLRailUK: ⚠️ #TLUpdates - Services between...       0.0  Sprinklr   en   \n",
       "3  ⚠️ 🚗 🚧 Due to an accident on the M23, which is...       0.0  Sprinklr   en   \n",
       "4  RT @HighwaysSEAST: As a result of this collisi...       0.0  Sprinklr   en   \n",
       "\n",
       "   retweet_count  reply_count  like_count  ...  num_topics avg_user_retweets  \\\n",
       "0            2.0         28.0        11.0  ...          17         10.908088   \n",
       "1            6.0         34.0        31.0  ...          17         10.908088   \n",
       "2            6.0          0.0         0.0  ...          17         10.908088   \n",
       "3            4.0          7.0        10.0  ...          17         10.908088   \n",
       "4            5.0          0.0         0.0  ...          17         10.908088   \n",
       "\n",
       "  avg_user_replies avg_user_likes avg_user_quotes norm_eng_retweets  \\\n",
       "0        29.408088      93.856618        3.411765          0.183350   \n",
       "1        29.408088      93.856618        3.411765          0.550051   \n",
       "2        29.408088      93.856618        3.411765          0.550051   \n",
       "3        29.408088      93.856618        3.411765          0.366700   \n",
       "4        29.408088      93.856618        3.411765          0.458375   \n",
       "\n",
       "  norm_eng_replies norm_eng_likes  norm_eng_quotes  sum_norm_engmnt  \n",
       "0         0.952119       0.117200         0.293103         1.545773  \n",
       "1         1.156145       0.330291         1.172414         3.208900  \n",
       "2         0.000000       0.000000         0.000000         0.550051  \n",
       "3         0.238030       0.106545         0.000000         0.711276  \n",
       "4         0.000000       0.000000         0.000000         0.458375  \n",
       "\n",
       "[5 rows x 35 columns]"
      ]
     },
     "execution_count": 91,
     "metadata": {},
     "output_type": "execute_result"
    }
   ],
   "source": [
    "merged_output_df3.head()"
   ]
  },
  {
   "cell_type": "markdown",
   "id": "6a2494d6",
   "metadata": {},
   "source": [
    "### For the top keywords in each topic..."
   ]
  },
  {
   "cell_type": "markdown",
   "id": "be9257b4",
   "metadata": {},
   "source": [
    "#### Get each keyword’s importance to the topic, and count how many topic tweets contain the keyword"
   ]
  },
  {
   "cell_type": "code",
   "execution_count": 128,
   "id": "e5f69108",
   "metadata": {},
   "outputs": [],
   "source": [
    "topic_nums_to_names = {\n",
    "    \"0\": \"Charitable work, raising awareness\",\n",
    "    \"2\": \"Future-forward campaigns (i.e. aviation, sustainability)\",\n",
    "    \"3\": \"Travel spots with the best views\",\n",
    "    \"4\": \"Campaign with a contest\",\n",
    "    \"5\": \"Non-stop flight service\",\n",
    "    \"6\": \"Promotional campaign via travel suggestions\",\n",
    "    \"8\": \"Best/lowest/discounted fares\",\n",
    "    \"10\": \"Airline growth (i.e. new routes, aircraft, offerings)\",\n",
    "    \"11\": \"Scenic/peaceful travel destinations\",\n",
    "    \"12\": \"Flight seating (i.e. group seating, upgrades)\",\n",
    "    \"13\": \"Travel alerts and advisories\",\n",
    "    \"14\": \"Visit our website for more info\",\n",
    "    \"16\": \"Tips for comfortable travel experience\"\n",
    "}"
   ]
  },
  {
   "cell_type": "code",
   "execution_count": 127,
   "id": "0b089901",
   "metadata": {},
   "outputs": [
    {
     "data": {
      "text/plain": [
       "[('world', 0.19042131),\n",
       " ('learn', 0.097328134),\n",
       " ('come', 0.09181764),\n",
       " ('food', 0.073243886),\n",
       " ('team', 0.07082496),\n",
       " ('support', 0.06099797),\n",
       " ('help', 0.058327336),\n",
       " ('big', 0.055520546),\n",
       " ('proud', 0.042100627),\n",
       " ('want', 0.041373894)]"
      ]
     },
     "execution_count": 127,
     "metadata": {},
     "output_type": "execute_result"
    }
   ],
   "source": [
    "lda_model_17.show_topic(0)"
   ]
  },
  {
   "cell_type": "code",
   "execution_count": 135,
   "id": "eb295f4f",
   "metadata": {},
   "outputs": [],
   "source": [
    "topic_nums = [int(i) for i in list(topic_nums_to_names.keys())]\n",
    "topic_keywords_wgts = [lda_model_17.show_topic(tpc_num) for tpc_num in topic_nums]"
   ]
  },
  {
   "cell_type": "code",
   "execution_count": 146,
   "id": "14c4190d",
   "metadata": {},
   "outputs": [],
   "source": [
    "df_topic_word_imp = []\n",
    "\n",
    "for idx, topic in zip(topic_nums, topic_keywords_wgts):\n",
    "    for keyword, wgt in topic:\n",
    "        df_topic_word_imp.append([idx, keyword, wgt])\n",
    "\n",
    "df_topic_word_importances = pd.DataFrame(\n",
    "    df_topic_word_imp, columns=['topic_id', 'topic_keyword', 'keyword_importance']) "
   ]
  },
  {
   "cell_type": "code",
   "execution_count": 147,
   "id": "2280fb78",
   "metadata": {},
   "outputs": [
    {
     "data": {
      "text/html": [
       "<div>\n",
       "<style scoped>\n",
       "    .dataframe tbody tr th:only-of-type {\n",
       "        vertical-align: middle;\n",
       "    }\n",
       "\n",
       "    .dataframe tbody tr th {\n",
       "        vertical-align: top;\n",
       "    }\n",
       "\n",
       "    .dataframe thead th {\n",
       "        text-align: right;\n",
       "    }\n",
       "</style>\n",
       "<table border=\"1\" class=\"dataframe\">\n",
       "  <thead>\n",
       "    <tr style=\"text-align: right;\">\n",
       "      <th></th>\n",
       "      <th>topic_id</th>\n",
       "      <th>topic_keyword</th>\n",
       "      <th>keyword_importance</th>\n",
       "    </tr>\n",
       "  </thead>\n",
       "  <tbody>\n",
       "    <tr>\n",
       "      <th>0</th>\n",
       "      <td>0</td>\n",
       "      <td>world</td>\n",
       "      <td>0.190421</td>\n",
       "    </tr>\n",
       "    <tr>\n",
       "      <th>1</th>\n",
       "      <td>0</td>\n",
       "      <td>learn</td>\n",
       "      <td>0.097328</td>\n",
       "    </tr>\n",
       "    <tr>\n",
       "      <th>2</th>\n",
       "      <td>0</td>\n",
       "      <td>come</td>\n",
       "      <td>0.091818</td>\n",
       "    </tr>\n",
       "    <tr>\n",
       "      <th>3</th>\n",
       "      <td>0</td>\n",
       "      <td>food</td>\n",
       "      <td>0.073244</td>\n",
       "    </tr>\n",
       "    <tr>\n",
       "      <th>4</th>\n",
       "      <td>0</td>\n",
       "      <td>team</td>\n",
       "      <td>0.070825</td>\n",
       "    </tr>\n",
       "    <tr>\n",
       "      <th>...</th>\n",
       "      <td>...</td>\n",
       "      <td>...</td>\n",
       "      <td>...</td>\n",
       "    </tr>\n",
       "    <tr>\n",
       "      <th>125</th>\n",
       "      <td>16</td>\n",
       "      <td>baggage</td>\n",
       "      <td>0.057725</td>\n",
       "    </tr>\n",
       "    <tr>\n",
       "      <th>126</th>\n",
       "      <td>16</td>\n",
       "      <td>holiday</td>\n",
       "      <td>0.051044</td>\n",
       "    </tr>\n",
       "    <tr>\n",
       "      <th>127</th>\n",
       "      <td>16</td>\n",
       "      <td>begin</td>\n",
       "      <td>0.048341</td>\n",
       "    </tr>\n",
       "    <tr>\n",
       "      <th>128</th>\n",
       "      <td>16</td>\n",
       "      <td>update</td>\n",
       "      <td>0.043060</td>\n",
       "    </tr>\n",
       "    <tr>\n",
       "      <th>129</th>\n",
       "      <td>16</td>\n",
       "      <td>late</td>\n",
       "      <td>0.037841</td>\n",
       "    </tr>\n",
       "  </tbody>\n",
       "</table>\n",
       "<p>130 rows × 3 columns</p>\n",
       "</div>"
      ],
      "text/plain": [
       "     topic_id topic_keyword  keyword_importance\n",
       "0           0         world            0.190421\n",
       "1           0         learn            0.097328\n",
       "2           0          come            0.091818\n",
       "3           0          food            0.073244\n",
       "4           0          team            0.070825\n",
       "..        ...           ...                 ...\n",
       "125        16       baggage            0.057725\n",
       "126        16       holiday            0.051044\n",
       "127        16         begin            0.048341\n",
       "128        16        update            0.043060\n",
       "129        16          late            0.037841\n",
       "\n",
       "[130 rows x 3 columns]"
      ]
     },
     "execution_count": 147,
     "metadata": {},
     "output_type": "execute_result"
    }
   ],
   "source": [
    "df_topic_word_importances"
   ]
  },
  {
   "cell_type": "code",
   "execution_count": 148,
   "id": "29dc9c78",
   "metadata": {},
   "outputs": [
    {
     "data": {
      "text/plain": [
       "array([ 0,  2,  3,  4,  5,  6,  8, 10, 11, 12, 13, 14, 16])"
      ]
     },
     "execution_count": 148,
     "metadata": {},
     "output_type": "execute_result"
    }
   ],
   "source": [
    "df_topic_word_importances['topic_id'].unique()"
   ]
  },
  {
   "cell_type": "code",
   "execution_count": 182,
   "id": "cddf32ca",
   "metadata": {},
   "outputs": [
    {
     "name": "stdout",
     "output_type": "stream",
     "text": [
      "0\n"
     ]
    },
    {
     "name": "stderr",
     "output_type": "stream",
     "text": [
      "/var/folders/xx/kxh7_3zx7bz9q034l1pmcfjh0000gn/T/ipykernel_27894/3873011658.py:24: SettingWithCopyWarning:\n",
      "\n",
      "\n",
      "A value is trying to be set on a copy of a slice from a DataFrame.\n",
      "Try using .loc[row_indexer,col_indexer] = value instead\n",
      "\n",
      "See the caveats in the documentation: https://pandas.pydata.org/pandas-docs/stable/user_guide/indexing.html#returning-a-view-versus-a-copy\n",
      "\n",
      "/var/folders/xx/kxh7_3zx7bz9q034l1pmcfjh0000gn/T/ipykernel_27894/3873011658.py:24: SettingWithCopyWarning:\n",
      "\n",
      "\n",
      "A value is trying to be set on a copy of a slice from a DataFrame.\n",
      "Try using .loc[row_indexer,col_indexer] = value instead\n",
      "\n",
      "See the caveats in the documentation: https://pandas.pydata.org/pandas-docs/stable/user_guide/indexing.html#returning-a-view-versus-a-copy\n",
      "\n",
      "/var/folders/xx/kxh7_3zx7bz9q034l1pmcfjh0000gn/T/ipykernel_27894/3873011658.py:24: SettingWithCopyWarning:\n",
      "\n",
      "\n",
      "A value is trying to be set on a copy of a slice from a DataFrame.\n",
      "Try using .loc[row_indexer,col_indexer] = value instead\n",
      "\n",
      "See the caveats in the documentation: https://pandas.pydata.org/pandas-docs/stable/user_guide/indexing.html#returning-a-view-versus-a-copy\n",
      "\n"
     ]
    },
    {
     "name": "stdout",
     "output_type": "stream",
     "text": [
      "2\n"
     ]
    },
    {
     "name": "stderr",
     "output_type": "stream",
     "text": [
      "/var/folders/xx/kxh7_3zx7bz9q034l1pmcfjh0000gn/T/ipykernel_27894/3873011658.py:24: SettingWithCopyWarning:\n",
      "\n",
      "\n",
      "A value is trying to be set on a copy of a slice from a DataFrame.\n",
      "Try using .loc[row_indexer,col_indexer] = value instead\n",
      "\n",
      "See the caveats in the documentation: https://pandas.pydata.org/pandas-docs/stable/user_guide/indexing.html#returning-a-view-versus-a-copy\n",
      "\n",
      "/var/folders/xx/kxh7_3zx7bz9q034l1pmcfjh0000gn/T/ipykernel_27894/3873011658.py:24: SettingWithCopyWarning:\n",
      "\n",
      "\n",
      "A value is trying to be set on a copy of a slice from a DataFrame.\n",
      "Try using .loc[row_indexer,col_indexer] = value instead\n",
      "\n",
      "See the caveats in the documentation: https://pandas.pydata.org/pandas-docs/stable/user_guide/indexing.html#returning-a-view-versus-a-copy\n",
      "\n",
      "/var/folders/xx/kxh7_3zx7bz9q034l1pmcfjh0000gn/T/ipykernel_27894/3873011658.py:24: SettingWithCopyWarning:\n",
      "\n",
      "\n",
      "A value is trying to be set on a copy of a slice from a DataFrame.\n",
      "Try using .loc[row_indexer,col_indexer] = value instead\n",
      "\n",
      "See the caveats in the documentation: https://pandas.pydata.org/pandas-docs/stable/user_guide/indexing.html#returning-a-view-versus-a-copy\n",
      "\n"
     ]
    },
    {
     "name": "stdout",
     "output_type": "stream",
     "text": [
      "3\n"
     ]
    },
    {
     "name": "stderr",
     "output_type": "stream",
     "text": [
      "/var/folders/xx/kxh7_3zx7bz9q034l1pmcfjh0000gn/T/ipykernel_27894/3873011658.py:24: SettingWithCopyWarning:\n",
      "\n",
      "\n",
      "A value is trying to be set on a copy of a slice from a DataFrame.\n",
      "Try using .loc[row_indexer,col_indexer] = value instead\n",
      "\n",
      "See the caveats in the documentation: https://pandas.pydata.org/pandas-docs/stable/user_guide/indexing.html#returning-a-view-versus-a-copy\n",
      "\n",
      "/var/folders/xx/kxh7_3zx7bz9q034l1pmcfjh0000gn/T/ipykernel_27894/3873011658.py:24: SettingWithCopyWarning:\n",
      "\n",
      "\n",
      "A value is trying to be set on a copy of a slice from a DataFrame.\n",
      "Try using .loc[row_indexer,col_indexer] = value instead\n",
      "\n",
      "See the caveats in the documentation: https://pandas.pydata.org/pandas-docs/stable/user_guide/indexing.html#returning-a-view-versus-a-copy\n",
      "\n",
      "/var/folders/xx/kxh7_3zx7bz9q034l1pmcfjh0000gn/T/ipykernel_27894/3873011658.py:24: SettingWithCopyWarning:\n",
      "\n",
      "\n",
      "A value is trying to be set on a copy of a slice from a DataFrame.\n",
      "Try using .loc[row_indexer,col_indexer] = value instead\n",
      "\n",
      "See the caveats in the documentation: https://pandas.pydata.org/pandas-docs/stable/user_guide/indexing.html#returning-a-view-versus-a-copy\n",
      "\n"
     ]
    },
    {
     "name": "stdout",
     "output_type": "stream",
     "text": [
      "4\n"
     ]
    },
    {
     "name": "stderr",
     "output_type": "stream",
     "text": [
      "/var/folders/xx/kxh7_3zx7bz9q034l1pmcfjh0000gn/T/ipykernel_27894/3873011658.py:24: SettingWithCopyWarning:\n",
      "\n",
      "\n",
      "A value is trying to be set on a copy of a slice from a DataFrame.\n",
      "Try using .loc[row_indexer,col_indexer] = value instead\n",
      "\n",
      "See the caveats in the documentation: https://pandas.pydata.org/pandas-docs/stable/user_guide/indexing.html#returning-a-view-versus-a-copy\n",
      "\n",
      "/var/folders/xx/kxh7_3zx7bz9q034l1pmcfjh0000gn/T/ipykernel_27894/3873011658.py:24: SettingWithCopyWarning:\n",
      "\n",
      "\n",
      "A value is trying to be set on a copy of a slice from a DataFrame.\n",
      "Try using .loc[row_indexer,col_indexer] = value instead\n",
      "\n",
      "See the caveats in the documentation: https://pandas.pydata.org/pandas-docs/stable/user_guide/indexing.html#returning-a-view-versus-a-copy\n",
      "\n",
      "/var/folders/xx/kxh7_3zx7bz9q034l1pmcfjh0000gn/T/ipykernel_27894/3873011658.py:24: SettingWithCopyWarning:\n",
      "\n",
      "\n",
      "A value is trying to be set on a copy of a slice from a DataFrame.\n",
      "Try using .loc[row_indexer,col_indexer] = value instead\n",
      "\n",
      "See the caveats in the documentation: https://pandas.pydata.org/pandas-docs/stable/user_guide/indexing.html#returning-a-view-versus-a-copy\n",
      "\n",
      "/opt/anaconda3/envs/big-data-proj/lib/python3.8/site-packages/numpy/core/fromnumeric.py:3432: RuntimeWarning:\n",
      "\n",
      "Mean of empty slice.\n",
      "\n",
      "/opt/anaconda3/envs/big-data-proj/lib/python3.8/site-packages/numpy/core/_methods.py:190: RuntimeWarning:\n",
      "\n",
      "invalid value encountered in double_scalars\n",
      "\n",
      "/var/folders/xx/kxh7_3zx7bz9q034l1pmcfjh0000gn/T/ipykernel_27894/3873011658.py:24: SettingWithCopyWarning:\n",
      "\n",
      "\n",
      "A value is trying to be set on a copy of a slice from a DataFrame.\n",
      "Try using .loc[row_indexer,col_indexer] = value instead\n",
      "\n",
      "See the caveats in the documentation: https://pandas.pydata.org/pandas-docs/stable/user_guide/indexing.html#returning-a-view-versus-a-copy\n",
      "\n",
      "/var/folders/xx/kxh7_3zx7bz9q034l1pmcfjh0000gn/T/ipykernel_27894/3873011658.py:24: SettingWithCopyWarning:\n",
      "\n",
      "\n",
      "A value is trying to be set on a copy of a slice from a DataFrame.\n",
      "Try using .loc[row_indexer,col_indexer] = value instead\n",
      "\n",
      "See the caveats in the documentation: https://pandas.pydata.org/pandas-docs/stable/user_guide/indexing.html#returning-a-view-versus-a-copy\n",
      "\n",
      "/var/folders/xx/kxh7_3zx7bz9q034l1pmcfjh0000gn/T/ipykernel_27894/3873011658.py:24: SettingWithCopyWarning:\n",
      "\n",
      "\n",
      "A value is trying to be set on a copy of a slice from a DataFrame.\n",
      "Try using .loc[row_indexer,col_indexer] = value instead\n",
      "\n",
      "See the caveats in the documentation: https://pandas.pydata.org/pandas-docs/stable/user_guide/indexing.html#returning-a-view-versus-a-copy\n",
      "\n"
     ]
    },
    {
     "name": "stdout",
     "output_type": "stream",
     "text": [
      "5\n",
      "6\n"
     ]
    },
    {
     "name": "stderr",
     "output_type": "stream",
     "text": [
      "/var/folders/xx/kxh7_3zx7bz9q034l1pmcfjh0000gn/T/ipykernel_27894/3873011658.py:24: SettingWithCopyWarning:\n",
      "\n",
      "\n",
      "A value is trying to be set on a copy of a slice from a DataFrame.\n",
      "Try using .loc[row_indexer,col_indexer] = value instead\n",
      "\n",
      "See the caveats in the documentation: https://pandas.pydata.org/pandas-docs/stable/user_guide/indexing.html#returning-a-view-versus-a-copy\n",
      "\n",
      "/var/folders/xx/kxh7_3zx7bz9q034l1pmcfjh0000gn/T/ipykernel_27894/3873011658.py:24: SettingWithCopyWarning:\n",
      "\n",
      "\n",
      "A value is trying to be set on a copy of a slice from a DataFrame.\n",
      "Try using .loc[row_indexer,col_indexer] = value instead\n",
      "\n",
      "See the caveats in the documentation: https://pandas.pydata.org/pandas-docs/stable/user_guide/indexing.html#returning-a-view-versus-a-copy\n",
      "\n",
      "/var/folders/xx/kxh7_3zx7bz9q034l1pmcfjh0000gn/T/ipykernel_27894/3873011658.py:24: SettingWithCopyWarning:\n",
      "\n",
      "\n",
      "A value is trying to be set on a copy of a slice from a DataFrame.\n",
      "Try using .loc[row_indexer,col_indexer] = value instead\n",
      "\n",
      "See the caveats in the documentation: https://pandas.pydata.org/pandas-docs/stable/user_guide/indexing.html#returning-a-view-versus-a-copy\n",
      "\n"
     ]
    },
    {
     "name": "stdout",
     "output_type": "stream",
     "text": [
      "8\n"
     ]
    },
    {
     "name": "stderr",
     "output_type": "stream",
     "text": [
      "/var/folders/xx/kxh7_3zx7bz9q034l1pmcfjh0000gn/T/ipykernel_27894/3873011658.py:24: SettingWithCopyWarning:\n",
      "\n",
      "\n",
      "A value is trying to be set on a copy of a slice from a DataFrame.\n",
      "Try using .loc[row_indexer,col_indexer] = value instead\n",
      "\n",
      "See the caveats in the documentation: https://pandas.pydata.org/pandas-docs/stable/user_guide/indexing.html#returning-a-view-versus-a-copy\n",
      "\n",
      "/var/folders/xx/kxh7_3zx7bz9q034l1pmcfjh0000gn/T/ipykernel_27894/3873011658.py:24: SettingWithCopyWarning:\n",
      "\n",
      "\n",
      "A value is trying to be set on a copy of a slice from a DataFrame.\n",
      "Try using .loc[row_indexer,col_indexer] = value instead\n",
      "\n",
      "See the caveats in the documentation: https://pandas.pydata.org/pandas-docs/stable/user_guide/indexing.html#returning-a-view-versus-a-copy\n",
      "\n",
      "/var/folders/xx/kxh7_3zx7bz9q034l1pmcfjh0000gn/T/ipykernel_27894/3873011658.py:24: SettingWithCopyWarning:\n",
      "\n",
      "\n",
      "A value is trying to be set on a copy of a slice from a DataFrame.\n",
      "Try using .loc[row_indexer,col_indexer] = value instead\n",
      "\n",
      "See the caveats in the documentation: https://pandas.pydata.org/pandas-docs/stable/user_guide/indexing.html#returning-a-view-versus-a-copy\n",
      "\n"
     ]
    },
    {
     "name": "stdout",
     "output_type": "stream",
     "text": [
      "10\n"
     ]
    },
    {
     "name": "stderr",
     "output_type": "stream",
     "text": [
      "/var/folders/xx/kxh7_3zx7bz9q034l1pmcfjh0000gn/T/ipykernel_27894/3873011658.py:24: SettingWithCopyWarning:\n",
      "\n",
      "\n",
      "A value is trying to be set on a copy of a slice from a DataFrame.\n",
      "Try using .loc[row_indexer,col_indexer] = value instead\n",
      "\n",
      "See the caveats in the documentation: https://pandas.pydata.org/pandas-docs/stable/user_guide/indexing.html#returning-a-view-versus-a-copy\n",
      "\n",
      "/var/folders/xx/kxh7_3zx7bz9q034l1pmcfjh0000gn/T/ipykernel_27894/3873011658.py:24: SettingWithCopyWarning:\n",
      "\n",
      "\n",
      "A value is trying to be set on a copy of a slice from a DataFrame.\n",
      "Try using .loc[row_indexer,col_indexer] = value instead\n",
      "\n",
      "See the caveats in the documentation: https://pandas.pydata.org/pandas-docs/stable/user_guide/indexing.html#returning-a-view-versus-a-copy\n",
      "\n",
      "/var/folders/xx/kxh7_3zx7bz9q034l1pmcfjh0000gn/T/ipykernel_27894/3873011658.py:24: SettingWithCopyWarning:\n",
      "\n",
      "\n",
      "A value is trying to be set on a copy of a slice from a DataFrame.\n",
      "Try using .loc[row_indexer,col_indexer] = value instead\n",
      "\n",
      "See the caveats in the documentation: https://pandas.pydata.org/pandas-docs/stable/user_guide/indexing.html#returning-a-view-versus-a-copy\n",
      "\n"
     ]
    },
    {
     "name": "stdout",
     "output_type": "stream",
     "text": [
      "11\n"
     ]
    },
    {
     "name": "stderr",
     "output_type": "stream",
     "text": [
      "/var/folders/xx/kxh7_3zx7bz9q034l1pmcfjh0000gn/T/ipykernel_27894/3873011658.py:24: SettingWithCopyWarning:\n",
      "\n",
      "\n",
      "A value is trying to be set on a copy of a slice from a DataFrame.\n",
      "Try using .loc[row_indexer,col_indexer] = value instead\n",
      "\n",
      "See the caveats in the documentation: https://pandas.pydata.org/pandas-docs/stable/user_guide/indexing.html#returning-a-view-versus-a-copy\n",
      "\n",
      "/var/folders/xx/kxh7_3zx7bz9q034l1pmcfjh0000gn/T/ipykernel_27894/3873011658.py:24: SettingWithCopyWarning:\n",
      "\n",
      "\n",
      "A value is trying to be set on a copy of a slice from a DataFrame.\n",
      "Try using .loc[row_indexer,col_indexer] = value instead\n",
      "\n",
      "See the caveats in the documentation: https://pandas.pydata.org/pandas-docs/stable/user_guide/indexing.html#returning-a-view-versus-a-copy\n",
      "\n",
      "/var/folders/xx/kxh7_3zx7bz9q034l1pmcfjh0000gn/T/ipykernel_27894/3873011658.py:24: SettingWithCopyWarning:\n",
      "\n",
      "\n",
      "A value is trying to be set on a copy of a slice from a DataFrame.\n",
      "Try using .loc[row_indexer,col_indexer] = value instead\n",
      "\n",
      "See the caveats in the documentation: https://pandas.pydata.org/pandas-docs/stable/user_guide/indexing.html#returning-a-view-versus-a-copy\n",
      "\n",
      "/var/folders/xx/kxh7_3zx7bz9q034l1pmcfjh0000gn/T/ipykernel_27894/3873011658.py:24: SettingWithCopyWarning:\n",
      "\n",
      "\n",
      "A value is trying to be set on a copy of a slice from a DataFrame.\n",
      "Try using .loc[row_indexer,col_indexer] = value instead\n",
      "\n",
      "See the caveats in the documentation: https://pandas.pydata.org/pandas-docs/stable/user_guide/indexing.html#returning-a-view-versus-a-copy\n",
      "\n",
      "/var/folders/xx/kxh7_3zx7bz9q034l1pmcfjh0000gn/T/ipykernel_27894/3873011658.py:24: SettingWithCopyWarning:\n",
      "\n",
      "\n",
      "A value is trying to be set on a copy of a slice from a DataFrame.\n",
      "Try using .loc[row_indexer,col_indexer] = value instead\n",
      "\n",
      "See the caveats in the documentation: https://pandas.pydata.org/pandas-docs/stable/user_guide/indexing.html#returning-a-view-versus-a-copy\n",
      "\n",
      "/var/folders/xx/kxh7_3zx7bz9q034l1pmcfjh0000gn/T/ipykernel_27894/3873011658.py:24: SettingWithCopyWarning:\n",
      "\n",
      "\n",
      "A value is trying to be set on a copy of a slice from a DataFrame.\n",
      "Try using .loc[row_indexer,col_indexer] = value instead\n",
      "\n",
      "See the caveats in the documentation: https://pandas.pydata.org/pandas-docs/stable/user_guide/indexing.html#returning-a-view-versus-a-copy\n",
      "\n"
     ]
    },
    {
     "name": "stdout",
     "output_type": "stream",
     "text": [
      "12\n",
      "13\n"
     ]
    },
    {
     "name": "stderr",
     "output_type": "stream",
     "text": [
      "/var/folders/xx/kxh7_3zx7bz9q034l1pmcfjh0000gn/T/ipykernel_27894/3873011658.py:24: SettingWithCopyWarning:\n",
      "\n",
      "\n",
      "A value is trying to be set on a copy of a slice from a DataFrame.\n",
      "Try using .loc[row_indexer,col_indexer] = value instead\n",
      "\n",
      "See the caveats in the documentation: https://pandas.pydata.org/pandas-docs/stable/user_guide/indexing.html#returning-a-view-versus-a-copy\n",
      "\n",
      "/var/folders/xx/kxh7_3zx7bz9q034l1pmcfjh0000gn/T/ipykernel_27894/3873011658.py:24: SettingWithCopyWarning:\n",
      "\n",
      "\n",
      "A value is trying to be set on a copy of a slice from a DataFrame.\n",
      "Try using .loc[row_indexer,col_indexer] = value instead\n",
      "\n",
      "See the caveats in the documentation: https://pandas.pydata.org/pandas-docs/stable/user_guide/indexing.html#returning-a-view-versus-a-copy\n",
      "\n",
      "/var/folders/xx/kxh7_3zx7bz9q034l1pmcfjh0000gn/T/ipykernel_27894/3873011658.py:24: SettingWithCopyWarning:\n",
      "\n",
      "\n",
      "A value is trying to be set on a copy of a slice from a DataFrame.\n",
      "Try using .loc[row_indexer,col_indexer] = value instead\n",
      "\n",
      "See the caveats in the documentation: https://pandas.pydata.org/pandas-docs/stable/user_guide/indexing.html#returning-a-view-versus-a-copy\n",
      "\n"
     ]
    },
    {
     "name": "stdout",
     "output_type": "stream",
     "text": [
      "14\n"
     ]
    },
    {
     "name": "stderr",
     "output_type": "stream",
     "text": [
      "/var/folders/xx/kxh7_3zx7bz9q034l1pmcfjh0000gn/T/ipykernel_27894/3873011658.py:24: SettingWithCopyWarning:\n",
      "\n",
      "\n",
      "A value is trying to be set on a copy of a slice from a DataFrame.\n",
      "Try using .loc[row_indexer,col_indexer] = value instead\n",
      "\n",
      "See the caveats in the documentation: https://pandas.pydata.org/pandas-docs/stable/user_guide/indexing.html#returning-a-view-versus-a-copy\n",
      "\n",
      "/var/folders/xx/kxh7_3zx7bz9q034l1pmcfjh0000gn/T/ipykernel_27894/3873011658.py:24: SettingWithCopyWarning:\n",
      "\n",
      "\n",
      "A value is trying to be set on a copy of a slice from a DataFrame.\n",
      "Try using .loc[row_indexer,col_indexer] = value instead\n",
      "\n",
      "See the caveats in the documentation: https://pandas.pydata.org/pandas-docs/stable/user_guide/indexing.html#returning-a-view-versus-a-copy\n",
      "\n",
      "/var/folders/xx/kxh7_3zx7bz9q034l1pmcfjh0000gn/T/ipykernel_27894/3873011658.py:24: SettingWithCopyWarning:\n",
      "\n",
      "\n",
      "A value is trying to be set on a copy of a slice from a DataFrame.\n",
      "Try using .loc[row_indexer,col_indexer] = value instead\n",
      "\n",
      "See the caveats in the documentation: https://pandas.pydata.org/pandas-docs/stable/user_guide/indexing.html#returning-a-view-versus-a-copy\n",
      "\n"
     ]
    },
    {
     "name": "stdout",
     "output_type": "stream",
     "text": [
      "16\n"
     ]
    },
    {
     "name": "stderr",
     "output_type": "stream",
     "text": [
      "/var/folders/xx/kxh7_3zx7bz9q034l1pmcfjh0000gn/T/ipykernel_27894/3873011658.py:24: SettingWithCopyWarning:\n",
      "\n",
      "\n",
      "A value is trying to be set on a copy of a slice from a DataFrame.\n",
      "Try using .loc[row_indexer,col_indexer] = value instead\n",
      "\n",
      "See the caveats in the documentation: https://pandas.pydata.org/pandas-docs/stable/user_guide/indexing.html#returning-a-view-versus-a-copy\n",
      "\n",
      "/var/folders/xx/kxh7_3zx7bz9q034l1pmcfjh0000gn/T/ipykernel_27894/3873011658.py:24: SettingWithCopyWarning:\n",
      "\n",
      "\n",
      "A value is trying to be set on a copy of a slice from a DataFrame.\n",
      "Try using .loc[row_indexer,col_indexer] = value instead\n",
      "\n",
      "See the caveats in the documentation: https://pandas.pydata.org/pandas-docs/stable/user_guide/indexing.html#returning-a-view-versus-a-copy\n",
      "\n",
      "/var/folders/xx/kxh7_3zx7bz9q034l1pmcfjh0000gn/T/ipykernel_27894/3873011658.py:24: SettingWithCopyWarning:\n",
      "\n",
      "\n",
      "A value is trying to be set on a copy of a slice from a DataFrame.\n",
      "Try using .loc[row_indexer,col_indexer] = value instead\n",
      "\n",
      "See the caveats in the documentation: https://pandas.pydata.org/pandas-docs/stable/user_guide/indexing.html#returning-a-view-versus-a-copy\n",
      "\n"
     ]
    }
   ],
   "source": [
    "def get_topic_level_tweet_counts_and_tweet_median_engmts_per_keyword(row, topic_num):\n",
    "    \n",
    "    keyword = row['topic_keyword']\n",
    "    \n",
    "    # Get all tweets for that topic\n",
    "    topic_tweets = merged_output_df3[merged_output_df3['Dominant_Topic'] == topic_num]\n",
    "    # topic_tweets_with_keyword = topic_tweets[topic_tweets['lemma_tokens']]\n",
    "    \n",
    "    keyword_count_for_topic = 0\n",
    "    keyword_tweet_engagements = []\n",
    "    for i, twt_row in topic_tweets.iterrows():\n",
    "        if keyword in twt_row['lemma_tokens']:\n",
    "            keyword_count_for_topic += 1\n",
    "            keyword_tweet_engagements.append(twt_row['sum_norm_engmnt'])\n",
    "    \n",
    "    return keyword_count_for_topic, np.median(keyword_tweet_engagements), keyword_count_for_topic / topic_tweets.shape[0]\n",
    "\n",
    "\n",
    "all_dfs_topic_keywords = pd.DataFrame()\n",
    "\n",
    "for topic_num in topic_nums:\n",
    "    print(topic_num)\n",
    "    topic_keywords = df_topic_word_importances[df_topic_word_importances['topic_id'] == topic_num]\n",
    "    topic_keywords[['keyword_tweet_count_in_topic', 'median_engmt_of_tweets_w_keyword', 'share_of_topic_tweets']] = topic_keywords.apply(\n",
    "        lambda row: pd.Series(\n",
    "            get_topic_level_tweet_counts_and_tweet_median_engmts_per_keyword(row, topic_num)), axis=1)\n",
    "    \n",
    "    all_dfs_topic_keywords = pd.concat([all_dfs_topic_keywords, topic_keywords], ignore_index=True, axis=0)\n"
   ]
  },
  {
   "cell_type": "code",
   "execution_count": 183,
   "id": "994868ce",
   "metadata": {},
   "outputs": [
    {
     "data": {
      "text/html": [
       "<div>\n",
       "<style scoped>\n",
       "    .dataframe tbody tr th:only-of-type {\n",
       "        vertical-align: middle;\n",
       "    }\n",
       "\n",
       "    .dataframe tbody tr th {\n",
       "        vertical-align: top;\n",
       "    }\n",
       "\n",
       "    .dataframe thead th {\n",
       "        text-align: right;\n",
       "    }\n",
       "</style>\n",
       "<table border=\"1\" class=\"dataframe\">\n",
       "  <thead>\n",
       "    <tr style=\"text-align: right;\">\n",
       "      <th></th>\n",
       "      <th>topic_id</th>\n",
       "      <th>topic_keyword</th>\n",
       "      <th>keyword_importance</th>\n",
       "      <th>keyword_tweet_count_in_topic</th>\n",
       "      <th>median_engmt_of_tweets_w_keyword</th>\n",
       "      <th>share_of_topic_tweets</th>\n",
       "      <th>topic_name</th>\n",
       "    </tr>\n",
       "  </thead>\n",
       "  <tbody>\n",
       "    <tr>\n",
       "      <th>0</th>\n",
       "      <td>0</td>\n",
       "      <td>world</td>\n",
       "      <td>0.190421</td>\n",
       "      <td>926.0</td>\n",
       "      <td>2.051217</td>\n",
       "      <td>0.210886</td>\n",
       "      <td>Charitable work, raising awareness</td>\n",
       "    </tr>\n",
       "    <tr>\n",
       "      <th>1</th>\n",
       "      <td>0</td>\n",
       "      <td>learn</td>\n",
       "      <td>0.097328</td>\n",
       "      <td>674.0</td>\n",
       "      <td>1.482734</td>\n",
       "      <td>0.153496</td>\n",
       "      <td>Charitable work, raising awareness</td>\n",
       "    </tr>\n",
       "    <tr>\n",
       "      <th>2</th>\n",
       "      <td>0</td>\n",
       "      <td>come</td>\n",
       "      <td>0.091818</td>\n",
       "      <td>698.0</td>\n",
       "      <td>2.131197</td>\n",
       "      <td>0.158962</td>\n",
       "      <td>Charitable work, raising awareness</td>\n",
       "    </tr>\n",
       "    <tr>\n",
       "      <th>3</th>\n",
       "      <td>0</td>\n",
       "      <td>food</td>\n",
       "      <td>0.073244</td>\n",
       "      <td>182.0</td>\n",
       "      <td>1.622486</td>\n",
       "      <td>0.041448</td>\n",
       "      <td>Charitable work, raising awareness</td>\n",
       "    </tr>\n",
       "    <tr>\n",
       "      <th>4</th>\n",
       "      <td>0</td>\n",
       "      <td>team</td>\n",
       "      <td>0.070825</td>\n",
       "      <td>550.0</td>\n",
       "      <td>1.837875</td>\n",
       "      <td>0.125256</td>\n",
       "      <td>Charitable work, raising awareness</td>\n",
       "    </tr>\n",
       "    <tr>\n",
       "      <th>...</th>\n",
       "      <td>...</td>\n",
       "      <td>...</td>\n",
       "      <td>...</td>\n",
       "      <td>...</td>\n",
       "      <td>...</td>\n",
       "      <td>...</td>\n",
       "      <td>...</td>\n",
       "    </tr>\n",
       "    <tr>\n",
       "      <th>125</th>\n",
       "      <td>16</td>\n",
       "      <td>baggage</td>\n",
       "      <td>0.057725</td>\n",
       "      <td>100.0</td>\n",
       "      <td>1.809497</td>\n",
       "      <td>0.045830</td>\n",
       "      <td>Tips for comfortable travel experience</td>\n",
       "    </tr>\n",
       "    <tr>\n",
       "      <th>126</th>\n",
       "      <td>16</td>\n",
       "      <td>holiday</td>\n",
       "      <td>0.051044</td>\n",
       "      <td>229.0</td>\n",
       "      <td>1.558140</td>\n",
       "      <td>0.104950</td>\n",
       "      <td>Tips for comfortable travel experience</td>\n",
       "    </tr>\n",
       "    <tr>\n",
       "      <th>127</th>\n",
       "      <td>16</td>\n",
       "      <td>begin</td>\n",
       "      <td>0.048341</td>\n",
       "      <td>109.0</td>\n",
       "      <td>1.983868</td>\n",
       "      <td>0.049954</td>\n",
       "      <td>Tips for comfortable travel experience</td>\n",
       "    </tr>\n",
       "    <tr>\n",
       "      <th>128</th>\n",
       "      <td>16</td>\n",
       "      <td>update</td>\n",
       "      <td>0.043060</td>\n",
       "      <td>291.0</td>\n",
       "      <td>1.122136</td>\n",
       "      <td>0.133364</td>\n",
       "      <td>Tips for comfortable travel experience</td>\n",
       "    </tr>\n",
       "    <tr>\n",
       "      <th>129</th>\n",
       "      <td>16</td>\n",
       "      <td>late</td>\n",
       "      <td>0.037841</td>\n",
       "      <td>221.0</td>\n",
       "      <td>1.900918</td>\n",
       "      <td>0.101283</td>\n",
       "      <td>Tips for comfortable travel experience</td>\n",
       "    </tr>\n",
       "  </tbody>\n",
       "</table>\n",
       "<p>130 rows × 7 columns</p>\n",
       "</div>"
      ],
      "text/plain": [
       "     topic_id topic_keyword  keyword_importance  keyword_tweet_count_in_topic  \\\n",
       "0           0         world            0.190421                         926.0   \n",
       "1           0         learn            0.097328                         674.0   \n",
       "2           0          come            0.091818                         698.0   \n",
       "3           0          food            0.073244                         182.0   \n",
       "4           0          team            0.070825                         550.0   \n",
       "..        ...           ...                 ...                           ...   \n",
       "125        16       baggage            0.057725                         100.0   \n",
       "126        16       holiday            0.051044                         229.0   \n",
       "127        16         begin            0.048341                         109.0   \n",
       "128        16        update            0.043060                         291.0   \n",
       "129        16          late            0.037841                         221.0   \n",
       "\n",
       "     median_engmt_of_tweets_w_keyword  share_of_topic_tweets  \\\n",
       "0                            2.051217               0.210886   \n",
       "1                            1.482734               0.153496   \n",
       "2                            2.131197               0.158962   \n",
       "3                            1.622486               0.041448   \n",
       "4                            1.837875               0.125256   \n",
       "..                                ...                    ...   \n",
       "125                          1.809497               0.045830   \n",
       "126                          1.558140               0.104950   \n",
       "127                          1.983868               0.049954   \n",
       "128                          1.122136               0.133364   \n",
       "129                          1.900918               0.101283   \n",
       "\n",
       "                                 topic_name  \n",
       "0        Charitable work, raising awareness  \n",
       "1        Charitable work, raising awareness  \n",
       "2        Charitable work, raising awareness  \n",
       "3        Charitable work, raising awareness  \n",
       "4        Charitable work, raising awareness  \n",
       "..                                      ...  \n",
       "125  Tips for comfortable travel experience  \n",
       "126  Tips for comfortable travel experience  \n",
       "127  Tips for comfortable travel experience  \n",
       "128  Tips for comfortable travel experience  \n",
       "129  Tips for comfortable travel experience  \n",
       "\n",
       "[130 rows x 7 columns]"
      ]
     },
     "execution_count": 183,
     "metadata": {},
     "output_type": "execute_result"
    }
   ],
   "source": [
    "all_dfs_topic_keywords['topic_name'] = all_dfs_topic_keywords.apply(\n",
    "    lambda row: topic_nums_to_names[str(row['topic_id'])], axis=1)\n",
    "all_dfs_topic_keywords"
   ]
  },
  {
   "cell_type": "code",
   "execution_count": 181,
   "id": "e361fce9",
   "metadata": {},
   "outputs": [
    {
     "data": {
      "text/plain": [
       "count    127.000000\n",
       "mean       1.833225\n",
       "std        0.525644\n",
       "min        0.366700\n",
       "25%        1.562576\n",
       "50%        1.767624\n",
       "75%        2.050392\n",
       "max        3.952371\n",
       "Name: median_engmt_of_tweets_w_keyword, dtype: float64"
      ]
     },
     "execution_count": 181,
     "metadata": {},
     "output_type": "execute_result"
    }
   ],
   "source": [
    "all_dfs_topic_keywords['median_engmt_of_tweets_w_keyword'].describe()"
   ]
  },
  {
   "cell_type": "code",
   "execution_count": 180,
   "id": "1c858e01",
   "metadata": {},
   "outputs": [],
   "source": [
    "# all_dfs_topic_keywords.to_csv('all_dfs_topic_keywords.csv', index=False)"
   ]
  },
  {
   "cell_type": "markdown",
   "id": "075c1946",
   "metadata": {},
   "source": [
    "•\tGoal: Visualize the top terms per topic across all airlines, by plotting each topic-term’s importance to the topic against the count of tweets in the topic that contain the term, using a bubble chart. A bubble’s color will represent an aggregated measure of user engagement with the tweet (i.e. number of likes, retweets, etc.) and a bubble’s size will represent the term’s frequency out of the top terms being visualized for the topic. \n",
    "\n",
    "- x: keyword_importance\n",
    "- y: keyword_tweet_count_in_topic\n",
    "- color: median_engmt_of_tweets_w_keyword\n",
    "- size: share_of_topic_tweets (keyword_tweet_count_in_topic normalized by total number of tweets in topic)"
   ]
  },
  {
   "cell_type": "code",
   "execution_count": 201,
   "id": "f675a45c",
   "metadata": {},
   "outputs": [
    {
     "data": {
      "application/vnd.plotly.v1+json": {
       "config": {
        "plotlyServerURL": "https://plot.ly"
       },
       "data": [
        {
         "marker": {
          "size": [
           0.2108859029833751,
           0.15349578683671145,
           0.15896151218401275,
           0.04144841721703484,
           0.12525620587565475,
           0.09519471646549761,
           0.1503074470507857,
           0.059895240264176725,
           0.10475973582327489,
           0.09724436347073559
          ],
          "sizemin": 4,
          "sizemode": "area",
          "sizeref": 0.00026360737872921884
         },
         "mode": "markers",
         "name": "Charitable work, raising awareness",
         "text": [
          "world",
          "learn",
          "come",
          "food",
          "team",
          "support",
          "help",
          "big",
          "proud",
          "want"
         ],
         "textposition": "bottom center",
         "type": "scatter",
         "x": [
          0.19042131304740906,
          0.09732813388109207,
          0.09181763976812363,
          0.0732438862323761,
          0.07082495838403702,
          0.06099797040224075,
          0.058327335864305496,
          0.055520545691251755,
          0.04210062697529793,
          0.04137389361858368
         ],
         "y": [
          926,
          674,
          698,
          182,
          550,
          418,
          660,
          263,
          460,
          427
         ]
        }
       ],
       "layout": {
        "legend": {
         "itemsizing": "constant",
         "title": {
          "text": "   <b>Topic</b>"
         }
        },
        "margin": {
         "b": 0,
         "l": 20,
         "r": 0,
         "t": 15
        },
        "template": {
         "data": {
          "bar": [
           {
            "error_x": {
             "color": "#2a3f5f"
            },
            "error_y": {
             "color": "#2a3f5f"
            },
            "marker": {
             "line": {
              "color": "#E5ECF6",
              "width": 0.5
             },
             "pattern": {
              "fillmode": "overlay",
              "size": 10,
              "solidity": 0.2
             }
            },
            "type": "bar"
           }
          ],
          "barpolar": [
           {
            "marker": {
             "line": {
              "color": "#E5ECF6",
              "width": 0.5
             },
             "pattern": {
              "fillmode": "overlay",
              "size": 10,
              "solidity": 0.2
             }
            },
            "type": "barpolar"
           }
          ],
          "carpet": [
           {
            "aaxis": {
             "endlinecolor": "#2a3f5f",
             "gridcolor": "white",
             "linecolor": "white",
             "minorgridcolor": "white",
             "startlinecolor": "#2a3f5f"
            },
            "baxis": {
             "endlinecolor": "#2a3f5f",
             "gridcolor": "white",
             "linecolor": "white",
             "minorgridcolor": "white",
             "startlinecolor": "#2a3f5f"
            },
            "type": "carpet"
           }
          ],
          "choropleth": [
           {
            "colorbar": {
             "outlinewidth": 0,
             "ticks": ""
            },
            "type": "choropleth"
           }
          ],
          "contour": [
           {
            "colorbar": {
             "outlinewidth": 0,
             "ticks": ""
            },
            "colorscale": [
             [
              0,
              "#0d0887"
             ],
             [
              0.1111111111111111,
              "#46039f"
             ],
             [
              0.2222222222222222,
              "#7201a8"
             ],
             [
              0.3333333333333333,
              "#9c179e"
             ],
             [
              0.4444444444444444,
              "#bd3786"
             ],
             [
              0.5555555555555556,
              "#d8576b"
             ],
             [
              0.6666666666666666,
              "#ed7953"
             ],
             [
              0.7777777777777778,
              "#fb9f3a"
             ],
             [
              0.8888888888888888,
              "#fdca26"
             ],
             [
              1,
              "#f0f921"
             ]
            ],
            "type": "contour"
           }
          ],
          "contourcarpet": [
           {
            "colorbar": {
             "outlinewidth": 0,
             "ticks": ""
            },
            "type": "contourcarpet"
           }
          ],
          "heatmap": [
           {
            "colorbar": {
             "outlinewidth": 0,
             "ticks": ""
            },
            "colorscale": [
             [
              0,
              "#0d0887"
             ],
             [
              0.1111111111111111,
              "#46039f"
             ],
             [
              0.2222222222222222,
              "#7201a8"
             ],
             [
              0.3333333333333333,
              "#9c179e"
             ],
             [
              0.4444444444444444,
              "#bd3786"
             ],
             [
              0.5555555555555556,
              "#d8576b"
             ],
             [
              0.6666666666666666,
              "#ed7953"
             ],
             [
              0.7777777777777778,
              "#fb9f3a"
             ],
             [
              0.8888888888888888,
              "#fdca26"
             ],
             [
              1,
              "#f0f921"
             ]
            ],
            "type": "heatmap"
           }
          ],
          "heatmapgl": [
           {
            "colorbar": {
             "outlinewidth": 0,
             "ticks": ""
            },
            "colorscale": [
             [
              0,
              "#0d0887"
             ],
             [
              0.1111111111111111,
              "#46039f"
             ],
             [
              0.2222222222222222,
              "#7201a8"
             ],
             [
              0.3333333333333333,
              "#9c179e"
             ],
             [
              0.4444444444444444,
              "#bd3786"
             ],
             [
              0.5555555555555556,
              "#d8576b"
             ],
             [
              0.6666666666666666,
              "#ed7953"
             ],
             [
              0.7777777777777778,
              "#fb9f3a"
             ],
             [
              0.8888888888888888,
              "#fdca26"
             ],
             [
              1,
              "#f0f921"
             ]
            ],
            "type": "heatmapgl"
           }
          ],
          "histogram": [
           {
            "marker": {
             "pattern": {
              "fillmode": "overlay",
              "size": 10,
              "solidity": 0.2
             }
            },
            "type": "histogram"
           }
          ],
          "histogram2d": [
           {
            "colorbar": {
             "outlinewidth": 0,
             "ticks": ""
            },
            "colorscale": [
             [
              0,
              "#0d0887"
             ],
             [
              0.1111111111111111,
              "#46039f"
             ],
             [
              0.2222222222222222,
              "#7201a8"
             ],
             [
              0.3333333333333333,
              "#9c179e"
             ],
             [
              0.4444444444444444,
              "#bd3786"
             ],
             [
              0.5555555555555556,
              "#d8576b"
             ],
             [
              0.6666666666666666,
              "#ed7953"
             ],
             [
              0.7777777777777778,
              "#fb9f3a"
             ],
             [
              0.8888888888888888,
              "#fdca26"
             ],
             [
              1,
              "#f0f921"
             ]
            ],
            "type": "histogram2d"
           }
          ],
          "histogram2dcontour": [
           {
            "colorbar": {
             "outlinewidth": 0,
             "ticks": ""
            },
            "colorscale": [
             [
              0,
              "#0d0887"
             ],
             [
              0.1111111111111111,
              "#46039f"
             ],
             [
              0.2222222222222222,
              "#7201a8"
             ],
             [
              0.3333333333333333,
              "#9c179e"
             ],
             [
              0.4444444444444444,
              "#bd3786"
             ],
             [
              0.5555555555555556,
              "#d8576b"
             ],
             [
              0.6666666666666666,
              "#ed7953"
             ],
             [
              0.7777777777777778,
              "#fb9f3a"
             ],
             [
              0.8888888888888888,
              "#fdca26"
             ],
             [
              1,
              "#f0f921"
             ]
            ],
            "type": "histogram2dcontour"
           }
          ],
          "mesh3d": [
           {
            "colorbar": {
             "outlinewidth": 0,
             "ticks": ""
            },
            "type": "mesh3d"
           }
          ],
          "parcoords": [
           {
            "line": {
             "colorbar": {
              "outlinewidth": 0,
              "ticks": ""
             }
            },
            "type": "parcoords"
           }
          ],
          "pie": [
           {
            "automargin": true,
            "type": "pie"
           }
          ],
          "scatter": [
           {
            "fillpattern": {
             "fillmode": "overlay",
             "size": 10,
             "solidity": 0.2
            },
            "type": "scatter"
           }
          ],
          "scatter3d": [
           {
            "line": {
             "colorbar": {
              "outlinewidth": 0,
              "ticks": ""
             }
            },
            "marker": {
             "colorbar": {
              "outlinewidth": 0,
              "ticks": ""
             }
            },
            "type": "scatter3d"
           }
          ],
          "scattercarpet": [
           {
            "marker": {
             "colorbar": {
              "outlinewidth": 0,
              "ticks": ""
             }
            },
            "type": "scattercarpet"
           }
          ],
          "scattergeo": [
           {
            "marker": {
             "colorbar": {
              "outlinewidth": 0,
              "ticks": ""
             }
            },
            "type": "scattergeo"
           }
          ],
          "scattergl": [
           {
            "marker": {
             "colorbar": {
              "outlinewidth": 0,
              "ticks": ""
             }
            },
            "type": "scattergl"
           }
          ],
          "scattermapbox": [
           {
            "marker": {
             "colorbar": {
              "outlinewidth": 0,
              "ticks": ""
             }
            },
            "type": "scattermapbox"
           }
          ],
          "scatterpolar": [
           {
            "marker": {
             "colorbar": {
              "outlinewidth": 0,
              "ticks": ""
             }
            },
            "type": "scatterpolar"
           }
          ],
          "scatterpolargl": [
           {
            "marker": {
             "colorbar": {
              "outlinewidth": 0,
              "ticks": ""
             }
            },
            "type": "scatterpolargl"
           }
          ],
          "scatterternary": [
           {
            "marker": {
             "colorbar": {
              "outlinewidth": 0,
              "ticks": ""
             }
            },
            "type": "scatterternary"
           }
          ],
          "surface": [
           {
            "colorbar": {
             "outlinewidth": 0,
             "ticks": ""
            },
            "colorscale": [
             [
              0,
              "#0d0887"
             ],
             [
              0.1111111111111111,
              "#46039f"
             ],
             [
              0.2222222222222222,
              "#7201a8"
             ],
             [
              0.3333333333333333,
              "#9c179e"
             ],
             [
              0.4444444444444444,
              "#bd3786"
             ],
             [
              0.5555555555555556,
              "#d8576b"
             ],
             [
              0.6666666666666666,
              "#ed7953"
             ],
             [
              0.7777777777777778,
              "#fb9f3a"
             ],
             [
              0.8888888888888888,
              "#fdca26"
             ],
             [
              1,
              "#f0f921"
             ]
            ],
            "type": "surface"
           }
          ],
          "table": [
           {
            "cells": {
             "fill": {
              "color": "#EBF0F8"
             },
             "line": {
              "color": "white"
             }
            },
            "header": {
             "fill": {
              "color": "#C8D4E3"
             },
             "line": {
              "color": "white"
             }
            },
            "type": "table"
           }
          ]
         },
         "layout": {
          "annotationdefaults": {
           "arrowcolor": "#2a3f5f",
           "arrowhead": 0,
           "arrowwidth": 1
          },
          "autotypenumbers": "strict",
          "coloraxis": {
           "colorbar": {
            "outlinewidth": 0,
            "ticks": ""
           }
          },
          "colorscale": {
           "diverging": [
            [
             0,
             "#8e0152"
            ],
            [
             0.1,
             "#c51b7d"
            ],
            [
             0.2,
             "#de77ae"
            ],
            [
             0.3,
             "#f1b6da"
            ],
            [
             0.4,
             "#fde0ef"
            ],
            [
             0.5,
             "#f7f7f7"
            ],
            [
             0.6,
             "#e6f5d0"
            ],
            [
             0.7,
             "#b8e186"
            ],
            [
             0.8,
             "#7fbc41"
            ],
            [
             0.9,
             "#4d9221"
            ],
            [
             1,
             "#276419"
            ]
           ],
           "sequential": [
            [
             0,
             "#0d0887"
            ],
            [
             0.1111111111111111,
             "#46039f"
            ],
            [
             0.2222222222222222,
             "#7201a8"
            ],
            [
             0.3333333333333333,
             "#9c179e"
            ],
            [
             0.4444444444444444,
             "#bd3786"
            ],
            [
             0.5555555555555556,
             "#d8576b"
            ],
            [
             0.6666666666666666,
             "#ed7953"
            ],
            [
             0.7777777777777778,
             "#fb9f3a"
            ],
            [
             0.8888888888888888,
             "#fdca26"
            ],
            [
             1,
             "#f0f921"
            ]
           ],
           "sequentialminus": [
            [
             0,
             "#0d0887"
            ],
            [
             0.1111111111111111,
             "#46039f"
            ],
            [
             0.2222222222222222,
             "#7201a8"
            ],
            [
             0.3333333333333333,
             "#9c179e"
            ],
            [
             0.4444444444444444,
             "#bd3786"
            ],
            [
             0.5555555555555556,
             "#d8576b"
            ],
            [
             0.6666666666666666,
             "#ed7953"
            ],
            [
             0.7777777777777778,
             "#fb9f3a"
            ],
            [
             0.8888888888888888,
             "#fdca26"
            ],
            [
             1,
             "#f0f921"
            ]
           ]
          },
          "colorway": [
           "#636efa",
           "#EF553B",
           "#00cc96",
           "#ab63fa",
           "#FFA15A",
           "#19d3f3",
           "#FF6692",
           "#B6E880",
           "#FF97FF",
           "#FECB52"
          ],
          "font": {
           "color": "#2a3f5f"
          },
          "geo": {
           "bgcolor": "white",
           "lakecolor": "white",
           "landcolor": "#E5ECF6",
           "showlakes": true,
           "showland": true,
           "subunitcolor": "white"
          },
          "hoverlabel": {
           "align": "left"
          },
          "hovermode": "closest",
          "mapbox": {
           "style": "light"
          },
          "paper_bgcolor": "white",
          "plot_bgcolor": "#E5ECF6",
          "polar": {
           "angularaxis": {
            "gridcolor": "white",
            "linecolor": "white",
            "ticks": ""
           },
           "bgcolor": "#E5ECF6",
           "radialaxis": {
            "gridcolor": "white",
            "linecolor": "white",
            "ticks": ""
           }
          },
          "scene": {
           "xaxis": {
            "backgroundcolor": "#E5ECF6",
            "gridcolor": "white",
            "gridwidth": 2,
            "linecolor": "white",
            "showbackground": true,
            "ticks": "",
            "zerolinecolor": "white"
           },
           "yaxis": {
            "backgroundcolor": "#E5ECF6",
            "gridcolor": "white",
            "gridwidth": 2,
            "linecolor": "white",
            "showbackground": true,
            "ticks": "",
            "zerolinecolor": "white"
           },
           "zaxis": {
            "backgroundcolor": "#E5ECF6",
            "gridcolor": "white",
            "gridwidth": 2,
            "linecolor": "white",
            "showbackground": true,
            "ticks": "",
            "zerolinecolor": "white"
           }
          },
          "shapedefaults": {
           "line": {
            "color": "#2a3f5f"
           }
          },
          "ternary": {
           "aaxis": {
            "gridcolor": "white",
            "linecolor": "white",
            "ticks": ""
           },
           "baxis": {
            "gridcolor": "white",
            "linecolor": "white",
            "ticks": ""
           },
           "bgcolor": "#E5ECF6",
           "caxis": {
            "gridcolor": "white",
            "linecolor": "white",
            "ticks": ""
           }
          },
          "title": {
           "x": 0.05
          },
          "xaxis": {
           "automargin": true,
           "gridcolor": "white",
           "linecolor": "white",
           "ticks": "",
           "title": {
            "standoff": 15
           },
           "zerolinecolor": "white",
           "zerolinewidth": 2
          },
          "yaxis": {
           "automargin": true,
           "gridcolor": "white",
           "linecolor": "white",
           "ticks": "",
           "title": {
            "standoff": 15
           },
           "zerolinecolor": "white",
           "zerolinewidth": 2
          }
         }
        },
        "xaxis": {
         "title": {
          "text": "Keyword Importance (to topic)"
         }
        },
        "yaxis": {
         "title": {
          "text": "Tweet Count"
         }
        }
       }
      },
      "text/html": [
       "<div>                            <div id=\"3b3386b5-27a4-4244-9dae-aecd8582a859\" class=\"plotly-graph-div\" style=\"height:525px; width:100%;\"></div>            <script type=\"text/javascript\">                require([\"plotly\"], function(Plotly) {                    window.PLOTLYENV=window.PLOTLYENV || {};                                    if (document.getElementById(\"3b3386b5-27a4-4244-9dae-aecd8582a859\")) {                    Plotly.newPlot(                        \"3b3386b5-27a4-4244-9dae-aecd8582a859\",                        [{\"marker\":{\"size\":[0.2108859029833751,0.15349578683671145,0.15896151218401275,0.04144841721703484,0.12525620587565475,0.09519471646549761,0.1503074470507857,0.059895240264176725,0.10475973582327489,0.09724436347073559],\"sizemin\":4,\"sizemode\":\"area\",\"sizeref\":0.00026360737872921884},\"mode\":\"markers\",\"name\":\"Charitable work, raising awareness\",\"text\":[\"world\",\"learn\",\"come\",\"food\",\"team\",\"support\",\"help\",\"big\",\"proud\",\"want\"],\"textposition\":\"bottom center\",\"x\":[0.19042131304740906,0.09732813388109207,0.09181763976812363,0.0732438862323761,0.07082495838403702,0.06099797040224075,0.058327335864305496,0.055520545691251755,0.04210062697529793,0.04137389361858368],\"y\":[926.0,674.0,698.0,182.0,550.0,418.0,660.0,263.0,460.0,427.0],\"type\":\"scatter\"}],                        {\"template\":{\"data\":{\"histogram2dcontour\":[{\"type\":\"histogram2dcontour\",\"colorbar\":{\"outlinewidth\":0,\"ticks\":\"\"},\"colorscale\":[[0.0,\"#0d0887\"],[0.1111111111111111,\"#46039f\"],[0.2222222222222222,\"#7201a8\"],[0.3333333333333333,\"#9c179e\"],[0.4444444444444444,\"#bd3786\"],[0.5555555555555556,\"#d8576b\"],[0.6666666666666666,\"#ed7953\"],[0.7777777777777778,\"#fb9f3a\"],[0.8888888888888888,\"#fdca26\"],[1.0,\"#f0f921\"]]}],\"choropleth\":[{\"type\":\"choropleth\",\"colorbar\":{\"outlinewidth\":0,\"ticks\":\"\"}}],\"histogram2d\":[{\"type\":\"histogram2d\",\"colorbar\":{\"outlinewidth\":0,\"ticks\":\"\"},\"colorscale\":[[0.0,\"#0d0887\"],[0.1111111111111111,\"#46039f\"],[0.2222222222222222,\"#7201a8\"],[0.3333333333333333,\"#9c179e\"],[0.4444444444444444,\"#bd3786\"],[0.5555555555555556,\"#d8576b\"],[0.6666666666666666,\"#ed7953\"],[0.7777777777777778,\"#fb9f3a\"],[0.8888888888888888,\"#fdca26\"],[1.0,\"#f0f921\"]]}],\"heatmap\":[{\"type\":\"heatmap\",\"colorbar\":{\"outlinewidth\":0,\"ticks\":\"\"},\"colorscale\":[[0.0,\"#0d0887\"],[0.1111111111111111,\"#46039f\"],[0.2222222222222222,\"#7201a8\"],[0.3333333333333333,\"#9c179e\"],[0.4444444444444444,\"#bd3786\"],[0.5555555555555556,\"#d8576b\"],[0.6666666666666666,\"#ed7953\"],[0.7777777777777778,\"#fb9f3a\"],[0.8888888888888888,\"#fdca26\"],[1.0,\"#f0f921\"]]}],\"heatmapgl\":[{\"type\":\"heatmapgl\",\"colorbar\":{\"outlinewidth\":0,\"ticks\":\"\"},\"colorscale\":[[0.0,\"#0d0887\"],[0.1111111111111111,\"#46039f\"],[0.2222222222222222,\"#7201a8\"],[0.3333333333333333,\"#9c179e\"],[0.4444444444444444,\"#bd3786\"],[0.5555555555555556,\"#d8576b\"],[0.6666666666666666,\"#ed7953\"],[0.7777777777777778,\"#fb9f3a\"],[0.8888888888888888,\"#fdca26\"],[1.0,\"#f0f921\"]]}],\"contourcarpet\":[{\"type\":\"contourcarpet\",\"colorbar\":{\"outlinewidth\":0,\"ticks\":\"\"}}],\"contour\":[{\"type\":\"contour\",\"colorbar\":{\"outlinewidth\":0,\"ticks\":\"\"},\"colorscale\":[[0.0,\"#0d0887\"],[0.1111111111111111,\"#46039f\"],[0.2222222222222222,\"#7201a8\"],[0.3333333333333333,\"#9c179e\"],[0.4444444444444444,\"#bd3786\"],[0.5555555555555556,\"#d8576b\"],[0.6666666666666666,\"#ed7953\"],[0.7777777777777778,\"#fb9f3a\"],[0.8888888888888888,\"#fdca26\"],[1.0,\"#f0f921\"]]}],\"surface\":[{\"type\":\"surface\",\"colorbar\":{\"outlinewidth\":0,\"ticks\":\"\"},\"colorscale\":[[0.0,\"#0d0887\"],[0.1111111111111111,\"#46039f\"],[0.2222222222222222,\"#7201a8\"],[0.3333333333333333,\"#9c179e\"],[0.4444444444444444,\"#bd3786\"],[0.5555555555555556,\"#d8576b\"],[0.6666666666666666,\"#ed7953\"],[0.7777777777777778,\"#fb9f3a\"],[0.8888888888888888,\"#fdca26\"],[1.0,\"#f0f921\"]]}],\"mesh3d\":[{\"type\":\"mesh3d\",\"colorbar\":{\"outlinewidth\":0,\"ticks\":\"\"}}],\"scatter\":[{\"fillpattern\":{\"fillmode\":\"overlay\",\"size\":10,\"solidity\":0.2},\"type\":\"scatter\"}],\"parcoords\":[{\"type\":\"parcoords\",\"line\":{\"colorbar\":{\"outlinewidth\":0,\"ticks\":\"\"}}}],\"scatterpolargl\":[{\"type\":\"scatterpolargl\",\"marker\":{\"colorbar\":{\"outlinewidth\":0,\"ticks\":\"\"}}}],\"bar\":[{\"error_x\":{\"color\":\"#2a3f5f\"},\"error_y\":{\"color\":\"#2a3f5f\"},\"marker\":{\"line\":{\"color\":\"#E5ECF6\",\"width\":0.5},\"pattern\":{\"fillmode\":\"overlay\",\"size\":10,\"solidity\":0.2}},\"type\":\"bar\"}],\"scattergeo\":[{\"type\":\"scattergeo\",\"marker\":{\"colorbar\":{\"outlinewidth\":0,\"ticks\":\"\"}}}],\"scatterpolar\":[{\"type\":\"scatterpolar\",\"marker\":{\"colorbar\":{\"outlinewidth\":0,\"ticks\":\"\"}}}],\"histogram\":[{\"marker\":{\"pattern\":{\"fillmode\":\"overlay\",\"size\":10,\"solidity\":0.2}},\"type\":\"histogram\"}],\"scattergl\":[{\"type\":\"scattergl\",\"marker\":{\"colorbar\":{\"outlinewidth\":0,\"ticks\":\"\"}}}],\"scatter3d\":[{\"type\":\"scatter3d\",\"line\":{\"colorbar\":{\"outlinewidth\":0,\"ticks\":\"\"}},\"marker\":{\"colorbar\":{\"outlinewidth\":0,\"ticks\":\"\"}}}],\"scattermapbox\":[{\"type\":\"scattermapbox\",\"marker\":{\"colorbar\":{\"outlinewidth\":0,\"ticks\":\"\"}}}],\"scatterternary\":[{\"type\":\"scatterternary\",\"marker\":{\"colorbar\":{\"outlinewidth\":0,\"ticks\":\"\"}}}],\"scattercarpet\":[{\"type\":\"scattercarpet\",\"marker\":{\"colorbar\":{\"outlinewidth\":0,\"ticks\":\"\"}}}],\"carpet\":[{\"aaxis\":{\"endlinecolor\":\"#2a3f5f\",\"gridcolor\":\"white\",\"linecolor\":\"white\",\"minorgridcolor\":\"white\",\"startlinecolor\":\"#2a3f5f\"},\"baxis\":{\"endlinecolor\":\"#2a3f5f\",\"gridcolor\":\"white\",\"linecolor\":\"white\",\"minorgridcolor\":\"white\",\"startlinecolor\":\"#2a3f5f\"},\"type\":\"carpet\"}],\"table\":[{\"cells\":{\"fill\":{\"color\":\"#EBF0F8\"},\"line\":{\"color\":\"white\"}},\"header\":{\"fill\":{\"color\":\"#C8D4E3\"},\"line\":{\"color\":\"white\"}},\"type\":\"table\"}],\"barpolar\":[{\"marker\":{\"line\":{\"color\":\"#E5ECF6\",\"width\":0.5},\"pattern\":{\"fillmode\":\"overlay\",\"size\":10,\"solidity\":0.2}},\"type\":\"barpolar\"}],\"pie\":[{\"automargin\":true,\"type\":\"pie\"}]},\"layout\":{\"autotypenumbers\":\"strict\",\"colorway\":[\"#636efa\",\"#EF553B\",\"#00cc96\",\"#ab63fa\",\"#FFA15A\",\"#19d3f3\",\"#FF6692\",\"#B6E880\",\"#FF97FF\",\"#FECB52\"],\"font\":{\"color\":\"#2a3f5f\"},\"hovermode\":\"closest\",\"hoverlabel\":{\"align\":\"left\"},\"paper_bgcolor\":\"white\",\"plot_bgcolor\":\"#E5ECF6\",\"polar\":{\"bgcolor\":\"#E5ECF6\",\"angularaxis\":{\"gridcolor\":\"white\",\"linecolor\":\"white\",\"ticks\":\"\"},\"radialaxis\":{\"gridcolor\":\"white\",\"linecolor\":\"white\",\"ticks\":\"\"}},\"ternary\":{\"bgcolor\":\"#E5ECF6\",\"aaxis\":{\"gridcolor\":\"white\",\"linecolor\":\"white\",\"ticks\":\"\"},\"baxis\":{\"gridcolor\":\"white\",\"linecolor\":\"white\",\"ticks\":\"\"},\"caxis\":{\"gridcolor\":\"white\",\"linecolor\":\"white\",\"ticks\":\"\"}},\"coloraxis\":{\"colorbar\":{\"outlinewidth\":0,\"ticks\":\"\"}},\"colorscale\":{\"sequential\":[[0.0,\"#0d0887\"],[0.1111111111111111,\"#46039f\"],[0.2222222222222222,\"#7201a8\"],[0.3333333333333333,\"#9c179e\"],[0.4444444444444444,\"#bd3786\"],[0.5555555555555556,\"#d8576b\"],[0.6666666666666666,\"#ed7953\"],[0.7777777777777778,\"#fb9f3a\"],[0.8888888888888888,\"#fdca26\"],[1.0,\"#f0f921\"]],\"sequentialminus\":[[0.0,\"#0d0887\"],[0.1111111111111111,\"#46039f\"],[0.2222222222222222,\"#7201a8\"],[0.3333333333333333,\"#9c179e\"],[0.4444444444444444,\"#bd3786\"],[0.5555555555555556,\"#d8576b\"],[0.6666666666666666,\"#ed7953\"],[0.7777777777777778,\"#fb9f3a\"],[0.8888888888888888,\"#fdca26\"],[1.0,\"#f0f921\"]],\"diverging\":[[0,\"#8e0152\"],[0.1,\"#c51b7d\"],[0.2,\"#de77ae\"],[0.3,\"#f1b6da\"],[0.4,\"#fde0ef\"],[0.5,\"#f7f7f7\"],[0.6,\"#e6f5d0\"],[0.7,\"#b8e186\"],[0.8,\"#7fbc41\"],[0.9,\"#4d9221\"],[1,\"#276419\"]]},\"xaxis\":{\"gridcolor\":\"white\",\"linecolor\":\"white\",\"ticks\":\"\",\"title\":{\"standoff\":15},\"zerolinecolor\":\"white\",\"automargin\":true,\"zerolinewidth\":2},\"yaxis\":{\"gridcolor\":\"white\",\"linecolor\":\"white\",\"ticks\":\"\",\"title\":{\"standoff\":15},\"zerolinecolor\":\"white\",\"automargin\":true,\"zerolinewidth\":2},\"scene\":{\"xaxis\":{\"backgroundcolor\":\"#E5ECF6\",\"gridcolor\":\"white\",\"linecolor\":\"white\",\"showbackground\":true,\"ticks\":\"\",\"zerolinecolor\":\"white\",\"gridwidth\":2},\"yaxis\":{\"backgroundcolor\":\"#E5ECF6\",\"gridcolor\":\"white\",\"linecolor\":\"white\",\"showbackground\":true,\"ticks\":\"\",\"zerolinecolor\":\"white\",\"gridwidth\":2},\"zaxis\":{\"backgroundcolor\":\"#E5ECF6\",\"gridcolor\":\"white\",\"linecolor\":\"white\",\"showbackground\":true,\"ticks\":\"\",\"zerolinecolor\":\"white\",\"gridwidth\":2}},\"shapedefaults\":{\"line\":{\"color\":\"#2a3f5f\"}},\"annotationdefaults\":{\"arrowcolor\":\"#2a3f5f\",\"arrowhead\":0,\"arrowwidth\":1},\"geo\":{\"bgcolor\":\"white\",\"landcolor\":\"#E5ECF6\",\"subunitcolor\":\"white\",\"showland\":true,\"showlakes\":true,\"lakecolor\":\"white\"},\"title\":{\"x\":0.05},\"mapbox\":{\"style\":\"light\"}}},\"margin\":{\"t\":15,\"b\":0,\"l\":20,\"r\":0},\"legend\":{\"title\":{\"text\":\"   <b>Topic</b>\"},\"itemsizing\":\"constant\"},\"yaxis\":{\"title\":{\"text\":\"Tweet Count\"}},\"xaxis\":{\"title\":{\"text\":\"Keyword Importance (to topic)\"}}},                        {\"responsive\": true}                    ).then(function(){\n",
       "                            \n",
       "var gd = document.getElementById('3b3386b5-27a4-4244-9dae-aecd8582a859');\n",
       "var x = new MutationObserver(function (mutations, observer) {{\n",
       "        var display = window.getComputedStyle(gd).display;\n",
       "        if (!display || display === 'none') {{\n",
       "            console.log([gd, 'removed!']);\n",
       "            Plotly.purge(gd);\n",
       "            observer.disconnect();\n",
       "        }}\n",
       "}});\n",
       "\n",
       "// Listen for the removal of the full notebook cells\n",
       "var notebookContainer = gd.closest('#notebook-container');\n",
       "if (notebookContainer) {{\n",
       "    x.observe(notebookContainer, {childList: true});\n",
       "}}\n",
       "\n",
       "// Listen for the clearing of the current output cell\n",
       "var outputEl = gd.closest('.output');\n",
       "if (outputEl) {{\n",
       "    x.observe(outputEl, {childList: true});\n",
       "}}\n",
       "\n",
       "                        })                };                });            </script>        </div>"
      ]
     },
     "metadata": {},
     "output_type": "display_data"
    }
   ],
   "source": [
    "topic_0 = all_dfs_topic_keywords[all_dfs_topic_keywords['topic_id']==0]\n",
    "\n",
    "fig = go.Figure(data=[go.Scatter(\n",
    "    x=topic_0['keyword_importance'].values.tolist(), \n",
    "    y=topic_0['keyword_tweet_count_in_topic'].values.tolist(),\n",
    "    mode='markers',\n",
    "    marker=dict(\n",
    "        size=topic_0['share_of_topic_tweets'].values.tolist(),\n",
    "        sizemode='area',\n",
    "        sizeref=2.*max(topic_0['share_of_topic_tweets'].values.tolist())/(40.**2),\n",
    "        sizemin=4\n",
    "    ),\n",
    "    text=topic_0['topic_keyword'].values.tolist(),\n",
    "    textposition='bottom center',\n",
    "    name=topic_0['topic_name'].values.tolist()[0]\n",
    ")\n",
    "])\n",
    "\n",
    "fig.update_layout(\n",
    "        margin=dict(t=15, \n",
    "                    b=0, \n",
    "                    l=20, \n",
    "                    r=0),\n",
    "        yaxis=dict(title='Tweet Count'),\n",
    "        xaxis=dict(title='Keyword Importance (to topic)'),\n",
    "        legend=dict(itemsizing='constant',\n",
    "                    title=dict(text='   <b>Topic</b>')),\n",
    "    )    \n",
    "\n",
    "fig.show()"
   ]
  },
  {
   "cell_type": "code",
   "execution_count": 205,
   "id": "b2833010",
   "metadata": {},
   "outputs": [],
   "source": [
    "scatter_list = []\n",
    "\n",
    "for topic_num in all_dfs_topic_keywords['topic_id'].unique():\n",
    "    \n",
    "    df_topic_num = all_dfs_topic_keywords[all_dfs_topic_keywords['topic_id']==topic_num]\n",
    "    \n",
    "    scatter_obj = go.Scatter(\n",
    "        x=df_topic_num['keyword_importance'].values.tolist(), \n",
    "        y=df_topic_num['keyword_tweet_count_in_topic'].values.tolist(),\n",
    "        mode='markers+text',\n",
    "        opacity=0.6,\n",
    "        marker=dict(\n",
    "            size=df_topic_num['share_of_topic_tweets'].values.tolist(),\n",
    "            sizemode='area',\n",
    "            sizeref=2.*max(df_topic_num['share_of_topic_tweets'].values.tolist())/(40.**2),\n",
    "            sizemin=4\n",
    "        ),\n",
    "        text=df_topic_num['topic_keyword'].values.tolist(),\n",
    "        textposition='bottom center',\n",
    "        name=df_topic_num['topic_name'].values.tolist()[0]\n",
    "    )\n",
    "    \n",
    "    scatter_list.append(scatter_obj)"
   ]
  },
  {
   "cell_type": "code",
   "execution_count": 206,
   "id": "e20af81c",
   "metadata": {},
   "outputs": [
    {
     "data": {
      "text/plain": [
       "[Scatter({\n",
       "     'marker': {'size': [0.2108859029833751, 0.15349578683671145,\n",
       "                         0.15896151218401275, 0.04144841721703484,\n",
       "                         0.12525620587565475, 0.09519471646549761,\n",
       "                         0.1503074470507857, 0.059895240264176725,\n",
       "                         0.10475973582327489, 0.09724436347073559],\n",
       "                'sizemin': 4,\n",
       "                'sizemode': 'area',\n",
       "                'sizeref': 0.00026360737872921884},\n",
       "     'mode': 'markers+text',\n",
       "     'name': 'Charitable work, raising awareness',\n",
       "     'opacity': 0.6,\n",
       "     'text': [world, learn, come, food, team, support, help, big, proud, want],\n",
       "     'textposition': 'bottom center',\n",
       "     'x': [0.19042131304740906, 0.09732813388109207, 0.09181763976812363,\n",
       "           0.0732438862323761, 0.07082495838403702, 0.06099797040224075,\n",
       "           0.058327335864305496, 0.055520545691251755, 0.04210062697529793,\n",
       "           0.04137389361858368],\n",
       "     'y': [926.0, 674.0, 698.0, 182.0, 550.0, 418.0, 660.0, 263.0, 460.0, 427.0]\n",
       " }),\n",
       " Scatter({\n",
       "     'marker': {'size': [0.3965351299326275, 0.10779595765158806,\n",
       "                         0.1482194417709336, 0.023099133782483156,\n",
       "                         0.2107795957651588, 0.17805582290664101,\n",
       "                         0.04619826756496631, 0.0933589990375361,\n",
       "                         0.12319538017324351, 0.0548604427333975],\n",
       "                'sizemin': 4,\n",
       "                'sizemode': 'area',\n",
       "                'sizeref': 0.0004956689124157844},\n",
       "     'mode': 'markers+text',\n",
       "     'name': 'Future-forward campaigns (i.e. aviation, sustainability)',\n",
       "     'opacity': 0.6,\n",
       "     'text': [today, excite, journey, fantastic, share, customer, introduce, head,\n",
       "              future, extra],\n",
       "     'textposition': 'bottom center',\n",
       "     'x': [0.3071032166481018, 0.12432558089494705, 0.09821414947509766,\n",
       "           0.09047558903694153, 0.08342079818248749, 0.04499947279691696,\n",
       "           0.03830348327755928, 0.035837214440107346, 0.034514617174863815,\n",
       "           0.023104198276996613],\n",
       "     'y': [412.0, 112.0, 154.0, 24.0, 219.0, 185.0, 48.0, 97.0, 128.0, 57.0]\n",
       " }),\n",
       " Scatter({\n",
       "     'marker': {'size': [0.19710669077757687, 0.15009041591320071,\n",
       "                         0.189873417721519, 0.24502712477396021,\n",
       "                         0.017179023508137433, 0.03887884267631103,\n",
       "                         0.11844484629294756, 0.05605786618444846,\n",
       "                         0.02531645569620253, 0.02802893309222423],\n",
       "                'sizemin': 4,\n",
       "                'sizemode': 'area',\n",
       "                'sizeref': 0.0003062839059674503},\n",
       "     'mode': 'markers+text',\n",
       "     'name': 'Travel spots with the best views',\n",
       "     'opacity': 0.6,\n",
       "     'text': [look, work, great, view, activity, connect, guess, tomorrow, easy,\n",
       "              early],\n",
       "     'textposition': 'bottom center',\n",
       "     'x': [0.1532026082277298, 0.12454503029584885, 0.11216048151254654,\n",
       "           0.11136724799871445, 0.09956653416156769, 0.05610113590955734,\n",
       "           0.038844481110572815, 0.035732705146074295, 0.035532381385564804,\n",
       "           0.03312287852168083],\n",
       "     'y': [218.0, 166.0, 210.0, 271.0, 19.0, 43.0, 131.0, 62.0, 28.0, 31.0]\n",
       " }),\n",
       " Scatter({\n",
       "     'marker': {'size': [0.20461538461538462, 0.28615384615384615,\n",
       "                         0.07487179487179488, 0.16512820512820514,\n",
       "                         0.09487179487179487, 0.03794871794871795,\n",
       "                         0.07179487179487179, 0.05179487179487179,\n",
       "                         0.18461538461538463, 0.04461538461538461],\n",
       "                'sizemin': 4,\n",
       "                'sizemode': 'area',\n",
       "                'sizeref': 0.00035769230769230767},\n",
       "     'mode': 'markers+text',\n",
       "     'name': 'Campaign with a contest',\n",
       "     'opacity': 0.6,\n",
       "     'text': [happy, win, use, get, instagram, info, feature, stand, chance,\n",
       "              participate],\n",
       "     'textposition': 'bottom center',\n",
       "     'x': [0.14614354074001312, 0.11258896440267563, 0.10129288583993912,\n",
       "           0.083621084690094, 0.05149851739406586, 0.04650864750146866,\n",
       "           0.043379779905080795, 0.04093443974852562, 0.03744427487254143,\n",
       "           0.03226611018180847],\n",
       "     'y': [399.0, 558.0, 146.0, 322.0, 185.0, 74.0, 140.0, 101.0, 360.0, 87.0]\n",
       " }),\n",
       " Scatter({\n",
       "     'marker': {'size': [0.8831168831168831, 0.2987012987012987,\n",
       "                         0.11688311688311688, 0.4155844155844156,\n",
       "                         0.012987012987012988, 0.05194805194805195,\n",
       "                         0.4675324675324675, 0.03896103896103896,\n",
       "                         0.06493506493506493, 0.0],\n",
       "                'sizemin': 4,\n",
       "                'sizemode': 'area',\n",
       "                'sizeref': 0.0011038961038961038},\n",
       "     'mode': 'markers+text',\n",
       "     'name': 'Non-stop flight service',\n",
       "     'opacity': 0.6,\n",
       "     'text': [service, board, ride, nonstop, recovery, guest, stop, close, app,\n",
       "              station_town],\n",
       "     'textposition': 'bottom center',\n",
       "     'x': [0.40823090076446533, 0.2515793740749359, 0.1018996611237526,\n",
       "           0.049736060202121735, 0.018057607114315033, 1.725124820950441e-05,\n",
       "           1.718838029773906e-05, 1.7188194760819897e-05, 1.7161821233457886e-05,\n",
       "           1.7148411643574946e-05],\n",
       "     'y': [68.0, 23.0, 9.0, 32.0, 1.0, 4.0, 36.0, 3.0, 5.0, 0.0]\n",
       " }),\n",
       " Scatter({\n",
       "     'marker': {'size': [0.32557300126330985, 0.41526800216567405,\n",
       "                         0.06442880346507851, 0.05793178126691933,\n",
       "                         0.11857065511640498, 0.06749684172532033,\n",
       "                         0.06442880346507851, 0.054502797329001984,\n",
       "                         0.08464176141490706, 0.0624436022378632],\n",
       "                'sizemin': 4,\n",
       "                'sizemode': 'area',\n",
       "                'sizeref': 0.0005190850027070925},\n",
       "     'mode': 'markers+text',\n",
       "     'name': 'Promotional campaign via travel suggestions',\n",
       "     'opacity': 0.6,\n",
       "     'text': [day, fly, bring, live, week, dream, long, life, wish, schedule],\n",
       "     'textposition': 'bottom center',\n",
       "     'x': [0.23348550498485565, 0.21779359877109528, 0.08051382750272751,\n",
       "           0.06355810910463333, 0.05498282238841057, 0.054656822234392166,\n",
       "           0.04159459471702576, 0.033947039395570755, 0.031264036893844604,\n",
       "           0.030869731679558754],\n",
       "     'y': [1804.0, 2301.0, 357.0, 321.0, 657.0, 374.0, 357.0, 302.0, 469.0, 346.0]\n",
       " }),\n",
       " Scatter({\n",
       "     'marker': {'size': [0.4155176736024066, 0.19240411130609175,\n",
       "                         0.18413136124341942, 0.09325645525194284,\n",
       "                         0.02080721985460015, 0.040862371521684634,\n",
       "                         0.0008774128854349461, 0.04224116319879669,\n",
       "                         0.06430183003258962, 0.026071697167209827],\n",
       "                'sizemin': 4,\n",
       "                'sizemode': 'area',\n",
       "                'sizeref': 0.0005193970920030083},\n",
       "     'mode': 'markers+text',\n",
       "     'name': 'Best/lowest/discounted fares',\n",
       "     'opacity': 0.6,\n",
       "     'text': [book, destination, ticket, read, super, favourite, well, month, sky,\n",
       "              history],\n",
       "     'textposition': 'bottom center',\n",
       "     'x': [0.2523840367794037, 0.13223160803318024, 0.07124517112970352,\n",
       "           0.05926937982439995, 0.040871258825063705, 0.03331368416547775,\n",
       "           0.03305402025580406, 0.031155485659837723, 0.02663012221455574,\n",
       "           0.02607482299208641],\n",
       "     'y': [3315.0, 1535.0, 1469.0, 744.0, 166.0, 326.0, 7.0, 337.0, 513.0, 208.0]\n",
       " }),\n",
       " Scatter({\n",
       "     'marker': {'size': [0.40466161190676775, 0.10221847795563044,\n",
       "                         0.16090985678180286, 0.07525975849480483,\n",
       "                         0.07385565852288684, 0.07778713844425723,\n",
       "                         0.02639707947205841, 0.05532153889356922,\n",
       "                         0.05728727885425442, 0.012917719741645605],\n",
       "                'sizemin': 4,\n",
       "                'sizemode': 'area',\n",
       "                'sizeref': 0.0005058270148834597},\n",
       "     'mode': 'markers+text',\n",
       "     'name': 'Airline growth (i.e. new routes, aircraft, offerings)',\n",
       "     'opacity': 0.6,\n",
       "     'text': [new, good, plan, join, deal, follow, final, enter, sure, delivery],\n",
       "     'textposition': 'bottom center',\n",
       "     'x': [0.25413778424263, 0.18208633363246918, 0.07936660945415497,\n",
       "           0.058699194341897964, 0.04856713116168976, 0.04490608349442482,\n",
       "           0.04025956243276596, 0.031705208122730255, 0.02783607505261898,\n",
       "           0.02626124396920204],\n",
       "     'y': [1441.0, 364.0, 573.0, 268.0, 263.0, 277.0, 94.0, 197.0, 204.0, 46.0]\n",
       " }),\n",
       " Scatter({\n",
       "     'marker': {'size': [0.3839452395768513, 0.23771001866832608,\n",
       "                         0.09956440572495333, 0.12196639701306783,\n",
       "                         0.0777846919726198, 0.09520846297448662,\n",
       "                         0.13690105787181084, 0.09023024268823895,\n",
       "                         0.03298070939639079, 0.08462974486621033],\n",
       "                'sizemin': 4,\n",
       "                'sizemode': 'area',\n",
       "                'sizeref': 0.0004799315494710641},\n",
       "     'mode': 'markers+text',\n",
       "     'name': 'Scenic/peaceful travel destinations',\n",
       "     'opacity': 0.6,\n",
       "     'text': [time, know, night, beautiful, moment, stay, hour, away, drop,\n",
       "              departure],\n",
       "     'textposition': 'bottom center',\n",
       "     'x': [0.3153640031814575, 0.1545713096857071, 0.11584147810935974,\n",
       "           0.053024157881736755, 0.0506417416036129, 0.046852875500917435,\n",
       "           0.03563310578465462, 0.030998092144727707, 0.024911195039749146,\n",
       "           0.02169339917600155],\n",
       "     'y': [617.0, 382.0, 160.0, 196.0, 125.0, 153.0, 220.0, 145.0, 53.0, 136.0]\n",
       " }),\n",
       " Scatter({\n",
       "     'marker': {'size': [0.19047619047619047, 0.4021164021164021,\n",
       "                         0.23809523809523808, 0.31216931216931215,\n",
       "                         0.21164021164021163, 0.13756613756613756,\n",
       "                         0.1164021164021164, 0.12169312169312169,\n",
       "                         0.07407407407407407, 0.010582010582010581],\n",
       "                'sizemin': 4,\n",
       "                'sizemode': 'area',\n",
       "                'sizeref': 0.0005026455026455026},\n",
       "     'mode': 'markers+text',\n",
       "     'name': 'Flight seating (i.e. group seating, upgrades)',\n",
       "     'opacity': 0.6,\n",
       "     'text': [ready, thank, way, seat, choose, leave, hand, nice, go, amaze],\n",
       "     'textposition': 'bottom center',\n",
       "     'x': [0.33228129148483276, 0.19158732891082764, 0.12828122079372406,\n",
       "           0.12753261625766754, 0.07037659734487534, 0.04302248731255531,\n",
       "           0.02680174447596073, 0.010415175929665565, 7.142111371649662e-06,\n",
       "           7.126466698537115e-06],\n",
       "     'y': [36.0, 76.0, 45.0, 59.0, 40.0, 26.0, 22.0, 23.0, 14.0, 2.0]\n",
       " }),\n",
       " Scatter({\n",
       "     'marker': {'size': [0.7920511000709723, 0.0262597586941093,\n",
       "                         0.21788502484031227, 0.05961674946770759,\n",
       "                         0.149041873669269, 0.04187366926898509,\n",
       "                         0.11994322214336409, 0.046132008516678494,\n",
       "                         0.0511000709723208, 0.028388928317955996],\n",
       "                'sizemin': 4,\n",
       "                'sizemode': 'area',\n",
       "                'sizeref': 0.0009900638750887155},\n",
       "     'mode': 'markers+text',\n",
       "     'name': 'Travel alerts and advisories',\n",
       "     'opacity': 0.6,\n",
       "     'text': [travel, minute, detail, ensure, online, result, mile, send, smile,\n",
       "              delay],\n",
       "     'textposition': 'bottom center',\n",
       "     'x': [0.5824695229530334, 0.08615253865718842, 0.051735538989305496,\n",
       "           0.04931328445672989, 0.037016529589891434, 0.0331549197435379,\n",
       "           0.03282887488603592, 0.01609226129949093, 0.014481930993497372,\n",
       "           0.009485814720392227],\n",
       "     'y': [1116.0, 37.0, 307.0, 84.0, 210.0, 59.0, 169.0, 65.0, 72.0, 40.0]\n",
       " }),\n",
       " Scatter({\n",
       "     'marker': {'size': [0.3025936599423631, 0.16714697406340057,\n",
       "                         0.14661383285302593, 0.12788184438040345,\n",
       "                         0.14697406340057637, 0.07024495677233429,\n",
       "                         0.14229106628242075, 0.050072046109510084,\n",
       "                         0.052953890489913544, 0.06412103746397695],\n",
       "                'sizemin': 4,\n",
       "                'sizemode': 'area',\n",
       "                'sizeref': 0.00037824207492795386},\n",
       "     'mode': 'markers+text',\n",
       "     'name': 'Visit our website for more info',\n",
       "     'opacity': 0.6,\n",
       "     'text': [visit, enjoy, airport, take, love, soon, information, operation,\n",
       "              announce, spot],\n",
       "     'textposition': 'bottom center',\n",
       "     'x': [0.17819194495677948, 0.17497293651103973, 0.13314247131347656,\n",
       "           0.10868285596370697, 0.05899537354707718, 0.03832729533314705,\n",
       "           0.03594980016350746, 0.03387351334095001, 0.033212810754776,\n",
       "           0.03255634754896164],\n",
       "     'y': [840.0, 464.0, 407.0, 355.0, 408.0, 195.0, 395.0, 139.0, 147.0, 178.0]\n",
       " }),\n",
       " Scatter({\n",
       "     'marker': {'size': [0.267186067827681, 0.19019248395967003,\n",
       "                         0.17369385884509625, 0.1860678276810266,\n",
       "                         0.12694775435380384, 0.045829514207149404,\n",
       "                         0.10494958753437214, 0.04995417048579285,\n",
       "                         0.13336388634280477, 0.10128322639780019],\n",
       "                'sizemin': 4,\n",
       "                'sizemode': 'area',\n",
       "                'sizeref': 0.00033398258478460125},\n",
       "     'mode': 'markers+text',\n",
       "     'name': 'Tips for comfortable travel experience',\n",
       "     'opacity': 0.6,\n",
       "     'text': [check, experience, airline, trip, discover, baggage, holiday, begin,\n",
       "              update, late],\n",
       "     'textposition': 'bottom center',\n",
       "     'x': [0.19022227823734283, 0.1695595681667328, 0.13400349020957947,\n",
       "           0.09794465452432632, 0.06920313090085983, 0.05772538483142853,\n",
       "           0.051043733954429626, 0.048340633511543274, 0.04306020960211754,\n",
       "           0.03784078359603882],\n",
       "     'y': [583.0, 415.0, 379.0, 406.0, 277.0, 100.0, 229.0, 109.0, 291.0, 221.0]\n",
       " })]"
      ]
     },
     "execution_count": 206,
     "metadata": {},
     "output_type": "execute_result"
    }
   ],
   "source": [
    "scatter_list"
   ]
  },
  {
   "cell_type": "code",
   "execution_count": 207,
   "id": "8e202960",
   "metadata": {},
   "outputs": [
    {
     "data": {
      "application/vnd.plotly.v1+json": {
       "config": {
        "plotlyServerURL": "https://plot.ly"
       },
       "data": [
        {
         "marker": {
          "size": [
           0.2108859029833751,
           0.15349578683671145,
           0.15896151218401275,
           0.04144841721703484,
           0.12525620587565475,
           0.09519471646549761,
           0.1503074470507857,
           0.059895240264176725,
           0.10475973582327489,
           0.09724436347073559
          ],
          "sizemin": 4,
          "sizemode": "area",
          "sizeref": 0.00026360737872921884
         },
         "mode": "markers+text",
         "name": "Charitable work, raising awareness",
         "opacity": 0.6,
         "text": [
          "world",
          "learn",
          "come",
          "food",
          "team",
          "support",
          "help",
          "big",
          "proud",
          "want"
         ],
         "textposition": "bottom center",
         "type": "scatter",
         "x": [
          0.19042131304740906,
          0.09732813388109207,
          0.09181763976812363,
          0.0732438862323761,
          0.07082495838403702,
          0.06099797040224075,
          0.058327335864305496,
          0.055520545691251755,
          0.04210062697529793,
          0.04137389361858368
         ],
         "y": [
          926,
          674,
          698,
          182,
          550,
          418,
          660,
          263,
          460,
          427
         ]
        },
        {
         "marker": {
          "size": [
           0.3965351299326275,
           0.10779595765158806,
           0.1482194417709336,
           0.023099133782483156,
           0.2107795957651588,
           0.17805582290664101,
           0.04619826756496631,
           0.0933589990375361,
           0.12319538017324351,
           0.0548604427333975
          ],
          "sizemin": 4,
          "sizemode": "area",
          "sizeref": 0.0004956689124157844
         },
         "mode": "markers+text",
         "name": "Future-forward campaigns (i.e. aviation, sustainability)",
         "opacity": 0.6,
         "text": [
          "today",
          "excite",
          "journey",
          "fantastic",
          "share",
          "customer",
          "introduce",
          "head",
          "future",
          "extra"
         ],
         "textposition": "bottom center",
         "type": "scatter",
         "x": [
          0.3071032166481018,
          0.12432558089494705,
          0.09821414947509766,
          0.09047558903694153,
          0.08342079818248749,
          0.04499947279691696,
          0.03830348327755928,
          0.035837214440107346,
          0.034514617174863815,
          0.023104198276996613
         ],
         "y": [
          412,
          112,
          154,
          24,
          219,
          185,
          48,
          97,
          128,
          57
         ]
        },
        {
         "marker": {
          "size": [
           0.19710669077757687,
           0.15009041591320071,
           0.189873417721519,
           0.24502712477396021,
           0.017179023508137433,
           0.03887884267631103,
           0.11844484629294756,
           0.05605786618444846,
           0.02531645569620253,
           0.02802893309222423
          ],
          "sizemin": 4,
          "sizemode": "area",
          "sizeref": 0.0003062839059674503
         },
         "mode": "markers+text",
         "name": "Travel spots with the best views",
         "opacity": 0.6,
         "text": [
          "look",
          "work",
          "great",
          "view",
          "activity",
          "connect",
          "guess",
          "tomorrow",
          "easy",
          "early"
         ],
         "textposition": "bottom center",
         "type": "scatter",
         "x": [
          0.1532026082277298,
          0.12454503029584885,
          0.11216048151254654,
          0.11136724799871445,
          0.09956653416156769,
          0.05610113590955734,
          0.038844481110572815,
          0.035732705146074295,
          0.035532381385564804,
          0.03312287852168083
         ],
         "y": [
          218,
          166,
          210,
          271,
          19,
          43,
          131,
          62,
          28,
          31
         ]
        },
        {
         "marker": {
          "size": [
           0.20461538461538462,
           0.28615384615384615,
           0.07487179487179488,
           0.16512820512820514,
           0.09487179487179487,
           0.03794871794871795,
           0.07179487179487179,
           0.05179487179487179,
           0.18461538461538463,
           0.04461538461538461
          ],
          "sizemin": 4,
          "sizemode": "area",
          "sizeref": 0.00035769230769230767
         },
         "mode": "markers+text",
         "name": "Campaign with a contest",
         "opacity": 0.6,
         "text": [
          "happy",
          "win",
          "use",
          "get",
          "instagram",
          "info",
          "feature",
          "stand",
          "chance",
          "participate"
         ],
         "textposition": "bottom center",
         "type": "scatter",
         "x": [
          0.14614354074001312,
          0.11258896440267563,
          0.10129288583993912,
          0.083621084690094,
          0.05149851739406586,
          0.04650864750146866,
          0.043379779905080795,
          0.04093443974852562,
          0.03744427487254143,
          0.03226611018180847
         ],
         "y": [
          399,
          558,
          146,
          322,
          185,
          74,
          140,
          101,
          360,
          87
         ]
        },
        {
         "marker": {
          "size": [
           0.8831168831168831,
           0.2987012987012987,
           0.11688311688311688,
           0.4155844155844156,
           0.012987012987012988,
           0.05194805194805195,
           0.4675324675324675,
           0.03896103896103896,
           0.06493506493506493,
           0
          ],
          "sizemin": 4,
          "sizemode": "area",
          "sizeref": 0.0011038961038961038
         },
         "mode": "markers+text",
         "name": "Non-stop flight service",
         "opacity": 0.6,
         "text": [
          "service",
          "board",
          "ride",
          "nonstop",
          "recovery",
          "guest",
          "stop",
          "close",
          "app",
          "station_town"
         ],
         "textposition": "bottom center",
         "type": "scatter",
         "x": [
          0.40823090076446533,
          0.2515793740749359,
          0.1018996611237526,
          0.049736060202121735,
          0.018057607114315033,
          1.725124820950441e-05,
          1.718838029773906e-05,
          1.7188194760819897e-05,
          1.7161821233457886e-05,
          1.7148411643574946e-05
         ],
         "y": [
          68,
          23,
          9,
          32,
          1,
          4,
          36,
          3,
          5,
          0
         ]
        },
        {
         "marker": {
          "size": [
           0.32557300126330985,
           0.41526800216567405,
           0.06442880346507851,
           0.05793178126691933,
           0.11857065511640498,
           0.06749684172532033,
           0.06442880346507851,
           0.054502797329001984,
           0.08464176141490706,
           0.0624436022378632
          ],
          "sizemin": 4,
          "sizemode": "area",
          "sizeref": 0.0005190850027070925
         },
         "mode": "markers+text",
         "name": "Promotional campaign via travel suggestions",
         "opacity": 0.6,
         "text": [
          "day",
          "fly",
          "bring",
          "live",
          "week",
          "dream",
          "long",
          "life",
          "wish",
          "schedule"
         ],
         "textposition": "bottom center",
         "type": "scatter",
         "x": [
          0.23348550498485565,
          0.21779359877109528,
          0.08051382750272751,
          0.06355810910463333,
          0.05498282238841057,
          0.054656822234392166,
          0.04159459471702576,
          0.033947039395570755,
          0.031264036893844604,
          0.030869731679558754
         ],
         "y": [
          1804,
          2301,
          357,
          321,
          657,
          374,
          357,
          302,
          469,
          346
         ]
        },
        {
         "marker": {
          "size": [
           0.4155176736024066,
           0.19240411130609175,
           0.18413136124341942,
           0.09325645525194284,
           0.02080721985460015,
           0.040862371521684634,
           0.0008774128854349461,
           0.04224116319879669,
           0.06430183003258962,
           0.026071697167209827
          ],
          "sizemin": 4,
          "sizemode": "area",
          "sizeref": 0.0005193970920030083
         },
         "mode": "markers+text",
         "name": "Best/lowest/discounted fares",
         "opacity": 0.6,
         "text": [
          "book",
          "destination",
          "ticket",
          "read",
          "super",
          "favourite",
          "well",
          "month",
          "sky",
          "history"
         ],
         "textposition": "bottom center",
         "type": "scatter",
         "x": [
          0.2523840367794037,
          0.13223160803318024,
          0.07124517112970352,
          0.05926937982439995,
          0.040871258825063705,
          0.03331368416547775,
          0.03305402025580406,
          0.031155485659837723,
          0.02663012221455574,
          0.02607482299208641
         ],
         "y": [
          3315,
          1535,
          1469,
          744,
          166,
          326,
          7,
          337,
          513,
          208
         ]
        },
        {
         "marker": {
          "size": [
           0.40466161190676775,
           0.10221847795563044,
           0.16090985678180286,
           0.07525975849480483,
           0.07385565852288684,
           0.07778713844425723,
           0.02639707947205841,
           0.05532153889356922,
           0.05728727885425442,
           0.012917719741645605
          ],
          "sizemin": 4,
          "sizemode": "area",
          "sizeref": 0.0005058270148834597
         },
         "mode": "markers+text",
         "name": "Airline growth (i.e. new routes, aircraft, offerings)",
         "opacity": 0.6,
         "text": [
          "new",
          "good",
          "plan",
          "join",
          "deal",
          "follow",
          "final",
          "enter",
          "sure",
          "delivery"
         ],
         "textposition": "bottom center",
         "type": "scatter",
         "x": [
          0.25413778424263,
          0.18208633363246918,
          0.07936660945415497,
          0.058699194341897964,
          0.04856713116168976,
          0.04490608349442482,
          0.04025956243276596,
          0.031705208122730255,
          0.02783607505261898,
          0.02626124396920204
         ],
         "y": [
          1441,
          364,
          573,
          268,
          263,
          277,
          94,
          197,
          204,
          46
         ]
        },
        {
         "marker": {
          "size": [
           0.3839452395768513,
           0.23771001866832608,
           0.09956440572495333,
           0.12196639701306783,
           0.0777846919726198,
           0.09520846297448662,
           0.13690105787181084,
           0.09023024268823895,
           0.03298070939639079,
           0.08462974486621033
          ],
          "sizemin": 4,
          "sizemode": "area",
          "sizeref": 0.0004799315494710641
         },
         "mode": "markers+text",
         "name": "Scenic/peaceful travel destinations",
         "opacity": 0.6,
         "text": [
          "time",
          "know",
          "night",
          "beautiful",
          "moment",
          "stay",
          "hour",
          "away",
          "drop",
          "departure"
         ],
         "textposition": "bottom center",
         "type": "scatter",
         "x": [
          0.3153640031814575,
          0.1545713096857071,
          0.11584147810935974,
          0.053024157881736755,
          0.0506417416036129,
          0.046852875500917435,
          0.03563310578465462,
          0.030998092144727707,
          0.024911195039749146,
          0.02169339917600155
         ],
         "y": [
          617,
          382,
          160,
          196,
          125,
          153,
          220,
          145,
          53,
          136
         ]
        },
        {
         "marker": {
          "size": [
           0.19047619047619047,
           0.4021164021164021,
           0.23809523809523808,
           0.31216931216931215,
           0.21164021164021163,
           0.13756613756613756,
           0.1164021164021164,
           0.12169312169312169,
           0.07407407407407407,
           0.010582010582010581
          ],
          "sizemin": 4,
          "sizemode": "area",
          "sizeref": 0.0005026455026455026
         },
         "mode": "markers+text",
         "name": "Flight seating (i.e. group seating, upgrades)",
         "opacity": 0.6,
         "text": [
          "ready",
          "thank",
          "way",
          "seat",
          "choose",
          "leave",
          "hand",
          "nice",
          "go",
          "amaze"
         ],
         "textposition": "bottom center",
         "type": "scatter",
         "x": [
          0.33228129148483276,
          0.19158732891082764,
          0.12828122079372406,
          0.12753261625766754,
          0.07037659734487534,
          0.04302248731255531,
          0.02680174447596073,
          0.010415175929665565,
          7.142111371649662e-06,
          7.126466698537115e-06
         ],
         "y": [
          36,
          76,
          45,
          59,
          40,
          26,
          22,
          23,
          14,
          2
         ]
        },
        {
         "marker": {
          "size": [
           0.7920511000709723,
           0.0262597586941093,
           0.21788502484031227,
           0.05961674946770759,
           0.149041873669269,
           0.04187366926898509,
           0.11994322214336409,
           0.046132008516678494,
           0.0511000709723208,
           0.028388928317955996
          ],
          "sizemin": 4,
          "sizemode": "area",
          "sizeref": 0.0009900638750887155
         },
         "mode": "markers+text",
         "name": "Travel alerts and advisories",
         "opacity": 0.6,
         "text": [
          "travel",
          "minute",
          "detail",
          "ensure",
          "online",
          "result",
          "mile",
          "send",
          "smile",
          "delay"
         ],
         "textposition": "bottom center",
         "type": "scatter",
         "x": [
          0.5824695229530334,
          0.08615253865718842,
          0.051735538989305496,
          0.04931328445672989,
          0.037016529589891434,
          0.0331549197435379,
          0.03282887488603592,
          0.01609226129949093,
          0.014481930993497372,
          0.009485814720392227
         ],
         "y": [
          1116,
          37,
          307,
          84,
          210,
          59,
          169,
          65,
          72,
          40
         ]
        },
        {
         "marker": {
          "size": [
           0.3025936599423631,
           0.16714697406340057,
           0.14661383285302593,
           0.12788184438040345,
           0.14697406340057637,
           0.07024495677233429,
           0.14229106628242075,
           0.050072046109510084,
           0.052953890489913544,
           0.06412103746397695
          ],
          "sizemin": 4,
          "sizemode": "area",
          "sizeref": 0.00037824207492795386
         },
         "mode": "markers+text",
         "name": "Visit our website for more info",
         "opacity": 0.6,
         "text": [
          "visit",
          "enjoy",
          "airport",
          "take",
          "love",
          "soon",
          "information",
          "operation",
          "announce",
          "spot"
         ],
         "textposition": "bottom center",
         "type": "scatter",
         "x": [
          0.17819194495677948,
          0.17497293651103973,
          0.13314247131347656,
          0.10868285596370697,
          0.05899537354707718,
          0.03832729533314705,
          0.03594980016350746,
          0.03387351334095001,
          0.033212810754776,
          0.03255634754896164
         ],
         "y": [
          840,
          464,
          407,
          355,
          408,
          195,
          395,
          139,
          147,
          178
         ]
        },
        {
         "marker": {
          "size": [
           0.267186067827681,
           0.19019248395967003,
           0.17369385884509625,
           0.1860678276810266,
           0.12694775435380384,
           0.045829514207149404,
           0.10494958753437214,
           0.04995417048579285,
           0.13336388634280477,
           0.10128322639780019
          ],
          "sizemin": 4,
          "sizemode": "area",
          "sizeref": 0.00033398258478460125
         },
         "mode": "markers+text",
         "name": "Tips for comfortable travel experience",
         "opacity": 0.6,
         "text": [
          "check",
          "experience",
          "airline",
          "trip",
          "discover",
          "baggage",
          "holiday",
          "begin",
          "update",
          "late"
         ],
         "textposition": "bottom center",
         "type": "scatter",
         "x": [
          0.19022227823734283,
          0.1695595681667328,
          0.13400349020957947,
          0.09794465452432632,
          0.06920313090085983,
          0.05772538483142853,
          0.051043733954429626,
          0.048340633511543274,
          0.04306020960211754,
          0.03784078359603882
         ],
         "y": [
          583,
          415,
          379,
          406,
          277,
          100,
          229,
          109,
          291,
          221
         ]
        }
       ],
       "layout": {
        "legend": {
         "itemsizing": "constant",
         "title": {
          "text": "   <b>Topic</b>"
         }
        },
        "margin": {
         "b": 0,
         "l": 20,
         "r": 0,
         "t": 15
        },
        "template": {
         "data": {
          "bar": [
           {
            "error_x": {
             "color": "#2a3f5f"
            },
            "error_y": {
             "color": "#2a3f5f"
            },
            "marker": {
             "line": {
              "color": "#E5ECF6",
              "width": 0.5
             },
             "pattern": {
              "fillmode": "overlay",
              "size": 10,
              "solidity": 0.2
             }
            },
            "type": "bar"
           }
          ],
          "barpolar": [
           {
            "marker": {
             "line": {
              "color": "#E5ECF6",
              "width": 0.5
             },
             "pattern": {
              "fillmode": "overlay",
              "size": 10,
              "solidity": 0.2
             }
            },
            "type": "barpolar"
           }
          ],
          "carpet": [
           {
            "aaxis": {
             "endlinecolor": "#2a3f5f",
             "gridcolor": "white",
             "linecolor": "white",
             "minorgridcolor": "white",
             "startlinecolor": "#2a3f5f"
            },
            "baxis": {
             "endlinecolor": "#2a3f5f",
             "gridcolor": "white",
             "linecolor": "white",
             "minorgridcolor": "white",
             "startlinecolor": "#2a3f5f"
            },
            "type": "carpet"
           }
          ],
          "choropleth": [
           {
            "colorbar": {
             "outlinewidth": 0,
             "ticks": ""
            },
            "type": "choropleth"
           }
          ],
          "contour": [
           {
            "colorbar": {
             "outlinewidth": 0,
             "ticks": ""
            },
            "colorscale": [
             [
              0,
              "#0d0887"
             ],
             [
              0.1111111111111111,
              "#46039f"
             ],
             [
              0.2222222222222222,
              "#7201a8"
             ],
             [
              0.3333333333333333,
              "#9c179e"
             ],
             [
              0.4444444444444444,
              "#bd3786"
             ],
             [
              0.5555555555555556,
              "#d8576b"
             ],
             [
              0.6666666666666666,
              "#ed7953"
             ],
             [
              0.7777777777777778,
              "#fb9f3a"
             ],
             [
              0.8888888888888888,
              "#fdca26"
             ],
             [
              1,
              "#f0f921"
             ]
            ],
            "type": "contour"
           }
          ],
          "contourcarpet": [
           {
            "colorbar": {
             "outlinewidth": 0,
             "ticks": ""
            },
            "type": "contourcarpet"
           }
          ],
          "heatmap": [
           {
            "colorbar": {
             "outlinewidth": 0,
             "ticks": ""
            },
            "colorscale": [
             [
              0,
              "#0d0887"
             ],
             [
              0.1111111111111111,
              "#46039f"
             ],
             [
              0.2222222222222222,
              "#7201a8"
             ],
             [
              0.3333333333333333,
              "#9c179e"
             ],
             [
              0.4444444444444444,
              "#bd3786"
             ],
             [
              0.5555555555555556,
              "#d8576b"
             ],
             [
              0.6666666666666666,
              "#ed7953"
             ],
             [
              0.7777777777777778,
              "#fb9f3a"
             ],
             [
              0.8888888888888888,
              "#fdca26"
             ],
             [
              1,
              "#f0f921"
             ]
            ],
            "type": "heatmap"
           }
          ],
          "heatmapgl": [
           {
            "colorbar": {
             "outlinewidth": 0,
             "ticks": ""
            },
            "colorscale": [
             [
              0,
              "#0d0887"
             ],
             [
              0.1111111111111111,
              "#46039f"
             ],
             [
              0.2222222222222222,
              "#7201a8"
             ],
             [
              0.3333333333333333,
              "#9c179e"
             ],
             [
              0.4444444444444444,
              "#bd3786"
             ],
             [
              0.5555555555555556,
              "#d8576b"
             ],
             [
              0.6666666666666666,
              "#ed7953"
             ],
             [
              0.7777777777777778,
              "#fb9f3a"
             ],
             [
              0.8888888888888888,
              "#fdca26"
             ],
             [
              1,
              "#f0f921"
             ]
            ],
            "type": "heatmapgl"
           }
          ],
          "histogram": [
           {
            "marker": {
             "pattern": {
              "fillmode": "overlay",
              "size": 10,
              "solidity": 0.2
             }
            },
            "type": "histogram"
           }
          ],
          "histogram2d": [
           {
            "colorbar": {
             "outlinewidth": 0,
             "ticks": ""
            },
            "colorscale": [
             [
              0,
              "#0d0887"
             ],
             [
              0.1111111111111111,
              "#46039f"
             ],
             [
              0.2222222222222222,
              "#7201a8"
             ],
             [
              0.3333333333333333,
              "#9c179e"
             ],
             [
              0.4444444444444444,
              "#bd3786"
             ],
             [
              0.5555555555555556,
              "#d8576b"
             ],
             [
              0.6666666666666666,
              "#ed7953"
             ],
             [
              0.7777777777777778,
              "#fb9f3a"
             ],
             [
              0.8888888888888888,
              "#fdca26"
             ],
             [
              1,
              "#f0f921"
             ]
            ],
            "type": "histogram2d"
           }
          ],
          "histogram2dcontour": [
           {
            "colorbar": {
             "outlinewidth": 0,
             "ticks": ""
            },
            "colorscale": [
             [
              0,
              "#0d0887"
             ],
             [
              0.1111111111111111,
              "#46039f"
             ],
             [
              0.2222222222222222,
              "#7201a8"
             ],
             [
              0.3333333333333333,
              "#9c179e"
             ],
             [
              0.4444444444444444,
              "#bd3786"
             ],
             [
              0.5555555555555556,
              "#d8576b"
             ],
             [
              0.6666666666666666,
              "#ed7953"
             ],
             [
              0.7777777777777778,
              "#fb9f3a"
             ],
             [
              0.8888888888888888,
              "#fdca26"
             ],
             [
              1,
              "#f0f921"
             ]
            ],
            "type": "histogram2dcontour"
           }
          ],
          "mesh3d": [
           {
            "colorbar": {
             "outlinewidth": 0,
             "ticks": ""
            },
            "type": "mesh3d"
           }
          ],
          "parcoords": [
           {
            "line": {
             "colorbar": {
              "outlinewidth": 0,
              "ticks": ""
             }
            },
            "type": "parcoords"
           }
          ],
          "pie": [
           {
            "automargin": true,
            "type": "pie"
           }
          ],
          "scatter": [
           {
            "fillpattern": {
             "fillmode": "overlay",
             "size": 10,
             "solidity": 0.2
            },
            "type": "scatter"
           }
          ],
          "scatter3d": [
           {
            "line": {
             "colorbar": {
              "outlinewidth": 0,
              "ticks": ""
             }
            },
            "marker": {
             "colorbar": {
              "outlinewidth": 0,
              "ticks": ""
             }
            },
            "type": "scatter3d"
           }
          ],
          "scattercarpet": [
           {
            "marker": {
             "colorbar": {
              "outlinewidth": 0,
              "ticks": ""
             }
            },
            "type": "scattercarpet"
           }
          ],
          "scattergeo": [
           {
            "marker": {
             "colorbar": {
              "outlinewidth": 0,
              "ticks": ""
             }
            },
            "type": "scattergeo"
           }
          ],
          "scattergl": [
           {
            "marker": {
             "colorbar": {
              "outlinewidth": 0,
              "ticks": ""
             }
            },
            "type": "scattergl"
           }
          ],
          "scattermapbox": [
           {
            "marker": {
             "colorbar": {
              "outlinewidth": 0,
              "ticks": ""
             }
            },
            "type": "scattermapbox"
           }
          ],
          "scatterpolar": [
           {
            "marker": {
             "colorbar": {
              "outlinewidth": 0,
              "ticks": ""
             }
            },
            "type": "scatterpolar"
           }
          ],
          "scatterpolargl": [
           {
            "marker": {
             "colorbar": {
              "outlinewidth": 0,
              "ticks": ""
             }
            },
            "type": "scatterpolargl"
           }
          ],
          "scatterternary": [
           {
            "marker": {
             "colorbar": {
              "outlinewidth": 0,
              "ticks": ""
             }
            },
            "type": "scatterternary"
           }
          ],
          "surface": [
           {
            "colorbar": {
             "outlinewidth": 0,
             "ticks": ""
            },
            "colorscale": [
             [
              0,
              "#0d0887"
             ],
             [
              0.1111111111111111,
              "#46039f"
             ],
             [
              0.2222222222222222,
              "#7201a8"
             ],
             [
              0.3333333333333333,
              "#9c179e"
             ],
             [
              0.4444444444444444,
              "#bd3786"
             ],
             [
              0.5555555555555556,
              "#d8576b"
             ],
             [
              0.6666666666666666,
              "#ed7953"
             ],
             [
              0.7777777777777778,
              "#fb9f3a"
             ],
             [
              0.8888888888888888,
              "#fdca26"
             ],
             [
              1,
              "#f0f921"
             ]
            ],
            "type": "surface"
           }
          ],
          "table": [
           {
            "cells": {
             "fill": {
              "color": "#EBF0F8"
             },
             "line": {
              "color": "white"
             }
            },
            "header": {
             "fill": {
              "color": "#C8D4E3"
             },
             "line": {
              "color": "white"
             }
            },
            "type": "table"
           }
          ]
         },
         "layout": {
          "annotationdefaults": {
           "arrowcolor": "#2a3f5f",
           "arrowhead": 0,
           "arrowwidth": 1
          },
          "autotypenumbers": "strict",
          "coloraxis": {
           "colorbar": {
            "outlinewidth": 0,
            "ticks": ""
           }
          },
          "colorscale": {
           "diverging": [
            [
             0,
             "#8e0152"
            ],
            [
             0.1,
             "#c51b7d"
            ],
            [
             0.2,
             "#de77ae"
            ],
            [
             0.3,
             "#f1b6da"
            ],
            [
             0.4,
             "#fde0ef"
            ],
            [
             0.5,
             "#f7f7f7"
            ],
            [
             0.6,
             "#e6f5d0"
            ],
            [
             0.7,
             "#b8e186"
            ],
            [
             0.8,
             "#7fbc41"
            ],
            [
             0.9,
             "#4d9221"
            ],
            [
             1,
             "#276419"
            ]
           ],
           "sequential": [
            [
             0,
             "#0d0887"
            ],
            [
             0.1111111111111111,
             "#46039f"
            ],
            [
             0.2222222222222222,
             "#7201a8"
            ],
            [
             0.3333333333333333,
             "#9c179e"
            ],
            [
             0.4444444444444444,
             "#bd3786"
            ],
            [
             0.5555555555555556,
             "#d8576b"
            ],
            [
             0.6666666666666666,
             "#ed7953"
            ],
            [
             0.7777777777777778,
             "#fb9f3a"
            ],
            [
             0.8888888888888888,
             "#fdca26"
            ],
            [
             1,
             "#f0f921"
            ]
           ],
           "sequentialminus": [
            [
             0,
             "#0d0887"
            ],
            [
             0.1111111111111111,
             "#46039f"
            ],
            [
             0.2222222222222222,
             "#7201a8"
            ],
            [
             0.3333333333333333,
             "#9c179e"
            ],
            [
             0.4444444444444444,
             "#bd3786"
            ],
            [
             0.5555555555555556,
             "#d8576b"
            ],
            [
             0.6666666666666666,
             "#ed7953"
            ],
            [
             0.7777777777777778,
             "#fb9f3a"
            ],
            [
             0.8888888888888888,
             "#fdca26"
            ],
            [
             1,
             "#f0f921"
            ]
           ]
          },
          "colorway": [
           "#636efa",
           "#EF553B",
           "#00cc96",
           "#ab63fa",
           "#FFA15A",
           "#19d3f3",
           "#FF6692",
           "#B6E880",
           "#FF97FF",
           "#FECB52"
          ],
          "font": {
           "color": "#2a3f5f"
          },
          "geo": {
           "bgcolor": "white",
           "lakecolor": "white",
           "landcolor": "#E5ECF6",
           "showlakes": true,
           "showland": true,
           "subunitcolor": "white"
          },
          "hoverlabel": {
           "align": "left"
          },
          "hovermode": "closest",
          "mapbox": {
           "style": "light"
          },
          "paper_bgcolor": "white",
          "plot_bgcolor": "#E5ECF6",
          "polar": {
           "angularaxis": {
            "gridcolor": "white",
            "linecolor": "white",
            "ticks": ""
           },
           "bgcolor": "#E5ECF6",
           "radialaxis": {
            "gridcolor": "white",
            "linecolor": "white",
            "ticks": ""
           }
          },
          "scene": {
           "xaxis": {
            "backgroundcolor": "#E5ECF6",
            "gridcolor": "white",
            "gridwidth": 2,
            "linecolor": "white",
            "showbackground": true,
            "ticks": "",
            "zerolinecolor": "white"
           },
           "yaxis": {
            "backgroundcolor": "#E5ECF6",
            "gridcolor": "white",
            "gridwidth": 2,
            "linecolor": "white",
            "showbackground": true,
            "ticks": "",
            "zerolinecolor": "white"
           },
           "zaxis": {
            "backgroundcolor": "#E5ECF6",
            "gridcolor": "white",
            "gridwidth": 2,
            "linecolor": "white",
            "showbackground": true,
            "ticks": "",
            "zerolinecolor": "white"
           }
          },
          "shapedefaults": {
           "line": {
            "color": "#2a3f5f"
           }
          },
          "ternary": {
           "aaxis": {
            "gridcolor": "white",
            "linecolor": "white",
            "ticks": ""
           },
           "baxis": {
            "gridcolor": "white",
            "linecolor": "white",
            "ticks": ""
           },
           "bgcolor": "#E5ECF6",
           "caxis": {
            "gridcolor": "white",
            "linecolor": "white",
            "ticks": ""
           }
          },
          "title": {
           "x": 0.05
          },
          "xaxis": {
           "automargin": true,
           "gridcolor": "white",
           "linecolor": "white",
           "ticks": "",
           "title": {
            "standoff": 15
           },
           "zerolinecolor": "white",
           "zerolinewidth": 2
          },
          "yaxis": {
           "automargin": true,
           "gridcolor": "white",
           "linecolor": "white",
           "ticks": "",
           "title": {
            "standoff": 15
           },
           "zerolinecolor": "white",
           "zerolinewidth": 2
          }
         }
        },
        "xaxis": {
         "title": {
          "text": "Keyword Importance (to topic)"
         }
        },
        "yaxis": {
         "title": {
          "text": "Tweet Count"
         }
        }
       }
      },
      "text/html": [
       "<div>                            <div id=\"1dc676e2-a4dd-49c8-b855-0df0c66c1ccc\" class=\"plotly-graph-div\" style=\"height:525px; width:100%;\"></div>            <script type=\"text/javascript\">                require([\"plotly\"], function(Plotly) {                    window.PLOTLYENV=window.PLOTLYENV || {};                                    if (document.getElementById(\"1dc676e2-a4dd-49c8-b855-0df0c66c1ccc\")) {                    Plotly.newPlot(                        \"1dc676e2-a4dd-49c8-b855-0df0c66c1ccc\",                        [{\"marker\":{\"size\":[0.2108859029833751,0.15349578683671145,0.15896151218401275,0.04144841721703484,0.12525620587565475,0.09519471646549761,0.1503074470507857,0.059895240264176725,0.10475973582327489,0.09724436347073559],\"sizemin\":4,\"sizemode\":\"area\",\"sizeref\":0.00026360737872921884},\"mode\":\"markers+text\",\"name\":\"Charitable work, raising awareness\",\"opacity\":0.6,\"text\":[\"world\",\"learn\",\"come\",\"food\",\"team\",\"support\",\"help\",\"big\",\"proud\",\"want\"],\"textposition\":\"bottom center\",\"x\":[0.19042131304740906,0.09732813388109207,0.09181763976812363,0.0732438862323761,0.07082495838403702,0.06099797040224075,0.058327335864305496,0.055520545691251755,0.04210062697529793,0.04137389361858368],\"y\":[926.0,674.0,698.0,182.0,550.0,418.0,660.0,263.0,460.0,427.0],\"type\":\"scatter\"},{\"marker\":{\"size\":[0.3965351299326275,0.10779595765158806,0.1482194417709336,0.023099133782483156,0.2107795957651588,0.17805582290664101,0.04619826756496631,0.0933589990375361,0.12319538017324351,0.0548604427333975],\"sizemin\":4,\"sizemode\":\"area\",\"sizeref\":0.0004956689124157844},\"mode\":\"markers+text\",\"name\":\"Future-forward campaigns (i.e. aviation, sustainability)\",\"opacity\":0.6,\"text\":[\"today\",\"excite\",\"journey\",\"fantastic\",\"share\",\"customer\",\"introduce\",\"head\",\"future\",\"extra\"],\"textposition\":\"bottom center\",\"x\":[0.3071032166481018,0.12432558089494705,0.09821414947509766,0.09047558903694153,0.08342079818248749,0.04499947279691696,0.03830348327755928,0.035837214440107346,0.034514617174863815,0.023104198276996613],\"y\":[412.0,112.0,154.0,24.0,219.0,185.0,48.0,97.0,128.0,57.0],\"type\":\"scatter\"},{\"marker\":{\"size\":[0.19710669077757687,0.15009041591320071,0.189873417721519,0.24502712477396021,0.017179023508137433,0.03887884267631103,0.11844484629294756,0.05605786618444846,0.02531645569620253,0.02802893309222423],\"sizemin\":4,\"sizemode\":\"area\",\"sizeref\":0.0003062839059674503},\"mode\":\"markers+text\",\"name\":\"Travel spots with the best views\",\"opacity\":0.6,\"text\":[\"look\",\"work\",\"great\",\"view\",\"activity\",\"connect\",\"guess\",\"tomorrow\",\"easy\",\"early\"],\"textposition\":\"bottom center\",\"x\":[0.1532026082277298,0.12454503029584885,0.11216048151254654,0.11136724799871445,0.09956653416156769,0.05610113590955734,0.038844481110572815,0.035732705146074295,0.035532381385564804,0.03312287852168083],\"y\":[218.0,166.0,210.0,271.0,19.0,43.0,131.0,62.0,28.0,31.0],\"type\":\"scatter\"},{\"marker\":{\"size\":[0.20461538461538462,0.28615384615384615,0.07487179487179488,0.16512820512820514,0.09487179487179487,0.03794871794871795,0.07179487179487179,0.05179487179487179,0.18461538461538463,0.04461538461538461],\"sizemin\":4,\"sizemode\":\"area\",\"sizeref\":0.00035769230769230767},\"mode\":\"markers+text\",\"name\":\"Campaign with a contest\",\"opacity\":0.6,\"text\":[\"happy\",\"win\",\"use\",\"get\",\"instagram\",\"info\",\"feature\",\"stand\",\"chance\",\"participate\"],\"textposition\":\"bottom center\",\"x\":[0.14614354074001312,0.11258896440267563,0.10129288583993912,0.083621084690094,0.05149851739406586,0.04650864750146866,0.043379779905080795,0.04093443974852562,0.03744427487254143,0.03226611018180847],\"y\":[399.0,558.0,146.0,322.0,185.0,74.0,140.0,101.0,360.0,87.0],\"type\":\"scatter\"},{\"marker\":{\"size\":[0.8831168831168831,0.2987012987012987,0.11688311688311688,0.4155844155844156,0.012987012987012988,0.05194805194805195,0.4675324675324675,0.03896103896103896,0.06493506493506493,0.0],\"sizemin\":4,\"sizemode\":\"area\",\"sizeref\":0.0011038961038961038},\"mode\":\"markers+text\",\"name\":\"Non-stop flight service\",\"opacity\":0.6,\"text\":[\"service\",\"board\",\"ride\",\"nonstop\",\"recovery\",\"guest\",\"stop\",\"close\",\"app\",\"station_town\"],\"textposition\":\"bottom center\",\"x\":[0.40823090076446533,0.2515793740749359,0.1018996611237526,0.049736060202121735,0.018057607114315033,1.725124820950441e-05,1.718838029773906e-05,1.7188194760819897e-05,1.7161821233457886e-05,1.7148411643574946e-05],\"y\":[68.0,23.0,9.0,32.0,1.0,4.0,36.0,3.0,5.0,0.0],\"type\":\"scatter\"},{\"marker\":{\"size\":[0.32557300126330985,0.41526800216567405,0.06442880346507851,0.05793178126691933,0.11857065511640498,0.06749684172532033,0.06442880346507851,0.054502797329001984,0.08464176141490706,0.0624436022378632],\"sizemin\":4,\"sizemode\":\"area\",\"sizeref\":0.0005190850027070925},\"mode\":\"markers+text\",\"name\":\"Promotional campaign via travel suggestions\",\"opacity\":0.6,\"text\":[\"day\",\"fly\",\"bring\",\"live\",\"week\",\"dream\",\"long\",\"life\",\"wish\",\"schedule\"],\"textposition\":\"bottom center\",\"x\":[0.23348550498485565,0.21779359877109528,0.08051382750272751,0.06355810910463333,0.05498282238841057,0.054656822234392166,0.04159459471702576,0.033947039395570755,0.031264036893844604,0.030869731679558754],\"y\":[1804.0,2301.0,357.0,321.0,657.0,374.0,357.0,302.0,469.0,346.0],\"type\":\"scatter\"},{\"marker\":{\"size\":[0.4155176736024066,0.19240411130609175,0.18413136124341942,0.09325645525194284,0.02080721985460015,0.040862371521684634,0.0008774128854349461,0.04224116319879669,0.06430183003258962,0.026071697167209827],\"sizemin\":4,\"sizemode\":\"area\",\"sizeref\":0.0005193970920030083},\"mode\":\"markers+text\",\"name\":\"Best/lowest/discounted fares\",\"opacity\":0.6,\"text\":[\"book\",\"destination\",\"ticket\",\"read\",\"super\",\"favourite\",\"well\",\"month\",\"sky\",\"history\"],\"textposition\":\"bottom center\",\"x\":[0.2523840367794037,0.13223160803318024,0.07124517112970352,0.05926937982439995,0.040871258825063705,0.03331368416547775,0.03305402025580406,0.031155485659837723,0.02663012221455574,0.02607482299208641],\"y\":[3315.0,1535.0,1469.0,744.0,166.0,326.0,7.0,337.0,513.0,208.0],\"type\":\"scatter\"},{\"marker\":{\"size\":[0.40466161190676775,0.10221847795563044,0.16090985678180286,0.07525975849480483,0.07385565852288684,0.07778713844425723,0.02639707947205841,0.05532153889356922,0.05728727885425442,0.012917719741645605],\"sizemin\":4,\"sizemode\":\"area\",\"sizeref\":0.0005058270148834597},\"mode\":\"markers+text\",\"name\":\"Airline growth (i.e. new routes, aircraft, offerings)\",\"opacity\":0.6,\"text\":[\"new\",\"good\",\"plan\",\"join\",\"deal\",\"follow\",\"final\",\"enter\",\"sure\",\"delivery\"],\"textposition\":\"bottom center\",\"x\":[0.25413778424263,0.18208633363246918,0.07936660945415497,0.058699194341897964,0.04856713116168976,0.04490608349442482,0.04025956243276596,0.031705208122730255,0.02783607505261898,0.02626124396920204],\"y\":[1441.0,364.0,573.0,268.0,263.0,277.0,94.0,197.0,204.0,46.0],\"type\":\"scatter\"},{\"marker\":{\"size\":[0.3839452395768513,0.23771001866832608,0.09956440572495333,0.12196639701306783,0.0777846919726198,0.09520846297448662,0.13690105787181084,0.09023024268823895,0.03298070939639079,0.08462974486621033],\"sizemin\":4,\"sizemode\":\"area\",\"sizeref\":0.0004799315494710641},\"mode\":\"markers+text\",\"name\":\"Scenic/peaceful travel destinations\",\"opacity\":0.6,\"text\":[\"time\",\"know\",\"night\",\"beautiful\",\"moment\",\"stay\",\"hour\",\"away\",\"drop\",\"departure\"],\"textposition\":\"bottom center\",\"x\":[0.3153640031814575,0.1545713096857071,0.11584147810935974,0.053024157881736755,0.0506417416036129,0.046852875500917435,0.03563310578465462,0.030998092144727707,0.024911195039749146,0.02169339917600155],\"y\":[617.0,382.0,160.0,196.0,125.0,153.0,220.0,145.0,53.0,136.0],\"type\":\"scatter\"},{\"marker\":{\"size\":[0.19047619047619047,0.4021164021164021,0.23809523809523808,0.31216931216931215,0.21164021164021163,0.13756613756613756,0.1164021164021164,0.12169312169312169,0.07407407407407407,0.010582010582010581],\"sizemin\":4,\"sizemode\":\"area\",\"sizeref\":0.0005026455026455026},\"mode\":\"markers+text\",\"name\":\"Flight seating (i.e. group seating, upgrades)\",\"opacity\":0.6,\"text\":[\"ready\",\"thank\",\"way\",\"seat\",\"choose\",\"leave\",\"hand\",\"nice\",\"go\",\"amaze\"],\"textposition\":\"bottom center\",\"x\":[0.33228129148483276,0.19158732891082764,0.12828122079372406,0.12753261625766754,0.07037659734487534,0.04302248731255531,0.02680174447596073,0.010415175929665565,7.142111371649662e-06,7.126466698537115e-06],\"y\":[36.0,76.0,45.0,59.0,40.0,26.0,22.0,23.0,14.0,2.0],\"type\":\"scatter\"},{\"marker\":{\"size\":[0.7920511000709723,0.0262597586941093,0.21788502484031227,0.05961674946770759,0.149041873669269,0.04187366926898509,0.11994322214336409,0.046132008516678494,0.0511000709723208,0.028388928317955996],\"sizemin\":4,\"sizemode\":\"area\",\"sizeref\":0.0009900638750887155},\"mode\":\"markers+text\",\"name\":\"Travel alerts and advisories\",\"opacity\":0.6,\"text\":[\"travel\",\"minute\",\"detail\",\"ensure\",\"online\",\"result\",\"mile\",\"send\",\"smile\",\"delay\"],\"textposition\":\"bottom center\",\"x\":[0.5824695229530334,0.08615253865718842,0.051735538989305496,0.04931328445672989,0.037016529589891434,0.0331549197435379,0.03282887488603592,0.01609226129949093,0.014481930993497372,0.009485814720392227],\"y\":[1116.0,37.0,307.0,84.0,210.0,59.0,169.0,65.0,72.0,40.0],\"type\":\"scatter\"},{\"marker\":{\"size\":[0.3025936599423631,0.16714697406340057,0.14661383285302593,0.12788184438040345,0.14697406340057637,0.07024495677233429,0.14229106628242075,0.050072046109510084,0.052953890489913544,0.06412103746397695],\"sizemin\":4,\"sizemode\":\"area\",\"sizeref\":0.00037824207492795386},\"mode\":\"markers+text\",\"name\":\"Visit our website for more info\",\"opacity\":0.6,\"text\":[\"visit\",\"enjoy\",\"airport\",\"take\",\"love\",\"soon\",\"information\",\"operation\",\"announce\",\"spot\"],\"textposition\":\"bottom center\",\"x\":[0.17819194495677948,0.17497293651103973,0.13314247131347656,0.10868285596370697,0.05899537354707718,0.03832729533314705,0.03594980016350746,0.03387351334095001,0.033212810754776,0.03255634754896164],\"y\":[840.0,464.0,407.0,355.0,408.0,195.0,395.0,139.0,147.0,178.0],\"type\":\"scatter\"},{\"marker\":{\"size\":[0.267186067827681,0.19019248395967003,0.17369385884509625,0.1860678276810266,0.12694775435380384,0.045829514207149404,0.10494958753437214,0.04995417048579285,0.13336388634280477,0.10128322639780019],\"sizemin\":4,\"sizemode\":\"area\",\"sizeref\":0.00033398258478460125},\"mode\":\"markers+text\",\"name\":\"Tips for comfortable travel experience\",\"opacity\":0.6,\"text\":[\"check\",\"experience\",\"airline\",\"trip\",\"discover\",\"baggage\",\"holiday\",\"begin\",\"update\",\"late\"],\"textposition\":\"bottom center\",\"x\":[0.19022227823734283,0.1695595681667328,0.13400349020957947,0.09794465452432632,0.06920313090085983,0.05772538483142853,0.051043733954429626,0.048340633511543274,0.04306020960211754,0.03784078359603882],\"y\":[583.0,415.0,379.0,406.0,277.0,100.0,229.0,109.0,291.0,221.0],\"type\":\"scatter\"}],                        {\"template\":{\"data\":{\"histogram2dcontour\":[{\"type\":\"histogram2dcontour\",\"colorbar\":{\"outlinewidth\":0,\"ticks\":\"\"},\"colorscale\":[[0.0,\"#0d0887\"],[0.1111111111111111,\"#46039f\"],[0.2222222222222222,\"#7201a8\"],[0.3333333333333333,\"#9c179e\"],[0.4444444444444444,\"#bd3786\"],[0.5555555555555556,\"#d8576b\"],[0.6666666666666666,\"#ed7953\"],[0.7777777777777778,\"#fb9f3a\"],[0.8888888888888888,\"#fdca26\"],[1.0,\"#f0f921\"]]}],\"choropleth\":[{\"type\":\"choropleth\",\"colorbar\":{\"outlinewidth\":0,\"ticks\":\"\"}}],\"histogram2d\":[{\"type\":\"histogram2d\",\"colorbar\":{\"outlinewidth\":0,\"ticks\":\"\"},\"colorscale\":[[0.0,\"#0d0887\"],[0.1111111111111111,\"#46039f\"],[0.2222222222222222,\"#7201a8\"],[0.3333333333333333,\"#9c179e\"],[0.4444444444444444,\"#bd3786\"],[0.5555555555555556,\"#d8576b\"],[0.6666666666666666,\"#ed7953\"],[0.7777777777777778,\"#fb9f3a\"],[0.8888888888888888,\"#fdca26\"],[1.0,\"#f0f921\"]]}],\"heatmap\":[{\"type\":\"heatmap\",\"colorbar\":{\"outlinewidth\":0,\"ticks\":\"\"},\"colorscale\":[[0.0,\"#0d0887\"],[0.1111111111111111,\"#46039f\"],[0.2222222222222222,\"#7201a8\"],[0.3333333333333333,\"#9c179e\"],[0.4444444444444444,\"#bd3786\"],[0.5555555555555556,\"#d8576b\"],[0.6666666666666666,\"#ed7953\"],[0.7777777777777778,\"#fb9f3a\"],[0.8888888888888888,\"#fdca26\"],[1.0,\"#f0f921\"]]}],\"heatmapgl\":[{\"type\":\"heatmapgl\",\"colorbar\":{\"outlinewidth\":0,\"ticks\":\"\"},\"colorscale\":[[0.0,\"#0d0887\"],[0.1111111111111111,\"#46039f\"],[0.2222222222222222,\"#7201a8\"],[0.3333333333333333,\"#9c179e\"],[0.4444444444444444,\"#bd3786\"],[0.5555555555555556,\"#d8576b\"],[0.6666666666666666,\"#ed7953\"],[0.7777777777777778,\"#fb9f3a\"],[0.8888888888888888,\"#fdca26\"],[1.0,\"#f0f921\"]]}],\"contourcarpet\":[{\"type\":\"contourcarpet\",\"colorbar\":{\"outlinewidth\":0,\"ticks\":\"\"}}],\"contour\":[{\"type\":\"contour\",\"colorbar\":{\"outlinewidth\":0,\"ticks\":\"\"},\"colorscale\":[[0.0,\"#0d0887\"],[0.1111111111111111,\"#46039f\"],[0.2222222222222222,\"#7201a8\"],[0.3333333333333333,\"#9c179e\"],[0.4444444444444444,\"#bd3786\"],[0.5555555555555556,\"#d8576b\"],[0.6666666666666666,\"#ed7953\"],[0.7777777777777778,\"#fb9f3a\"],[0.8888888888888888,\"#fdca26\"],[1.0,\"#f0f921\"]]}],\"surface\":[{\"type\":\"surface\",\"colorbar\":{\"outlinewidth\":0,\"ticks\":\"\"},\"colorscale\":[[0.0,\"#0d0887\"],[0.1111111111111111,\"#46039f\"],[0.2222222222222222,\"#7201a8\"],[0.3333333333333333,\"#9c179e\"],[0.4444444444444444,\"#bd3786\"],[0.5555555555555556,\"#d8576b\"],[0.6666666666666666,\"#ed7953\"],[0.7777777777777778,\"#fb9f3a\"],[0.8888888888888888,\"#fdca26\"],[1.0,\"#f0f921\"]]}],\"mesh3d\":[{\"type\":\"mesh3d\",\"colorbar\":{\"outlinewidth\":0,\"ticks\":\"\"}}],\"scatter\":[{\"fillpattern\":{\"fillmode\":\"overlay\",\"size\":10,\"solidity\":0.2},\"type\":\"scatter\"}],\"parcoords\":[{\"type\":\"parcoords\",\"line\":{\"colorbar\":{\"outlinewidth\":0,\"ticks\":\"\"}}}],\"scatterpolargl\":[{\"type\":\"scatterpolargl\",\"marker\":{\"colorbar\":{\"outlinewidth\":0,\"ticks\":\"\"}}}],\"bar\":[{\"error_x\":{\"color\":\"#2a3f5f\"},\"error_y\":{\"color\":\"#2a3f5f\"},\"marker\":{\"line\":{\"color\":\"#E5ECF6\",\"width\":0.5},\"pattern\":{\"fillmode\":\"overlay\",\"size\":10,\"solidity\":0.2}},\"type\":\"bar\"}],\"scattergeo\":[{\"type\":\"scattergeo\",\"marker\":{\"colorbar\":{\"outlinewidth\":0,\"ticks\":\"\"}}}],\"scatterpolar\":[{\"type\":\"scatterpolar\",\"marker\":{\"colorbar\":{\"outlinewidth\":0,\"ticks\":\"\"}}}],\"histogram\":[{\"marker\":{\"pattern\":{\"fillmode\":\"overlay\",\"size\":10,\"solidity\":0.2}},\"type\":\"histogram\"}],\"scattergl\":[{\"type\":\"scattergl\",\"marker\":{\"colorbar\":{\"outlinewidth\":0,\"ticks\":\"\"}}}],\"scatter3d\":[{\"type\":\"scatter3d\",\"line\":{\"colorbar\":{\"outlinewidth\":0,\"ticks\":\"\"}},\"marker\":{\"colorbar\":{\"outlinewidth\":0,\"ticks\":\"\"}}}],\"scattermapbox\":[{\"type\":\"scattermapbox\",\"marker\":{\"colorbar\":{\"outlinewidth\":0,\"ticks\":\"\"}}}],\"scatterternary\":[{\"type\":\"scatterternary\",\"marker\":{\"colorbar\":{\"outlinewidth\":0,\"ticks\":\"\"}}}],\"scattercarpet\":[{\"type\":\"scattercarpet\",\"marker\":{\"colorbar\":{\"outlinewidth\":0,\"ticks\":\"\"}}}],\"carpet\":[{\"aaxis\":{\"endlinecolor\":\"#2a3f5f\",\"gridcolor\":\"white\",\"linecolor\":\"white\",\"minorgridcolor\":\"white\",\"startlinecolor\":\"#2a3f5f\"},\"baxis\":{\"endlinecolor\":\"#2a3f5f\",\"gridcolor\":\"white\",\"linecolor\":\"white\",\"minorgridcolor\":\"white\",\"startlinecolor\":\"#2a3f5f\"},\"type\":\"carpet\"}],\"table\":[{\"cells\":{\"fill\":{\"color\":\"#EBF0F8\"},\"line\":{\"color\":\"white\"}},\"header\":{\"fill\":{\"color\":\"#C8D4E3\"},\"line\":{\"color\":\"white\"}},\"type\":\"table\"}],\"barpolar\":[{\"marker\":{\"line\":{\"color\":\"#E5ECF6\",\"width\":0.5},\"pattern\":{\"fillmode\":\"overlay\",\"size\":10,\"solidity\":0.2}},\"type\":\"barpolar\"}],\"pie\":[{\"automargin\":true,\"type\":\"pie\"}]},\"layout\":{\"autotypenumbers\":\"strict\",\"colorway\":[\"#636efa\",\"#EF553B\",\"#00cc96\",\"#ab63fa\",\"#FFA15A\",\"#19d3f3\",\"#FF6692\",\"#B6E880\",\"#FF97FF\",\"#FECB52\"],\"font\":{\"color\":\"#2a3f5f\"},\"hovermode\":\"closest\",\"hoverlabel\":{\"align\":\"left\"},\"paper_bgcolor\":\"white\",\"plot_bgcolor\":\"#E5ECF6\",\"polar\":{\"bgcolor\":\"#E5ECF6\",\"angularaxis\":{\"gridcolor\":\"white\",\"linecolor\":\"white\",\"ticks\":\"\"},\"radialaxis\":{\"gridcolor\":\"white\",\"linecolor\":\"white\",\"ticks\":\"\"}},\"ternary\":{\"bgcolor\":\"#E5ECF6\",\"aaxis\":{\"gridcolor\":\"white\",\"linecolor\":\"white\",\"ticks\":\"\"},\"baxis\":{\"gridcolor\":\"white\",\"linecolor\":\"white\",\"ticks\":\"\"},\"caxis\":{\"gridcolor\":\"white\",\"linecolor\":\"white\",\"ticks\":\"\"}},\"coloraxis\":{\"colorbar\":{\"outlinewidth\":0,\"ticks\":\"\"}},\"colorscale\":{\"sequential\":[[0.0,\"#0d0887\"],[0.1111111111111111,\"#46039f\"],[0.2222222222222222,\"#7201a8\"],[0.3333333333333333,\"#9c179e\"],[0.4444444444444444,\"#bd3786\"],[0.5555555555555556,\"#d8576b\"],[0.6666666666666666,\"#ed7953\"],[0.7777777777777778,\"#fb9f3a\"],[0.8888888888888888,\"#fdca26\"],[1.0,\"#f0f921\"]],\"sequentialminus\":[[0.0,\"#0d0887\"],[0.1111111111111111,\"#46039f\"],[0.2222222222222222,\"#7201a8\"],[0.3333333333333333,\"#9c179e\"],[0.4444444444444444,\"#bd3786\"],[0.5555555555555556,\"#d8576b\"],[0.6666666666666666,\"#ed7953\"],[0.7777777777777778,\"#fb9f3a\"],[0.8888888888888888,\"#fdca26\"],[1.0,\"#f0f921\"]],\"diverging\":[[0,\"#8e0152\"],[0.1,\"#c51b7d\"],[0.2,\"#de77ae\"],[0.3,\"#f1b6da\"],[0.4,\"#fde0ef\"],[0.5,\"#f7f7f7\"],[0.6,\"#e6f5d0\"],[0.7,\"#b8e186\"],[0.8,\"#7fbc41\"],[0.9,\"#4d9221\"],[1,\"#276419\"]]},\"xaxis\":{\"gridcolor\":\"white\",\"linecolor\":\"white\",\"ticks\":\"\",\"title\":{\"standoff\":15},\"zerolinecolor\":\"white\",\"automargin\":true,\"zerolinewidth\":2},\"yaxis\":{\"gridcolor\":\"white\",\"linecolor\":\"white\",\"ticks\":\"\",\"title\":{\"standoff\":15},\"zerolinecolor\":\"white\",\"automargin\":true,\"zerolinewidth\":2},\"scene\":{\"xaxis\":{\"backgroundcolor\":\"#E5ECF6\",\"gridcolor\":\"white\",\"linecolor\":\"white\",\"showbackground\":true,\"ticks\":\"\",\"zerolinecolor\":\"white\",\"gridwidth\":2},\"yaxis\":{\"backgroundcolor\":\"#E5ECF6\",\"gridcolor\":\"white\",\"linecolor\":\"white\",\"showbackground\":true,\"ticks\":\"\",\"zerolinecolor\":\"white\",\"gridwidth\":2},\"zaxis\":{\"backgroundcolor\":\"#E5ECF6\",\"gridcolor\":\"white\",\"linecolor\":\"white\",\"showbackground\":true,\"ticks\":\"\",\"zerolinecolor\":\"white\",\"gridwidth\":2}},\"shapedefaults\":{\"line\":{\"color\":\"#2a3f5f\"}},\"annotationdefaults\":{\"arrowcolor\":\"#2a3f5f\",\"arrowhead\":0,\"arrowwidth\":1},\"geo\":{\"bgcolor\":\"white\",\"landcolor\":\"#E5ECF6\",\"subunitcolor\":\"white\",\"showland\":true,\"showlakes\":true,\"lakecolor\":\"white\"},\"title\":{\"x\":0.05},\"mapbox\":{\"style\":\"light\"}}},\"margin\":{\"t\":15,\"b\":0,\"l\":20,\"r\":0},\"legend\":{\"title\":{\"text\":\"   <b>Topic</b>\"},\"itemsizing\":\"constant\"},\"yaxis\":{\"title\":{\"text\":\"Tweet Count\"}},\"xaxis\":{\"title\":{\"text\":\"Keyword Importance (to topic)\"}}},                        {\"responsive\": true}                    ).then(function(){\n",
       "                            \n",
       "var gd = document.getElementById('1dc676e2-a4dd-49c8-b855-0df0c66c1ccc');\n",
       "var x = new MutationObserver(function (mutations, observer) {{\n",
       "        var display = window.getComputedStyle(gd).display;\n",
       "        if (!display || display === 'none') {{\n",
       "            console.log([gd, 'removed!']);\n",
       "            Plotly.purge(gd);\n",
       "            observer.disconnect();\n",
       "        }}\n",
       "}});\n",
       "\n",
       "// Listen for the removal of the full notebook cells\n",
       "var notebookContainer = gd.closest('#notebook-container');\n",
       "if (notebookContainer) {{\n",
       "    x.observe(notebookContainer, {childList: true});\n",
       "}}\n",
       "\n",
       "// Listen for the clearing of the current output cell\n",
       "var outputEl = gd.closest('.output');\n",
       "if (outputEl) {{\n",
       "    x.observe(outputEl, {childList: true});\n",
       "}}\n",
       "\n",
       "                        })                };                });            </script>        </div>"
      ]
     },
     "metadata": {},
     "output_type": "display_data"
    }
   ],
   "source": [
    "fig = go.Figure(data=scatter_list)\n",
    "\n",
    "#     fig = go.Figure(data=[go.Scatter(\n",
    "#         x=topic_0['keyword_importance'].values.tolist(), \n",
    "#         y=topic_0['keyword_tweet_count_in_topic'].values.tolist(),\n",
    "#         mode='markers',\n",
    "#         marker=dict(\n",
    "#             size=topic_0['share_of_topic_tweets'].values.tolist(),\n",
    "#             sizemode='area',\n",
    "#             sizeref=2.*max(topic_0['share_of_topic_tweets'].values.tolist())/(40.**2),\n",
    "#             sizemin=4\n",
    "#         ),\n",
    "#         text=topic_0['topic_keyword'].values.tolist(),\n",
    "#         textposition='bottom center',\n",
    "#         name=topic_0['topic_name'].values.tolist()[0]\n",
    "#     )\n",
    "#     ])\n",
    "\n",
    "fig.update_layout(\n",
    "        margin=dict(t=15, \n",
    "                    b=0, \n",
    "                    l=20, \n",
    "                    r=0),\n",
    "        yaxis=dict(title='Tweet Count'),\n",
    "        xaxis=dict(title='Keyword Importance (to topic)'),\n",
    "        legend=dict(itemsizing='constant',\n",
    "                    title=dict(text='   <b>Topic</b>')),\n",
    "    )    \n",
    "\n",
    "fig.show()"
   ]
  },
  {
   "cell_type": "code",
   "execution_count": null,
   "id": "a60aacf4",
   "metadata": {},
   "outputs": [],
   "source": []
  },
  {
   "cell_type": "code",
   "execution_count": null,
   "id": "db721272",
   "metadata": {},
   "outputs": [],
   "source": []
  },
  {
   "cell_type": "code",
   "execution_count": null,
   "id": "d1546353",
   "metadata": {},
   "outputs": [],
   "source": []
  },
  {
   "cell_type": "code",
   "execution_count": null,
   "id": "a429727a-5f62-4b75-a32c-668a64d82c41",
   "metadata": {},
   "outputs": [],
   "source": []
  },
  {
   "cell_type": "code",
   "execution_count": null,
   "id": "9861a2b4-6424-463e-8c0e-6ebc847294fc",
   "metadata": {},
   "outputs": [],
   "source": []
  },
  {
   "cell_type": "markdown",
   "id": "195c39fa-dfe9-44c8-a554-3b300f7a30bb",
   "metadata": {},
   "source": [
    "### Appendix "
   ]
  },
  {
   "cell_type": "code",
   "execution_count": 2,
   "id": "940cab3e-ea40-431a-a3e3-d9200fc5937f",
   "metadata": {},
   "outputs": [],
   "source": [
    "def give_emoji_free_text(text):\n",
    "    return emoji.get_emoji_regexp().sub(r'', text.decode('utf8'))"
   ]
  },
  {
   "cell_type": "code",
   "execution_count": 3,
   "id": "8f4b1d2f-54a3-4c97-9f4e-745d7a6b13ef",
   "metadata": {},
   "outputs": [],
   "source": [
    "example_tweet = 'We hope everyone is enjoying their holiday season — we know this couple is! 🎁💍\\nhttps://t.co/EzAVQp4LZj'"
   ]
  },
  {
   "cell_type": "code",
   "execution_count": 12,
   "id": "20187c4a-1a32-4428-b1e3-d8cac903acf2",
   "metadata": {},
   "outputs": [
    {
     "data": {
      "text/plain": [
       "'We hope everyone is enjoying their holiday season — we know this couple is! \\nhttps://t.co/EzAVQp4LZj'"
      ]
     },
     "execution_count": 12,
     "metadata": {},
     "output_type": "execute_result"
    }
   ],
   "source": [
    "emoji.replace_emoji(example_tweet, '')"
   ]
  },
  {
   "cell_type": "code",
   "execution_count": 44,
   "id": "187742c2-cbbe-43d1-98e5-aecee456e72a",
   "metadata": {},
   "outputs": [
    {
     "data": {
      "text/plain": [
       "'RT @delightdoodahs: Cracking @easyJet flight from @EDI_Airport to Berlin this morning #lettheholidaysbegin https://t.co/rJJNXu9RO7'"
      ]
     },
     "execution_count": 44,
     "metadata": {},
     "output_type": "execute_result"
    }
   ],
   "source": [
    "full_df.iloc[0, :]['text']"
   ]
  },
  {
   "cell_type": "code",
   "execution_count": 56,
   "id": "7049b580-5487-494c-aa14-9aabf74b3efa",
   "metadata": {},
   "outputs": [
    {
     "data": {
      "text/plain": [
       "'RT @delightdoodahs: Cracking @easyJet flight from @EDI_Airport to Berlin this morning #lettheholidaysbegin https://t.co/rJJNXu9RO7'"
      ]
     },
     "execution_count": 56,
     "metadata": {},
     "output_type": "execute_result"
    }
   ],
   "source": [
    "tweet = full_df.iloc[0, :]['text']\n",
    "tweet"
   ]
  },
  {
   "cell_type": "code",
   "execution_count": 57,
   "id": "6e91ba4a-9a2c-49e1-9735-6cde078dbcf5",
   "metadata": {},
   "outputs": [
    {
     "data": {
      "text/plain": [
       "'RT @delightdoodahs: Cracking @easyJet flight from @EDI_Airport to Berlin this morning #lettheholidaysbegin https://t.co/rJJNXu9RO7'"
      ]
     },
     "execution_count": 57,
     "metadata": {},
     "output_type": "execute_result"
    }
   ],
   "source": [
    "# Removing emojis (not in project scope)\n",
    "tweet = emoji.replace_emoji(tweet, '')\n",
    "tweet"
   ]
  },
  {
   "cell_type": "code",
   "execution_count": 58,
   "id": "c08b5840-0149-430c-a363-1b71b684a5dc",
   "metadata": {},
   "outputs": [
    {
     "data": {
      "text/plain": [
       "'RT @delightdoodahs: Cracking @easyJet flight from @EDI_Airport to Berlin this morning #lettheholidaysbegin '"
      ]
     },
     "execution_count": 58,
     "metadata": {},
     "output_type": "execute_result"
    }
   ],
   "source": [
    "# Removing link related text\n",
    "link_related = [r'http', r'bit.ly/', r'pic.twitter']\n",
    "for link_to_clean in link_related:\n",
    "    tweet = re.sub(fr'{link_to_clean}\\S+', '', tweet)\n",
    "tweet = tweet.strip(\"[link]\")\n",
    "\n",
    "tweet"
   ]
  },
  {
   "cell_type": "code",
   "execution_count": 59,
   "id": "9b0c90a8-5a47-4c0b-bf2a-44f8649f2e00",
   "metadata": {},
   "outputs": [
    {
     "data": {
      "text/plain": [
       "': Cracking  flight from  to Berlin this morning  '"
      ]
     },
     "execution_count": 59,
     "metadata": {},
     "output_type": "execute_result"
    }
   ],
   "source": [
    "# Removing retweet, mention, or hashtag related text\n",
    "rt_mtn_hsh_related = [r'RT\\s@', r'@', r'#']\n",
    "for rt_mtn_hsh_to_clean in rt_mtn_hsh_related:\n",
    "    tweet = re.sub(fr'({rt_mtn_hsh_to_clean}[A-Za-z]+[A-Za-z0-9-_]+)', '', tweet)\n",
    "    \n",
    "tweet"
   ]
  },
  {
   "cell_type": "code",
   "execution_count": 60,
   "id": "d50474bc-0fe3-4105-a3c7-f95e3651a2e0",
   "metadata": {},
   "outputs": [
    {
     "data": {
      "text/plain": [
       "'  Cracking  flight from  to Berlin this morning  '"
      ]
     },
     "execution_count": 60,
     "metadata": {},
     "output_type": "execute_result"
    }
   ],
   "source": [
    "# Remove punctuation\n",
    "punctuation = '!”$%&\\’()*+,-./:;<=>?[\\\\]^_`{|}~•@'\n",
    "tweet = re.sub('[' + punctuation + ']+', ' ', tweet)\n",
    "tweet"
   ]
  },
  {
   "cell_type": "code",
   "execution_count": 62,
   "id": "a5e2d488-8ae5-460d-9179-92c35223e8a9",
   "metadata": {},
   "outputs": [
    {
     "data": {
      "text/plain": [
       "'Cracking flight from to Berlin this morning'"
      ]
     },
     "execution_count": 62,
     "metadata": {},
     "output_type": "execute_result"
    }
   ],
   "source": [
    "# Remove spaces and numbers\n",
    "tweet = re.sub('\\s+', ' ', tweet)\n",
    "tweet = re.sub('([0-9]+)', '', tweet)\n",
    "tweet = tweet.strip()\n",
    "\n",
    "tweet"
   ]
  },
  {
   "cell_type": "code",
   "execution_count": null,
   "id": "ec057eb4-ec97-410d-a27a-b8027ef89944",
   "metadata": {},
   "outputs": [],
   "source": []
  },
  {
   "cell_type": "code",
   "execution_count": null,
   "id": "a2c38829-91fa-4ed2-ac7f-1fa311c4c029",
   "metadata": {},
   "outputs": [],
   "source": []
  },
  {
   "cell_type": "code",
   "execution_count": 12,
   "id": "39022efb-9f9b-4cfa-bf1e-1e762c0abebe",
   "metadata": {},
   "outputs": [
    {
     "data": {
      "text/plain": [
       "'http\\\\S+'"
      ]
     },
     "execution_count": 12,
     "metadata": {},
     "output_type": "execute_result"
    }
   ],
   "source": [
    "example_str = r'http'\n",
    "fr'{example_str}\\S+'"
   ]
  },
  {
   "cell_type": "code",
   "execution_count": 5,
   "id": "bf27fe85-bca0-409d-b3f1-0bc2389156ba",
   "metadata": {},
   "outputs": [
    {
     "data": {
      "text/plain": [
       "'http\\\\S+'"
      ]
     },
     "execution_count": 5,
     "metadata": {},
     "output_type": "execute_result"
    }
   ],
   "source": [
    "r'http\\S+'"
   ]
  },
  {
   "cell_type": "code",
   "execution_count": null,
   "id": "b19a0b1f-2b18-4d3e-acf9-02a3f5426728",
   "metadata": {},
   "outputs": [],
   "source": [
    "# Source: https://pub.towardsai.net/tweet-topic-modeling-part-2-cleaning-and-preprocessing-tweets-e3a08a8b1770\n",
    "\n",
    "def remove_links(tweet):\n",
    "    \"\"\"Takes a string and removes web links from it\"\"\"\n",
    "    tweet = re.sub(r'http\\S+', '', tweet)   # remove http links\n",
    "    tweet = re.sub(r'bit.ly/\\S+', '', tweet)  # remove bitly links\n",
    "    tweet = tweet.strip('[link]')   # remove [links]\n",
    "    tweet = re.sub(r'pic.twitter\\S+','', tweet)\n",
    "    return tweet\n",
    "\n",
    "def remove_users(tweet):\n",
    "    \"\"\"Takes a string and removes retweet and @user information\"\"\"\n",
    "    tweet = re.sub('(RT\\s@[A-Za-z]+[A-Za-z0-9-_]+)', '', tweet)  # remove re-tweet\n",
    "    tweet = re.sub('(@[A-Za-z]+[A-Za-z0-9-_]+)', '', tweet)  # remove tweeted at\n",
    "    return tweet\n",
    "\n",
    "def remove_hashtags(tweet):\n",
    "    \"\"\"Takes a string and removes any hash tags\"\"\"\n",
    "    tweet = re.sub('(#[A-Za-z]+[A-Za-z0-9-_]+)', '', tweet)  # remove hash tags\n",
    "    return tweet\n",
    "\n",
    "def remove_av(tweet):\n",
    "    \"\"\"Takes a string and removes AUDIO/VIDEO tags or labels\"\"\"\n",
    "    tweet = re.sub('VIDEO:', '', tweet)  # remove 'VIDEO:' from start of tweet\n",
    "    tweet = re.sub('AUDIO:', '', tweet)  # remove 'AUDIO:' from start of tweet\n",
    "    return tweet\n",
    "\n",
    "def tokenize(tweet):\n",
    "    \"\"\"Returns tokenized representation of words in lemma form excluding stopwords\"\"\"\n",
    "    result = []\n",
    "    for token in gensim.utils.simple_preprocess(tweet):\n",
    "        if token not in gensim.parsing.preprocessing.STOPWORDS \\\n",
    "                and len(token) > 2:  # drops words with less than 3 characters\n",
    "            result.append(lemmatize(token))\n",
    "    return result\n",
    "\n",
    "def lemmatize(token):\n",
    "    \"\"\"Returns lemmatization of a token\"\"\"\n",
    "    return WordNetLemmatizer().lemmatize(token, pos='v')\n",
    "\n",
    "def preprocess_tweet(tweet, lem_and_token=False):\n",
    "    \"\"\"Main master function to clean tweets, stripping noisy characters, and tokenizing use lemmatization\"\"\"\n",
    "    tweet = remove_users(tweet)\n",
    "    tweet = remove_links(tweet)\n",
    "    tweet = remove_hashtags(tweet)\n",
    "    tweet = remove_av(tweet)\n",
    "    tweet = tweet.lower()  # lower case\n",
    "    tweet = re.sub('[' + punctuation + ']+', ' ', tweet)  # strip punctuation\n",
    "    tweet = re.sub('\\s+', ' ', tweet)  # remove double spacing\n",
    "    tweet = re.sub('([0-9]+)', '', tweet)  # remove numbers\n",
    "    if lem_and_token:\n",
    "        tweet_token_list = tokenize(tweet)  # apply lemmatization and tokenization\n",
    "        tweet = ' '.join(tweet_token_list)\n",
    "    return tweet"
   ]
  },
  {
   "cell_type": "code",
   "execution_count": null,
   "id": "ea0cfbd6-cca0-4600-b2e6-bff6cc0ebfc3",
   "metadata": {},
   "outputs": [],
   "source": []
  },
  {
   "cell_type": "code",
   "execution_count": null,
   "id": "0f86f290-05c9-4f4d-ad61-2ab0c157c9b7",
   "metadata": {},
   "outputs": [],
   "source": []
  },
  {
   "cell_type": "code",
   "execution_count": null,
   "id": "13a5e909-2992-4d9a-a6e8-9ee92340e524",
   "metadata": {},
   "outputs": [],
   "source": []
  },
  {
   "cell_type": "code",
   "execution_count": 22,
   "id": "0091d31c-21c1-416c-9cdb-402fd04c04ab",
   "metadata": {},
   "outputs": [],
   "source": [
    "path_csv = \"airline_tweets_csvs/AerLingus.csv.gz\"\n",
    "df = pd.read_csv(path_csv, low_memory=False)"
   ]
  },
  {
   "cell_type": "code",
   "execution_count": null,
   "id": "012ca620-d8fd-48c9-b160-1d25813dd002",
   "metadata": {},
   "outputs": [],
   "source": []
  }
 ],
 "metadata": {
  "kernelspec": {
   "display_name": "Python (big-data-proj)",
   "language": "python",
   "name": "big-data-proj"
  },
  "language_info": {
   "codemirror_mode": {
    "name": "ipython",
    "version": 3
   },
   "file_extension": ".py",
   "mimetype": "text/x-python",
   "name": "python",
   "nbconvert_exporter": "python",
   "pygments_lexer": "ipython3",
   "version": "3.8.15"
  }
 },
 "nbformat": 4,
 "nbformat_minor": 5
}
