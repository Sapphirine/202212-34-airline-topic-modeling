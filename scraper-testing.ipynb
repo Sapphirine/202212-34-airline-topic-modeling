{
 "cells": [
  {
   "cell_type": "code",
   "execution_count": 1,
   "id": "98a7ef88-22b8-4d63-a91a-833ff96eb4e0",
   "metadata": {},
   "outputs": [],
   "source": [
    "# For sending GET requests from the API\n",
    "import requests\n",
    "# For saving access tokens and for file management when creating and adding to the dataset\n",
    "import os\n",
    "# For dealing with json responses we receive from the API\n",
    "import json\n",
    "# For displaying the data after\n",
    "import pandas as pd\n",
    "# For saving the response data in CSV format\n",
    "import csv\n",
    "# For parsing the dates received from twitter in readable formats\n",
    "import datetime\n",
    "import dateutil.parser\n",
    "import unicodedata\n",
    "# To add wait time between requests\n",
    "import time"
   ]
  },
  {
   "cell_type": "code",
   "execution_count": 2,
   "id": "99532c6d-4add-404c-bfec-29cab6824791",
   "metadata": {},
   "outputs": [],
   "source": [
    "def auth():\n",
    "    return os.getenv(\n",
    "        \"AAAAAAAAAAAAAAAAAAAAAJxKiQEAAAAArsV2okVtTJDMRQjcRYCLuBM7qlM%3D2vvDuoxJ9kl0MF8PhxzHh55w49TVGdEdsfiSR4TWCH9SdoazG5\")\n",
    "\n",
    "\n",
    "def create_headers(bearer_token):\n",
    "    headers = {\"Authorization\": \"Bearer {}\".format(bearer_token)}\n",
    "    return headers"
   ]
  },
  {
   "cell_type": "code",
   "execution_count": 6,
   "id": "4f841ac6-96c6-48fa-af40-aca5b7e6a381",
   "metadata": {},
   "outputs": [],
   "source": [
    "def create_url(keyword, start_date, end_date, max_results=10):\n",
    "    search_url = \"https://api.twitter.com/2/tweets/search/recent\"  # Change to the endpoint you want to collect data from\n",
    "\n",
    "    # change params based on the endpoint you are using\n",
    "    query_params = {'query': keyword,\n",
    "                    'start_time': start_date,\n",
    "                    'end_time': end_date,\n",
    "                    'max_results': max_results,\n",
    "                    'expansions': 'author_id,in_reply_to_user_id,geo.place_id',\n",
    "                    'tweet.fields': 'id,text,author_id,in_reply_to_user_id,geo,conversation_id,created_at,lang,public_metrics,referenced_tweets,reply_settings,source',\n",
    "                    'user.fields': 'id,name,username,created_at,description,public_metrics,verified',\n",
    "                    'place.fields': 'full_name,id,country,country_code,geo,name,place_type',\n",
    "                    'next_token': {}}\n",
    "    return search_url, query_params\n",
    "\n",
    "\n",
    "def connect_to_endpoint(url, headers, params, next_token=None):\n",
    "    params['next_token'] = next_token  # params object received from create_url function\n",
    "    response = requests.request(\"GET\", url, headers=headers, params=params)\n",
    "    print(\"Endpoint Response Code: \" + str(response.status_code))\n",
    "    if response.status_code != 200:\n",
    "        raise Exception(response.status_code, response.text)\n",
    "    return response.json()\n"
   ]
  },
  {
   "cell_type": "code",
   "execution_count": 7,
   "id": "97c03e5c-af2f-4ade-b92d-ad5f0193c6b8",
   "metadata": {},
   "outputs": [],
   "source": [
    "#Inputs for the request\n",
    "bearer_token = auth()\n",
    "headers = create_headers(bearer_token)\n",
    "keyword = \"xbox lang:en\"\n",
    "start_time = \"2021-03-01T00:00:00.000Z\"\n",
    "end_time = \"2021-03-31T00:00:00.000Z\"\n",
    "max_results = 10"
   ]
  },
  {
   "cell_type": "code",
   "execution_count": null,
   "id": "45362ce4-b1df-4bf1-9f43-835b4dfabf85",
   "metadata": {},
   "outputs": [],
   "source": []
  },
  {
   "cell_type": "code",
   "execution_count": 8,
   "id": "17afee05-d2c0-409e-a607-5d2719d9f636",
   "metadata": {},
   "outputs": [
    {
     "name": "stdout",
     "output_type": "stream",
     "text": [
      "Endpoint Response Code: 401\n"
     ]
    },
    {
     "ename": "Exception",
     "evalue": "(401, '{\\n  \"title\": \"Unauthorized\",\\n  \"type\": \"about:blank\",\\n  \"status\": 401,\\n  \"detail\": \"Unauthorized\"\\n}')",
     "output_type": "error",
     "traceback": [
      "\u001b[0;31m---------------------------------------------------------------------------\u001b[0m",
      "\u001b[0;31mException\u001b[0m                                 Traceback (most recent call last)",
      "Cell \u001b[0;32mIn [8], line 2\u001b[0m\n\u001b[1;32m      1\u001b[0m url \u001b[38;5;241m=\u001b[39m create_url(keyword, start_time,end_time, max_results)\n\u001b[0;32m----> 2\u001b[0m json_response \u001b[38;5;241m=\u001b[39m \u001b[43mconnect_to_endpoint\u001b[49m\u001b[43m(\u001b[49m\u001b[43murl\u001b[49m\u001b[43m[\u001b[49m\u001b[38;5;241;43m0\u001b[39;49m\u001b[43m]\u001b[49m\u001b[43m,\u001b[49m\u001b[43m \u001b[49m\u001b[43mheaders\u001b[49m\u001b[43m,\u001b[49m\u001b[43m \u001b[49m\u001b[43murl\u001b[49m\u001b[43m[\u001b[49m\u001b[38;5;241;43m1\u001b[39;49m\u001b[43m]\u001b[49m\u001b[43m)\u001b[49m\n",
      "Cell \u001b[0;32mIn [6], line 22\u001b[0m, in \u001b[0;36mconnect_to_endpoint\u001b[0;34m(url, headers, params, next_token)\u001b[0m\n\u001b[1;32m     20\u001b[0m \u001b[38;5;28mprint\u001b[39m(\u001b[38;5;124m\"\u001b[39m\u001b[38;5;124mEndpoint Response Code: \u001b[39m\u001b[38;5;124m\"\u001b[39m \u001b[38;5;241m+\u001b[39m \u001b[38;5;28mstr\u001b[39m(response\u001b[38;5;241m.\u001b[39mstatus_code))\n\u001b[1;32m     21\u001b[0m \u001b[38;5;28;01mif\u001b[39;00m response\u001b[38;5;241m.\u001b[39mstatus_code \u001b[38;5;241m!=\u001b[39m \u001b[38;5;241m200\u001b[39m:\n\u001b[0;32m---> 22\u001b[0m     \u001b[38;5;28;01mraise\u001b[39;00m \u001b[38;5;167;01mException\u001b[39;00m(response\u001b[38;5;241m.\u001b[39mstatus_code, response\u001b[38;5;241m.\u001b[39mtext)\n\u001b[1;32m     23\u001b[0m \u001b[38;5;28;01mreturn\u001b[39;00m response\u001b[38;5;241m.\u001b[39mjson()\n",
      "\u001b[0;31mException\u001b[0m: (401, '{\\n  \"title\": \"Unauthorized\",\\n  \"type\": \"about:blank\",\\n  \"status\": 401,\\n  \"detail\": \"Unauthorized\"\\n}')"
     ]
    }
   ],
   "source": [
    "url = create_url(keyword, start_time,end_time, max_results)\n",
    "json_response = connect_to_endpoint(url[0], headers, url[1])"
   ]
  },
  {
   "cell_type": "code",
   "execution_count": 22,
   "id": "acac701e-4f19-40b2-94c6-a1c2f809897b",
   "metadata": {},
   "outputs": [],
   "source": [
    "import requests\n",
    "import os\n",
    "import json\n",
    "\n",
    "# To set your environment variables in your terminal run the following line:\n",
    "# export 'BEARER_TOKEN'='<your_bearer_token>'\n",
    "# bearer_token = os.environ.get(\"BEARER_TOKEN\")\n",
    "bearer_token = \"AAAAAAAAAAAAAAAAAAAAAElqjwEAAAAA8PRQduIf5nDumMCOqlgqpkL9QHo%3D7d4vdi0UEJNMs9SmNH8nEQf9acD08THiUvzkJq3VfQzQJ4SSEf\"\n",
    "\n",
    "\n",
    "def create_url():\n",
    "    # Replace with user ID below\n",
    "    user_id = 260907612  # @united\n",
    "    return \"https://api.twitter.com/2/users/{}/mentions\".format(user_id)\n",
    "\n",
    "\n",
    "def get_params():\n",
    "    # Tweet fields are adjustable.\n",
    "    # Options include:\n",
    "    # attachments, author_id, context_annotations,\n",
    "    # conversation_id, created_at, entities, geo, id,\n",
    "    # in_reply_to_user_id, lang, non_public_metrics, organic_metrics,\n",
    "    # possibly_sensitive, promoted_metrics, public_metrics, referenced_tweets,\n",
    "    # source, text, and withheld\n",
    "    \n",
    "    tweet_fields = [\n",
    "        'id', 'text', 'author_id', 'context_annotations',\n",
    "        'conversation_id', 'created_at', 'entities', \n",
    "        'in_reply_to_user_id', 'lang', ''\n",
    "    ]\n",
    "    \n",
    "    return {\"tweet.fields\": \"id,text,author_id,context_annotations,conversation_id,created_at\", \n",
    "            \"max_results\": 5}\n",
    "\n",
    "\n",
    "def bearer_oauth(r):\n",
    "    \"\"\"\n",
    "    Method required by bearer token authentication.\n",
    "    \"\"\"\n",
    "\n",
    "    r.headers[\"Authorization\"] = f\"Bearer {bearer_token}\"\n",
    "    r.headers[\"User-Agent\"] = \"v2UserMentionsPython\"\n",
    "    return r\n",
    "\n",
    "\n",
    "def connect_to_endpoint(url, params):\n",
    "    response = requests.request(\"GET\", url, auth=bearer_oauth, params=params)\n",
    "    print(response.status_code)\n",
    "    if response.status_code != 200:\n",
    "        raise Exception(\n",
    "            \"Request returned an error: {} {}\".format(\n",
    "                response.status_code, response.text\n",
    "            )\n",
    "        )\n",
    "    return response.json()\n",
    "\n",
    "\n",
    "def main():\n",
    "    url = create_url()\n",
    "    params = get_params()\n",
    "    json_response = connect_to_endpoint(url, params)\n",
    "    print(json.dumps(json_response, indent=4, sort_keys=True))"
   ]
  },
  {
   "cell_type": "code",
   "execution_count": 23,
   "id": "8cc2fd7a-539d-4180-a298-c5106f6a59ef",
   "metadata": {},
   "outputs": [],
   "source": [
    "url = create_url()"
   ]
  },
  {
   "cell_type": "code",
   "execution_count": 24,
   "id": "466402d3-6e7b-46e6-bd88-90794e69265a",
   "metadata": {},
   "outputs": [],
   "source": [
    "params = get_params()"
   ]
  },
  {
   "cell_type": "code",
   "execution_count": 25,
   "id": "fbdf5977-1edd-421a-b4b8-dd7748772829",
   "metadata": {},
   "outputs": [
    {
     "name": "stdout",
     "output_type": "stream",
     "text": [
      "200\n"
     ]
    }
   ],
   "source": [
    "json_response = connect_to_endpoint(url, params)"
   ]
  },
  {
   "cell_type": "code",
   "execution_count": 26,
   "id": "6b783275-2dbf-4d87-8f41-42bb1c3a4b48",
   "metadata": {},
   "outputs": [
    {
     "name": "stdout",
     "output_type": "stream",
     "text": [
      "{\n",
      "    \"data\": [\n",
      "        {\n",
      "            \"created_at\": \"2022-11-29T04:36:30.000Z\",\n",
      "            \"edit_history_tweet_ids\": [\n",
      "                \"1597449399495708673\"\n",
      "            ],\n",
      "            \"id\": \"1597449399495708673\",\n",
      "            \"text\": \"@T_AfrikanPrince @Delta @united @JetBlue @soulplane Not soul plane tho \\ud83d\\ude02\"\n",
      "        },\n",
      "        {\n",
      "            \"created_at\": \"2022-11-29T04:34:53.000Z\",\n",
      "            \"edit_history_tweet_ids\": [\n",
      "                \"1597448990223912960\"\n",
      "            ],\n",
      "            \"id\": \"1597448990223912960\",\n",
      "            \"text\": \"@JennaEllisEsq @united I\\u2019ll never fly United again and the worst experience was in Denver!\"\n",
      "        },\n",
      "        {\n",
      "            \"created_at\": \"2022-11-29T04:31:25.000Z\",\n",
      "            \"edit_history_tweet_ids\": [\n",
      "                \"1597448118022598662\"\n",
      "            ],\n",
      "            \"id\": \"1597448118022598662\",\n",
      "            \"text\": \"@united @JennaEllisEsq I\\u2019ve always had a consistent experience with United. Which is why I now fly Southwest or American.\"\n",
      "        },\n",
      "        {\n",
      "            \"created_at\": \"2022-11-29T04:30:42.000Z\",\n",
      "            \"edit_history_tweet_ids\": [\n",
      "                \"1597447937206149120\"\n",
      "            ],\n",
      "            \"id\": \"1597447937206149120\",\n",
      "            \"text\": \"In this week\\u2019s MPE Caribbean Report, we take a look at the importance of customer service, from the vantage point of a top airline exec.\\n@skift \\n@united https://t.co/bzW6tQI8Lb\"\n",
      "        },\n",
      "        {\n",
      "            \"created_at\": \"2022-11-29T04:30:25.000Z\",\n",
      "            \"edit_history_tweet_ids\": [\n",
      "                \"1597447868322705408\"\n",
      "            ],\n",
      "            \"id\": \"1597447868322705408\",\n",
      "            \"text\": \"@lisabergstrom79 @JennaEllisEsq @united Delta has been the best airline I\\u2019ve flown on but I don\\u2019t have a ton of experience\"\n",
      "        }\n",
      "    ],\n",
      "    \"meta\": {\n",
      "        \"newest_id\": \"1597449399495708673\",\n",
      "        \"next_token\": \"7140dibdnow9c7btw424ccvt4qwzm5h8a15odny3i2wqg\",\n",
      "        \"oldest_id\": \"1597447868322705408\",\n",
      "        \"result_count\": 5\n",
      "    }\n",
      "}\n"
     ]
    }
   ],
   "source": [
    "print(json.dumps(json_response, indent=4, sort_keys=True))"
   ]
  },
  {
   "cell_type": "code",
   "execution_count": 29,
   "id": "ed0b1422-40f4-4bd1-b2da-1365efce30f3",
   "metadata": {},
   "outputs": [
    {
     "data": {
      "text/plain": [
       "{'result_count': 5,\n",
       " 'newest_id': '1597449399495708673',\n",
       " 'oldest_id': '1597447868322705408',\n",
       " 'next_token': '7140dibdnow9c7btw424ccvt4qwzm5h8a15odny3i2wqg'}"
      ]
     },
     "execution_count": 29,
     "metadata": {},
     "output_type": "execute_result"
    }
   ],
   "source": [
    "json_response['meta']"
   ]
  },
  {
   "cell_type": "code",
   "execution_count": 31,
   "id": "cd035e6e-1d40-4ec5-a77a-ecc900f931b9",
   "metadata": {},
   "outputs": [
    {
     "data": {
      "text/plain": [
       "{'id': '1597449399495708673',\n",
       " 'edit_history_tweet_ids': ['1597449399495708673'],\n",
       " 'created_at': '2022-11-29T04:36:30.000Z',\n",
       " 'text': '@T_AfrikanPrince @Delta @united @JetBlue @soulplane Not soul plane tho 😂'}"
      ]
     },
     "execution_count": 31,
     "metadata": {},
     "output_type": "execute_result"
    }
   ],
   "source": [
    "json_response['data'][0]"
   ]
  },
  {
   "cell_type": "code",
   "execution_count": null,
   "id": "b63d86c7-a085-4cf6-b79b-9f15c81b1bc8",
   "metadata": {},
   "outputs": [],
   "source": [
    "# metadata: date/time, replies, likes, retweets, language, location, device"
   ]
  }
 ],
 "metadata": {
  "kernelspec": {
   "display_name": "Python (big-data-proj)",
   "language": "python",
   "name": "big-data-proj"
  },
  "language_info": {
   "codemirror_mode": {
    "name": "ipython",
    "version": 3
   },
   "file_extension": ".py",
   "mimetype": "text/x-python",
   "name": "python",
   "nbconvert_exporter": "python",
   "pygments_lexer": "ipython3",
   "version": "3.8.15"
  }
 },
 "nbformat": 4,
 "nbformat_minor": 5
}
