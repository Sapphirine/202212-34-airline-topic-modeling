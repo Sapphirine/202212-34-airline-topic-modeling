{
 "cells": [
  {
   "cell_type": "code",
   "execution_count": null,
   "id": "ba39cb14-3575-42fb-8f4a-b5a6fb662912",
   "metadata": {},
   "outputs": [],
   "source": [
    "Create the stream object using \n",
    "consumer_key\n",
    "consumer_secret\n",
    "access_token\n",
    "access_token_secret (generate from developer page)\n",
    "\n",
    "\n",
    "Use the filter function to track the username"
   ]
  },
  {
   "cell_type": "code",
   "execution_count": 1,
   "id": "0e69b369-0244-4ac5-9e4a-0d4fb3c17af4",
   "metadata": {},
   "outputs": [],
   "source": [
    "import tweepy"
   ]
  },
  {
   "cell_type": "code",
   "execution_count": 2,
   "id": "5c1a1452-86da-4f61-9bd7-fbce0e8aa200",
   "metadata": {},
   "outputs": [],
   "source": [
    "# # app-big-data-proj\n",
    "# API_KEY = \"3x0UEiptlE9GciasIbR1KXLJr\"\n",
    "# API_KEY_SECRET = \"B1rCK8bwkkwp5uCOJxw4ftzpwiRqPhr0HOE3zm9irX8zmR11CW\"\n",
    "# # BEARER_TOKEN = \"\"\n",
    "# ACCESS_TOKEN = \"2586522192-OQDBS549Ns6mTaLL6B55TFfYsF2OvsiHd9BaQnS\"\n",
    "# ACCESS_TOKEN_SECRET = \"ATOFRtmQTOPEQMgOcZYmuLgwq4YPQQFJGxd8UDXevkr8Y\""
   ]
  },
  {
   "cell_type": "code",
   "execution_count": 3,
   "id": "6bcd4f8b-6fa0-4b4d-9cf7-e21f86e06dc1",
   "metadata": {},
   "outputs": [],
   "source": [
    "# rk3148-big-data\n",
    "API_KEY = \"mV8aWUjDvP5mqb2fkrfQ99zgj\"\n",
    "API_KEY_SECRET = \"VKP6ZYXVpsEpDukKv3YLVtMgG9S4liz4GCeQX0mhxQMDJFwGKA\"\n",
    "# # BEARER_TOKEN = \"\"\n",
    "ACCESS_TOKEN = \"2586522192-fLLBEt2l5MFe1Xap1kxngD0lM2o2dzpaTz2md75\"\n",
    "ACCESS_TOKEN_SECRET = \"TtN6Et0jeYZNsnCmvnXIE1o1gqnAmto8zOMYh4eSWVx5g\""
   ]
  },
  {
   "cell_type": "code",
   "execution_count": 4,
   "id": "050d90d0-89fe-49d3-896a-b8934d0487db",
   "metadata": {},
   "outputs": [],
   "source": [
    "stream_obj = tweepy.Stream(\n",
    "    consumer_key=API_KEY, \n",
    "    consumer_secret=API_KEY_SECRET, \n",
    "    access_token=ACCESS_TOKEN, \n",
    "    access_token_secret=ACCESS_TOKEN_SECRET\n",
    ")"
   ]
  },
  {
   "cell_type": "code",
   "execution_count": 5,
   "id": "4d6db5df-dd5d-4ce7-93d8-a0671db77d71",
   "metadata": {},
   "outputs": [
    {
     "name": "stderr",
     "output_type": "stream",
     "text": [
      "Stream encountered HTTP error: 403\n",
      "HTTP error response text: <html>\\n<head>\\n<meta http-equiv=\"Content-Type\" content=\"text/html; charset=utf-8\"/>\\n<title>Error 403 \n",
      "Please use V2 filtered and sample volume stream as alternatives\n",
      "</title>\n",
      "</head>\n",
      "<body>\n",
      "<h2>HTTP ERROR: 403</h2>\n",
      "<p>Problem accessing '/1.1/statuses/filter.json'. Reason:\n",
      "<pre>    \n",
      "Please use V2 filtered and sample volume stream as alternatives\n",
      "</pre>\n",
      "</body>\n",
      "</html>\n",
      "\n",
      "Stream encountered HTTP error: 403\n",
      "HTTP error response text: <html>\\n<head>\\n<meta http-equiv=\"Content-Type\" content=\"text/html; charset=utf-8\"/>\\n<title>Error 403 \n",
      "Please use V2 filtered and sample volume stream as alternatives\n",
      "</title>\n",
      "</head>\n",
      "<body>\n",
      "<h2>HTTP ERROR: 403</h2>\n",
      "<p>Problem accessing '/1.1/statuses/filter.json'. Reason:\n",
      "<pre>    \n",
      "Please use V2 filtered and sample volume stream as alternatives\n",
      "</pre>\n",
      "</body>\n",
      "</html>\n",
      "\n",
      "Stream encountered HTTP error: 403\n",
      "HTTP error response text: <html>\\n<head>\\n<meta http-equiv=\"Content-Type\" content=\"text/html; charset=utf-8\"/>\\n<title>Error 403 \n",
      "Please use V2 filtered and sample volume stream as alternatives\n",
      "</title>\n",
      "</head>\n",
      "<body>\n",
      "<h2>HTTP ERROR: 403</h2>\n",
      "<p>Problem accessing '/1.1/statuses/filter.json'. Reason:\n",
      "<pre>    \n",
      "Please use V2 filtered and sample volume stream as alternatives\n",
      "</pre>\n",
      "</body>\n",
      "</html>\n",
      "\n",
      "Stream encountered HTTP error: 403\n",
      "HTTP error response text: <html>\\n<head>\\n<meta http-equiv=\"Content-Type\" content=\"text/html; charset=utf-8\"/>\\n<title>Error 403 \n",
      "Please use V2 filtered and sample volume stream as alternatives\n",
      "</title>\n",
      "</head>\n",
      "<body>\n",
      "<h2>HTTP ERROR: 403</h2>\n",
      "<p>Problem accessing '/1.1/statuses/filter.json'. Reason:\n",
      "<pre>    \n",
      "Please use V2 filtered and sample volume stream as alternatives\n",
      "</pre>\n",
      "</body>\n",
      "</html>\n",
      "\n",
      "Stream encountered HTTP error: 403\n",
      "HTTP error response text: <html>\\n<head>\\n<meta http-equiv=\"Content-Type\" content=\"text/html; charset=utf-8\"/>\\n<title>Error 403 \n",
      "Please use V2 filtered and sample volume stream as alternatives\n",
      "</title>\n",
      "</head>\n",
      "<body>\n",
      "<h2>HTTP ERROR: 403</h2>\n",
      "<p>Problem accessing '/1.1/statuses/filter.json'. Reason:\n",
      "<pre>    \n",
      "Please use V2 filtered and sample volume stream as alternatives\n",
      "</pre>\n",
      "</body>\n",
      "</html>\n",
      "\n"
     ]
    },
    {
     "ename": "KeyboardInterrupt",
     "evalue": "",
     "output_type": "error",
     "traceback": [
      "\u001b[0;31m---------------------------------------------------------------------------\u001b[0m",
      "\u001b[0;31mKeyboardInterrupt\u001b[0m                         Traceback (most recent call last)",
      "Cell \u001b[0;32mIn [5], line 1\u001b[0m\n\u001b[0;32m----> 1\u001b[0m \u001b[43mstream_obj\u001b[49m\u001b[38;5;241;43m.\u001b[39;49m\u001b[43mfilter\u001b[49m\u001b[43m(\u001b[49m\u001b[43mtrack\u001b[49m\u001b[38;5;241;43m=\u001b[39;49m\u001b[43m[\u001b[49m\u001b[38;5;124;43m'\u001b[39;49m\u001b[38;5;124;43mamericanair\u001b[39;49m\u001b[38;5;124;43m'\u001b[39;49m\u001b[43m]\u001b[49m\u001b[43m,\u001b[49m\u001b[43m \u001b[49m\u001b[43mlanguages\u001b[49m\u001b[38;5;241;43m=\u001b[39;49m\u001b[43m[\u001b[49m\u001b[38;5;124;43m'\u001b[39;49m\u001b[38;5;124;43men\u001b[39;49m\u001b[38;5;124;43m'\u001b[39;49m\u001b[43m]\u001b[49m\u001b[43m)\u001b[49m\n",
      "File \u001b[0;32m/opt/anaconda3/envs/big-data-proj/lib/python3.8/site-packages/tweepy/streaming.py:385\u001b[0m, in \u001b[0;36mStream.filter\u001b[0;34m(self, follow, track, locations, filter_level, languages, stall_warnings, threaded)\u001b[0m\n\u001b[1;32m    382\u001b[0m     \u001b[38;5;28;01mreturn\u001b[39;00m \u001b[38;5;28mself\u001b[39m\u001b[38;5;241m.\u001b[39m_threaded_connect(method, endpoint, headers\u001b[38;5;241m=\u001b[39mheaders,\n\u001b[1;32m    383\u001b[0m                                   body\u001b[38;5;241m=\u001b[39mbody)\n\u001b[1;32m    384\u001b[0m \u001b[38;5;28;01melse\u001b[39;00m:\n\u001b[0;32m--> 385\u001b[0m     \u001b[38;5;28;43mself\u001b[39;49m\u001b[38;5;241;43m.\u001b[39;49m\u001b[43m_connect\u001b[49m\u001b[43m(\u001b[49m\u001b[43mmethod\u001b[49m\u001b[43m,\u001b[49m\u001b[43m \u001b[49m\u001b[43mendpoint\u001b[49m\u001b[43m,\u001b[49m\u001b[43m \u001b[49m\u001b[43mheaders\u001b[49m\u001b[38;5;241;43m=\u001b[39;49m\u001b[43mheaders\u001b[49m\u001b[43m,\u001b[49m\u001b[43m \u001b[49m\u001b[43mbody\u001b[49m\u001b[38;5;241;43m=\u001b[39;49m\u001b[43mbody\u001b[49m\u001b[43m)\u001b[49m\n",
      "File \u001b[0;32m/opt/anaconda3/envs/big-data-proj/lib/python3.8/site-packages/tweepy/streaming.py:292\u001b[0m, in \u001b[0;36mStream._connect\u001b[0;34m(self, method, endpoint, **kwargs)\u001b[0m\n\u001b[1;32m    289\u001b[0m auth \u001b[38;5;241m=\u001b[39m OAuth1(\u001b[38;5;28mself\u001b[39m\u001b[38;5;241m.\u001b[39mconsumer_key, \u001b[38;5;28mself\u001b[39m\u001b[38;5;241m.\u001b[39mconsumer_secret,\n\u001b[1;32m    290\u001b[0m               \u001b[38;5;28mself\u001b[39m\u001b[38;5;241m.\u001b[39maccess_token, \u001b[38;5;28mself\u001b[39m\u001b[38;5;241m.\u001b[39maccess_token_secret)\n\u001b[1;32m    291\u001b[0m url \u001b[38;5;241m=\u001b[39m \u001b[38;5;124mf\u001b[39m\u001b[38;5;124m\"\u001b[39m\u001b[38;5;124mhttps://stream.twitter.com/1.1/\u001b[39m\u001b[38;5;132;01m{\u001b[39;00mendpoint\u001b[38;5;132;01m}\u001b[39;00m\u001b[38;5;124m.json\u001b[39m\u001b[38;5;124m\"\u001b[39m\n\u001b[0;32m--> 292\u001b[0m \u001b[38;5;28;43msuper\u001b[39;49m\u001b[43m(\u001b[49m\u001b[43m)\u001b[49m\u001b[38;5;241;43m.\u001b[39;49m\u001b[43m_connect\u001b[49m\u001b[43m(\u001b[49m\u001b[43mmethod\u001b[49m\u001b[43m,\u001b[49m\u001b[43m \u001b[49m\u001b[43murl\u001b[49m\u001b[43m,\u001b[49m\u001b[43m \u001b[49m\u001b[43mauth\u001b[49m\u001b[38;5;241;43m=\u001b[39;49m\u001b[43mauth\u001b[49m\u001b[43m,\u001b[49m\u001b[43m \u001b[49m\u001b[43mtimeout\u001b[49m\u001b[38;5;241;43m=\u001b[39;49m\u001b[38;5;241;43m90\u001b[39;49m\u001b[43m,\u001b[49m\u001b[43m \u001b[49m\u001b[38;5;241;43m*\u001b[39;49m\u001b[38;5;241;43m*\u001b[39;49m\u001b[43mkwargs\u001b[49m\u001b[43m)\u001b[49m\n",
      "File \u001b[0;32m/opt/anaconda3/envs/big-data-proj/lib/python3.8/site-packages/tweepy/streaming.py:120\u001b[0m, in \u001b[0;36mBaseStream._connect\u001b[0;34m(self, method, url, auth, params, headers, body, timeout)\u001b[0m\n\u001b[1;32m    117\u001b[0m     \u001b[38;5;28;01mif\u001b[39;00m http_error_wait \u001b[38;5;241m<\u001b[39m http_429_error_wait_start:\n\u001b[1;32m    118\u001b[0m         http_error_wait \u001b[38;5;241m=\u001b[39m http_429_error_wait_start\n\u001b[0;32m--> 120\u001b[0m \u001b[43msleep\u001b[49m\u001b[43m(\u001b[49m\u001b[43mhttp_error_wait\u001b[49m\u001b[43m)\u001b[49m\n\u001b[1;32m    122\u001b[0m http_error_wait \u001b[38;5;241m*\u001b[39m\u001b[38;5;241m=\u001b[39m \u001b[38;5;241m2\u001b[39m\n\u001b[1;32m    123\u001b[0m \u001b[38;5;28;01mif\u001b[39;00m http_error_wait \u001b[38;5;241m>\u001b[39m http_error_wait_max:\n",
      "\u001b[0;31mKeyboardInterrupt\u001b[0m: "
     ]
    }
   ],
   "source": [
    "stream_obj.filter(track=['americanair'], languages=['en'])"
   ]
  },
  {
   "cell_type": "code",
   "execution_count": null,
   "id": "fac4bd32-1d52-486e-83b9-c0d53b3eb41c",
   "metadata": {},
   "outputs": [],
   "source": []
  },
  {
   "cell_type": "code",
   "execution_count": null,
   "id": "5c64e729-5771-4f4f-9a89-729f9dabdbe0",
   "metadata": {},
   "outputs": [],
   "source": []
  },
  {
   "cell_type": "code",
   "execution_count": null,
   "id": "c2797502-0bef-4580-886a-2f832cd545ce",
   "metadata": {},
   "outputs": [],
   "source": [
    "import tweepy\n",
    "\n",
    "auth = tweepy.OAuth1UserHandler(\n",
    "   consumer_key, consumer_secret, access_token, access_token_secret\n",
    ")\n",
    "\n",
    "api = tweepy.API(auth)\n",
    "\n",
    "public_tweets = api.home_timeline()\n",
    "for tweet in public_tweets:\n",
    "    print(tweet.text)"
   ]
  }
 ],
 "metadata": {
  "kernelspec": {
   "display_name": "Python (big-data-proj)",
   "language": "python",
   "name": "big-data-proj"
  },
  "language_info": {
   "codemirror_mode": {
    "name": "ipython",
    "version": 3
   },
   "file_extension": ".py",
   "mimetype": "text/x-python",
   "name": "python",
   "nbconvert_exporter": "python",
   "pygments_lexer": "ipython3",
   "version": "3.8.15"
  }
 },
 "nbformat": 4,
 "nbformat_minor": 5
}
